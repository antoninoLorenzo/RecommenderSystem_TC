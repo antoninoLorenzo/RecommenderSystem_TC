{
 "cells": [
  {
   "cell_type": "code",
   "execution_count": 1,
   "id": "initial_id",
   "metadata": {
    "collapsed": true,
    "ExecuteTime": {
     "end_time": "2024-01-24T14:17:18.039115200Z",
     "start_time": "2024-01-24T14:17:18.034742Z"
    }
   },
   "outputs": [],
   "source": [
    "import sqlite3\n",
    "import pandas as pd\n",
    "import seaborn as sns\n",
    "import matplotlib.pyplot as plt"
   ]
  },
  {
   "cell_type": "markdown",
   "source": [
    "## Dataset"
   ],
   "metadata": {
    "collapsed": false
   },
   "id": "9d830f46f3c3bcd5"
  },
  {
   "cell_type": "code",
   "execution_count": 2,
   "outputs": [
    {
     "data": {
      "text/plain": "                                                  Name  \\\n0                                   Software Developer   \n1                            Junior Software Developer   \n2                                   Software Developer   \n3                                   Software Developer   \n4                            Senior Software Developer   \n..                                                 ...   \n165                            Data Scientist - Pharma   \n166       DATA SCIENTIST | MACHINE LEARNING | BIG DATA   \n167                             PDS AD&GMP Scientist I   \n168                      Junior Ethical Data Scientist   \n169  EU Institutions: AI Machine Learning Data Scie...   \n\n                                           Description  \\\n0    Miniclip is a global leader in digital games w...   \n1    NETtoWORK, azienda italiana nata nel 2016, ope...   \n2    We are looking for talented and passionate peo...   \n3    ARESYS  is a R&D oriented company with nearly ...   \n4    Il/la Candidato/a dovrà padroneggiare: \\n \\n- ...   \n..                                                 ...   \n165  Akkodis è un leader globale nel mercato dell'i...   \n166  Techyon: Information Technology Recruitment Ex...   \n167  Job DescriptionWhen you’re part of Thermo Fish...   \n168  We are looking for an extremely BOLD & VISIONA...   \n169  WHO WE ARE \\n \\n-  Etinars  is a values-focuse...   \n\n                          Location  \n0                  Genova, Liguria  \n1                     17100 Savona  \n2                      55100 Lucca  \n3               Matera, Basilicata  \n4                 Catania, Sicilia  \n..                             ...  \n165  Provincia di Torino, Piemonte  \n166          Parma, Emilia-Romagna  \n167                    20900 Monza  \n168                           None  \n169               Ispra, Lombardia  \n\n[168 rows x 3 columns]",
      "text/html": "<div>\n<style scoped>\n    .dataframe tbody tr th:only-of-type {\n        vertical-align: middle;\n    }\n\n    .dataframe tbody tr th {\n        vertical-align: top;\n    }\n\n    .dataframe thead th {\n        text-align: right;\n    }\n</style>\n<table border=\"1\" class=\"dataframe\">\n  <thead>\n    <tr style=\"text-align: right;\">\n      <th></th>\n      <th>Name</th>\n      <th>Description</th>\n      <th>Location</th>\n    </tr>\n  </thead>\n  <tbody>\n    <tr>\n      <th>0</th>\n      <td>Software Developer</td>\n      <td>Miniclip is a global leader in digital games w...</td>\n      <td>Genova, Liguria</td>\n    </tr>\n    <tr>\n      <th>1</th>\n      <td>Junior Software Developer</td>\n      <td>NETtoWORK, azienda italiana nata nel 2016, ope...</td>\n      <td>17100 Savona</td>\n    </tr>\n    <tr>\n      <th>2</th>\n      <td>Software Developer</td>\n      <td>We are looking for talented and passionate peo...</td>\n      <td>55100 Lucca</td>\n    </tr>\n    <tr>\n      <th>3</th>\n      <td>Software Developer</td>\n      <td>ARESYS  is a R&amp;D oriented company with nearly ...</td>\n      <td>Matera, Basilicata</td>\n    </tr>\n    <tr>\n      <th>4</th>\n      <td>Senior Software Developer</td>\n      <td>Il/la Candidato/a dovrà padroneggiare: \\n \\n- ...</td>\n      <td>Catania, Sicilia</td>\n    </tr>\n    <tr>\n      <th>...</th>\n      <td>...</td>\n      <td>...</td>\n      <td>...</td>\n    </tr>\n    <tr>\n      <th>165</th>\n      <td>Data Scientist - Pharma</td>\n      <td>Akkodis è un leader globale nel mercato dell'i...</td>\n      <td>Provincia di Torino, Piemonte</td>\n    </tr>\n    <tr>\n      <th>166</th>\n      <td>DATA SCIENTIST | MACHINE LEARNING | BIG DATA</td>\n      <td>Techyon: Information Technology Recruitment Ex...</td>\n      <td>Parma, Emilia-Romagna</td>\n    </tr>\n    <tr>\n      <th>167</th>\n      <td>PDS AD&amp;GMP Scientist I</td>\n      <td>Job DescriptionWhen you’re part of Thermo Fish...</td>\n      <td>20900 Monza</td>\n    </tr>\n    <tr>\n      <th>168</th>\n      <td>Junior Ethical Data Scientist</td>\n      <td>We are looking for an extremely BOLD &amp; VISIONA...</td>\n      <td>None</td>\n    </tr>\n    <tr>\n      <th>169</th>\n      <td>EU Institutions: AI Machine Learning Data Scie...</td>\n      <td>WHO WE ARE \\n \\n-  Etinars  is a values-focuse...</td>\n      <td>Ispra, Lombardia</td>\n    </tr>\n  </tbody>\n</table>\n<p>168 rows × 3 columns</p>\n</div>"
     },
     "execution_count": 2,
     "metadata": {},
     "output_type": "execute_result"
    }
   ],
   "source": [
    "# --- Offers Dataset\n",
    "# TODO: change the offers dataset to one different from Turing Careers\n",
    "with sqlite3.connect('./datasets/offers_dataset.db') as offers_conn:\n",
    "    offers_frame = pd.read_sql('SELECT * FROM Offers', offers_conn)\n",
    "\n",
    "offers_frame.drop_duplicates(inplace=True)\n",
    "offers_frame"
   ],
   "metadata": {
    "collapsed": false,
    "ExecuteTime": {
     "end_time": "2024-01-24T14:17:18.084114200Z",
     "start_time": "2024-01-24T14:17:18.039614800Z"
    }
   },
   "id": "969c95ddc2159874"
  },
  {
   "cell_type": "code",
   "execution_count": 3,
   "outputs": [
    {
     "data": {
      "text/plain": "         SKILL                  TYPE\nID                                  \n0   JavaScript  Programming Language\n1         HTML  Programming Language\n2       Python  Programming Language\n3          SQL  Programming Language\n4   TypeScript  Programming Language\n..         ...                   ...\n95         APT                  Tool\n96    Unity 3D                  Tool\n97      Pacman                  Tool\n98        pnpm                  Tool\n99         CSS  Programming Language\n\n[96 rows x 2 columns]",
      "text/html": "<div>\n<style scoped>\n    .dataframe tbody tr th:only-of-type {\n        vertical-align: middle;\n    }\n\n    .dataframe tbody tr th {\n        vertical-align: top;\n    }\n\n    .dataframe thead th {\n        text-align: right;\n    }\n</style>\n<table border=\"1\" class=\"dataframe\">\n  <thead>\n    <tr style=\"text-align: right;\">\n      <th></th>\n      <th>SKILL</th>\n      <th>TYPE</th>\n    </tr>\n    <tr>\n      <th>ID</th>\n      <th></th>\n      <th></th>\n    </tr>\n  </thead>\n  <tbody>\n    <tr>\n      <th>0</th>\n      <td>JavaScript</td>\n      <td>Programming Language</td>\n    </tr>\n    <tr>\n      <th>1</th>\n      <td>HTML</td>\n      <td>Programming Language</td>\n    </tr>\n    <tr>\n      <th>2</th>\n      <td>Python</td>\n      <td>Programming Language</td>\n    </tr>\n    <tr>\n      <th>3</th>\n      <td>SQL</td>\n      <td>Programming Language</td>\n    </tr>\n    <tr>\n      <th>4</th>\n      <td>TypeScript</td>\n      <td>Programming Language</td>\n    </tr>\n    <tr>\n      <th>...</th>\n      <td>...</td>\n      <td>...</td>\n    </tr>\n    <tr>\n      <th>95</th>\n      <td>APT</td>\n      <td>Tool</td>\n    </tr>\n    <tr>\n      <th>96</th>\n      <td>Unity 3D</td>\n      <td>Tool</td>\n    </tr>\n    <tr>\n      <th>97</th>\n      <td>Pacman</td>\n      <td>Tool</td>\n    </tr>\n    <tr>\n      <th>98</th>\n      <td>pnpm</td>\n      <td>Tool</td>\n    </tr>\n    <tr>\n      <th>99</th>\n      <td>CSS</td>\n      <td>Programming Language</td>\n    </tr>\n  </tbody>\n</table>\n<p>96 rows × 2 columns</p>\n</div>"
     },
     "execution_count": 3,
     "metadata": {},
     "output_type": "execute_result"
    }
   ],
   "source": [
    "# --- Skills Dataset\n",
    "with sqlite3.connect('./datasets/skills_dataset.db') as skills_conn:\n",
    "    skills_frame = pd.read_sql('SELECT * FROM Skills', skills_conn, index_col='ID')\n",
    "    \n",
    "skills_frame"
   ],
   "metadata": {
    "collapsed": false,
    "ExecuteTime": {
     "end_time": "2024-01-24T14:17:18.085114900Z",
     "start_time": "2024-01-24T14:17:18.063119100Z"
    }
   },
   "id": "c8771b37a5660642"
  },
  {
   "cell_type": "markdown",
   "source": [
    "## Offers skill extraction"
   ],
   "metadata": {
    "collapsed": false
   },
   "id": "9919d002a3041bcd"
  },
  {
   "cell_type": "code",
   "execution_count": 4,
   "outputs": [
    {
     "name": "stderr",
     "output_type": "stream",
     "text": [
      "[nltk_data] Downloading package punkt to\n",
      "[nltk_data]     C:\\Users\\anton\\AppData\\Roaming\\nltk_data...\n",
      "[nltk_data]   Package punkt is already up-to-date!\n"
     ]
    }
   ],
   "source": [
    "from string import punctuation\n",
    "\n",
    "import nltk\n",
    "from nltk.tokenize import word_tokenize\n",
    "nltk.download('punkt')\n",
    "\n",
    "from utils import print_performance\n",
    "\n",
    "def remove_symbols(description: str, remove_map: dict) -> str:\n",
    "    \"\"\"\n",
    "    \"\"\"\n",
    "    for old, new in remove_map.items():\n",
    "        description = description.replace(old, new)\n",
    "    return description.lower()\n",
    "\n",
    "def extract_symbols(text: str, available_symbols: list) -> set:\n",
    "    \"\"\"\n",
    "    \"\"\"\n",
    "    out = set()\n",
    "    for token in set(word_tokenize(text)):\n",
    "        if token.lower() in available_symbols:\n",
    "           out.add(token)\n",
    "    return out"
   ],
   "metadata": {
    "collapsed": false,
    "ExecuteTime": {
     "end_time": "2024-01-24T14:17:20.997615500Z",
     "start_time": "2024-01-24T14:17:18.074617100Z"
    }
   },
   "id": "1126e3a168bc0d12"
  },
  {
   "cell_type": "code",
   "execution_count": 5,
   "outputs": [],
   "source": [
    "# Symbols to remove\n",
    "punct = [p for p in punctuation]\n",
    "punct.remove('+')\n",
    "punct.remove('#')\n",
    "punct.remove('.')\n",
    "\n",
    "removal = {p: '' for p in punct}\n",
    "removal['\\n'] = ''\n",
    "removal['/'] = ' '\n",
    "removal['('] = ' '\n",
    "removal[')'] = ' '\n",
    "removal[','] = ' '"
   ],
   "metadata": {
    "collapsed": false,
    "ExecuteTime": {
     "end_time": "2024-01-24T14:17:21.001617100Z",
     "start_time": "2024-01-24T14:17:20.990115100Z"
    }
   },
   "id": "cd24f3da812c025e"
  },
  {
   "cell_type": "code",
   "execution_count": 6,
   "outputs": [
    {
     "data": {
      "text/plain": "\"\\n@print_performance\\ndef extract_skills(offers_df, skills_df):\\n    skill_list = [skill.lower() for skill in skills_df['SKILL'].tolist()]\\n    skill_vectors = []\\n    for skill in skill_list:\\n        presence_vector = offers_df.Description.map(lambda desc: skill in desc.lower()).rename(skill)\\n        skill_vectors.append(presence_vector)\\n    return pd.concat([vec for vec in skill_vectors], axis=1)   \\n\""
     },
     "execution_count": 6,
     "metadata": {},
     "output_type": "execute_result"
    }
   ],
   "source": [
    "\"\"\"\n",
    "@print_performance\n",
    "def extract_skills(offers_df, skills_df):\n",
    "    skill_list = [skill.lower() for skill in skills_df['SKILL'].tolist()]\n",
    "    skill_vectors = []\n",
    "    for skill in skill_list:\n",
    "        presence_vector = offers_df.Description.map(lambda desc: skill in desc.lower()).rename(skill)\n",
    "        skill_vectors.append(presence_vector)\n",
    "    return pd.concat([vec for vec in skill_vectors], axis=1)   \n",
    "\"\"\""
   ],
   "metadata": {
    "collapsed": false,
    "ExecuteTime": {
     "end_time": "2024-01-24T14:17:21.013617400Z",
     "start_time": "2024-01-24T14:17:21.001115700Z"
    }
   },
   "id": "1c7924fb2477a50a"
  },
  {
   "cell_type": "code",
   "execution_count": 7,
   "outputs": [],
   "source": [
    "\n",
    "def extract_skills(offers_df, skills_df):\n",
    "    skill_list = [skill.lower() for skill in skills_df['SKILL'].tolist()]\n",
    "    skill_vectors = []\n",
    "    for skill in skill_list:\n",
    "        presence_vector = offers_df.Description.map(\n",
    "            lambda desc: skill in extract_symbols(\n",
    "                desc.lower(), \n",
    "                skill_list\n",
    "            )\n",
    "        ).rename(skill)\n",
    "        skill_vectors.append(presence_vector)\n",
    "    return pd.concat([vec for vec in skill_vectors], axis=1) \n"
   ],
   "metadata": {
    "collapsed": false,
    "ExecuteTime": {
     "end_time": "2024-01-24T14:17:21.045615300Z",
     "start_time": "2024-01-24T14:17:21.007615300Z"
    }
   },
   "id": "43d3591c486c2ae0"
  },
  {
   "cell_type": "code",
   "execution_count": 8,
   "outputs": [
    {
     "data": {
      "text/plain": "     javascript   html  python    sql  typescript   bash   java     c#    c++  \\\n0         False  False   False  False       False  False  False  False  False   \n1         False  False    True  False       False  False   True  False   True   \n2          True  False   False  False       False  False   True  False  False   \n3         False  False    True  False       False  False  False  False   True   \n4          True  False   False   True       False  False   True  False  False   \n..          ...    ...     ...    ...         ...    ...    ...    ...    ...   \n165       False  False   False  False       False  False  False  False  False   \n166       False  False    True   True       False  False  False  False  False   \n167       False  False   False  False       False  False  False  False  False   \n168       False  False    True   True       False  False  False  False  False   \n169       False  False    True   True       False  False  False  False  False   \n\n         c  ...  msbuild  ansible  chocolatey  composer  llvm's clang    apt  \\\n0    False  ...    False    False       False     False         False  False   \n1     True  ...    False    False       False     False         False  False   \n2    False  ...    False    False       False     False         False  False   \n3    False  ...    False    False       False     False         False  False   \n4     True  ...    False    False       False     False         False  False   \n..     ...  ...      ...      ...         ...       ...           ...    ...   \n165  False  ...    False    False       False     False         False  False   \n166  False  ...    False    False       False     False         False  False   \n167  False  ...    False    False       False     False         False  False   \n168  False  ...    False    False       False     False         False  False   \n169  False  ...    False    False       False     False         False  False   \n\n     unity 3d  pacman   pnpm    css  \n0       False   False  False  False  \n1       False   False  False  False  \n2       False   False  False  False  \n3       False   False  False  False  \n4       False   False  False  False  \n..        ...     ...    ...    ...  \n165     False   False  False  False  \n166     False   False  False  False  \n167     False   False  False  False  \n168     False   False  False  False  \n169     False   False  False  False  \n\n[168 rows x 96 columns]",
      "text/html": "<div>\n<style scoped>\n    .dataframe tbody tr th:only-of-type {\n        vertical-align: middle;\n    }\n\n    .dataframe tbody tr th {\n        vertical-align: top;\n    }\n\n    .dataframe thead th {\n        text-align: right;\n    }\n</style>\n<table border=\"1\" class=\"dataframe\">\n  <thead>\n    <tr style=\"text-align: right;\">\n      <th></th>\n      <th>javascript</th>\n      <th>html</th>\n      <th>python</th>\n      <th>sql</th>\n      <th>typescript</th>\n      <th>bash</th>\n      <th>java</th>\n      <th>c#</th>\n      <th>c++</th>\n      <th>c</th>\n      <th>...</th>\n      <th>msbuild</th>\n      <th>ansible</th>\n      <th>chocolatey</th>\n      <th>composer</th>\n      <th>llvm's clang</th>\n      <th>apt</th>\n      <th>unity 3d</th>\n      <th>pacman</th>\n      <th>pnpm</th>\n      <th>css</th>\n    </tr>\n  </thead>\n  <tbody>\n    <tr>\n      <th>0</th>\n      <td>False</td>\n      <td>False</td>\n      <td>False</td>\n      <td>False</td>\n      <td>False</td>\n      <td>False</td>\n      <td>False</td>\n      <td>False</td>\n      <td>False</td>\n      <td>False</td>\n      <td>...</td>\n      <td>False</td>\n      <td>False</td>\n      <td>False</td>\n      <td>False</td>\n      <td>False</td>\n      <td>False</td>\n      <td>False</td>\n      <td>False</td>\n      <td>False</td>\n      <td>False</td>\n    </tr>\n    <tr>\n      <th>1</th>\n      <td>False</td>\n      <td>False</td>\n      <td>True</td>\n      <td>False</td>\n      <td>False</td>\n      <td>False</td>\n      <td>True</td>\n      <td>False</td>\n      <td>True</td>\n      <td>True</td>\n      <td>...</td>\n      <td>False</td>\n      <td>False</td>\n      <td>False</td>\n      <td>False</td>\n      <td>False</td>\n      <td>False</td>\n      <td>False</td>\n      <td>False</td>\n      <td>False</td>\n      <td>False</td>\n    </tr>\n    <tr>\n      <th>2</th>\n      <td>True</td>\n      <td>False</td>\n      <td>False</td>\n      <td>False</td>\n      <td>False</td>\n      <td>False</td>\n      <td>True</td>\n      <td>False</td>\n      <td>False</td>\n      <td>False</td>\n      <td>...</td>\n      <td>False</td>\n      <td>False</td>\n      <td>False</td>\n      <td>False</td>\n      <td>False</td>\n      <td>False</td>\n      <td>False</td>\n      <td>False</td>\n      <td>False</td>\n      <td>False</td>\n    </tr>\n    <tr>\n      <th>3</th>\n      <td>False</td>\n      <td>False</td>\n      <td>True</td>\n      <td>False</td>\n      <td>False</td>\n      <td>False</td>\n      <td>False</td>\n      <td>False</td>\n      <td>True</td>\n      <td>False</td>\n      <td>...</td>\n      <td>False</td>\n      <td>False</td>\n      <td>False</td>\n      <td>False</td>\n      <td>False</td>\n      <td>False</td>\n      <td>False</td>\n      <td>False</td>\n      <td>False</td>\n      <td>False</td>\n    </tr>\n    <tr>\n      <th>4</th>\n      <td>True</td>\n      <td>False</td>\n      <td>False</td>\n      <td>True</td>\n      <td>False</td>\n      <td>False</td>\n      <td>True</td>\n      <td>False</td>\n      <td>False</td>\n      <td>True</td>\n      <td>...</td>\n      <td>False</td>\n      <td>False</td>\n      <td>False</td>\n      <td>False</td>\n      <td>False</td>\n      <td>False</td>\n      <td>False</td>\n      <td>False</td>\n      <td>False</td>\n      <td>False</td>\n    </tr>\n    <tr>\n      <th>...</th>\n      <td>...</td>\n      <td>...</td>\n      <td>...</td>\n      <td>...</td>\n      <td>...</td>\n      <td>...</td>\n      <td>...</td>\n      <td>...</td>\n      <td>...</td>\n      <td>...</td>\n      <td>...</td>\n      <td>...</td>\n      <td>...</td>\n      <td>...</td>\n      <td>...</td>\n      <td>...</td>\n      <td>...</td>\n      <td>...</td>\n      <td>...</td>\n      <td>...</td>\n      <td>...</td>\n    </tr>\n    <tr>\n      <th>165</th>\n      <td>False</td>\n      <td>False</td>\n      <td>False</td>\n      <td>False</td>\n      <td>False</td>\n      <td>False</td>\n      <td>False</td>\n      <td>False</td>\n      <td>False</td>\n      <td>False</td>\n      <td>...</td>\n      <td>False</td>\n      <td>False</td>\n      <td>False</td>\n      <td>False</td>\n      <td>False</td>\n      <td>False</td>\n      <td>False</td>\n      <td>False</td>\n      <td>False</td>\n      <td>False</td>\n    </tr>\n    <tr>\n      <th>166</th>\n      <td>False</td>\n      <td>False</td>\n      <td>True</td>\n      <td>True</td>\n      <td>False</td>\n      <td>False</td>\n      <td>False</td>\n      <td>False</td>\n      <td>False</td>\n      <td>False</td>\n      <td>...</td>\n      <td>False</td>\n      <td>False</td>\n      <td>False</td>\n      <td>False</td>\n      <td>False</td>\n      <td>False</td>\n      <td>False</td>\n      <td>False</td>\n      <td>False</td>\n      <td>False</td>\n    </tr>\n    <tr>\n      <th>167</th>\n      <td>False</td>\n      <td>False</td>\n      <td>False</td>\n      <td>False</td>\n      <td>False</td>\n      <td>False</td>\n      <td>False</td>\n      <td>False</td>\n      <td>False</td>\n      <td>False</td>\n      <td>...</td>\n      <td>False</td>\n      <td>False</td>\n      <td>False</td>\n      <td>False</td>\n      <td>False</td>\n      <td>False</td>\n      <td>False</td>\n      <td>False</td>\n      <td>False</td>\n      <td>False</td>\n    </tr>\n    <tr>\n      <th>168</th>\n      <td>False</td>\n      <td>False</td>\n      <td>True</td>\n      <td>True</td>\n      <td>False</td>\n      <td>False</td>\n      <td>False</td>\n      <td>False</td>\n      <td>False</td>\n      <td>False</td>\n      <td>...</td>\n      <td>False</td>\n      <td>False</td>\n      <td>False</td>\n      <td>False</td>\n      <td>False</td>\n      <td>False</td>\n      <td>False</td>\n      <td>False</td>\n      <td>False</td>\n      <td>False</td>\n    </tr>\n    <tr>\n      <th>169</th>\n      <td>False</td>\n      <td>False</td>\n      <td>True</td>\n      <td>True</td>\n      <td>False</td>\n      <td>False</td>\n      <td>False</td>\n      <td>False</td>\n      <td>False</td>\n      <td>False</td>\n      <td>...</td>\n      <td>False</td>\n      <td>False</td>\n      <td>False</td>\n      <td>False</td>\n      <td>False</td>\n      <td>False</td>\n      <td>False</td>\n      <td>False</td>\n      <td>False</td>\n      <td>False</td>\n    </tr>\n  </tbody>\n</table>\n<p>168 rows × 96 columns</p>\n</div>"
     },
     "execution_count": 8,
     "metadata": {},
     "output_type": "execute_result"
    }
   ],
   "source": [
    "skill_vector = extract_skills(offers_frame, skills_frame)\n",
    "skill_vector"
   ],
   "metadata": {
    "collapsed": false,
    "ExecuteTime": {
     "end_time": "2024-01-24T14:18:02.468114300Z",
     "start_time": "2024-01-24T14:17:21.015614300Z"
    }
   },
   "id": "9525c7ce918e4add"
  },
  {
   "cell_type": "markdown",
   "source": [
    "## Distribution Analysis\n",
    "Given that the dataset is imbalanced more data/better data should be acquired"
   ],
   "metadata": {
    "collapsed": false
   },
   "id": "6f3e68e5a3c31b7d"
  },
  {
   "cell_type": "code",
   "execution_count": 9,
   "outputs": [],
   "source": [
    "# --- Unbalanced Data\n",
    "skills_headers = skill_vector.columns.tolist()\n",
    "#skills_headers.remove('c')\n",
    "#skills_headers.remove('go')\n",
    "skill_vector = skill_vector[skills_headers]"
   ],
   "metadata": {
    "collapsed": false,
    "ExecuteTime": {
     "end_time": "2024-01-24T14:18:02.468614800Z",
     "start_time": "2024-01-24T14:18:02.462614900Z"
    }
   },
   "id": "76ef166c1be18436"
  },
  {
   "cell_type": "code",
   "execution_count": 10,
   "outputs": [
    {
     "data": {
      "text/plain": "javascript    37\nhtml          20\npython        35\nsql           25\ntypescript    11\n              ..\napt            0\nunity 3d       0\npacman         0\npnpm           0\ncss           19\nName: Count, Length: 96, dtype: int64"
     },
     "execution_count": 10,
     "metadata": {},
     "output_type": "execute_result"
    }
   ],
   "source": [
    "skill_counts = skill_vector.sum()\n",
    "skill_counts.rename(\"Count\", inplace=True)"
   ],
   "metadata": {
    "collapsed": false,
    "ExecuteTime": {
     "end_time": "2024-01-24T14:18:02.477615700Z",
     "start_time": "2024-01-24T14:18:02.471114Z"
    }
   },
   "id": "d5de023f2be2f113"
  },
  {
   "cell_type": "code",
   "execution_count": 11,
   "outputs": [],
   "source": [
    "def plot_skills(count_frame):\n",
    "    plt.figure(figsize=(10, 10))\n",
    "    sns.barplot(x=count_frame.values, y=count_frame.index, palette=\"viridis\")\n",
    "    plt.title(\"Distribution of Skills in the Dataset\")\n",
    "    plt.xlabel(\"Count\")\n",
    "    plt.ylabel(\"Skills\")\n",
    "    plt.show()"
   ],
   "metadata": {
    "collapsed": false,
    "ExecuteTime": {
     "end_time": "2024-01-24T14:18:02.503116600Z",
     "start_time": "2024-01-24T14:18:02.479115600Z"
    }
   },
   "id": "25772814cd6d71b6"
  },
  {
   "cell_type": "code",
   "execution_count": 12,
   "outputs": [
    {
     "name": "stderr",
     "output_type": "stream",
     "text": [
      "C:\\Users\\anton\\AppData\\Local\\Temp\\ipykernel_47916\\1017160907.py:3: FutureWarning: \n",
      "\n",
      "Passing `palette` without assigning `hue` is deprecated and will be removed in v0.14.0. Assign the `y` variable to `hue` and set `legend=False` for the same effect.\n",
      "\n",
      "  sns.barplot(x=count_frame.values, y=count_frame.index, palette=\"viridis\")\n"
     ]
    },
    {
     "data": {
      "text/plain": "<Figure size 1000x1000 with 1 Axes>",
      "image/png": "[encoded data removed]"
     },
     "metadata": {},
     "output_type": "display_data"
    }
   ],
   "source": [
    "selected_skills = skill_counts[skill_counts >= 6].index\n",
    "skill_vector = skill_vector[selected_skills]\n",
    "skill_counts = skill_vector.sum()\n",
    "\n",
    "plot_skills(skill_counts.sort_values(ascending=False))"
   ],
   "metadata": {
    "collapsed": false,
    "ExecuteTime": {
     "end_time": "2024-01-24T14:18:02.879613700Z",
     "start_time": "2024-01-24T14:18:02.485115300Z"
    }
   },
   "id": "ecaaaf28f7bab220"
  },
  {
   "cell_type": "markdown",
   "source": [
    "## Association Rule Mining"
   ],
   "metadata": {
    "collapsed": false
   },
   "id": "526509500ec32914"
  },
  {
   "cell_type": "markdown",
   "source": [
    "### FP max Algorithm\n",
    "One red-flag is that it doesn't show a single item set with HTML and CSS together."
   ],
   "metadata": {
    "collapsed": false
   },
   "id": "b6070e374538db1c"
  },
  {
   "cell_type": "code",
   "execution_count": 13,
   "outputs": [],
   "source": [
    "from mlxtend.frequent_patterns import fpmax\n",
    "\n",
    "@print_performance\n",
    "def task_fp_max(vect):\n",
    "    return fpmax(vect, use_colnames=True, min_support=0.05)"
   ],
   "metadata": {
    "collapsed": false,
    "ExecuteTime": {
     "end_time": "2024-01-24T14:18:02.893115100Z",
     "start_time": "2024-01-24T14:18:02.882614Z"
    }
   },
   "id": "cc038a4611ed3711"
  },
  {
   "cell_type": "code",
   "execution_count": 14,
   "outputs": [
    {
     "name": "stdout",
     "output_type": "stream",
     "text": [
      "Done in 0.00\n"
     ]
    },
    {
     "data": {
      "text/plain": "     support                 itemsets\n0   0.053571           (laravel, php)\n1   0.053571                 (docker)\n2   0.059524                    (c++)\n3   0.065476             (typescript)\n4   0.071429                     (go)\n5   0.071429                  (mysql)\n6   0.059524    (javascript, angular)\n7   0.065476                (c, .net)\n8   0.089286  (html, css, javascript)\n9   0.053571              (html, php)\n10  0.059524      (react, javascript)\n11  0.071429        (php, javascript)\n12  0.125000                    (aws)\n13  0.065476                (java, c)\n14  0.071429            (python, sql)\n15  0.059524           (python, java)",
      "text/html": "<div>\n<style scoped>\n    .dataframe tbody tr th:only-of-type {\n        vertical-align: middle;\n    }\n\n    .dataframe tbody tr th {\n        vertical-align: top;\n    }\n\n    .dataframe thead th {\n        text-align: right;\n    }\n</style>\n<table border=\"1\" class=\"dataframe\">\n  <thead>\n    <tr style=\"text-align: right;\">\n      <th></th>\n      <th>support</th>\n      <th>itemsets</th>\n    </tr>\n  </thead>\n  <tbody>\n    <tr>\n      <th>0</th>\n      <td>0.053571</td>\n      <td>(laravel, php)</td>\n    </tr>\n    <tr>\n      <th>1</th>\n      <td>0.053571</td>\n      <td>(docker)</td>\n    </tr>\n    <tr>\n      <th>2</th>\n      <td>0.059524</td>\n      <td>(c++)</td>\n    </tr>\n    <tr>\n      <th>3</th>\n      <td>0.065476</td>\n      <td>(typescript)</td>\n    </tr>\n    <tr>\n      <th>4</th>\n      <td>0.071429</td>\n      <td>(go)</td>\n    </tr>\n    <tr>\n      <th>5</th>\n      <td>0.071429</td>\n      <td>(mysql)</td>\n    </tr>\n    <tr>\n      <th>6</th>\n      <td>0.059524</td>\n      <td>(javascript, angular)</td>\n    </tr>\n    <tr>\n      <th>7</th>\n      <td>0.065476</td>\n      <td>(c, .net)</td>\n    </tr>\n    <tr>\n      <th>8</th>\n      <td>0.089286</td>\n      <td>(html, css, javascript)</td>\n    </tr>\n    <tr>\n      <th>9</th>\n      <td>0.053571</td>\n      <td>(html, php)</td>\n    </tr>\n    <tr>\n      <th>10</th>\n      <td>0.059524</td>\n      <td>(react, javascript)</td>\n    </tr>\n    <tr>\n      <th>11</th>\n      <td>0.071429</td>\n      <td>(php, javascript)</td>\n    </tr>\n    <tr>\n      <th>12</th>\n      <td>0.125000</td>\n      <td>(aws)</td>\n    </tr>\n    <tr>\n      <th>13</th>\n      <td>0.065476</td>\n      <td>(java, c)</td>\n    </tr>\n    <tr>\n      <th>14</th>\n      <td>0.071429</td>\n      <td>(python, sql)</td>\n    </tr>\n    <tr>\n      <th>15</th>\n      <td>0.059524</td>\n      <td>(python, java)</td>\n    </tr>\n  </tbody>\n</table>\n</div>"
     },
     "execution_count": 14,
     "metadata": {},
     "output_type": "execute_result"
    }
   ],
   "source": [
    "skill_sets = task_fp_max(skill_vector)\n",
    "skill_sets"
   ],
   "metadata": {
    "collapsed": false,
    "ExecuteTime": {
     "end_time": "2024-01-24T14:18:03.019646100Z",
     "start_time": "2024-01-24T14:18:02.894616900Z"
    }
   },
   "id": "c9708a768beeeb21"
  },
  {
   "cell_type": "markdown",
   "source": [
    "## Clustering Algorithm"
   ],
   "metadata": {
    "collapsed": false
   },
   "id": "691e8f9dc0e34d04"
  },
  {
   "cell_type": "code",
   "execution_count": 14,
   "outputs": [],
   "source": [],
   "metadata": {
    "collapsed": false,
    "ExecuteTime": {
     "end_time": "2024-01-24T14:18:03.020148300Z",
     "start_time": "2024-01-24T14:18:02.909114900Z"
    }
   },
   "id": "cf4abb76e16ad281"
  },
  {
   "cell_type": "code",
   "execution_count": 14,
   "outputs": [],
   "source": [],
   "metadata": {
    "collapsed": false,
    "ExecuteTime": {
     "end_time": "2024-01-24T14:18:03.020148300Z",
     "start_time": "2024-01-24T14:18:02.912615500Z"
    }
   },
   "id": "8b6e950b21b55a10"
  },
  {
   "cell_type": "markdown",
   "source": [
    "## Export"
   ],
   "metadata": {
    "collapsed": false
   },
   "id": "c6a3def7413bd719"
  },
  {
   "cell_type": "code",
   "execution_count": 15,
   "outputs": [],
   "source": [
    "with sqlite3.connect('./datasets/skill_sets.db') as out_conn:\n",
    "    out_curs = out_conn.cursor()\n",
    "    out_curs.execute('''\n",
    "        CREATE TABLE IF NOT EXISTS SkillSets (\n",
    "            ID INTEGER PRIMARY KEY,\n",
    "            SKILLS TEXT\n",
    "        )    \n",
    "    ''')\n",
    "\n",
    "    i = -1\n",
    "    for skill_set in skill_sets['itemsets'].tolist():\n",
    "        if len(skill_set) > 1: \n",
    "            skill_list = []\n",
    "            \n",
    "            for skill in skill_set:\n",
    "                skill_list.append(skill)\n",
    "                \n",
    "            i += 1\n",
    "            out_curs.execute('''INSERT INTO SkillSets VALUES (?, ?)''', (i, ', '.join(skill_list)))\n",
    "            \n",
    "    out_conn.commit()\n"
   ],
   "metadata": {
    "collapsed": false,
    "ExecuteTime": {
     "end_time": "2024-01-24T14:18:03.020148300Z",
     "start_time": "2024-01-24T14:18:02.917615500Z"
    }
   },
   "id": "ca1021e2487d1728"
  },
  {
   "cell_type": "code",
   "execution_count": 16,
   "outputs": [
    {
     "data": {
      "text/plain": "                   SKILLS\nID                       \n0            laravel, php\n1     javascript, angular\n2                 c, .net\n3   html, css, javascript\n4               html, php\n5       react, javascript\n6         php, javascript\n7                 java, c\n8             python, sql\n9            python, java",
      "text/html": "<div>\n<style scoped>\n    .dataframe tbody tr th:only-of-type {\n        vertical-align: middle;\n    }\n\n    .dataframe tbody tr th {\n        vertical-align: top;\n    }\n\n    .dataframe thead th {\n        text-align: right;\n    }\n</style>\n<table border=\"1\" class=\"dataframe\">\n  <thead>\n    <tr style=\"text-align: right;\">\n      <th></th>\n      <th>SKILLS</th>\n    </tr>\n    <tr>\n      <th>ID</th>\n      <th></th>\n    </tr>\n  </thead>\n  <tbody>\n    <tr>\n      <th>0</th>\n      <td>laravel, php</td>\n    </tr>\n    <tr>\n      <th>1</th>\n      <td>javascript, angular</td>\n    </tr>\n    <tr>\n      <th>2</th>\n      <td>c, .net</td>\n    </tr>\n    <tr>\n      <th>3</th>\n      <td>html, css, javascript</td>\n    </tr>\n    <tr>\n      <th>4</th>\n      <td>html, php</td>\n    </tr>\n    <tr>\n      <th>5</th>\n      <td>react, javascript</td>\n    </tr>\n    <tr>\n      <th>6</th>\n      <td>php, javascript</td>\n    </tr>\n    <tr>\n      <th>7</th>\n      <td>java, c</td>\n    </tr>\n    <tr>\n      <th>8</th>\n      <td>python, sql</td>\n    </tr>\n    <tr>\n      <th>9</th>\n      <td>python, java</td>\n    </tr>\n  </tbody>\n</table>\n</div>"
     },
     "execution_count": 16,
     "metadata": {},
     "output_type": "execute_result"
    }
   ],
   "source": [
    "with sqlite3.connect('./datasets/skill_sets.db') as test_conn:\n",
    "        test_frame = pd.read_sql('SELECT * FROM SkillSets', test_conn, index_col='ID')\n",
    "\n",
    "test_frame"
   ],
   "metadata": {
    "collapsed": false,
    "ExecuteTime": {
     "end_time": "2024-01-24T14:18:03.020615800Z",
     "start_time": "2024-01-24T14:18:02.942618300Z"
    }
   },
   "id": "fd7ee1cca60fef75"
  },
  {
   "cell_type": "code",
   "execution_count": 16,
   "outputs": [],
   "source": [],
   "metadata": {
    "collapsed": false,
    "ExecuteTime": {
     "end_time": "2024-01-24T14:18:03.020615800Z",
     "start_time": "2024-01-24T14:18:02.950614800Z"
    }
   },
   "id": "9eff230a95affba1"
  }
 ],
 "metadata": {
  "kernelspec": {
   "display_name": "Python 3",
   "language": "python",
   "name": "python3"
  },
  "language_info": {
   "codemirror_mode": {
    "name": "ipython",
    "version": 2
   },
   "file_extension": ".py",
   "mimetype": "text/x-python",
   "name": "python",
   "nbconvert_exporter": "python",
   "pygments_lexer": "ipython2",
   "version": "2.7.6"
  }
 },
 "nbformat": 4,
 "nbformat_minor": 5
}
