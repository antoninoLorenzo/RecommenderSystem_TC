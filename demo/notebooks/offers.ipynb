{
 "cells": [
  {
   "cell_type": "code",
   "execution_count": 135,
   "id": "initial_id",
   "metadata": {
    "collapsed": true,
    "ExecuteTime": {
     "end_time": "2024-01-23T22:28:12.136425300Z",
     "start_time": "2024-01-23T22:28:12.124926400Z"
    }
   },
   "outputs": [],
   "source": [
    "import sqlite3\n",
    "import numpy as np\n",
    "import pandas as pd\n",
    "import matplotlib.pyplot as plt\n",
    "%matplotlib inline\n",
    "import seaborn as sns\n"
   ]
  },
  {
   "cell_type": "code",
   "execution_count": 136,
   "outputs": [
    {
     "data": {
      "text/plain": "                                                  Name  \\\n0                                   Software Developer   \n1                            Junior Software Developer   \n2                                   Software Developer   \n3                                   Software Developer   \n4                            Senior Software Developer   \n..                                                 ...   \n165                            Data Scientist - Pharma   \n166       DATA SCIENTIST | MACHINE LEARNING | BIG DATA   \n167                             PDS AD&GMP Scientist I   \n168                      Junior Ethical Data Scientist   \n169  EU Institutions: AI Machine Learning Data Scie...   \n\n                                           Description  \\\n0    Miniclip is a global leader in digital games w...   \n1    NETtoWORK, azienda italiana nata nel 2016, ope...   \n2    We are looking for talented and passionate peo...   \n3    ARESYS  is a R&D oriented company with nearly ...   \n4    Il/la Candidato/a dovrà padroneggiare: \\n \\n- ...   \n..                                                 ...   \n165  Akkodis è un leader globale nel mercato dell'i...   \n166  Techyon: Information Technology Recruitment Ex...   \n167  Job DescriptionWhen you’re part of Thermo Fish...   \n168  We are looking for an extremely BOLD & VISIONA...   \n169  WHO WE ARE \\n \\n-  Etinars  is a values-focuse...   \n\n                          Location  \n0                  Genova, Liguria  \n1                     17100 Savona  \n2                      55100 Lucca  \n3               Matera, Basilicata  \n4                 Catania, Sicilia  \n..                             ...  \n165  Provincia di Torino, Piemonte  \n166          Parma, Emilia-Romagna  \n167                    20900 Monza  \n168                           None  \n169               Ispra, Lombardia  \n\n[170 rows x 3 columns]",
      "text/html": "<div>\n<style scoped>\n    .dataframe tbody tr th:only-of-type {\n        vertical-align: middle;\n    }\n\n    .dataframe tbody tr th {\n        vertical-align: top;\n    }\n\n    .dataframe thead th {\n        text-align: right;\n    }\n</style>\n<table border=\"1\" class=\"dataframe\">\n  <thead>\n    <tr style=\"text-align: right;\">\n      <th></th>\n      <th>Name</th>\n      <th>Description</th>\n      <th>Location</th>\n    </tr>\n  </thead>\n  <tbody>\n    <tr>\n      <th>0</th>\n      <td>Software Developer</td>\n      <td>Miniclip is a global leader in digital games w...</td>\n      <td>Genova, Liguria</td>\n    </tr>\n    <tr>\n      <th>1</th>\n      <td>Junior Software Developer</td>\n      <td>NETtoWORK, azienda italiana nata nel 2016, ope...</td>\n      <td>17100 Savona</td>\n    </tr>\n    <tr>\n      <th>2</th>\n      <td>Software Developer</td>\n      <td>We are looking for talented and passionate peo...</td>\n      <td>55100 Lucca</td>\n    </tr>\n    <tr>\n      <th>3</th>\n      <td>Software Developer</td>\n      <td>ARESYS  is a R&amp;D oriented company with nearly ...</td>\n      <td>Matera, Basilicata</td>\n    </tr>\n    <tr>\n      <th>4</th>\n      <td>Senior Software Developer</td>\n      <td>Il/la Candidato/a dovrà padroneggiare: \\n \\n- ...</td>\n      <td>Catania, Sicilia</td>\n    </tr>\n    <tr>\n      <th>...</th>\n      <td>...</td>\n      <td>...</td>\n      <td>...</td>\n    </tr>\n    <tr>\n      <th>165</th>\n      <td>Data Scientist - Pharma</td>\n      <td>Akkodis è un leader globale nel mercato dell'i...</td>\n      <td>Provincia di Torino, Piemonte</td>\n    </tr>\n    <tr>\n      <th>166</th>\n      <td>DATA SCIENTIST | MACHINE LEARNING | BIG DATA</td>\n      <td>Techyon: Information Technology Recruitment Ex...</td>\n      <td>Parma, Emilia-Romagna</td>\n    </tr>\n    <tr>\n      <th>167</th>\n      <td>PDS AD&amp;GMP Scientist I</td>\n      <td>Job DescriptionWhen you’re part of Thermo Fish...</td>\n      <td>20900 Monza</td>\n    </tr>\n    <tr>\n      <th>168</th>\n      <td>Junior Ethical Data Scientist</td>\n      <td>We are looking for an extremely BOLD &amp; VISIONA...</td>\n      <td>None</td>\n    </tr>\n    <tr>\n      <th>169</th>\n      <td>EU Institutions: AI Machine Learning Data Scie...</td>\n      <td>WHO WE ARE \\n \\n-  Etinars  is a values-focuse...</td>\n      <td>Ispra, Lombardia</td>\n    </tr>\n  </tbody>\n</table>\n<p>170 rows × 3 columns</p>\n</div>"
     },
     "execution_count": 136,
     "metadata": {},
     "output_type": "execute_result"
    }
   ],
   "source": [
    "offers_connection = sqlite3.connect('../datasets/offers_dataset.db')\n",
    "offers_frame = pd.read_sql_query('''SELECT * FROM offers''', offers_connection)\n",
    "offers_connection.close()\n",
    "\n",
    "# [!] Le descrizioni all'interno del notebook non sono mostrate nella loro versione completa\n",
    "#     per accedere ad una specifica descrizione usare il metodo: offers_frame.loc[ID, NomeColonna]\n",
    "offers_frame"
   ],
   "metadata": {
    "collapsed": false,
    "ExecuteTime": {
     "end_time": "2024-01-23T22:28:13.489238100Z",
     "start_time": "2024-01-23T22:28:13.471738100Z"
    }
   },
   "id": "2d019a7a9033f77c"
  },
  {
   "cell_type": "markdown",
   "source": [
    "## Data Exploration\n",
    "Come prima cosa esaminiamo il nostro dataset di offerte, in particolare dovremmo verificare la qualità dei dati:\n",
    "- Base   \n",
    "    - Presenza di valori nulli\n",
    "    - (**Importante**) Presenza di sinonimi geografici\n",
    "    - Presenza di informazioni utili\n",
    "- Avanzato\n",
    "    - Analisi delle Parole Chiave (es. Titoli)\n",
    "    - Analisi della distribuzione dei dati"
   ],
   "metadata": {
    "collapsed": false
   },
   "id": "b148d9cefa03d4c8"
  },
  {
   "cell_type": "markdown",
   "source": [
    "**Presenza di Valori Nulli e Duplicati**\n",
    "Come è possibile vedere di seguito il dataset contiene valori nulli solo per la colonna Location, il che però è normale, in quanto non tutte le Offerte di lavoro sono in presenza, quindi le Location mancanti rappresentano il numero di Offerte di lavoro in Remote.\n",
    "Questa informazione è importante perchè in seguito ci sarà la necessità di rappresentare queste informazioni in modo omogeneo, in modo tale che un modello il cui scopo è raggruppare le Offerte (clustering, come proposto nell'Analisi del Problema) possa farlo in modo adeguato."
   ],
   "metadata": {
    "collapsed": false
   },
   "id": "ce3fcaa61d9998aa"
  },
  {
   "cell_type": "code",
   "execution_count": 137,
   "outputs": [
    {
     "name": "stdout",
     "output_type": "stream",
     "text": [
      "<class 'pandas.core.frame.DataFrame'>\n",
      "Index: 134 entries, 0 to 169\n",
      "Data columns (total 3 columns):\n",
      " #   Column       Non-Null Count  Dtype \n",
      "---  ------       --------------  ----- \n",
      " 0   Name         134 non-null    object\n",
      " 1   Description  134 non-null    object\n",
      " 2   Location     134 non-null    object\n",
      "dtypes: object(3)\n",
      "memory usage: 4.2+ KB\n"
     ]
    }
   ],
   "source": [
    "offers_frame.dropna(inplace=True)\n",
    "offers_frame.drop_duplicates(inplace=True)\n",
    "offers_frame.info()"
   ],
   "metadata": {
    "collapsed": false,
    "ExecuteTime": {
     "end_time": "2024-01-23T22:28:17.560477300Z",
     "start_time": "2024-01-23T22:28:17.548977800Z"
    }
   },
   "id": "6ab03fba00230b25"
  },
  {
   "cell_type": "code",
   "execution_count": 122,
   "outputs": [],
   "source": [],
   "metadata": {
    "collapsed": false,
    "ExecuteTime": {
     "end_time": "2024-01-23T22:27:26.557915300Z",
     "start_time": "2024-01-23T22:27:26.276415600Z"
    }
   },
   "id": "b9a7069faf18760d"
  },
  {
   "cell_type": "markdown",
   "source": [
    "## Presenza di Sinonimi Geografici\n",
    "Il dataset contiene attualmente molteplici istanze in cui la stessa Location è riportata in modi diversi, come \\<Cap>, \\<Città> e \\<Città>, \\<Regione>.\n"
   ],
   "metadata": {
    "collapsed": false
   },
   "id": "51416aacfc058b23"
  },
  {
   "cell_type": "code",
   "execution_count": 123,
   "outputs": [],
   "source": [
    "#example_city = \"Bologna\"\n",
    "\n",
    "#onsite_offers = offers_frame[offers_frame[\"Location\"].notna()]\n",
    "#geo_syn = onsite_offers.Location.map(lambda text: example_city in text)\n",
    "#onsite_offers[geo_syn]"
   ],
   "metadata": {
    "collapsed": false,
    "ExecuteTime": {
     "end_time": "2024-01-23T22:27:26.565914800Z",
     "start_time": "2024-01-23T22:27:26.282415800Z"
    }
   },
   "id": "c99cee79c72dcdd0"
  },
  {
   "cell_type": "markdown",
   "source": [
    "**Analisi dei Titoli**\n",
    "Di seguito vengono analizzati i Titoli delle Offerte di lavoro con lo scopo di verificare la presenza di termini comuni, in particolare vengono usate delle basilari tecniche di Natural Language Processing come:\n",
    "- **Tokenization**, utilizzata per dividere frasi o documenti in parole (*title.split()*) \n",
    "- **Rimozione della Punteggiatura**, utilizzata per migliorare la qualità dei dati estratti, in modo da non influenzare i risultati \n",
    "- **Normalizzazione**, utilizzata per ridurre la complessità del vocabolario e trattare parole con maiuscole e minuscole come equivalenti (*t.lower()*)"
   ],
   "metadata": {
    "collapsed": false
   },
   "id": "ac2efe4d43ad79b0"
  },
  {
   "cell_type": "code",
   "execution_count": 138,
   "outputs": [
    {
     "data": {
      "text/plain": "Counter({'developer': 42,\n         'software': 35,\n         'engineer': 30,\n         'network': 19,\n         'junior': 14,\n         'web': 14,\n         'data': 10,\n         'senior': 9,\n         'intern': 9,\n         'sviluppatore': 8,\n         '2024': 8,\n         'full': 7,\n         'scientist': 7,\n         'analyst': 6,\n         'programmatore': 5,\n         'graduate': 5,\n         'learning': 5,\n         'development': 4,\n         'c#': 4,\n         'security': 4,\n         'frontend': 4,\n         'stack': 4,\n         'backend': 4,\n         'remote': 3,\n         'engineering': 3,\n         'apprenticeship': 3,\n         '(london)': 3,\n         'system': 3,\n         'summer': 3,\n         'internship': 3,\n         '–': 3,\n         'consultant': 3,\n         'it': 3,\n         'machine': 3,\n         'stage': 2,\n         'java': 2,\n         'settore': 2,\n         'sanità': 2,\n         'uk': 2,\n         'technology': 2,\n         'engineer,': 2,\n         'programming': 2,\n         'cyber': 2,\n         'energy': 2,\n         'starting': 2,\n         'and': 2,\n         'manager': 2,\n         'server': 2,\n         'lead': 2,\n         'site': 2,\n         'reliability': 2,\n         'milano': 2,\n         'specialist': 2,\n         'rif.': 2,\n         'front': 2,\n         'end': 2,\n         'php': 2,\n         'javascript': 2,\n         'e': 2,\n         'ai': 2,\n         'business': 2,\n         'intelligence': 2,\n         'ibp': 1,\n         'algorithms': 1,\n         'tecnico': 1,\n         'bilance': 1,\n         'digitali': 1,\n         'supermercati': 1,\n         'asp.net': 1,\n         'manufacturing': 1,\n         'relocation': 1,\n         'usa': 1,\n         'front-end': 1,\n         'app': 1,\n         'programmer': 1,\n         'hmi': 1,\n         'flutter': 1,\n         'qa': 1,\n         'appartenente': 1,\n         'alle': 1,\n         'categorie': 1,\n         'protette': 1,\n         'erp': 1,\n         'campus': 1,\n         'programme': 1,\n         '(uk)': 1,\n         'degree': 1,\n         '(nottingham)': 1,\n         'start': 1,\n         '(fixed-term': 1,\n         'contract)': 1,\n         'undergraduate': 1,\n         'harvesting': 1,\n         '(university': 1,\n         'grad)': 1,\n         'assistant': 1,\n         'foundation': 1,\n         '(edinburgh': 1,\n         'remote)': 1,\n         'electrochemical': 1,\n         'modelling': 1,\n         'storage': 1,\n         '(12': 1,\n         'months)': 1,\n         'geospatial': 1,\n         'application': 1,\n         'analyst,': 1,\n         'university': 1,\n         'placement': 1,\n         '(september': 1,\n         'start)': 1,\n         'macro': 1,\n         'research': 1,\n         'associate': 1,\n         'london': 1,\n         'technical': 1,\n         'freelance': 1,\n         'ux': 1,\n         'apprentice': 1,\n         'digital': 1,\n         'designer': 1,\n         'power': 1,\n         'eso': 1,\n         '(security': 1,\n         'services)': 1,\n         'production': 1,\n         'f5': 1,\n         'pcn': 1,\n         'infrastructure': 1,\n         'band': 1,\n         '6-': 1,\n         'cits': 1,\n         'ip': 1,\n         'merchandiser': 1,\n         'controller': 1,\n         'administrator': 1,\n         'sistemista': 1,\n         'transformation': 1,\n         'financial': 1,\n         'services': 1,\n         '[cns]': 1,\n         'service': 1,\n         'desk': 1,\n         'operator': 1,\n         '(in': 1,\n         'brussels)': 1,\n         'firewall': 1,\n         'palo': 1,\n         'alto': 1,\n         'no': 1,\n         'freelancer!': 1,\n         '490': 1,\n         'support': 1,\n         'progettista': 1,\n         'ict': 1,\n         'sr.': 1,\n         'devops': 1,\n         'roma': 1,\n         '512': 1,\n         'valutazioni,': 1,\n         'industriali': 1,\n         'advisory': 1,\n         'engineer_milano': 1,\n         'middle/senior': 1,\n         'applicazioni': 1,\n         'sviluppatori': 1,\n         'mobile': 1,\n         'linguaggio': 1,\n         'owl': 1,\n         'sparql': 1,\n         '[dig]': 1,\n         'global': 1,\n         'partner': 1,\n         'finance': 1,\n         'inside': 1,\n         'sales': 1,\n         'informatico': 1,\n         'labview': 1,\n         'control': 1,\n         'automation/machine': 1,\n         'learning/ai': 1,\n         'computer': 1,\n         'vision': 1,\n         'alorithm': 1,\n         'sw': 1,\n         'gridspertise': 1,\n         'simulation': 1,\n         'modeling': 1,\n         'al': 1,\n         'engineers-machine': 1,\n         'deep': 1,\n         '(virtual': 1,\n         'networking)': 1,\n         'product': 1,\n         'ios': 1,\n         'sfcc': 1,\n         '(backend)': 1,\n         'gov.uk': 1,\n         'notify': 1,\n         'pharma': 1,\n         'big': 1,\n         'pds': 1,\n         'ad&gmp': 1,\n         'i': 1,\n         'eu': 1,\n         'institutions:': 1})"
     },
     "execution_count": 138,
     "metadata": {},
     "output_type": "execute_result"
    }
   ],
   "source": [
    "from string import punctuation\n",
    "from collections import Counter\n",
    "\n",
    "def count_words(document: str, counter: Counter):\n",
    "    \"\"\"\n",
    "    :param document: a string representation of the document to inspect\n",
    "    :param counter: a Python built-in object used to count occurrences of items\n",
    "    \"\"\"\n",
    "    punct = [p for p in punctuation]\n",
    "    for t in document.split():\n",
    "        if not t in punct:\n",
    "            counter[t.lower()] += 1\n",
    "\n",
    "\n",
    "titles_counts = Counter()\n",
    "offers_frame.Name.map(lambda text: count_words(text, titles_counts))\n",
    "\n",
    "titles_counts"
   ],
   "metadata": {
    "collapsed": false,
    "ExecuteTime": {
     "end_time": "2024-01-23T22:28:32.218281200Z",
     "start_time": "2024-01-23T22:28:32.203783200Z"
    }
   },
   "id": "a47c7c31ce071ca4"
  },
  {
   "cell_type": "markdown",
   "source": [
    "Analisi delle occorrenze di parole:"
   ],
   "metadata": {
    "collapsed": false
   },
   "id": "26adff46bb768441"
  },
  {
   "cell_type": "code",
   "execution_count": 139,
   "outputs": [],
   "source": [
    "# Jacopo plotta qui"
   ],
   "metadata": {
    "collapsed": false,
    "ExecuteTime": {
     "end_time": "2024-01-23T22:28:34.769970800Z",
     "start_time": "2024-01-23T22:28:34.764471700Z"
    }
   },
   "id": "77d18769c1283146"
  },
  {
   "cell_type": "code",
   "execution_count": 139,
   "outputs": [],
   "source": [],
   "metadata": {
    "collapsed": false,
    "ExecuteTime": {
     "end_time": "2024-01-23T22:28:35.343472600Z",
     "start_time": "2024-01-23T22:28:35.335063500Z"
    }
   },
   "id": "fe02bb277e4b6bf5"
  },
  {
   "cell_type": "code",
   "execution_count": 139,
   "outputs": [],
   "source": [],
   "metadata": {
    "collapsed": false,
    "ExecuteTime": {
     "end_time": "2024-01-23T22:28:35.545966500Z",
     "start_time": "2024-01-23T22:28:35.530468900Z"
    }
   },
   "id": "8447b5bb6bfb0af9"
  },
  {
   "cell_type": "markdown",
   "source": [],
   "metadata": {
    "collapsed": false
   },
   "id": "142416c0760ec20f"
  },
  {
   "cell_type": "code",
   "execution_count": 139,
   "outputs": [],
   "source": [],
   "metadata": {
    "collapsed": false,
    "ExecuteTime": {
     "end_time": "2024-01-23T22:28:36.681468500Z",
     "start_time": "2024-01-23T22:28:36.676469200Z"
    }
   },
   "id": "ac82e9acc4696e99"
  },
  {
   "cell_type": "code",
   "execution_count": 139,
   "outputs": [],
   "source": [],
   "metadata": {
    "collapsed": false,
    "ExecuteTime": {
     "end_time": "2024-01-23T22:28:37.075467200Z",
     "start_time": "2024-01-23T22:28:37.070467700Z"
    }
   },
   "id": "9cee2fbcd429c23b"
  },
  {
   "cell_type": "code",
   "execution_count": 140,
   "outputs": [
    {
     "name": "stderr",
     "output_type": "stream",
     "text": [
      "[nltk_data] Downloading package stopwords to\n",
      "[nltk_data]     C:\\Users\\anton\\AppData\\Roaming\\nltk_data...\n",
      "[nltk_data]   Package stopwords is already up-to-date!\n"
     ]
    }
   ],
   "source": [
    "# Package necessari per la manipolazione di descrizioni in italiano (es. TF-IDF)\n",
    "\n",
    "import nltk\n",
    "from nltk.corpus import stopwords\n",
    "from nltk.tokenize import word_tokenize\n",
    "nltk.download('stopwords')\n",
    "stop_words = set(stopwords.words('italian'))"
   ],
   "metadata": {
    "collapsed": false,
    "ExecuteTime": {
     "end_time": "2024-01-23T22:28:37.423468900Z",
     "start_time": "2024-01-23T22:28:37.418469500Z"
    }
   },
   "id": "29a9deae9381e11f"
  },
  {
   "cell_type": "code",
   "execution_count": 140,
   "outputs": [],
   "source": [],
   "metadata": {
    "collapsed": false,
    "ExecuteTime": {
     "end_time": "2024-01-23T22:28:38.868969400Z",
     "start_time": "2024-01-23T22:28:38.863967800Z"
    }
   },
   "id": "50241e78b0cfb777"
  },
  {
   "cell_type": "markdown",
   "source": [
    "## Data Preparation\n",
    "Per permettere il completo soddisfacimento dei requisiti, alcuni dati mancanti alle offerte dovranno essere aggiunti al dataset, tra cui:\n",
    "- RequiredSkills: le Competenze richieste da una Offerta\n",
    "- LocationType: il tipo di Location, se in remoto (Remote) o in sede (OnSite)\n",
    "- Languages: le lingue naturali necessarie per l'offerta di lavoro"
   ],
   "metadata": {
    "collapsed": false
   },
   "id": "5225660adcd5fd35"
  },
  {
   "cell_type": "markdown",
   "source": [
    "### Skill Extraction\n",
    "Per procedere con l'estrazione delle Competenze dalle Offerte per prima cosa importiamo il relativo dataset.   "
   ],
   "metadata": {
    "collapsed": false
   },
   "id": "610c2e04295de03d"
  },
  {
   "cell_type": "code",
   "execution_count": 141,
   "outputs": [
    {
     "data": {
      "text/plain": "         SKILL                  TYPE\nID                                  \n0   JavaScript  Programming Language\n1         HTML  Programming Language\n2       Python  Programming Language\n3          SQL  Programming Language\n4   TypeScript  Programming Language\n..         ...                   ...\n95         APT                  Tool\n96    Unity 3D                  Tool\n97      Pacman                  Tool\n98        pnpm                  Tool\n99         CSS  Programming Language\n\n[96 rows x 2 columns]",
      "text/html": "<div>\n<style scoped>\n    .dataframe tbody tr th:only-of-type {\n        vertical-align: middle;\n    }\n\n    .dataframe tbody tr th {\n        vertical-align: top;\n    }\n\n    .dataframe thead th {\n        text-align: right;\n    }\n</style>\n<table border=\"1\" class=\"dataframe\">\n  <thead>\n    <tr style=\"text-align: right;\">\n      <th></th>\n      <th>SKILL</th>\n      <th>TYPE</th>\n    </tr>\n    <tr>\n      <th>ID</th>\n      <th></th>\n      <th></th>\n    </tr>\n  </thead>\n  <tbody>\n    <tr>\n      <th>0</th>\n      <td>JavaScript</td>\n      <td>Programming Language</td>\n    </tr>\n    <tr>\n      <th>1</th>\n      <td>HTML</td>\n      <td>Programming Language</td>\n    </tr>\n    <tr>\n      <th>2</th>\n      <td>Python</td>\n      <td>Programming Language</td>\n    </tr>\n    <tr>\n      <th>3</th>\n      <td>SQL</td>\n      <td>Programming Language</td>\n    </tr>\n    <tr>\n      <th>4</th>\n      <td>TypeScript</td>\n      <td>Programming Language</td>\n    </tr>\n    <tr>\n      <th>...</th>\n      <td>...</td>\n      <td>...</td>\n    </tr>\n    <tr>\n      <th>95</th>\n      <td>APT</td>\n      <td>Tool</td>\n    </tr>\n    <tr>\n      <th>96</th>\n      <td>Unity 3D</td>\n      <td>Tool</td>\n    </tr>\n    <tr>\n      <th>97</th>\n      <td>Pacman</td>\n      <td>Tool</td>\n    </tr>\n    <tr>\n      <th>98</th>\n      <td>pnpm</td>\n      <td>Tool</td>\n    </tr>\n    <tr>\n      <th>99</th>\n      <td>CSS</td>\n      <td>Programming Language</td>\n    </tr>\n  </tbody>\n</table>\n<p>96 rows × 2 columns</p>\n</div>"
     },
     "execution_count": 141,
     "metadata": {},
     "output_type": "execute_result"
    }
   ],
   "source": [
    "# [!] In alcune descrizioni di offerte c'è HTML5 o CSS3 che non vengono riconosciuti come HTML o CSS\n",
    "\n",
    "with sqlite3.connect('../datasets/skills_dataset.db') as skills_connection:\n",
    "    skills_frame = pd.read_sql_query('SELECT * FROM skills', skills_connection)\n",
    "    skills_frame.set_index('ID', inplace=True)\n",
    "    \n",
    "skills_frame"
   ],
   "metadata": {
    "collapsed": false,
    "ExecuteTime": {
     "end_time": "2024-01-23T22:28:42.689514Z",
     "start_time": "2024-01-23T22:28:42.674015500Z"
    }
   },
   "id": "f602ba7e22c94087"
  },
  {
   "cell_type": "code",
   "execution_count": 142,
   "outputs": [],
   "source": [
    "def remove_symbols(description: str, remove_map: dict) -> str:\n",
    "    for old, new in remove_map.items():\n",
    "        description = description.replace(old, new)\n",
    "    return description.lower()\n",
    "\n",
    "\n",
    "def extract_symbols(description: str, available_symbols: list) -> set:\n",
    "    s = set()\n",
    "    for word in description.split():\n",
    "        if word in available_symbols:\n",
    "            s.add(word)\n",
    "    return s "
   ],
   "metadata": {
    "collapsed": false,
    "ExecuteTime": {
     "end_time": "2024-01-23T22:28:45.940055500Z",
     "start_time": "2024-01-23T22:28:45.928555900Z"
    }
   },
   "id": "fd2295e2a2f51c54"
  },
  {
   "cell_type": "code",
   "execution_count": 143,
   "outputs": [],
   "source": [
    "# Get Skill list\n",
    "skills_list = [skill.lower() for skill in skills_frame['SKILL'].tolist()]\n",
    "\n",
    "# Symbols to remove\n",
    "punct = [p for p in punctuation]\n",
    "punct.remove('+')\n",
    "punct.remove('#')\n",
    "punct.remove('.')\n",
    "\n",
    "removal = {p: '' for p in punct}\n",
    "removal['\\n'] = ''\n",
    "removal['/'] = ' '\n",
    "removal['('] = ' '\n",
    "removal[')'] = ' '\n",
    "removal[','] = ' '"
   ],
   "metadata": {
    "collapsed": false,
    "ExecuteTime": {
     "end_time": "2024-01-23T22:29:22.532504600Z",
     "start_time": "2024-01-23T22:29:22.519505200Z"
    }
   },
   "id": "ed0093a32bece28f"
  },
  {
   "cell_type": "code",
   "execution_count": 144,
   "outputs": [
    {
     "name": "stdout",
     "output_type": "stream",
     "text": [
      "There are 43 Offers with no skills available\n"
     ]
    }
   ],
   "source": [
    "# offers_frame['RequiredSkills'] = ''\n",
    "with_no_skills = 0\n",
    "\n",
    "for i, offer_description in enumerate(offers_frame.loc[:, 'Description']):\n",
    "    desc = remove_symbols(offer_description, removal)\n",
    "    offer_skills = extract_symbols(desc, skills_list)\n",
    "    if not offer_skills:\n",
    "        with_no_skills += 1\n",
    "    else:\n",
    "        pass\n",
    "        # offers_frame.loc[i, \"RequiredSkills\"] = ', '.join(offer_skills)\n",
    "\n",
    "print(f'There are {with_no_skills} Offers with no skills available')\n",
    "# offers_frame"
   ],
   "metadata": {
    "collapsed": false,
    "ExecuteTime": {
     "end_time": "2024-01-23T22:29:23.023309800Z",
     "start_time": "2024-01-23T22:29:22.955309Z"
    }
   },
   "id": "21fbae0d15c8a9a6"
  },
  {
   "cell_type": "markdown",
   "source": [
    "### Tipo di Location\n",
    "Per estrarre il tipo di Location dalle informazioni attualmente già presenti nel dataset, \n",
    "saranno interpretate come di tipo Remote tutte le offerte che non presentano una Location."
   ],
   "metadata": {
    "collapsed": false
   },
   "id": "e1718ca2eae20e7a"
  },
  {
   "cell_type": "code",
   "execution_count": 146,
   "outputs": [
    {
     "data": {
      "text/plain": "                                                  Name  \\\n0                                   Software Developer   \n1                            Junior Software Developer   \n2                                   Software Developer   \n3                                   Software Developer   \n4                            Senior Software Developer   \n..                                                 ...   \n163                                          Scientist   \n165                            Data Scientist - Pharma   \n166       DATA SCIENTIST | MACHINE LEARNING | BIG DATA   \n167                             PDS AD&GMP Scientist I   \n169  EU Institutions: AI Machine Learning Data Scie...   \n\n                                           Description  \\\n0    Miniclip is a global leader in digital games w...   \n1    NETtoWORK, azienda italiana nata nel 2016, ope...   \n2    We are looking for talented and passionate peo...   \n3    ARESYS  is a R&D oriented company with nearly ...   \n4    Il/la Candidato/a dovrà padroneggiare: \\n \\n- ...   \n..                                                 ...   \n163  Data:  9 gen 2024Dipartimento:  Pre-ClinicalTe...   \n165  Akkodis è un leader globale nel mercato dell'i...   \n166  Techyon: Information Technology Recruitment Ex...   \n167  Job DescriptionWhen you’re part of Thermo Fish...   \n169  WHO WE ARE \\n \\n-  Etinars  is a values-focuse...   \n\n                          Location LocationType  \n0                  Genova, Liguria       OnSite  \n1                     17100 Savona       OnSite  \n2                      55100 Lucca       OnSite  \n3               Matera, Basilicata       OnSite  \n4                 Catania, Sicilia       OnSite  \n..                             ...          ...  \n163          Parma, Emilia-Romagna       OnSite  \n165  Provincia di Torino, Piemonte       OnSite  \n166          Parma, Emilia-Romagna       OnSite  \n167                    20900 Monza       OnSite  \n169               Ispra, Lombardia       OnSite  \n\n[134 rows x 4 columns]",
      "text/html": "<div>\n<style scoped>\n    .dataframe tbody tr th:only-of-type {\n        vertical-align: middle;\n    }\n\n    .dataframe tbody tr th {\n        vertical-align: top;\n    }\n\n    .dataframe thead th {\n        text-align: right;\n    }\n</style>\n<table border=\"1\" class=\"dataframe\">\n  <thead>\n    <tr style=\"text-align: right;\">\n      <th></th>\n      <th>Name</th>\n      <th>Description</th>\n      <th>Location</th>\n      <th>LocationType</th>\n    </tr>\n  </thead>\n  <tbody>\n    <tr>\n      <th>0</th>\n      <td>Software Developer</td>\n      <td>Miniclip is a global leader in digital games w...</td>\n      <td>Genova, Liguria</td>\n      <td>OnSite</td>\n    </tr>\n    <tr>\n      <th>1</th>\n      <td>Junior Software Developer</td>\n      <td>NETtoWORK, azienda italiana nata nel 2016, ope...</td>\n      <td>17100 Savona</td>\n      <td>OnSite</td>\n    </tr>\n    <tr>\n      <th>2</th>\n      <td>Software Developer</td>\n      <td>We are looking for talented and passionate peo...</td>\n      <td>55100 Lucca</td>\n      <td>OnSite</td>\n    </tr>\n    <tr>\n      <th>3</th>\n      <td>Software Developer</td>\n      <td>ARESYS  is a R&amp;D oriented company with nearly ...</td>\n      <td>Matera, Basilicata</td>\n      <td>OnSite</td>\n    </tr>\n    <tr>\n      <th>4</th>\n      <td>Senior Software Developer</td>\n      <td>Il/la Candidato/a dovrà padroneggiare: \\n \\n- ...</td>\n      <td>Catania, Sicilia</td>\n      <td>OnSite</td>\n    </tr>\n    <tr>\n      <th>...</th>\n      <td>...</td>\n      <td>...</td>\n      <td>...</td>\n      <td>...</td>\n    </tr>\n    <tr>\n      <th>163</th>\n      <td>Scientist</td>\n      <td>Data:  9 gen 2024Dipartimento:  Pre-ClinicalTe...</td>\n      <td>Parma, Emilia-Romagna</td>\n      <td>OnSite</td>\n    </tr>\n    <tr>\n      <th>165</th>\n      <td>Data Scientist - Pharma</td>\n      <td>Akkodis è un leader globale nel mercato dell'i...</td>\n      <td>Provincia di Torino, Piemonte</td>\n      <td>OnSite</td>\n    </tr>\n    <tr>\n      <th>166</th>\n      <td>DATA SCIENTIST | MACHINE LEARNING | BIG DATA</td>\n      <td>Techyon: Information Technology Recruitment Ex...</td>\n      <td>Parma, Emilia-Romagna</td>\n      <td>OnSite</td>\n    </tr>\n    <tr>\n      <th>167</th>\n      <td>PDS AD&amp;GMP Scientist I</td>\n      <td>Job DescriptionWhen you’re part of Thermo Fish...</td>\n      <td>20900 Monza</td>\n      <td>OnSite</td>\n    </tr>\n    <tr>\n      <th>169</th>\n      <td>EU Institutions: AI Machine Learning Data Scie...</td>\n      <td>WHO WE ARE \\n \\n-  Etinars  is a values-focuse...</td>\n      <td>Ispra, Lombardia</td>\n      <td>OnSite</td>\n    </tr>\n  </tbody>\n</table>\n<p>134 rows × 4 columns</p>\n</div>"
     },
     "execution_count": 146,
     "metadata": {},
     "output_type": "execute_result"
    }
   ],
   "source": [
    "LOCATION_TYPES = {\"Remote\" : \"Remote\", \"On Site\" : \"OnSite\"}\n",
    "locations_present = offers_frame[\"Location\"].notna()\n",
    "types = []\n",
    "\n",
    "for is_present in locations_present:\n",
    "    if is_present:\n",
    "        types.append(LOCATION_TYPES[\"On Site\"])\n",
    "    else:\n",
    "        types.append(LOCATION_TYPES[\"Remote\"])\n",
    "\n",
    "offers_frame.loc[:, \"LocationType\"] = types\n",
    "\n",
    "offers_frame"
   ],
   "metadata": {
    "collapsed": false,
    "ExecuteTime": {
     "end_time": "2024-01-23T22:29:35.556802900Z",
     "start_time": "2024-01-23T22:29:35.479803600Z"
    }
   },
   "id": "bc8aa120ff609173"
  },
  {
   "cell_type": "markdown",
   "source": [
    "### Linguaggi Richiesti\n",
    "Per dedurre quali lingue parlate sono richieste da una data offerta di lavoro, viene utilizzato il modulo langdetect per identificare la lingua in cui è stata scritta la descrizione dell'offerta stessa, e successivamente tramite una ricerca all'interno del testo della descrizione per menzioni di ulteriori lingue."
   ],
   "metadata": {
    "collapsed": false
   },
   "id": "24560921d4d4adf6"
  },
  {
   "cell_type": "code",
   "execution_count": 148,
   "outputs": [
    {
     "data": {
      "text/plain": "                                                  Name  \\\n0                                   Software Developer   \n1                            Junior Software Developer   \n2                                   Software Developer   \n3                                   Software Developer   \n4                            Senior Software Developer   \n..                                                 ...   \n163                                          Scientist   \n165                            Data Scientist - Pharma   \n166       DATA SCIENTIST | MACHINE LEARNING | BIG DATA   \n167                             PDS AD&GMP Scientist I   \n169  EU Institutions: AI Machine Learning Data Scie...   \n\n                                           Description  \\\n0    Miniclip is a global leader in digital games w...   \n1    NETtoWORK, azienda italiana nata nel 2016, ope...   \n2    We are looking for talented and passionate peo...   \n3    ARESYS  is a R&D oriented company with nearly ...   \n4    Il/la Candidato/a dovrà padroneggiare: \\n \\n- ...   \n..                                                 ...   \n163  Data:  9 gen 2024Dipartimento:  Pre-ClinicalTe...   \n165  Akkodis è un leader globale nel mercato dell'i...   \n166  Techyon: Information Technology Recruitment Ex...   \n167  Job DescriptionWhen you’re part of Thermo Fish...   \n169  WHO WE ARE \\n \\n-  Etinars  is a values-focuse...   \n\n                          Location LocationType           Languages  \n0                  Genova, Liguria       OnSite  [inglese, inglese]  \n1                     17100 Savona       OnSite          [italiano]  \n2                      55100 Lucca       OnSite  [inglese, inglese]  \n3               Matera, Basilicata       OnSite           [inglese]  \n4                 Catania, Sicilia       OnSite          [italiano]  \n..                             ...          ...                 ...  \n163          Parma, Emilia-Romagna       OnSite           [inglese]  \n165  Provincia di Torino, Piemonte       OnSite          [italiano]  \n166          Parma, Emilia-Romagna       OnSite          [italiano]  \n167                    20900 Monza       OnSite           [inglese]  \n169               Ispra, Lombardia       OnSite  [inglese, inglese]  \n\n[134 rows x 5 columns]",
      "text/html": "<div>\n<style scoped>\n    .dataframe tbody tr th:only-of-type {\n        vertical-align: middle;\n    }\n\n    .dataframe tbody tr th {\n        vertical-align: top;\n    }\n\n    .dataframe thead th {\n        text-align: right;\n    }\n</style>\n<table border=\"1\" class=\"dataframe\">\n  <thead>\n    <tr style=\"text-align: right;\">\n      <th></th>\n      <th>Name</th>\n      <th>Description</th>\n      <th>Location</th>\n      <th>LocationType</th>\n      <th>Languages</th>\n    </tr>\n  </thead>\n  <tbody>\n    <tr>\n      <th>0</th>\n      <td>Software Developer</td>\n      <td>Miniclip is a global leader in digital games w...</td>\n      <td>Genova, Liguria</td>\n      <td>OnSite</td>\n      <td>[inglese, inglese]</td>\n    </tr>\n    <tr>\n      <th>1</th>\n      <td>Junior Software Developer</td>\n      <td>NETtoWORK, azienda italiana nata nel 2016, ope...</td>\n      <td>17100 Savona</td>\n      <td>OnSite</td>\n      <td>[italiano]</td>\n    </tr>\n    <tr>\n      <th>2</th>\n      <td>Software Developer</td>\n      <td>We are looking for talented and passionate peo...</td>\n      <td>55100 Lucca</td>\n      <td>OnSite</td>\n      <td>[inglese, inglese]</td>\n    </tr>\n    <tr>\n      <th>3</th>\n      <td>Software Developer</td>\n      <td>ARESYS  is a R&amp;D oriented company with nearly ...</td>\n      <td>Matera, Basilicata</td>\n      <td>OnSite</td>\n      <td>[inglese]</td>\n    </tr>\n    <tr>\n      <th>4</th>\n      <td>Senior Software Developer</td>\n      <td>Il/la Candidato/a dovrà padroneggiare: \\n \\n- ...</td>\n      <td>Catania, Sicilia</td>\n      <td>OnSite</td>\n      <td>[italiano]</td>\n    </tr>\n    <tr>\n      <th>...</th>\n      <td>...</td>\n      <td>...</td>\n      <td>...</td>\n      <td>...</td>\n      <td>...</td>\n    </tr>\n    <tr>\n      <th>163</th>\n      <td>Scientist</td>\n      <td>Data:  9 gen 2024Dipartimento:  Pre-ClinicalTe...</td>\n      <td>Parma, Emilia-Romagna</td>\n      <td>OnSite</td>\n      <td>[inglese]</td>\n    </tr>\n    <tr>\n      <th>165</th>\n      <td>Data Scientist - Pharma</td>\n      <td>Akkodis è un leader globale nel mercato dell'i...</td>\n      <td>Provincia di Torino, Piemonte</td>\n      <td>OnSite</td>\n      <td>[italiano]</td>\n    </tr>\n    <tr>\n      <th>166</th>\n      <td>DATA SCIENTIST | MACHINE LEARNING | BIG DATA</td>\n      <td>Techyon: Information Technology Recruitment Ex...</td>\n      <td>Parma, Emilia-Romagna</td>\n      <td>OnSite</td>\n      <td>[italiano]</td>\n    </tr>\n    <tr>\n      <th>167</th>\n      <td>PDS AD&amp;GMP Scientist I</td>\n      <td>Job DescriptionWhen you’re part of Thermo Fish...</td>\n      <td>20900 Monza</td>\n      <td>OnSite</td>\n      <td>[inglese]</td>\n    </tr>\n    <tr>\n      <th>169</th>\n      <td>EU Institutions: AI Machine Learning Data Scie...</td>\n      <td>WHO WE ARE \\n \\n-  Etinars  is a values-focuse...</td>\n      <td>Ispra, Lombardia</td>\n      <td>OnSite</td>\n      <td>[inglese, inglese]</td>\n    </tr>\n  </tbody>\n</table>\n<p>134 rows × 5 columns</p>\n</div>"
     },
     "execution_count": 148,
     "metadata": {},
     "output_type": "execute_result"
    }
   ],
   "source": [
    "from langdetect import detect\n",
    "offers_langs = []\n",
    "remove_map = {p:'' for p in punctuation}\n",
    "supported_langs = ['italiano', 'inglese', 'italian', 'english']\n",
    "eqs = [('italiano', 'italian'), ('inglese', 'english')]\n",
    "\n",
    "for desc in offers_frame.Description:\n",
    "    lang = detect(desc)\n",
    "    if lang == 'it':\n",
    "        lang = 'italiano'\n",
    "    elif lang == 'en':\n",
    "        lang = 'inglese'\n",
    "    \n",
    "    desc = remove_symbols(desc, remove_map)\n",
    "    found = extract_symbols(desc, supported_langs)\n",
    "    found.add(lang)\n",
    "    found = list(found)\n",
    "    \n",
    "    for i, l in enumerate(found):\n",
    "        for e in eqs:\n",
    "            if l in e:\n",
    "                found[i] = e[0]\n",
    "                break\n",
    "    \n",
    "    offers_langs.append(found)\n",
    "    \n",
    "offers_frame.loc[:, \"Languages\"] = offers_langs\n",
    "\n",
    "offers_frame"
   ],
   "metadata": {
    "collapsed": false,
    "ExecuteTime": {
     "end_time": "2024-01-23T22:29:39.703804100Z",
     "start_time": "2024-01-23T22:29:38.204807Z"
    }
   },
   "id": "2981ee0458924810"
  },
  {
   "cell_type": "code",
   "execution_count": null,
   "outputs": [],
   "source": [],
   "metadata": {
    "collapsed": false,
    "ExecuteTime": {
     "end_time": "2024-01-23T22:27:28.488917600Z",
     "start_time": "2024-01-23T22:27:28.481414200Z"
    }
   },
   "id": "b4aa093a47f8b579"
  }
 ],
 "metadata": {
  "kernelspec": {
   "display_name": "Python 3",
   "language": "python",
   "name": "python3"
  },
  "language_info": {
   "codemirror_mode": {
    "name": "ipython",
    "version": 2
   },
   "file_extension": ".py",
   "mimetype": "text/x-python",
   "name": "python",
   "nbconvert_exporter": "python",
   "pygments_lexer": "ipython2",
   "version": "2.7.6"
  }
 },
 "nbformat": 4,
 "nbformat_minor": 5
}
