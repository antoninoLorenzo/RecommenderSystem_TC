{
 "cells": [
  {
   "cell_type": "code",
   "execution_count": 1,
   "id": "initial_id",
   "metadata": {
    "collapsed": true,
    "ExecuteTime": {
     "end_time": "2024-01-11T15:15:47.285505400Z",
     "start_time": "2024-01-11T15:15:45.066007Z"
    }
   },
   "outputs": [],
   "source": [
    "import sqlite3\n",
    "import pandas as pd\n",
    "\n",
    "offers_connection = sqlite3.connect('../datasets/offers_dataset.db')\n",
    "skills_connection = sqlite3.connect('../datasets/skills_dataset.db')"
   ]
  },
  {
   "cell_type": "code",
   "execution_count": 2,
   "outputs": [],
   "source": [
    "offers_frame = pd.read_sql_query('''SELECT * FROM offers''', offers_connection)\n",
    "offers_frame.set_index('ID', inplace=True)\n",
    "offers_connection.close()\n",
    "\n",
    "skills_frame = pd.read_sql_query('''SELECT * FROM skills''', skills_connection)\n",
    "skills_frame.set_index('ID', inplace=True)\n",
    "skills_connection.close()\n"
   ],
   "metadata": {
    "collapsed": false,
    "ExecuteTime": {
     "end_time": "2024-01-11T15:15:47.321506100Z",
     "start_time": "2024-01-11T15:15:47.287504900Z"
    }
   },
   "id": "2d019a7a9033f77c"
  },
  {
   "cell_type": "code",
   "execution_count": 3,
   "outputs": [
    {
     "data": {
      "text/plain": "                                                 Name  \\\nID                                                      \n1          Software Developer - AI Trainer (Contract)   \n2          Software Developer Java, C++ o C# a Padova   \n3                      Ingegnere Software Applicativo   \n4   Deloitte NextHub Bari – Software Developer - J...   \n5   Remote Senior Wordpress Developer - Fluent in ...   \n6   Remote Senior PowerBi Developer - Fluent in En...   \n7                             Sviluppatore Mobile iOS   \n8                                     DEVOPS Engineer   \n9   Remote Senior Magento II Developer - Fluent in...   \n10  Junior Software Developer/ Sviluppatore Softwa...   \n\n                                          Description Language LocationType  \\\nID                                                                            \n1   We are looking for proficientprogrammersto joi...  Italian       Remote   \n2   Brain Tree Srl, azienda di consulenza informat...  Italian      On-Site   \n3   Avio è un'azienda leader nella propulsione spa...  Italian      On-Site   \n4   Deloitte NextHub Bari – Software Developer - J...  Italian      On-Site   \n5   The Role:We are looking for aSeniorWordPress d...  Italian       Remote   \n6   The Role:We are looking for aSeniorMicrosoft P...  Italian       Remote   \n7   Cosmobile Srl è una software house con sedi a ...  Italian      On-Site   \n8   Si richiede la capacità di sviluppo siti e sol...  Italian      On-Site   \n9   The Role:We are looking for aSeniorMagento II ...  Italian       Remote   \n10  La MPS ENGINEERING, solida azienda in forte es...  Italian      On-Site   \n\n                 Location  \nID                         \n1                    None  \n2          Padova, Veneto  \n3             00034 Lazio  \n4            Bari, Puglia  \n5                    None  \n6                    None  \n7   Forlì, Emilia-Romagna  \n8            20144 Milano  \n9                    None  \n10          84131 Salerno  ",
      "text/html": "<div>\n<style scoped>\n    .dataframe tbody tr th:only-of-type {\n        vertical-align: middle;\n    }\n\n    .dataframe tbody tr th {\n        vertical-align: top;\n    }\n\n    .dataframe thead th {\n        text-align: right;\n    }\n</style>\n<table border=\"1\" class=\"dataframe\">\n  <thead>\n    <tr style=\"text-align: right;\">\n      <th></th>\n      <th>Name</th>\n      <th>Description</th>\n      <th>Language</th>\n      <th>LocationType</th>\n      <th>Location</th>\n    </tr>\n    <tr>\n      <th>ID</th>\n      <th></th>\n      <th></th>\n      <th></th>\n      <th></th>\n      <th></th>\n    </tr>\n  </thead>\n  <tbody>\n    <tr>\n      <th>1</th>\n      <td>Software Developer - AI Trainer (Contract)</td>\n      <td>We are looking for proficientprogrammersto joi...</td>\n      <td>Italian</td>\n      <td>Remote</td>\n      <td>None</td>\n    </tr>\n    <tr>\n      <th>2</th>\n      <td>Software Developer Java, C++ o C# a Padova</td>\n      <td>Brain Tree Srl, azienda di consulenza informat...</td>\n      <td>Italian</td>\n      <td>On-Site</td>\n      <td>Padova, Veneto</td>\n    </tr>\n    <tr>\n      <th>3</th>\n      <td>Ingegnere Software Applicativo</td>\n      <td>Avio è un'azienda leader nella propulsione spa...</td>\n      <td>Italian</td>\n      <td>On-Site</td>\n      <td>00034 Lazio</td>\n    </tr>\n    <tr>\n      <th>4</th>\n      <td>Deloitte NextHub Bari – Software Developer - J...</td>\n      <td>Deloitte NextHub Bari – Software Developer - J...</td>\n      <td>Italian</td>\n      <td>On-Site</td>\n      <td>Bari, Puglia</td>\n    </tr>\n    <tr>\n      <th>5</th>\n      <td>Remote Senior Wordpress Developer - Fluent in ...</td>\n      <td>The Role:We are looking for aSeniorWordPress d...</td>\n      <td>Italian</td>\n      <td>Remote</td>\n      <td>None</td>\n    </tr>\n    <tr>\n      <th>6</th>\n      <td>Remote Senior PowerBi Developer - Fluent in En...</td>\n      <td>The Role:We are looking for aSeniorMicrosoft P...</td>\n      <td>Italian</td>\n      <td>Remote</td>\n      <td>None</td>\n    </tr>\n    <tr>\n      <th>7</th>\n      <td>Sviluppatore Mobile iOS</td>\n      <td>Cosmobile Srl è una software house con sedi a ...</td>\n      <td>Italian</td>\n      <td>On-Site</td>\n      <td>Forlì, Emilia-Romagna</td>\n    </tr>\n    <tr>\n      <th>8</th>\n      <td>DEVOPS Engineer</td>\n      <td>Si richiede la capacità di sviluppo siti e sol...</td>\n      <td>Italian</td>\n      <td>On-Site</td>\n      <td>20144 Milano</td>\n    </tr>\n    <tr>\n      <th>9</th>\n      <td>Remote Senior Magento II Developer - Fluent in...</td>\n      <td>The Role:We are looking for aSeniorMagento II ...</td>\n      <td>Italian</td>\n      <td>Remote</td>\n      <td>None</td>\n    </tr>\n    <tr>\n      <th>10</th>\n      <td>Junior Software Developer/ Sviluppatore Softwa...</td>\n      <td>La MPS ENGINEERING, solida azienda in forte es...</td>\n      <td>Italian</td>\n      <td>On-Site</td>\n      <td>84131 Salerno</td>\n    </tr>\n  </tbody>\n</table>\n</div>"
     },
     "execution_count": 3,
     "metadata": {},
     "output_type": "execute_result"
    }
   ],
   "source": [
    "offers_frame.head(10)"
   ],
   "metadata": {
    "collapsed": false,
    "ExecuteTime": {
     "end_time": "2024-01-11T15:15:47.339513600Z",
     "start_time": "2024-01-11T15:15:47.315009600Z"
    }
   },
   "id": "e02b93c21a932da7"
  },
  {
   "cell_type": "code",
   "execution_count": 4,
   "outputs": [
    {
     "data": {
      "text/plain": "                                                 Skill\nID                                                    \n1                                           moonscript\n2                                literate coffeescript\n3                                        Elasticsearch\n6                                                 dart\n10                                              MATLAB\n..                                                 ...\n145                                    Microsoft Visio\n147                                               flex\n148  Customer information control system CICS Micro...\n149                                              React\n150                                             python\n\n[100 rows x 1 columns]",
      "text/html": "<div>\n<style scoped>\n    .dataframe tbody tr th:only-of-type {\n        vertical-align: middle;\n    }\n\n    .dataframe tbody tr th {\n        vertical-align: top;\n    }\n\n    .dataframe thead th {\n        text-align: right;\n    }\n</style>\n<table border=\"1\" class=\"dataframe\">\n  <thead>\n    <tr style=\"text-align: right;\">\n      <th></th>\n      <th>Skill</th>\n    </tr>\n    <tr>\n      <th>ID</th>\n      <th></th>\n    </tr>\n  </thead>\n  <tbody>\n    <tr>\n      <th>1</th>\n      <td>moonscript</td>\n    </tr>\n    <tr>\n      <th>2</th>\n      <td>literate coffeescript</td>\n    </tr>\n    <tr>\n      <th>3</th>\n      <td>Elasticsearch</td>\n    </tr>\n    <tr>\n      <th>6</th>\n      <td>dart</td>\n    </tr>\n    <tr>\n      <th>10</th>\n      <td>MATLAB</td>\n    </tr>\n    <tr>\n      <th>...</th>\n      <td>...</td>\n    </tr>\n    <tr>\n      <th>145</th>\n      <td>Microsoft Visio</td>\n    </tr>\n    <tr>\n      <th>147</th>\n      <td>flex</td>\n    </tr>\n    <tr>\n      <th>148</th>\n      <td>Customer information control system CICS Micro...</td>\n    </tr>\n    <tr>\n      <th>149</th>\n      <td>React</td>\n    </tr>\n    <tr>\n      <th>150</th>\n      <td>python</td>\n    </tr>\n  </tbody>\n</table>\n<p>100 rows × 1 columns</p>\n</div>"
     },
     "execution_count": 4,
     "metadata": {},
     "output_type": "execute_result"
    }
   ],
   "source": [
    "skills_frame.head(10)"
   ],
   "metadata": {
    "collapsed": false,
    "ExecuteTime": {
     "end_time": "2024-01-11T15:15:47.367005100Z",
     "start_time": "2024-01-11T15:15:47.334507500Z"
    }
   },
   "id": "7a7166ba1fee42"
  },
  {
   "cell_type": "markdown",
   "source": [
    "### Required Skills Extraction\n",
    "Il sistema richiederà agli utenti di inserire le skill manualmente, ma il dataset delle offerte non ne è fornito, quindi qui di seguito verrà implementato il codice per estrarre le skill dalla descrizione; inoltre lo stesso codice può essere utilizzato per suggerire ai datori di lavoro delle skill da inserire durante la creazione di una offerta."
   ],
   "metadata": {
    "collapsed": false
   },
   "id": "28d442002d1e7b2e"
  },
  {
   "cell_type": "code",
   "execution_count": 5,
   "outputs": [
    {
     "name": "stdout",
     "output_type": "stream",
     "text": [
      "<class 'pandas.core.frame.DataFrame'>\n",
      "Index: 696 entries, 1 to 696\n",
      "Data columns (total 5 columns):\n",
      " #   Column        Non-Null Count  Dtype \n",
      "---  ------        --------------  ----- \n",
      " 0   Name          696 non-null    object\n",
      " 1   Description   696 non-null    object\n",
      " 2   Language      696 non-null    object\n",
      " 3   LocationType  696 non-null    object\n",
      " 4   Location      642 non-null    object\n",
      "dtypes: object(5)\n",
      "memory usage: 32.6+ KB\n"
     ]
    }
   ],
   "source": [
    "offers_frame.info()"
   ],
   "metadata": {
    "collapsed": false,
    "ExecuteTime": {
     "end_time": "2024-01-11T15:18:28.432483Z",
     "start_time": "2024-01-11T15:18:28.340984300Z"
    }
   },
   "id": "37c4f2b82ed536ea"
  },
  {
   "cell_type": "code",
   "execution_count": null,
   "outputs": [],
   "source": [],
   "metadata": {
    "collapsed": false
   },
   "id": "5ec6921c6421fb3c"
  }
 ],
 "metadata": {
  "kernelspec": {
   "display_name": "Python 3",
   "language": "python",
   "name": "python3"
  },
  "language_info": {
   "codemirror_mode": {
    "name": "ipython",
    "version": 2
   },
   "file_extension": ".py",
   "mimetype": "text/x-python",
   "name": "python",
   "nbconvert_exporter": "python",
   "pygments_lexer": "ipython2",
   "version": "2.7.6"
  }
 },
 "nbformat": 4,
 "nbformat_minor": 5
}
