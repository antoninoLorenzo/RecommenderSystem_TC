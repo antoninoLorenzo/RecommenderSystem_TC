{
 "cells": [
  {
   "cell_type": "code",
   "execution_count": 1,
   "id": "initial_id",
   "metadata": {
    "collapsed": true,
    "ExecuteTime": {
     "end_time": "2024-01-17T17:57:08.987036Z",
     "start_time": "2024-01-17T17:57:08.964037500Z"
    }
   },
   "outputs": [],
   "source": [
    "import sqlite3\n",
    "import numpy as np\n",
    "import pandas as pd\n",
    "import matplotlib.pyplot as plt\n",
    "%matplotlib inline\n",
    "import seaborn as sns\n",
    "\n",
    "offers_connection = sqlite3.connect('../datasets/offers_dataset.db')\n",
    "skills_connection = sqlite3.connect('../datasets/skills_dataset.db')"
   ]
  },
  {
   "cell_type": "code",
   "execution_count": 2,
   "outputs": [],
   "source": [
    "offers_frame = pd.read_sql_query('''SELECT * FROM offers''', offers_connection)\n",
    "offers_frame.set_index('ID', inplace=True)\n",
    "offers_connection.close()\n",
    "\n",
    "skills_frame = pd.read_sql_query('''SELECT * FROM skills''', skills_connection)\n",
    "skills_frame.set_index('ID', inplace=True)\n",
    "skills_connection.close()\n"
   ],
   "metadata": {
    "collapsed": false,
    "ExecuteTime": {
     "end_time": "2024-01-17T17:57:09.037535300Z",
     "start_time": "2024-01-17T17:57:08.990538400Z"
    }
   },
   "id": "2d019a7a9033f77c"
  },
  {
   "cell_type": "code",
   "execution_count": 3,
   "outputs": [
    {
     "data": {
      "text/plain": "                                                 Name  \\\nID                                                      \n1          Software Developer - AI Trainer (Contract)   \n2          Software Developer Java, C++ o C# a Padova   \n3                      Ingegnere Software Applicativo   \n4   Deloitte NextHub Bari – Software Developer - J...   \n5   Remote Senior Wordpress Developer - Fluent in ...   \n6   Remote Senior PowerBi Developer - Fluent in En...   \n7                             Sviluppatore Mobile iOS   \n8                                     DEVOPS Engineer   \n9   Remote Senior Magento II Developer - Fluent in...   \n10  Junior Software Developer/ Sviluppatore Softwa...   \n\n                                          Description Language LocationType  \\\nID                                                                            \n1   We are looking for proficientprogrammersto joi...  Italian       Remote   \n2   Brain Tree Srl, azienda di consulenza informat...  Italian      On-Site   \n3   Avio è un'azienda leader nella propulsione spa...  Italian      On-Site   \n4   Deloitte NextHub Bari – Software Developer - J...  Italian      On-Site   \n5   The Role:We are looking for aSeniorWordPress d...  Italian       Remote   \n6   The Role:We are looking for aSeniorMicrosoft P...  Italian       Remote   \n7   Cosmobile Srl è una software house con sedi a ...  Italian      On-Site   \n8   Si richiede la capacità di sviluppo siti e sol...  Italian      On-Site   \n9   The Role:We are looking for aSeniorMagento II ...  Italian       Remote   \n10  La MPS ENGINEERING, solida azienda in forte es...  Italian      On-Site   \n\n                 Location  \nID                         \n1                    None  \n2          Padova, Veneto  \n3             00034 Lazio  \n4            Bari, Puglia  \n5                    None  \n6                    None  \n7   Forlì, Emilia-Romagna  \n8            20144 Milano  \n9                    None  \n10          84131 Salerno  ",
      "text/html": "<div>\n<style scoped>\n    .dataframe tbody tr th:only-of-type {\n        vertical-align: middle;\n    }\n\n    .dataframe tbody tr th {\n        vertical-align: top;\n    }\n\n    .dataframe thead th {\n        text-align: right;\n    }\n</style>\n<table border=\"1\" class=\"dataframe\">\n  <thead>\n    <tr style=\"text-align: right;\">\n      <th></th>\n      <th>Name</th>\n      <th>Description</th>\n      <th>Language</th>\n      <th>LocationType</th>\n      <th>Location</th>\n    </tr>\n    <tr>\n      <th>ID</th>\n      <th></th>\n      <th></th>\n      <th></th>\n      <th></th>\n      <th></th>\n    </tr>\n  </thead>\n  <tbody>\n    <tr>\n      <th>1</th>\n      <td>Software Developer - AI Trainer (Contract)</td>\n      <td>We are looking for proficientprogrammersto joi...</td>\n      <td>Italian</td>\n      <td>Remote</td>\n      <td>None</td>\n    </tr>\n    <tr>\n      <th>2</th>\n      <td>Software Developer Java, C++ o C# a Padova</td>\n      <td>Brain Tree Srl, azienda di consulenza informat...</td>\n      <td>Italian</td>\n      <td>On-Site</td>\n      <td>Padova, Veneto</td>\n    </tr>\n    <tr>\n      <th>3</th>\n      <td>Ingegnere Software Applicativo</td>\n      <td>Avio è un'azienda leader nella propulsione spa...</td>\n      <td>Italian</td>\n      <td>On-Site</td>\n      <td>00034 Lazio</td>\n    </tr>\n    <tr>\n      <th>4</th>\n      <td>Deloitte NextHub Bari – Software Developer - J...</td>\n      <td>Deloitte NextHub Bari – Software Developer - J...</td>\n      <td>Italian</td>\n      <td>On-Site</td>\n      <td>Bari, Puglia</td>\n    </tr>\n    <tr>\n      <th>5</th>\n      <td>Remote Senior Wordpress Developer - Fluent in ...</td>\n      <td>The Role:We are looking for aSeniorWordPress d...</td>\n      <td>Italian</td>\n      <td>Remote</td>\n      <td>None</td>\n    </tr>\n    <tr>\n      <th>6</th>\n      <td>Remote Senior PowerBi Developer - Fluent in En...</td>\n      <td>The Role:We are looking for aSeniorMicrosoft P...</td>\n      <td>Italian</td>\n      <td>Remote</td>\n      <td>None</td>\n    </tr>\n    <tr>\n      <th>7</th>\n      <td>Sviluppatore Mobile iOS</td>\n      <td>Cosmobile Srl è una software house con sedi a ...</td>\n      <td>Italian</td>\n      <td>On-Site</td>\n      <td>Forlì, Emilia-Romagna</td>\n    </tr>\n    <tr>\n      <th>8</th>\n      <td>DEVOPS Engineer</td>\n      <td>Si richiede la capacità di sviluppo siti e sol...</td>\n      <td>Italian</td>\n      <td>On-Site</td>\n      <td>20144 Milano</td>\n    </tr>\n    <tr>\n      <th>9</th>\n      <td>Remote Senior Magento II Developer - Fluent in...</td>\n      <td>The Role:We are looking for aSeniorMagento II ...</td>\n      <td>Italian</td>\n      <td>Remote</td>\n      <td>None</td>\n    </tr>\n    <tr>\n      <th>10</th>\n      <td>Junior Software Developer/ Sviluppatore Softwa...</td>\n      <td>La MPS ENGINEERING, solida azienda in forte es...</td>\n      <td>Italian</td>\n      <td>On-Site</td>\n      <td>84131 Salerno</td>\n    </tr>\n  </tbody>\n</table>\n</div>"
     },
     "execution_count": 3,
     "metadata": {},
     "output_type": "execute_result"
    }
   ],
   "source": [
    "offers_frame.head(10)"
   ],
   "metadata": {
    "collapsed": false,
    "ExecuteTime": {
     "end_time": "2024-01-17T17:57:09.065535500Z",
     "start_time": "2024-01-17T17:57:09.028035900Z"
    }
   },
   "id": "e02b93c21a932da7"
  },
  {
   "cell_type": "code",
   "execution_count": 4,
   "outputs": [
    {
     "data": {
      "text/plain": "                    Skill\nID                       \n1              moonscript\n2   literate coffeescript\n3           Elasticsearch\n6                    dart\n10                 MATLAB\n16                  Swift\n17                   html\n18    SAP Crystal Reports\n20                    sql\n21     Microsoft Dynamics",
      "text/html": "<div>\n<style scoped>\n    .dataframe tbody tr th:only-of-type {\n        vertical-align: middle;\n    }\n\n    .dataframe tbody tr th {\n        vertical-align: top;\n    }\n\n    .dataframe thead th {\n        text-align: right;\n    }\n</style>\n<table border=\"1\" class=\"dataframe\">\n  <thead>\n    <tr style=\"text-align: right;\">\n      <th></th>\n      <th>Skill</th>\n    </tr>\n    <tr>\n      <th>ID</th>\n      <th></th>\n    </tr>\n  </thead>\n  <tbody>\n    <tr>\n      <th>1</th>\n      <td>moonscript</td>\n    </tr>\n    <tr>\n      <th>2</th>\n      <td>literate coffeescript</td>\n    </tr>\n    <tr>\n      <th>3</th>\n      <td>Elasticsearch</td>\n    </tr>\n    <tr>\n      <th>6</th>\n      <td>dart</td>\n    </tr>\n    <tr>\n      <th>10</th>\n      <td>MATLAB</td>\n    </tr>\n    <tr>\n      <th>16</th>\n      <td>Swift</td>\n    </tr>\n    <tr>\n      <th>17</th>\n      <td>html</td>\n    </tr>\n    <tr>\n      <th>18</th>\n      <td>SAP Crystal Reports</td>\n    </tr>\n    <tr>\n      <th>20</th>\n      <td>sql</td>\n    </tr>\n    <tr>\n      <th>21</th>\n      <td>Microsoft Dynamics</td>\n    </tr>\n  </tbody>\n</table>\n</div>"
     },
     "execution_count": 4,
     "metadata": {},
     "output_type": "execute_result"
    }
   ],
   "source": [
    "skills_frame.head(10)"
   ],
   "metadata": {
    "collapsed": false,
    "ExecuteTime": {
     "end_time": "2024-01-17T17:57:09.109036800Z",
     "start_time": "2024-01-17T17:57:09.054037700Z"
    }
   },
   "id": "7a7166ba1fee42"
  },
  {
   "cell_type": "markdown",
   "source": [
    "## Data Exploration\n",
    "Come prima cosa esaminiamo il nostro dataset di offerte."
   ],
   "metadata": {
    "collapsed": false
   },
   "id": "b148d9cefa03d4c8"
  },
  {
   "cell_type": "markdown",
   "source": [
    "### LocationType Distribution"
   ],
   "metadata": {
    "collapsed": false
   },
   "id": "698f773891b01fc6"
  },
  {
   "cell_type": "code",
   "execution_count": 5,
   "outputs": [
    {
     "data": {
      "text/plain": "<Figure size 500x500 with 1 Axes>",
      "image/png": "[encoded data removed]"
     },
     "metadata": {},
     "output_type": "display_data"
    }
   ],
   "source": [
    "location_type_counts = offers_frame.value_counts('LocationType')\n",
    "location_type_counts = location_type_counts.to_dict()\n",
    "\n",
    "sns.set_style('darkgrid')\n",
    "plt.figure(figsize=(5,5))\n",
    "plt.pie(location_type_counts.values(), labels=location_type_counts.keys(), autopct='%1.1f%%')\n",
    "plt.title('LocationType Distribution')\n",
    "plt.show()"
   ],
   "metadata": {
    "collapsed": false,
    "ExecuteTime": {
     "end_time": "2024-01-17T17:57:09.469037600Z",
     "start_time": "2024-01-17T17:57:09.069536900Z"
    }
   },
   "id": "176fa2900e24b061"
  },
  {
   "cell_type": "markdown",
   "source": [
    "### Location Distribution\n",
    "Provando a effettuare il conteggio delle Location notiamo che:\n",
    "- Righe None -> NaN\n",
    "- Le strighe devono essere omologate"
   ],
   "metadata": {
    "collapsed": false
   },
   "id": "51a51e3a33fec796"
  },
  {
   "cell_type": "code",
   "execution_count": 6,
   "outputs": [
    {
     "name": "stdout",
     "output_type": "stream",
     "text": [
      "Milano: Location\n",
      "Milano, Lombardia    34\n",
      "20100 Milano          2\n",
      "20149 Milano          2\n",
      "20121 Milano          1\n",
      "20124 Milano          1\n",
      "20142 Milano          1\n",
      "20144 Milano          1\n",
      "20145 Milano          1\n",
      "Name: count, dtype: int64\n",
      "Milano: Location\n",
      "London            86\n",
      "London E14         4\n",
      "London EC4N        2\n",
      "London W4          2\n",
      "London TW11        1\n",
      "West London        1\n",
      "London SE1         1\n",
      "London SW7         1\n",
      "London NW9         1\n",
      "London EC3N        1\n",
      "Greater London     1\n",
      "Name: count, dtype: int64\n"
     ]
    }
   ],
   "source": [
    "location_count = offers_frame.value_counts('Location')\n",
    "\n",
    "query_milano = location_count.index.str.contains('Milano', case=False, na=False)\n",
    "print(f'Milano: {location_count[query_milano]}')\n",
    "\n",
    "query_london = location_count.index.str.contains('London', case=False, na=False)\n",
    "print(f'Milano: {location_count[query_london]}')\n"
   ],
   "metadata": {
    "collapsed": false,
    "ExecuteTime": {
     "end_time": "2024-01-17T17:57:09.470534800Z",
     "start_time": "2024-01-17T17:57:09.267539500Z"
    }
   },
   "id": "7f8359046a7a70cd"
  },
  {
   "cell_type": "code",
   "execution_count": 7,
   "outputs": [
    {
     "data": {
      "text/plain": "['Padova, Veneto',\n '00034 Lazio',\n 'Bari, Puglia',\n 'Forlì, Emilia-Romagna',\n '20144 Milano',\n '84131 Salerno',\n 'Pisa, Toscana',\n 'Termoli, Molise',\n 'Bologna, Emilia-Romagna',\n '00165 Roma',\n 'Bolzano - Bozen, Trentino-Alto Adige',\n '70100 Bari',\n 'Macerata, Marche',\n 'Roma, Lazio',\n '48018 Faenza',\n 'Taranto, Puglia',\n 'Milano, Lombardia',\n '10152 Torino',\n 'Basovizza, Friuli-Venezia Giulia',\n 'Verona, Veneto',\n 'Scandicci, Toscana',\n '20149 Milano',\n 'Torino, Piemonte',\n 'Pescara, Abruzzo',\n '66041 Atessa',\n '47122 Forlì',\n 'Provincia di Torino, Piemonte',\n 'Borgo Panigale, Emilia-Romagna',\n 'Carugate, Lombardia',\n '81030 Falciano del Massico',\n '38123 Trento',\n 'Italia',\n '00173 Roma',\n 'Agrate Brianza, Lombardia',\n 'Modena, Emilia-Romagna',\n '41123 Modena',\n '34170 Gorizia',\n 'Provincia di Roma, Lazio',\n '84091 Battipaglia',\n 'Nola, Campania',\n '07100 Sassari',\n '20100 Milano',\n 'Lecce, Puglia',\n '16100 Genova',\n '10121 Torino',\n 'Belluno, Veneto',\n 'Vicenza, Veneto',\n 'Provincia di Padova, Veneto',\n 'Spoleto, Umbria',\n '80146 Napoli',\n '31020 Villorba',\n '37121 Verona',\n 'Palermo, Sicilia',\n 'Napoli, Campania',\n '00147 Roma',\n '00137 Roma',\n '31020 Chiarano',\n '80142 Napoli',\n 'Misano Adriatico, Emilia-Romagna',\n '47814 Bellaria-Igea Marina',\n 'Perugia, Umbria',\n '40033 Casalecchio di Reno',\n '25121 Brescia',\n 'Provincia di Terni, Umbria',\n 'Lucca, Toscana',\n 'Pesaro, Marche',\n 'Arè, Piemonte',\n '00149 Roma',\n '80121 Napoli',\n '55049 Viareggio',\n 'Provincia di Forlì-Cesena, Emilia-Romagna',\n 'Provincia di Treviso, Veneto',\n 'Rovigo, Veneto',\n 'Cuneo, Piemonte',\n 'Fossacesia, Abruzzo',\n '44124 Ferrara',\n '10040 Rivalta di Torino',\n 'Nardò, Puglia',\n '00185 Roma',\n '59100 Prato',\n 'Provincia di Bologna, Emilia-Romagna',\n 'Benevento, Campania',\n \"Anzola dell'Emilia, Emilia-Romagna\",\n '04011 Roma',\n 'Biella, Piemonte',\n 'Genova, Liguria',\n '06134 Perugia',\n '00144 Roma',\n 'Fusaro, Campania',\n 'Foggia, Puglia',\n 'Solofra, Campania',\n '32100 Belluno',\n '26838 Tavazzano',\n '95131 Catania',\n 'Formia, Lazio',\n 'Battipaglia, Campania',\n 'Avellino, Campania',\n '80143 Napoli',\n 'Provincia di Genova, Liguria',\n 'Pero, Lombardia',\n 'Provincia di Novara, Piemonte',\n '20089 Rozzano',\n 'Trieste, Friuli-Venezia Giulia',\n 'Massarosa, Toscana',\n 'Limena, Veneto',\n 'Fabriano, Marche',\n 'Cesena, Emilia-Romagna',\n 'Ancona, Marche',\n '34133 Trieste',\n '42100 Reggio Emilia',\n '37045 Legnago',\n '70014 Conversano',\n '06128 Perugia',\n '73010 Veglie',\n 'Provincia di Latina, Lazio',\n 'Matera, Basilicata',\n '20124 Milano',\n '10015 Ivrea',\n '28100 Novara',\n 'Pavia, Lombardia',\n '54011 Aulla',\n '40133 Bologna',\n 'Treviso, Veneto',\n 'Varese, Lombardia',\n '06055 Marsciano',\n '80035 Nola',\n '17027 Pietra Ligure',\n '36015 Schio',\n 'Reggio Emilia, Emilia-Romagna',\n '95121 Catania',\n 'Spilimbergo, Friuli-Venezia Giulia',\n 'Savona, Liguria',\n '00178 Roma',\n '38122 Trento',\n '70056 Molfetta',\n 'Piazza, Trentino-Alto Adige',\n 'Villanova Mondovì, Piemonte',\n 'Ascea, Campania',\n 'Cascina, Toscana',\n 'Scurzolengo, Piemonte',\n '20054 Segrate',\n '42025 Cavriago',\n 'Latina, Lazio',\n 'Firenze, Toscana',\n 'Salerno, Campania',\n '35010 Vigonza',\n '20145 Milano',\n '35020 Ponte San Nicolò',\n 'Rimini, Emilia-Romagna',\n '20121 Milano',\n 'Cernusco sul Naviglio, Lombardia',\n '20025 Legnano',\n 'Cosenza, Calabria',\n 'Cagliari, Sardegna',\n '20871 Vimercate',\n '41015 Nonantola',\n 'Ferrara, Emilia-Romagna',\n '20142 Milano',\n 'Provincia di Lodi, Lombardia',\n 'Bristol BS2',\n 'London',\n 'Knutsford',\n 'Milton Keynes',\n 'Nottingham',\n 'Ipswich IP4',\n 'Winsford CW7',\n 'Lincoln',\n 'Belfast',\n 'Bristol',\n 'Reading RG1',\n 'Newcastle upon Tyne',\n 'Darlington',\n 'Edinburgh EH6',\n 'Belfast BT1',\n 'Great Malvern',\n 'Warwick',\n 'Worcestershire',\n 'Cardiff CF10',\n 'Stevenage',\n 'Midlothian',\n 'Cheltenham',\n 'Newcastle upon Tyne NE15',\n 'Cambridge',\n 'Belfast BT2',\n 'Havant',\n 'Runcorn WA7',\n 'Cambridge CB4',\n 'Cambridgeshire',\n 'Culham',\n 'Manchester M13',\n 'Stratford-upon-Avon',\n 'Guildford',\n 'Stoke-on-Trent ST1',\n 'London EC4N',\n 'Lichfield',\n 'Street',\n 'Killearn',\n 'Gloucester',\n 'Manchester M2',\n 'Oundle',\n 'North West',\n 'Farnborough',\n 'Didcot',\n 'Edinburgh',\n 'Corsham SN13',\n 'Douglas',\n 'Whiteley PO15',\n 'London W4',\n 'Southampton',\n 'Reading',\n 'Newtown',\n 'London E14',\n 'Manchester',\n 'London TW11',\n 'Cambridge CB1',\n 'Abingdon',\n 'Aylesford ME20',\n 'Bedwas',\n 'England',\n 'Watford',\n 'London EC3N',\n 'Windsor SL4',\n 'Basingstoke',\n 'Bournemouth BH7',\n 'Rugby CV21',\n 'Coleshill',\n 'High Wycombe',\n 'Chester',\n 'Melbourn SG8',\n 'Dundee',\n 'Brighton',\n 'Leeds',\n 'Batley',\n 'London SE1',\n 'Leicester LE19',\n 'Billingham',\n 'Crawley',\n 'Wakefield WF1',\n 'Birmingham',\n 'Chesterfield S41',\n 'Greater London',\n 'Lowestoft NR33',\n 'Glasgow',\n 'Norwich',\n 'Scotland',\n 'Bristol BS16',\n 'Ashby-De-La-Zouch LE65',\n 'London NW9',\n 'Salisbury',\n 'Warton',\n 'Basildon SS14',\n 'Rotherham',\n 'Solihull',\n 'Wales',\n 'West Sussex',\n 'West Midlands',\n 'London SW7',\n 'Sunderland',\n 'Leamington Spa CV32',\n 'Barnard Castle',\n 'Newcastle upon Tyne NE12',\n 'Bournemouth BH2',\n 'West Yorkshire',\n 'Oxford',\n 'Cambridge CB21',\n 'Oxford OX1',\n 'Swindon',\n 'Birmingham B37',\n 'Coventry',\n 'Warwickshire',\n 'Durham',\n 'Aldershot',\n 'Surrey',\n 'Woking',\n 'Worksop S81',\n 'Laindon',\n 'Stirling',\n 'Kingston upon Thames',\n 'Antrim',\n 'Hook',\n 'Hertford',\n 'Jersey',\n 'Nuneaton CV10',\n 'West London',\n 'Hampshire',\n 'Stone',\n 'Wirral',\n 'Peterborough']"
     },
     "execution_count": 7,
     "metadata": {},
     "output_type": "execute_result"
    }
   ],
   "source": [
    "# -- Sostituzione None con NaN\n",
    "offers_frame.loc[offers_frame.LocationType == 'Remote', 'Location'] = np.nan\n",
    "\n",
    "# -- Trasformazione stringhe\n",
    "location_list = offers_frame.loc[offers_frame.LocationType != 'Remote', 'Location'].unique().tolist()\n",
    "location_list"
   ],
   "metadata": {
    "collapsed": false,
    "ExecuteTime": {
     "end_time": "2024-01-17T17:57:09.472036200Z",
     "start_time": "2024-01-17T17:57:09.291537300Z"
    }
   },
   "id": "35d86f0d909c6c55"
  },
  {
   "cell_type": "code",
   "execution_count": 8,
   "outputs": [
    {
     "data": {
      "text/plain": "                                                  Name  \\\nID                                                       \n1           Software Developer - AI Trainer (Contract)   \n2           Software Developer Java, C++ o C# a Padova   \n3                       Ingegnere Software Applicativo   \n4    Deloitte NextHub Bari – Software Developer - J...   \n5    Remote Senior Wordpress Developer - Fluent in ...   \n..                                                 ...   \n692  Eltek Systems - Senior Control Systems Softwar...   \n693        Senior UI Programmer - AAA Project - Remote   \n694         Software Engineer (C++) – HP Wolf Security   \n695              Technical Support Engineer (Software)   \n696                          Full Stack Ruby Developer   \n\n                                           Description Language LocationType  \\\nID                                                                             \n1    We are looking for proficientprogrammersto joi...  Italian       Remote   \n2    Brain Tree Srl, azienda di consulenza informat...  Italian      On-Site   \n3    Avio è un'azienda leader nella propulsione spa...  Italian      On-Site   \n4    Deloitte NextHub Bari – Software Developer - J...  Italian      On-Site   \n5    The Role:We are looking for aSeniorWordPress d...  Italian       Remote   \n..                                                 ...      ...          ...   \n692  Eltek Systems are looking to recruit Senior So...  Italian      On-Site   \n693  Senior UI Programmer - AAA Project - RemoteFul...  Italian      On-Site   \n694  The primary focus of the HP Wolf Security team...  Italian      On-Site   \n695  As the successful candidate you will be respon...  Italian      On-Site   \n696  Full Stack Ruby DeveloperKrystal HostingLocati...  Italian       Remote   \n\n                                              Location  \nID                                                      \n1                                                  NaN  \n2                     Province of Padua, Veneto, Italy  \n3    10, Valle Sette Due, Colleferro, Colleferro, C...  \n4                                  Bari, Apulia, Italy  \n5                                                  NaN  \n..                                                 ...  \n692                      Peterborough, Ontario, Canada  \n693  Newcastle upon Tyne Central, Tyne and Wear, En...  \n694                 Cambridge, England, United Kingdom  \n695  Scotland Neck, Halifax County, North Carolina,...  \n696                                                NaN  \n\n[696 rows x 5 columns]",
      "text/html": "<div>\n<style scoped>\n    .dataframe tbody tr th:only-of-type {\n        vertical-align: middle;\n    }\n\n    .dataframe tbody tr th {\n        vertical-align: top;\n    }\n\n    .dataframe thead th {\n        text-align: right;\n    }\n</style>\n<table border=\"1\" class=\"dataframe\">\n  <thead>\n    <tr style=\"text-align: right;\">\n      <th></th>\n      <th>Name</th>\n      <th>Description</th>\n      <th>Language</th>\n      <th>LocationType</th>\n      <th>Location</th>\n    </tr>\n    <tr>\n      <th>ID</th>\n      <th></th>\n      <th></th>\n      <th></th>\n      <th></th>\n      <th></th>\n    </tr>\n  </thead>\n  <tbody>\n    <tr>\n      <th>1</th>\n      <td>Software Developer - AI Trainer (Contract)</td>\n      <td>We are looking for proficientprogrammersto joi...</td>\n      <td>Italian</td>\n      <td>Remote</td>\n      <td>NaN</td>\n    </tr>\n    <tr>\n      <th>2</th>\n      <td>Software Developer Java, C++ o C# a Padova</td>\n      <td>Brain Tree Srl, azienda di consulenza informat...</td>\n      <td>Italian</td>\n      <td>On-Site</td>\n      <td>Province of Padua, Veneto, Italy</td>\n    </tr>\n    <tr>\n      <th>3</th>\n      <td>Ingegnere Software Applicativo</td>\n      <td>Avio è un'azienda leader nella propulsione spa...</td>\n      <td>Italian</td>\n      <td>On-Site</td>\n      <td>10, Valle Sette Due, Colleferro, Colleferro, C...</td>\n    </tr>\n    <tr>\n      <th>4</th>\n      <td>Deloitte NextHub Bari – Software Developer - J...</td>\n      <td>Deloitte NextHub Bari – Software Developer - J...</td>\n      <td>Italian</td>\n      <td>On-Site</td>\n      <td>Bari, Apulia, Italy</td>\n    </tr>\n    <tr>\n      <th>5</th>\n      <td>Remote Senior Wordpress Developer - Fluent in ...</td>\n      <td>The Role:We are looking for aSeniorWordPress d...</td>\n      <td>Italian</td>\n      <td>Remote</td>\n      <td>NaN</td>\n    </tr>\n    <tr>\n      <th>...</th>\n      <td>...</td>\n      <td>...</td>\n      <td>...</td>\n      <td>...</td>\n      <td>...</td>\n    </tr>\n    <tr>\n      <th>692</th>\n      <td>Eltek Systems - Senior Control Systems Softwar...</td>\n      <td>Eltek Systems are looking to recruit Senior So...</td>\n      <td>Italian</td>\n      <td>On-Site</td>\n      <td>Peterborough, Ontario, Canada</td>\n    </tr>\n    <tr>\n      <th>693</th>\n      <td>Senior UI Programmer - AAA Project - Remote</td>\n      <td>Senior UI Programmer - AAA Project - RemoteFul...</td>\n      <td>Italian</td>\n      <td>On-Site</td>\n      <td>Newcastle upon Tyne Central, Tyne and Wear, En...</td>\n    </tr>\n    <tr>\n      <th>694</th>\n      <td>Software Engineer (C++) – HP Wolf Security</td>\n      <td>The primary focus of the HP Wolf Security team...</td>\n      <td>Italian</td>\n      <td>On-Site</td>\n      <td>Cambridge, England, United Kingdom</td>\n    </tr>\n    <tr>\n      <th>695</th>\n      <td>Technical Support Engineer (Software)</td>\n      <td>As the successful candidate you will be respon...</td>\n      <td>Italian</td>\n      <td>On-Site</td>\n      <td>Scotland Neck, Halifax County, North Carolina,...</td>\n    </tr>\n    <tr>\n      <th>696</th>\n      <td>Full Stack Ruby Developer</td>\n      <td>Full Stack Ruby DeveloperKrystal HostingLocati...</td>\n      <td>Italian</td>\n      <td>Remote</td>\n      <td>NaN</td>\n    </tr>\n  </tbody>\n</table>\n<p>696 rows × 5 columns</p>\n</div>"
     },
     "execution_count": 8,
     "metadata": {},
     "output_type": "execute_result"
    }
   ],
   "source": [
    "from location_cleaning import extract_locations\n",
    "# TODO: debug address component extraction\n",
    "locations_dict = extract_locations(location_list)\n",
    "\n",
    "offers_frame['Location'] = offers_frame['Location'].replace(locations_dict)\n",
    "offers_frame"
   ],
   "metadata": {
    "collapsed": false,
    "ExecuteTime": {
     "end_time": "2024-01-17T18:03:50.180812800Z",
     "start_time": "2024-01-17T17:57:09.311537Z"
    }
   },
   "id": "d458de3430636aca"
  },
  {
   "cell_type": "markdown",
   "source": [
    "## Data Preparation"
   ],
   "metadata": {
    "collapsed": false
   },
   "id": "4edfa22acf00be44"
  },
  {
   "cell_type": "markdown",
   "source": [
    "### Pulizia Skills\n",
    "Come prima cosa:\n",
    "- Verifichiamo che non ci siano skill ripetute"
   ],
   "metadata": {
    "collapsed": false
   },
   "id": "351d35a35b22b12"
  },
  {
   "cell_type": "markdown",
   "source": [
    "### Required Skills Extraction\n",
    "Il sistema richiederà agli utenti di inserire le skill manualmente, ma il dataset delle offerte non ne è fornito, quindi qui di seguito verrà implementato il codice per estrarre le skill dalla descrizione; inoltre lo stesso codice può essere utilizzato per suggerire ai datori di lavoro delle skill da inserire durante la creazione di una offerta."
   ],
   "metadata": {
    "collapsed": false
   },
   "id": "28d442002d1e7b2e"
  },
  {
   "cell_type": "code",
   "execution_count": 9,
   "outputs": [
    {
     "name": "stdout",
     "output_type": "stream",
     "text": [
      "<class 'pandas.core.frame.DataFrame'>\n",
      "Index: 696 entries, 1 to 696\n",
      "Data columns (total 5 columns):\n",
      " #   Column        Non-Null Count  Dtype \n",
      "---  ------        --------------  ----- \n",
      " 0   Name          696 non-null    object\n",
      " 1   Description   696 non-null    object\n",
      " 2   Language      696 non-null    object\n",
      " 3   LocationType  696 non-null    object\n",
      " 4   Location      642 non-null    object\n",
      "dtypes: object(5)\n",
      "memory usage: 32.6+ KB\n"
     ]
    }
   ],
   "source": [
    "offers_frame.info()"
   ],
   "metadata": {
    "collapsed": false,
    "ExecuteTime": {
     "end_time": "2024-01-17T18:03:50.191813100Z",
     "start_time": "2024-01-17T18:03:50.184811700Z"
    }
   },
   "id": "37c4f2b82ed536ea"
  },
  {
   "cell_type": "code",
   "execution_count": 9,
   "outputs": [],
   "source": [],
   "metadata": {
    "collapsed": false,
    "ExecuteTime": {
     "end_time": "2024-01-17T18:03:50.195312Z",
     "start_time": "2024-01-17T18:03:50.192813Z"
    }
   },
   "id": "5ec6921c6421fb3c"
  }
 ],
 "metadata": {
  "kernelspec": {
   "display_name": "Python 3",
   "language": "python",
   "name": "python3"
  },
  "language_info": {
   "codemirror_mode": {
    "name": "ipython",
    "version": 2
   },
   "file_extension": ".py",
   "mimetype": "text/x-python",
   "name": "python",
   "nbconvert_exporter": "python",
   "pygments_lexer": "ipython2",
   "version": "2.7.6"
  }
 },
 "nbformat": 4,
 "nbformat_minor": 5
}
