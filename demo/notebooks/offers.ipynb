{
 "cells": [
  {
   "cell_type": "code",
   "execution_count": 29,
   "id": "initial_id",
   "metadata": {
    "collapsed": true,
    "ExecuteTime": {
     "end_time": "2024-01-23T17:59:46.042944800Z",
     "start_time": "2024-01-23T17:59:46.000944900Z"
    }
   },
   "outputs": [],
   "source": [
    "import sqlite3\n",
    "import numpy as np\n",
    "import pandas as pd\n",
    "import matplotlib.pyplot as plt\n",
    "%matplotlib inline\n",
    "import seaborn as sns\n"
   ]
  },
  {
   "cell_type": "code",
   "execution_count": 30,
   "outputs": [
    {
     "data": {
      "text/plain": "                          Name  \\\nID                               \n1           Software Developer   \n2    Junior Software Developer   \n3           Software Developer   \n4           Software Developer   \n5    Senior Software Developer   \n..                         ...   \n850           JUNIOR DEVELOPER   \n851   Sviluppatore Java Junior   \n852   Stage Software Developer   \n853              Web Developer   \n854         Software Developer   \n\n                                           Description  \\\nID                                                       \n1    Miniclip is a global leader in digital games w...   \n2    NETtoWORK, azienda italiana nata nel 2016, ope...   \n3    We are looking for talented and passionate peo...   \n4    ARESYS  is a R&D oriented company with nearly ...   \n5    Il/la Candidato/a dovrà padroneggiare: \\n \\n- ...   \n..                                                 ...   \n850  Sede lavoro: Bergamo | Tempo pieno \\n Livello:...   \n851  TRIA ricerca uno sviluppatore Java JuniorNeola...   \n852  CHI SIAMO  \\n  Golilla è la start up delle azi...   \n853  Sei la persona che cerchiamo se:Sei appassiona...   \n854  Siamo alla ricerca di un/una  Software Develop...   \n\n                             Location  \nID                                     \n1                     Genova, Liguria  \n2                        17100 Savona  \n3                         55100 Lucca  \n4                  Matera, Basilicata  \n5                    Catania, Sicilia  \n..                                ...  \n850                Bergamo, Lombardia  \n851                              None  \n852                     20089 Rozzano  \n853  San Benedetto del Tronto, Marche  \n854               Catanzaro, Calabria  \n\n[854 rows x 3 columns]",
      "text/html": "<div>\n<style scoped>\n    .dataframe tbody tr th:only-of-type {\n        vertical-align: middle;\n    }\n\n    .dataframe tbody tr th {\n        vertical-align: top;\n    }\n\n    .dataframe thead th {\n        text-align: right;\n    }\n</style>\n<table border=\"1\" class=\"dataframe\">\n  <thead>\n    <tr style=\"text-align: right;\">\n      <th></th>\n      <th>Name</th>\n      <th>Description</th>\n      <th>Location</th>\n    </tr>\n    <tr>\n      <th>ID</th>\n      <th></th>\n      <th></th>\n      <th></th>\n    </tr>\n  </thead>\n  <tbody>\n    <tr>\n      <th>1</th>\n      <td>Software Developer</td>\n      <td>Miniclip is a global leader in digital games w...</td>\n      <td>Genova, Liguria</td>\n    </tr>\n    <tr>\n      <th>2</th>\n      <td>Junior Software Developer</td>\n      <td>NETtoWORK, azienda italiana nata nel 2016, ope...</td>\n      <td>17100 Savona</td>\n    </tr>\n    <tr>\n      <th>3</th>\n      <td>Software Developer</td>\n      <td>We are looking for talented and passionate peo...</td>\n      <td>55100 Lucca</td>\n    </tr>\n    <tr>\n      <th>4</th>\n      <td>Software Developer</td>\n      <td>ARESYS  is a R&amp;D oriented company with nearly ...</td>\n      <td>Matera, Basilicata</td>\n    </tr>\n    <tr>\n      <th>5</th>\n      <td>Senior Software Developer</td>\n      <td>Il/la Candidato/a dovrà padroneggiare: \\n \\n- ...</td>\n      <td>Catania, Sicilia</td>\n    </tr>\n    <tr>\n      <th>...</th>\n      <td>...</td>\n      <td>...</td>\n      <td>...</td>\n    </tr>\n    <tr>\n      <th>850</th>\n      <td>JUNIOR DEVELOPER</td>\n      <td>Sede lavoro: Bergamo | Tempo pieno \\n Livello:...</td>\n      <td>Bergamo, Lombardia</td>\n    </tr>\n    <tr>\n      <th>851</th>\n      <td>Sviluppatore Java Junior</td>\n      <td>TRIA ricerca uno sviluppatore Java JuniorNeola...</td>\n      <td>None</td>\n    </tr>\n    <tr>\n      <th>852</th>\n      <td>Stage Software Developer</td>\n      <td>CHI SIAMO  \\n  Golilla è la start up delle azi...</td>\n      <td>20089 Rozzano</td>\n    </tr>\n    <tr>\n      <th>853</th>\n      <td>Web Developer</td>\n      <td>Sei la persona che cerchiamo se:Sei appassiona...</td>\n      <td>San Benedetto del Tronto, Marche</td>\n    </tr>\n    <tr>\n      <th>854</th>\n      <td>Software Developer</td>\n      <td>Siamo alla ricerca di un/una  Software Develop...</td>\n      <td>Catanzaro, Calabria</td>\n    </tr>\n  </tbody>\n</table>\n<p>854 rows × 3 columns</p>\n</div>"
     },
     "execution_count": 30,
     "metadata": {},
     "output_type": "execute_result"
    }
   ],
   "source": [
    "offers_connection = sqlite3.connect('../datasets/offers_dataset.db')\n",
    "offers_frame = pd.read_sql_query('''SELECT * FROM offers''', offers_connection)\n",
    "offers_frame.set_index('ID', inplace=True)\n",
    "offers_connection.close()\n",
    "\n",
    "# [!] Le descrizioni all'interno del notebook non sono mostrate nella loro versione completa\n",
    "#     per accedere ad una specifica descrizione usare il metodo: offers_frame.loc[ID, NomeColonna]\n",
    "offers_frame"
   ],
   "metadata": {
    "collapsed": false,
    "ExecuteTime": {
     "end_time": "2024-01-23T17:59:46.099945300Z",
     "start_time": "2024-01-23T17:59:46.014945500Z"
    }
   },
   "id": "2d019a7a9033f77c"
  },
  {
   "cell_type": "markdown",
   "source": [
    "## Data Exploration\n",
    "Come prima cosa esaminiamo il nostro dataset di offerte, in particolare dovremmo verificare la qualità dei dati:\n",
    "- Base   \n",
    "    - Presenza di valori nulli\n",
    "    - (**Importante**) Presenza di sinonimi geografici\n",
    "    - Presenza di informazioni utili\n",
    "- Avanzato\n",
    "    - Analisi delle Parole Chiave (es. Titoli)\n",
    "    - Analisi della distribuzione dei dati"
   ],
   "metadata": {
    "collapsed": false
   },
   "id": "b148d9cefa03d4c8"
  },
  {
   "cell_type": "markdown",
   "source": [
    "**Presenza di Valori Nulli e Duplicati**\n",
    "Come è possibile vedere di seguito il dataset contiene valori nulli solo per la colonna Location, il che però è normale, in quanto non tutte le Offerte di lavoro sono in presenza, quindi le Location mancanti rappresentano il numero di Offerte di lavoro in Remote.\n",
    "Questa informazione è importante perchè in seguito ci sarà la necessità di rappresentare queste informazioni in modo omogeneo, in modo tale che un modello il cui scopo è raggruppare le Offerte (clustering, come proposto nell'Analisi del Problema) possa farlo in modo adeguato."
   ],
   "metadata": {
    "collapsed": false
   },
   "id": "ce3fcaa61d9998aa"
  },
  {
   "cell_type": "code",
   "execution_count": 31,
   "outputs": [
    {
     "name": "stdout",
     "output_type": "stream",
     "text": [
      "<class 'pandas.core.frame.DataFrame'>\n",
      "Index: 50 entries, 1 to 101\n",
      "Data columns (total 3 columns):\n",
      " #   Column       Non-Null Count  Dtype \n",
      "---  ------       --------------  ----- \n",
      " 0   Name         50 non-null     object\n",
      " 1   Description  50 non-null     object\n",
      " 2   Location     38 non-null     object\n",
      "dtypes: object(3)\n",
      "memory usage: 1.6+ KB\n"
     ]
    }
   ],
   "source": [
    "offers_frame.drop_duplicates(inplace=True)\n",
    "offers_frame.info()"
   ],
   "metadata": {
    "collapsed": false,
    "ExecuteTime": {
     "end_time": "2024-01-23T17:59:46.100945Z",
     "start_time": "2024-01-23T17:59:46.029945200Z"
    }
   },
   "id": "6ab03fba00230b25"
  },
  {
   "cell_type": "code",
   "execution_count": 31,
   "outputs": [],
   "source": [],
   "metadata": {
    "collapsed": false,
    "ExecuteTime": {
     "end_time": "2024-01-23T17:59:46.113945Z",
     "start_time": "2024-01-23T17:59:46.044944700Z"
    }
   },
   "id": "b9a7069faf18760d"
  },
  {
   "cell_type": "markdown",
   "source": [
    "## Presenza di Sinonimi Geografici\n",
    "Il dataset contiene attualmente molteplici istanze in cui la stessa Location è riportata in modi diversi, come \\<Cap>, \\<Città> e \\<Città>, \\<Regione>.\n"
   ],
   "metadata": {
    "collapsed": false
   },
   "id": "51416aacfc058b23"
  },
  {
   "cell_type": "code",
   "execution_count": 32,
   "outputs": [],
   "source": [
    "#example_city = \"Bologna\"\n",
    "\n",
    "#onsite_offers = offers_frame[offers_frame[\"Location\"].notna()]\n",
    "#geo_syn = onsite_offers.Location.map(lambda text: example_city in text)\n",
    "#onsite_offers[geo_syn]"
   ],
   "metadata": {
    "collapsed": false,
    "ExecuteTime": {
     "end_time": "2024-01-23T17:59:46.113945Z",
     "start_time": "2024-01-23T17:59:46.061945300Z"
    }
   },
   "id": "c99cee79c72dcdd0"
  },
  {
   "cell_type": "markdown",
   "source": [
    "**Analisi dei Titoli**\n",
    "Di seguito vengono analizzati i Titoli delle Offerte di lavoro con lo scopo di verificare la presenza di termini comuni, in particolare vengono usate delle basilari tecniche di Natural Language Processing come:\n",
    "- **Tokenization**, utilizzata per dividere frasi o documenti in parole (*title.split()*) \n",
    "- **Rimozione della Punteggiatura**, utilizzata per migliorare la qualità dei dati estratti, in modo da non influenzare i risultati \n",
    "- **Normalizzazione**, utilizzata per ridurre la complessità del vocabolario e trattare parole con maiuscole e minuscole come equivalenti (*t.lower()*)"
   ],
   "metadata": {
    "collapsed": false
   },
   "id": "ac2efe4d43ad79b0"
  },
  {
   "cell_type": "code",
   "execution_count": 33,
   "outputs": [
    {
     "data": {
      "text/plain": "Counter({'software': 36,\n         'developer': 30,\n         'engineer': 8,\n         'junior': 6,\n         'senior': 4,\n         'sviluppatore': 3,\n         'java': 3,\n         'programmatore': 3,\n         'c#': 3,\n         'graduate': 3,\n         'frontend': 2,\n         'settore': 2,\n         'sanità': 2,\n         'full': 2,\n         'engineering': 2,\n         'apprenticeship': 2,\n         '2024': 2,\n         'intern': 2,\n         'ibp': 1,\n         'algorithms': 1,\n         'development': 1,\n         'unity': 1,\n         'game': 1,\n         'stage': 1,\n         'web': 1,\n         'ai': 1,\n         'trainer': 1,\n         '(contract)': 1,\n         'tecnico': 1,\n         'bilance': 1,\n         'digitali': 1,\n         'supermercati': 1,\n         'asp.net': 1,\n         'manufacturing': 1,\n         'relocation': 1,\n         'usa': 1,\n         'front-end': 1,\n         'app': 1,\n         'programmer': 1,\n         'hmi': 1,\n         'flutter': 1,\n         'remote': 1,\n         'stack': 1,\n         'qa': 1,\n         'appartenente': 1,\n         'alle': 1,\n         'categorie': 1,\n         'protette': 1,\n         'erp': 1,\n         'uk': 1,\n         'campus': 1,\n         'programme': 1,\n         'technology': 1,\n         '(uk)': 1,\n         'l4': 1,\n         'apprentice': 1,\n         '(london)': 1,\n         'front': 1,\n         'end': 1,\n         '(100%': 1,\n         'remote)': 1,\n         'degree': 1,\n         '(nottingham)': 1,\n         'lead': 1,\n         '(backend)': 1,\n         'system': 1,\n         'engineer,': 1,\n         'summer': 1,\n         'start': 1,\n         '(fixed-term': 1,\n         'contract)': 1})"
     },
     "execution_count": 33,
     "metadata": {},
     "output_type": "execute_result"
    }
   ],
   "source": [
    "from string import punctuation\n",
    "from collections import Counter\n",
    "\n",
    "def count_words(document: str, counter: Counter):\n",
    "    \"\"\"\n",
    "    :param document: a string representation of the document to inspect\n",
    "    :param counter: a Python built-in object used to count occurrences of items\n",
    "    \"\"\"\n",
    "    punct = [p for p in punctuation]\n",
    "    for t in document.split():\n",
    "        if not t in punct:\n",
    "            counter[t.lower()] += 1\n",
    "\n",
    "\n",
    "titles_counts = Counter()\n",
    "offers_frame.Name.map(lambda text: count_words(text, titles_counts))\n",
    "\n",
    "titles_counts"
   ],
   "metadata": {
    "collapsed": false,
    "ExecuteTime": {
     "end_time": "2024-01-23T17:59:46.114944800Z",
     "start_time": "2024-01-23T17:59:46.075946300Z"
    }
   },
   "id": "a47c7c31ce071ca4"
  },
  {
   "cell_type": "markdown",
   "source": [
    "Analisi delle occorrenze di parole:"
   ],
   "metadata": {
    "collapsed": false
   },
   "id": "26adff46bb768441"
  },
  {
   "cell_type": "code",
   "execution_count": 34,
   "outputs": [],
   "source": [
    "# Jacopo plotta qui"
   ],
   "metadata": {
    "collapsed": false,
    "ExecuteTime": {
     "end_time": "2024-01-23T17:59:46.115944700Z",
     "start_time": "2024-01-23T17:59:46.093944700Z"
    }
   },
   "id": "77d18769c1283146"
  },
  {
   "cell_type": "code",
   "execution_count": 34,
   "outputs": [],
   "source": [],
   "metadata": {
    "collapsed": false,
    "ExecuteTime": {
     "end_time": "2024-01-23T17:59:46.160945600Z",
     "start_time": "2024-01-23T17:59:46.108945900Z"
    }
   },
   "id": "fe02bb277e4b6bf5"
  },
  {
   "cell_type": "code",
   "execution_count": 34,
   "outputs": [],
   "source": [],
   "metadata": {
    "collapsed": false,
    "ExecuteTime": {
     "end_time": "2024-01-23T17:59:46.185945100Z",
     "start_time": "2024-01-23T17:59:46.123945100Z"
    }
   },
   "id": "8447b5bb6bfb0af9"
  },
  {
   "cell_type": "markdown",
   "source": [
    "### Skill Extraction\n",
    "Per procedere con l'estrazione delle Competenze dalle Offerte per prima cosa importiamo il relativo dataset.   "
   ],
   "metadata": {
    "collapsed": false
   },
   "id": "142416c0760ec20f"
  },
  {
   "cell_type": "code",
   "execution_count": 35,
   "outputs": [
    {
     "data": {
      "text/plain": "         SKILL                  TYPE\nID                                  \n0   JavaScript  Programming Language\n1         HTML  Programming Language\n2       Python  Programming Language\n3          SQL  Programming Language\n4   TypeScript  Programming Language\n..         ...                   ...\n95         APT                  Tool\n96    Unity 3D                  Tool\n97      Pacman                  Tool\n98        pnpm                  Tool\n99         CSS  Programming Language\n\n[99 rows x 2 columns]",
      "text/html": "<div>\n<style scoped>\n    .dataframe tbody tr th:only-of-type {\n        vertical-align: middle;\n    }\n\n    .dataframe tbody tr th {\n        vertical-align: top;\n    }\n\n    .dataframe thead th {\n        text-align: right;\n    }\n</style>\n<table border=\"1\" class=\"dataframe\">\n  <thead>\n    <tr style=\"text-align: right;\">\n      <th></th>\n      <th>SKILL</th>\n      <th>TYPE</th>\n    </tr>\n    <tr>\n      <th>ID</th>\n      <th></th>\n      <th></th>\n    </tr>\n  </thead>\n  <tbody>\n    <tr>\n      <th>0</th>\n      <td>JavaScript</td>\n      <td>Programming Language</td>\n    </tr>\n    <tr>\n      <th>1</th>\n      <td>HTML</td>\n      <td>Programming Language</td>\n    </tr>\n    <tr>\n      <th>2</th>\n      <td>Python</td>\n      <td>Programming Language</td>\n    </tr>\n    <tr>\n      <th>3</th>\n      <td>SQL</td>\n      <td>Programming Language</td>\n    </tr>\n    <tr>\n      <th>4</th>\n      <td>TypeScript</td>\n      <td>Programming Language</td>\n    </tr>\n    <tr>\n      <th>...</th>\n      <td>...</td>\n      <td>...</td>\n    </tr>\n    <tr>\n      <th>95</th>\n      <td>APT</td>\n      <td>Tool</td>\n    </tr>\n    <tr>\n      <th>96</th>\n      <td>Unity 3D</td>\n      <td>Tool</td>\n    </tr>\n    <tr>\n      <th>97</th>\n      <td>Pacman</td>\n      <td>Tool</td>\n    </tr>\n    <tr>\n      <th>98</th>\n      <td>pnpm</td>\n      <td>Tool</td>\n    </tr>\n    <tr>\n      <th>99</th>\n      <td>CSS</td>\n      <td>Programming Language</td>\n    </tr>\n  </tbody>\n</table>\n<p>99 rows × 2 columns</p>\n</div>"
     },
     "execution_count": 35,
     "metadata": {},
     "output_type": "execute_result"
    }
   ],
   "source": [
    "with sqlite3.connect('../datasets/skills_dataset.db') as skills_connection:\n",
    "    skills_frame = pd.read_sql_query('SELECT * FROM skills', skills_connection)\n",
    "    skills_frame.set_index('ID', inplace=True)\n",
    "    \n",
    "skills_frame"
   ],
   "metadata": {
    "collapsed": false,
    "ExecuteTime": {
     "end_time": "2024-01-23T17:59:46.207944600Z",
     "start_time": "2024-01-23T17:59:46.139945Z"
    }
   },
   "id": "ac82e9acc4696e99"
  },
  {
   "cell_type": "markdown",
   "source": [],
   "metadata": {
    "collapsed": false
   },
   "id": "21cb6a22ff972b2c"
  },
  {
   "cell_type": "code",
   "execution_count": 36,
   "outputs": [],
   "source": [
    "# Get Skill list\n",
    "skills_list = [skill.lower() for skill in skills_frame['SKILL'].tolist()]\n",
    "\n",
    "# Symbols to remove\n",
    "punct = [p for p in punctuation]\n",
    "punct.remove('+')\n",
    "punct.remove('#')\n",
    "\n",
    "removal = {p: '' for p in punct}\n",
    "removal['\\n'] = ''\n",
    "\n",
    "def remove_symbols(description: str, remove_map: dict) -> str:\n",
    "    for old, new in remove_map.items():\n",
    "        description = description.replace(old, new)\n",
    "    return description.lower()\n",
    "\n",
    "\n",
    "def extract_skills(description: str, available_skills: list) -> set:\n",
    "    s = set()\n",
    "    for word in description.split():\n",
    "        if word in available_skills:\n",
    "            s.add(word)\n",
    "    return s "
   ],
   "metadata": {
    "collapsed": false,
    "ExecuteTime": {
     "end_time": "2024-01-23T17:59:46.220944900Z",
     "start_time": "2024-01-23T17:59:46.155945800Z"
    }
   },
   "id": "6eabb82423ef85c7"
  },
  {
   "cell_type": "code",
   "execution_count": 37,
   "outputs": [
    {
     "name": "stdout",
     "output_type": "stream",
     "text": [
      "0-Offer: No Skills\n",
      "{'c', 'python', 'java', 'c#', 'c++'}\n",
      "{'java', 'oracle', 'javascript', 'angular'}\n",
      "{'python', 'c++'}\n",
      "{'angularjs', 'javascript', 'java', 'c#', 'sql'}\n",
      "{'java'}\n",
      "6-Offer: No Skills\n",
      "7-Offer: No Skills\n",
      "{'javascript', 'css', 'html'}\n",
      "{'java', 'mysql'}\n",
      "{'html', 'jquery', 'javascript', 'c#', 'css', 'sql'}\n",
      "{'java'}\n",
      "{'react', 'go', 'javascript', 'java', 'kubernetes', 'docker', 'php'}\n",
      "13-Offer: No Skills\n",
      "{'react', 'angular', 'typescript'}\n",
      "15-Offer: No Skills\n",
      "16-Offer: No Skills\n",
      "{'java'}\n",
      "{'java', 'oracle', 'react', 'angular'}\n",
      "19-Offer: No Skills\n",
      "{'java', 'mysql', 'c#', 'python', 'c++', 'sql'}\n",
      "{'react', 'flutter', 'oracle', 'javascript', 'typescript', 'dart', 'angular'}\n",
      "{'c#', 'sql'}\n",
      "{'javascript', 'python', 'sql', 'php'}\n",
      "24-Offer: No Skills\n",
      "{'dart', 'flutter'}\n",
      "{'vite', 'docker', 'c#', 'sql'}\n",
      "{'java', 'c#', 'php'}\n",
      "{'python', 'java', 'c#'}\n",
      "{'java', 'c', 'c++'}\n",
      "{'django', 'postgresql', 'javascript', 'python', 'mysql', 'css', 'docker', 'sql'}\n",
      "{'mysql', 'sql'}\n",
      "32-Offer: No Skills\n",
      "{'sql'}\n",
      "34-Offer: No Skills\n",
      "{'express', 'go', 'python', 'java', 'kotlin', 'css'}\n",
      "{'html', 'go', 'javascript', 'css', 'php'}\n",
      "{'javascript', 'angular', 'css', 'html'}\n",
      "{'react', 'c#', 'javascript'}\n",
      "{'css', 'java', 'javascript', 'html'}\n",
      "{'html', 'sql', 'javascript', 'typescript', 'c#', 'css'}\n",
      "{'react', 'javascript'}\n",
      "{'java', 'c', 'c#'}\n",
      "{'sql'}\n",
      "{'java'}\n",
      "{'java', 'mongodb'}\n",
      "{'c'}\n",
      "{'c', 'rust', 'java', 'python', 'c++'}\n",
      "{'ruby'}\n",
      "{'php', 'html'}\n"
     ]
    }
   ],
   "source": [
    "for i, offer_description in enumerate(offers_frame.loc[:, 'Description']):\n",
    "    desc = remove_symbols(offer_description, removal)\n",
    "    offer_skills = extract_skills(desc, skills_list)\n",
    "    if not offer_skills:\n",
    "        print(f'{i}-Offer: No Skills')\n",
    "    else:\n",
    "        print(offer_skills)\n"
   ],
   "metadata": {
    "collapsed": false,
    "ExecuteTime": {
     "end_time": "2024-01-23T17:59:46.288945400Z",
     "start_time": "2024-01-23T17:59:46.172944700Z"
    }
   },
   "id": "9cee2fbcd429c23b"
  },
  {
   "cell_type": "code",
   "execution_count": 38,
   "outputs": [
    {
     "name": "stderr",
     "output_type": "stream",
     "text": [
      "[nltk_data] Downloading package stopwords to\n",
      "[nltk_data]     C:\\Users\\Windows10\\AppData\\Roaming\\nltk_data...\n",
      "[nltk_data]   Unzipping corpora\\stopwords.zip.\n"
     ]
    }
   ],
   "source": [
    "# Package necessari per la manipolazione di descrizioni in italiano (es. TF-IDF)\n",
    "\n",
    "import nltk\n",
    "from nltk.corpus import stopwords\n",
    "from nltk.tokenize import word_tokenize\n",
    "nltk.download('stopwords')\n",
    "stop_words = set(stopwords.words('italian'))"
   ],
   "metadata": {
    "collapsed": false,
    "ExecuteTime": {
     "end_time": "2024-01-23T17:59:47.138976900Z",
     "start_time": "2024-01-23T17:59:46.203945Z"
    }
   },
   "id": "29a9deae9381e11f"
  },
  {
   "cell_type": "code",
   "execution_count": 38,
   "outputs": [],
   "source": [],
   "metadata": {
    "collapsed": false,
    "ExecuteTime": {
     "end_time": "2024-01-23T17:59:47.181976400Z",
     "start_time": "2024-01-23T17:59:47.138976900Z"
    }
   },
   "id": "50241e78b0cfb777"
  },
  {
   "cell_type": "markdown",
   "source": [
    "## Data Preparation\n",
    "Per permettere il completo soddisfacimento dei requisiti, alcuni dati mancanti alle offerte dovranno essere aggiunti al dataset, tra cui:\n",
    "- LocationType: il tipo di Location, se in remoto (Remote) o in sede (OnSite)\n",
    "- Languages: le lingue naturali necessarie per l'offerta di lavoro"
   ],
   "metadata": {
    "collapsed": false
   },
   "id": "5225660adcd5fd35"
  },
  {
   "cell_type": "markdown",
   "source": [
    "### Tipo di Location\n",
    "Per estrarre il tipo di Location dalle informazioni attualmente già presenti nel dataset, \n",
    "saranno interpretate come di tipo Remote tutte le offerte che non presentano una Location."
   ],
   "metadata": {
    "collapsed": false
   },
   "id": "e1718ca2eae20e7a"
  },
  {
   "cell_type": "code",
   "execution_count": 39,
   "outputs": [
    {
     "data": {
      "text/plain": "                                                  Name  \\\nID                                                       \n1                                   Software Developer   \n2                            Junior Software Developer   \n3                                   Software Developer   \n4                                   Software Developer   \n5                            Senior Software Developer   \n6                                   SOFTWARE DEVELOPER   \n7           IBP Junior Algorithms Software Development   \n8                                 Unity game developer   \n9                                             Frontend   \n10                                   Software Engineer   \n11                                    JUNIOR DEVELOPER   \n12                            Sviluppatore Java Junior   \n13                            Stage Software Developer   \n14                                       Web Developer   \n15                                  Software Developer   \n16          Software Developer - AI Trainer (Contract)   \n17      tecnico software bilance digitali supermercati   \n18          Programmatore senior Java - settore sanità   \n19                                      Java Developer   \n20   Programmatore senior C# / ASP.NET - settore sa...   \n21    Manufacturing Software Engineer / Relocation USA   \n22                           Front-End - App Developer   \n23                     Sviluppatore C# - C# Programmer   \n24                               Sviluppatore software   \n25                              HMI Software Developer   \n26                                   Flutter Developer   \n27                                  Software Developer   \n28                           Software Developer Junior   \n29                    Software Developer - FULL REMOTE   \n30                                   Software Engineer   \n40                                Full Stack Developer   \n42                              Programmatore software   \n43                                         QA Engineer   \n68   Appartenente alle categorie protette Software ...   \n76              UK Software Engineering Apprenticeship   \n77   Campus - Graduate Programme - Technology Gradu...   \n78                    L4 Software Developer Apprentice   \n79                         Frontend Software Developer   \n80                           Senior Software Developer   \n81                 Graduate Software Engineer (London)   \n82                                  Software Developer   \n83                   Front End Developer (100% Remote)   \n84   Software Developer Degree Apprenticeship (Nott...   \n85                                  Software Developer   \n86                           Software Engineering Lead   \n87                  Junior Software Engineer (Backend)   \n88                            Software Engineer Intern   \n89   System Software Engineer, Summer Intern - 2024...   \n90                                  Software Developer   \n101                                 Software Developer   \n\n                                           Description  \\\nID                                                       \n1    Miniclip is a global leader in digital games w...   \n2    NETtoWORK, azienda italiana nata nel 2016, ope...   \n3    We are looking for talented and passionate peo...   \n4    ARESYS  is a R&D oriented company with nearly ...   \n5    Il/la Candidato/a dovrà padroneggiare: \\n \\n- ...   \n6    La passione ci guida in tutto ciò che facciamo...   \n7    Pirelli is looking for the following profile t...   \n8    Junior or SeniorWork from home! Literally alw...   \n9    Esperienza richiesta : 3-10 anniConoscenze ric...   \n10   Who we are:At Mambu, we believe that banking a...   \n11   Sede lavoro: Bergamo | Tempo pieno \\n Livello:...   \n12   TRIA ricerca uno sviluppatore Java JuniorNeola...   \n13   CHI SIAMO  \\n  Golilla è la start up delle azi...   \n14   Sei la persona che cerchiamo se:Sei appassiona...   \n15   Siamo alla ricerca di un/una  Software Develop...   \n16   We are looking for proficient  programmers  to...   \n17   Tecnico software per manutenzioni e assistenza...   \n18   Per ampliare il team di sviluppo della nostra ...   \n19   Siamo alla ricerca di un/a  Java Developer  ch...   \n20   Per ampliare il team di sviluppo della nostra ...   \n21   The Manufacturing Software Engineer will work ...   \n22   Siamo alla ricerca di candidati brillanti per ...   \n23   Le principali responsabilità affidate alla ris...   \n24   Cosa stiamo cercando  \\n Stiamo selezionando u...   \n25   Ricerchiamo un laureato in ingegneria (informa...   \n26   We want to significantly strengthen the role o...   \n27   Cerchiamo tre nuovi developers (middle e senio...   \n28   JObros , divisione di ErgonGroup dedicata al L...   \n29   Vanguard System , divisione informatica del  G...   \n30   Main Responsibilities  \\n - Design and develop...   \n40   Role description:  \\n \\n- Develop new AI produ...   \n42   Primaria Agenzia assicurativa di Roma ricerca ...   \n43   What You Will Experience In This PositionIn th...   \n68   Annuncio dedicato alle persone appartenenti al...   \n76   Who We AreWe’re a global technology communicat...   \n77   You Lead the Way. We’ve Got Your Back.  \\n  Wi...   \n78   - Anywhere \\n- Posted 2 weeks agoFull Communic...   \n79   Frontend Software Developer (Fixed Term Contra...   \n80   Senior Software DeveloperRemote (with option f...   \n81   Full-timeEmployee Status: RegularRole Type: Hy...   \n82   Location : Home basedContract : PermanentHours...   \n83   About BitfinexBitfinex is a digital asset trad...   \n84   Full-timeEmployee Status: RegularRole Type: Hy...   \n85   Software DeveloperLocation: Devon, GB, PL4 0SD...   \n86   Up to £72,000 + bonus & benefits  \\n  We offer...   \n87   As a Junior Software Engineer you will be oper...   \n88   Hungry, Humble, Honest, with Heart!The Opportu...   \n89   ResponsibilitiesTikTok is the leading destinat...   \n90   ORA (Oxford University Research Archive) is lo...   \n101  Sviluppatore Software  \\n Società di Informati...   \n\n                             Location LocationType  \nID                                                  \n1                     Genova, Liguria       OnSite  \n2                        17100 Savona       OnSite  \n3                         55100 Lucca       OnSite  \n4                  Matera, Basilicata       OnSite  \n5                    Catania, Sicilia       OnSite  \n6                       60030 Monsano       OnSite  \n7                        Bari, Puglia       OnSite  \n8                                None       Remote  \n9                                None       Remote  \n10         Provincia di Latina, Lazio       OnSite  \n11                 Bergamo, Lombardia       OnSite  \n12                               None       Remote  \n13                      20089 Rozzano       OnSite  \n14   San Benedetto del Tronto, Marche       OnSite  \n15                Catanzaro, Calabria       OnSite  \n16                               None       Remote  \n17                     Verona, Veneto       OnSite  \n18                       60131 Ancona       OnSite  \n19                  Milano, Lombardia       OnSite  \n20                       60131 Ancona       OnSite  \n21                   Torino, Piemonte       OnSite  \n22                  Milano, Lombardia       OnSite  \n23            Bologna, Emilia-Romagna       OnSite  \n24                       37138 Verona       OnSite  \n25                      04011 Aprilia       OnSite  \n26                  Milano, Lombardia       OnSite  \n27                 Cremona, Lombardia       OnSite  \n28                      32100 Belluno       OnSite  \n29            Bologna, Emilia-Romagna       OnSite  \n30                        Roma, Lazio       OnSite  \n40                               None       Remote  \n42                        Roma, Lazio       OnSite  \n43                    46020 Pegognaga       OnSite  \n68               20864 Agrate Brianza       OnSite  \n76                             London       OnSite  \n77                       Burgess Hill       OnSite  \n78                               None       Remote  \n79                               None       Remote  \n80                               None       Remote  \n81                        London SW15       OnSite  \n82                               None       Remote  \n83                               None       Remote  \n84                     Nottingham NG2       OnSite  \n85                         Exeter PL4       OnSite  \n86                               None       Remote  \n87                               None       Remote  \n88                          Cambridge       OnSite  \n89                             London       OnSite  \n90                         Oxford OX2       OnSite  \n101                      66100 Chieti       OnSite  ",
      "text/html": "<div>\n<style scoped>\n    .dataframe tbody tr th:only-of-type {\n        vertical-align: middle;\n    }\n\n    .dataframe tbody tr th {\n        vertical-align: top;\n    }\n\n    .dataframe thead th {\n        text-align: right;\n    }\n</style>\n<table border=\"1\" class=\"dataframe\">\n  <thead>\n    <tr style=\"text-align: right;\">\n      <th></th>\n      <th>Name</th>\n      <th>Description</th>\n      <th>Location</th>\n      <th>LocationType</th>\n    </tr>\n    <tr>\n      <th>ID</th>\n      <th></th>\n      <th></th>\n      <th></th>\n      <th></th>\n    </tr>\n  </thead>\n  <tbody>\n    <tr>\n      <th>1</th>\n      <td>Software Developer</td>\n      <td>Miniclip is a global leader in digital games w...</td>\n      <td>Genova, Liguria</td>\n      <td>OnSite</td>\n    </tr>\n    <tr>\n      <th>2</th>\n      <td>Junior Software Developer</td>\n      <td>NETtoWORK, azienda italiana nata nel 2016, ope...</td>\n      <td>17100 Savona</td>\n      <td>OnSite</td>\n    </tr>\n    <tr>\n      <th>3</th>\n      <td>Software Developer</td>\n      <td>We are looking for talented and passionate peo...</td>\n      <td>55100 Lucca</td>\n      <td>OnSite</td>\n    </tr>\n    <tr>\n      <th>4</th>\n      <td>Software Developer</td>\n      <td>ARESYS  is a R&amp;D oriented company with nearly ...</td>\n      <td>Matera, Basilicata</td>\n      <td>OnSite</td>\n    </tr>\n    <tr>\n      <th>5</th>\n      <td>Senior Software Developer</td>\n      <td>Il/la Candidato/a dovrà padroneggiare: \\n \\n- ...</td>\n      <td>Catania, Sicilia</td>\n      <td>OnSite</td>\n    </tr>\n    <tr>\n      <th>6</th>\n      <td>SOFTWARE DEVELOPER</td>\n      <td>La passione ci guida in tutto ciò che facciamo...</td>\n      <td>60030 Monsano</td>\n      <td>OnSite</td>\n    </tr>\n    <tr>\n      <th>7</th>\n      <td>IBP Junior Algorithms Software Development</td>\n      <td>Pirelli is looking for the following profile t...</td>\n      <td>Bari, Puglia</td>\n      <td>OnSite</td>\n    </tr>\n    <tr>\n      <th>8</th>\n      <td>Unity game developer</td>\n      <td>Junior or SeniorWork from home! Literally alw...</td>\n      <td>None</td>\n      <td>Remote</td>\n    </tr>\n    <tr>\n      <th>9</th>\n      <td>Frontend</td>\n      <td>Esperienza richiesta : 3-10 anniConoscenze ric...</td>\n      <td>None</td>\n      <td>Remote</td>\n    </tr>\n    <tr>\n      <th>10</th>\n      <td>Software Engineer</td>\n      <td>Who we are:At Mambu, we believe that banking a...</td>\n      <td>Provincia di Latina, Lazio</td>\n      <td>OnSite</td>\n    </tr>\n    <tr>\n      <th>11</th>\n      <td>JUNIOR DEVELOPER</td>\n      <td>Sede lavoro: Bergamo | Tempo pieno \\n Livello:...</td>\n      <td>Bergamo, Lombardia</td>\n      <td>OnSite</td>\n    </tr>\n    <tr>\n      <th>12</th>\n      <td>Sviluppatore Java Junior</td>\n      <td>TRIA ricerca uno sviluppatore Java JuniorNeola...</td>\n      <td>None</td>\n      <td>Remote</td>\n    </tr>\n    <tr>\n      <th>13</th>\n      <td>Stage Software Developer</td>\n      <td>CHI SIAMO  \\n  Golilla è la start up delle azi...</td>\n      <td>20089 Rozzano</td>\n      <td>OnSite</td>\n    </tr>\n    <tr>\n      <th>14</th>\n      <td>Web Developer</td>\n      <td>Sei la persona che cerchiamo se:Sei appassiona...</td>\n      <td>San Benedetto del Tronto, Marche</td>\n      <td>OnSite</td>\n    </tr>\n    <tr>\n      <th>15</th>\n      <td>Software Developer</td>\n      <td>Siamo alla ricerca di un/una  Software Develop...</td>\n      <td>Catanzaro, Calabria</td>\n      <td>OnSite</td>\n    </tr>\n    <tr>\n      <th>16</th>\n      <td>Software Developer - AI Trainer (Contract)</td>\n      <td>We are looking for proficient  programmers  to...</td>\n      <td>None</td>\n      <td>Remote</td>\n    </tr>\n    <tr>\n      <th>17</th>\n      <td>tecnico software bilance digitali supermercati</td>\n      <td>Tecnico software per manutenzioni e assistenza...</td>\n      <td>Verona, Veneto</td>\n      <td>OnSite</td>\n    </tr>\n    <tr>\n      <th>18</th>\n      <td>Programmatore senior Java - settore sanità</td>\n      <td>Per ampliare il team di sviluppo della nostra ...</td>\n      <td>60131 Ancona</td>\n      <td>OnSite</td>\n    </tr>\n    <tr>\n      <th>19</th>\n      <td>Java Developer</td>\n      <td>Siamo alla ricerca di un/a  Java Developer  ch...</td>\n      <td>Milano, Lombardia</td>\n      <td>OnSite</td>\n    </tr>\n    <tr>\n      <th>20</th>\n      <td>Programmatore senior C# / ASP.NET - settore sa...</td>\n      <td>Per ampliare il team di sviluppo della nostra ...</td>\n      <td>60131 Ancona</td>\n      <td>OnSite</td>\n    </tr>\n    <tr>\n      <th>21</th>\n      <td>Manufacturing Software Engineer / Relocation USA</td>\n      <td>The Manufacturing Software Engineer will work ...</td>\n      <td>Torino, Piemonte</td>\n      <td>OnSite</td>\n    </tr>\n    <tr>\n      <th>22</th>\n      <td>Front-End - App Developer</td>\n      <td>Siamo alla ricerca di candidati brillanti per ...</td>\n      <td>Milano, Lombardia</td>\n      <td>OnSite</td>\n    </tr>\n    <tr>\n      <th>23</th>\n      <td>Sviluppatore C# - C# Programmer</td>\n      <td>Le principali responsabilità affidate alla ris...</td>\n      <td>Bologna, Emilia-Romagna</td>\n      <td>OnSite</td>\n    </tr>\n    <tr>\n      <th>24</th>\n      <td>Sviluppatore software</td>\n      <td>Cosa stiamo cercando  \\n Stiamo selezionando u...</td>\n      <td>37138 Verona</td>\n      <td>OnSite</td>\n    </tr>\n    <tr>\n      <th>25</th>\n      <td>HMI Software Developer</td>\n      <td>Ricerchiamo un laureato in ingegneria (informa...</td>\n      <td>04011 Aprilia</td>\n      <td>OnSite</td>\n    </tr>\n    <tr>\n      <th>26</th>\n      <td>Flutter Developer</td>\n      <td>We want to significantly strengthen the role o...</td>\n      <td>Milano, Lombardia</td>\n      <td>OnSite</td>\n    </tr>\n    <tr>\n      <th>27</th>\n      <td>Software Developer</td>\n      <td>Cerchiamo tre nuovi developers (middle e senio...</td>\n      <td>Cremona, Lombardia</td>\n      <td>OnSite</td>\n    </tr>\n    <tr>\n      <th>28</th>\n      <td>Software Developer Junior</td>\n      <td>JObros , divisione di ErgonGroup dedicata al L...</td>\n      <td>32100 Belluno</td>\n      <td>OnSite</td>\n    </tr>\n    <tr>\n      <th>29</th>\n      <td>Software Developer - FULL REMOTE</td>\n      <td>Vanguard System , divisione informatica del  G...</td>\n      <td>Bologna, Emilia-Romagna</td>\n      <td>OnSite</td>\n    </tr>\n    <tr>\n      <th>30</th>\n      <td>Software Engineer</td>\n      <td>Main Responsibilities  \\n - Design and develop...</td>\n      <td>Roma, Lazio</td>\n      <td>OnSite</td>\n    </tr>\n    <tr>\n      <th>40</th>\n      <td>Full Stack Developer</td>\n      <td>Role description:  \\n \\n- Develop new AI produ...</td>\n      <td>None</td>\n      <td>Remote</td>\n    </tr>\n    <tr>\n      <th>42</th>\n      <td>Programmatore software</td>\n      <td>Primaria Agenzia assicurativa di Roma ricerca ...</td>\n      <td>Roma, Lazio</td>\n      <td>OnSite</td>\n    </tr>\n    <tr>\n      <th>43</th>\n      <td>QA Engineer</td>\n      <td>What You Will Experience In This PositionIn th...</td>\n      <td>46020 Pegognaga</td>\n      <td>OnSite</td>\n    </tr>\n    <tr>\n      <th>68</th>\n      <td>Appartenente alle categorie protette Software ...</td>\n      <td>Annuncio dedicato alle persone appartenenti al...</td>\n      <td>20864 Agrate Brianza</td>\n      <td>OnSite</td>\n    </tr>\n    <tr>\n      <th>76</th>\n      <td>UK Software Engineering Apprenticeship</td>\n      <td>Who We AreWe’re a global technology communicat...</td>\n      <td>London</td>\n      <td>OnSite</td>\n    </tr>\n    <tr>\n      <th>77</th>\n      <td>Campus - Graduate Programme - Technology Gradu...</td>\n      <td>You Lead the Way. We’ve Got Your Back.  \\n  Wi...</td>\n      <td>Burgess Hill</td>\n      <td>OnSite</td>\n    </tr>\n    <tr>\n      <th>78</th>\n      <td>L4 Software Developer Apprentice</td>\n      <td>- Anywhere \\n- Posted 2 weeks agoFull Communic...</td>\n      <td>None</td>\n      <td>Remote</td>\n    </tr>\n    <tr>\n      <th>79</th>\n      <td>Frontend Software Developer</td>\n      <td>Frontend Software Developer (Fixed Term Contra...</td>\n      <td>None</td>\n      <td>Remote</td>\n    </tr>\n    <tr>\n      <th>80</th>\n      <td>Senior Software Developer</td>\n      <td>Senior Software DeveloperRemote (with option f...</td>\n      <td>None</td>\n      <td>Remote</td>\n    </tr>\n    <tr>\n      <th>81</th>\n      <td>Graduate Software Engineer (London)</td>\n      <td>Full-timeEmployee Status: RegularRole Type: Hy...</td>\n      <td>London SW15</td>\n      <td>OnSite</td>\n    </tr>\n    <tr>\n      <th>82</th>\n      <td>Software Developer</td>\n      <td>Location : Home basedContract : PermanentHours...</td>\n      <td>None</td>\n      <td>Remote</td>\n    </tr>\n    <tr>\n      <th>83</th>\n      <td>Front End Developer (100% Remote)</td>\n      <td>About BitfinexBitfinex is a digital asset trad...</td>\n      <td>None</td>\n      <td>Remote</td>\n    </tr>\n    <tr>\n      <th>84</th>\n      <td>Software Developer Degree Apprenticeship (Nott...</td>\n      <td>Full-timeEmployee Status: RegularRole Type: Hy...</td>\n      <td>Nottingham NG2</td>\n      <td>OnSite</td>\n    </tr>\n    <tr>\n      <th>85</th>\n      <td>Software Developer</td>\n      <td>Software DeveloperLocation: Devon, GB, PL4 0SD...</td>\n      <td>Exeter PL4</td>\n      <td>OnSite</td>\n    </tr>\n    <tr>\n      <th>86</th>\n      <td>Software Engineering Lead</td>\n      <td>Up to £72,000 + bonus &amp; benefits  \\n  We offer...</td>\n      <td>None</td>\n      <td>Remote</td>\n    </tr>\n    <tr>\n      <th>87</th>\n      <td>Junior Software Engineer (Backend)</td>\n      <td>As a Junior Software Engineer you will be oper...</td>\n      <td>None</td>\n      <td>Remote</td>\n    </tr>\n    <tr>\n      <th>88</th>\n      <td>Software Engineer Intern</td>\n      <td>Hungry, Humble, Honest, with Heart!The Opportu...</td>\n      <td>Cambridge</td>\n      <td>OnSite</td>\n    </tr>\n    <tr>\n      <th>89</th>\n      <td>System Software Engineer, Summer Intern - 2024...</td>\n      <td>ResponsibilitiesTikTok is the leading destinat...</td>\n      <td>London</td>\n      <td>OnSite</td>\n    </tr>\n    <tr>\n      <th>90</th>\n      <td>Software Developer</td>\n      <td>ORA (Oxford University Research Archive) is lo...</td>\n      <td>Oxford OX2</td>\n      <td>OnSite</td>\n    </tr>\n    <tr>\n      <th>101</th>\n      <td>Software Developer</td>\n      <td>Sviluppatore Software  \\n Società di Informati...</td>\n      <td>66100 Chieti</td>\n      <td>OnSite</td>\n    </tr>\n  </tbody>\n</table>\n</div>"
     },
     "execution_count": 39,
     "metadata": {},
     "output_type": "execute_result"
    }
   ],
   "source": [
    "LOCATION_TYPES = {\"Remote\" : \"Remote\", \"On Site\" : \"OnSite\"}\n",
    "locations_present = offers_frame[\"Location\"].notna()\n",
    "types = []\n",
    "\n",
    "for is_present in locations_present:\n",
    "    if is_present:\n",
    "        types.append(LOCATION_TYPES[\"On Site\"])\n",
    "    else:\n",
    "        types.append(LOCATION_TYPES[\"Remote\"])\n",
    "\n",
    "offers_frame.loc[:, \"LocationType\"] = types\n",
    "\n",
    "offers_frame"
   ],
   "metadata": {
    "collapsed": false,
    "ExecuteTime": {
     "end_time": "2024-01-23T17:59:47.183976300Z",
     "start_time": "2024-01-23T17:59:47.156977100Z"
    }
   },
   "id": "bc8aa120ff609173"
  }
 ],
 "metadata": {
  "kernelspec": {
   "display_name": "Python 3",
   "language": "python",
   "name": "python3"
  },
  "language_info": {
   "codemirror_mode": {
    "name": "ipython",
    "version": 2
   },
   "file_extension": ".py",
   "mimetype": "text/x-python",
   "name": "python",
   "nbconvert_exporter": "python",
   "pygments_lexer": "ipython2",
   "version": "2.7.6"
  }
 },
 "nbformat": 4,
 "nbformat_minor": 5
}
