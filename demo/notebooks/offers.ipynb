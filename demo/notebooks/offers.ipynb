{
 "cells": [
  {
   "cell_type": "code",
   "execution_count": 25,
   "id": "initial_id",
   "metadata": {
    "collapsed": true,
    "ExecuteTime": {
     "end_time": "2024-01-26T19:20:30.786826800Z",
     "start_time": "2024-01-26T19:20:30.686826Z"
    }
   },
   "outputs": [],
   "source": [
    "import sqlite3\n",
    "\n",
    "import numpy as np\n",
    "import pandas as pd\n",
    "import matplotlib.pyplot as plt\n",
    "%matplotlib inline\n",
    "import seaborn as sns\n"
   ]
  },
  {
   "cell_type": "code",
   "execution_count": 26,
   "outputs": [
    {
     "data": {
      "text/plain": "                                             Name  \\\n0                              Software Developer   \n1                       Junior Software Developer   \n2                              Software Developer   \n3                              Software Developer   \n4                       Senior Software Developer   \n..                                            ...   \n294             Machine Learning / Java Developer   \n295  Investigador predoctoral en Machine Learning   \n296         Manager, Machine Learning Engineering   \n297                 Machine Learning Ops/Engineer   \n298       FULLREMOTE-Data Scientist (Time Series)   \n\n                                           Description  \\\n0    Miniclip is a global leader in digital games w...   \n1    NETtoWORK, azienda italiana nata nel 2016, ope...   \n2    We are looking for talented and passionate peo...   \n3    ARESYS  is a R&D oriented company with nearly ...   \n4    Il/la Candidato/a dovrà padroneggiare: \\n \\n- ...   \n..                                                 ...   \n294  Descripción¡En Qindel Group estamos creciendo!...   \n295  Función: - Entrenamiento de modelos de Deep Le...   \n296  Affirm is reinventing credit to make it more h...   \n297  Attendance to the office in a hybrid work mode...   \n298  -Country:España-Province:Comunidad de Madrid-D...   \n\n                           Location  \n0                   Genova, Liguria  \n1                      17100 Savona  \n2                       55100 Lucca  \n3                Matera, Basilicata  \n4                  Catania, Sicilia  \n..                              ...  \n294    A Coruña, A Coruña provincia  \n295        Madrid, Madrid provincia  \n296  Barcelona, Barcelona provincia  \n297  28033 Madrid, Madrid provincia  \n298             Comunidad de Madrid  \n\n[299 rows x 3 columns]",
      "text/html": "<div>\n<style scoped>\n    .dataframe tbody tr th:only-of-type {\n        vertical-align: middle;\n    }\n\n    .dataframe tbody tr th {\n        vertical-align: top;\n    }\n\n    .dataframe thead th {\n        text-align: right;\n    }\n</style>\n<table border=\"1\" class=\"dataframe\">\n  <thead>\n    <tr style=\"text-align: right;\">\n      <th></th>\n      <th>Name</th>\n      <th>Description</th>\n      <th>Location</th>\n    </tr>\n  </thead>\n  <tbody>\n    <tr>\n      <th>0</th>\n      <td>Software Developer</td>\n      <td>Miniclip is a global leader in digital games w...</td>\n      <td>Genova, Liguria</td>\n    </tr>\n    <tr>\n      <th>1</th>\n      <td>Junior Software Developer</td>\n      <td>NETtoWORK, azienda italiana nata nel 2016, ope...</td>\n      <td>17100 Savona</td>\n    </tr>\n    <tr>\n      <th>2</th>\n      <td>Software Developer</td>\n      <td>We are looking for talented and passionate peo...</td>\n      <td>55100 Lucca</td>\n    </tr>\n    <tr>\n      <th>3</th>\n      <td>Software Developer</td>\n      <td>ARESYS  is a R&amp;D oriented company with nearly ...</td>\n      <td>Matera, Basilicata</td>\n    </tr>\n    <tr>\n      <th>4</th>\n      <td>Senior Software Developer</td>\n      <td>Il/la Candidato/a dovrà padroneggiare: \\n \\n- ...</td>\n      <td>Catania, Sicilia</td>\n    </tr>\n    <tr>\n      <th>...</th>\n      <td>...</td>\n      <td>...</td>\n      <td>...</td>\n    </tr>\n    <tr>\n      <th>294</th>\n      <td>Machine Learning / Java Developer</td>\n      <td>Descripción¡En Qindel Group estamos creciendo!...</td>\n      <td>A Coruña, A Coruña provincia</td>\n    </tr>\n    <tr>\n      <th>295</th>\n      <td>Investigador predoctoral en Machine Learning</td>\n      <td>Función: - Entrenamiento de modelos de Deep Le...</td>\n      <td>Madrid, Madrid provincia</td>\n    </tr>\n    <tr>\n      <th>296</th>\n      <td>Manager, Machine Learning Engineering</td>\n      <td>Affirm is reinventing credit to make it more h...</td>\n      <td>Barcelona, Barcelona provincia</td>\n    </tr>\n    <tr>\n      <th>297</th>\n      <td>Machine Learning Ops/Engineer</td>\n      <td>Attendance to the office in a hybrid work mode...</td>\n      <td>28033 Madrid, Madrid provincia</td>\n    </tr>\n    <tr>\n      <th>298</th>\n      <td>FULLREMOTE-Data Scientist (Time Series)</td>\n      <td>-Country:España-Province:Comunidad de Madrid-D...</td>\n      <td>Comunidad de Madrid</td>\n    </tr>\n  </tbody>\n</table>\n<p>299 rows × 3 columns</p>\n</div>"
     },
     "execution_count": 26,
     "metadata": {},
     "output_type": "execute_result"
    }
   ],
   "source": [
    "offers_connection = sqlite3.connect('../datasets/offers_dataset.db')\n",
    "offers_frame = pd.read_sql_query('''SELECT * FROM offers''', offers_connection)\n",
    "offers_connection.close()\n",
    "offers_frame"
   ],
   "metadata": {
    "collapsed": false,
    "ExecuteTime": {
     "end_time": "2024-01-26T19:20:30.917327200Z",
     "start_time": "2024-01-26T19:20:30.693327Z"
    }
   },
   "id": "2d019a7a9033f77c"
  },
  {
   "cell_type": "markdown",
   "source": [
    "## Data Exploration\n",
    "Come prima cosa esaminiamo il nostro dataset di offerte, in particolare dovremmo verificare la qualità dei dati:\n",
    "- Base   \n",
    "    - Presenza di valori nulli\n",
    "    - (**Importante**) Presenza di sinonimi geografici\n",
    "    - Presenza di informazioni utili\n",
    "- Avanzato\n",
    "    - Analisi delle Parole Chiave (es. Titoli)\n",
    "    - Analisi della distribuzione dei dati"
   ],
   "metadata": {
    "collapsed": false
   },
   "id": "b148d9cefa03d4c8"
  },
  {
   "cell_type": "markdown",
   "source": [
    "**Presenza di Valori Nulli e Duplicati**\n",
    "Come è possibile vedere di seguito il dataset contiene valori nulli solo per la colonna Location, il che però è normale, in quanto non tutte le Offerte di lavoro sono in presenza, quindi le Location mancanti rappresentano il numero di Offerte di lavoro in Remote.\n",
    "Questa informazione è importante perchè in seguito ci sarà la necessità di rappresentare queste informazioni in modo omogeneo, in modo tale che un modello il cui scopo è raggruppare le Offerte (clustering, come proposto nell'Analisi del Problema) possa farlo in modo adeguato."
   ],
   "metadata": {
    "collapsed": false
   },
   "id": "ce3fcaa61d9998aa"
  },
  {
   "cell_type": "code",
   "execution_count": 27,
   "outputs": [
    {
     "name": "stdout",
     "output_type": "stream",
     "text": [
      "<class 'pandas.core.frame.DataFrame'>\n",
      "RangeIndex: 299 entries, 0 to 298\n",
      "Data columns (total 3 columns):\n",
      " #   Column       Non-Null Count  Dtype \n",
      "---  ------       --------------  ----- \n",
      " 0   Name         299 non-null    object\n",
      " 1   Description  299 non-null    object\n",
      " 2   Location     263 non-null    object\n",
      "dtypes: object(3)\n",
      "memory usage: 7.1+ KB\n"
     ]
    }
   ],
   "source": [
    "offers_frame.dropna(subset='Name',inplace=True)\n",
    "offers_frame.drop_duplicates(inplace=True)\n",
    "offers_frame.info()"
   ],
   "metadata": {
    "collapsed": false,
    "ExecuteTime": {
     "end_time": "2024-01-26T19:20:30.921826200Z",
     "start_time": "2024-01-26T19:20:30.712326500Z"
    }
   },
   "id": "6ab03fba00230b25"
  },
  {
   "cell_type": "code",
   "execution_count": 27,
   "outputs": [],
   "source": [],
   "metadata": {
    "collapsed": false,
    "ExecuteTime": {
     "end_time": "2024-01-26T19:20:30.957325900Z",
     "start_time": "2024-01-26T19:20:30.730825800Z"
    }
   },
   "id": "b9a7069faf18760d"
  },
  {
   "cell_type": "markdown",
   "source": [
    "## Presenza di Sinonimi Geografici\n",
    "Il dataset contiene attualmente molteplici istanze in cui la stessa Location è riportata in modi diversi, come \\<Cap>, \\<Città> e \\<Città>, \\<Regione>.\n"
   ],
   "metadata": {
    "collapsed": false
   },
   "id": "51416aacfc058b23"
  },
  {
   "cell_type": "code",
   "execution_count": 28,
   "outputs": [],
   "source": [
    "#example_city = \"Bologna\"\n",
    "\n",
    "#onsite_offers = offers_frame[offers_frame[\"Location\"].notna()]\n",
    "#geo_syn = onsite_offers.Location.map(lambda text: example_city in text)\n",
    "#onsite_offers[geo_syn]"
   ],
   "metadata": {
    "collapsed": false,
    "ExecuteTime": {
     "end_time": "2024-01-26T19:20:30.957834500Z",
     "start_time": "2024-01-26T19:20:30.737326100Z"
    }
   },
   "id": "c99cee79c72dcdd0"
  },
  {
   "cell_type": "markdown",
   "source": [
    "**Analisi dei Titoli**\n",
    "Di seguito vengono analizzati i Titoli delle Offerte di lavoro con lo scopo di verificare la presenza di termini comuni, in particolare vengono usate delle basilari tecniche di Natural Language Processing come:\n",
    "- **Tokenization**, utilizzata per dividere frasi o documenti in parole (*title.split()*) \n",
    "- **Rimozione della Punteggiatura**, utilizzata per migliorare la qualità dei dati estratti, in modo da non influenzare i risultati \n",
    "- **Normalizzazione**, utilizzata per ridurre la complessità del vocabolario e trattare parole con maiuscole e minuscole come equivalenti (*t.lower()*)"
   ],
   "metadata": {
    "collapsed": false
   },
   "id": "ac2efe4d43ad79b0"
  },
  {
   "cell_type": "code",
   "execution_count": 29,
   "outputs": [
    {
     "data": {
      "text/plain": "Counter({'developer': 97,\n         'engineer': 74,\n         'software': 57,\n         'data': 33,\n         'junior': 32,\n         'frontend': 26,\n         'network': 21,\n         'senior': 20,\n         'backend': 20,\n         'analyst': 19,\n         'web': 16,\n         'scientist': 15,\n         'administrator': 14,\n         'full': 13,\n         'learning': 13,\n         'h/f': 13,\n         'machine': 11,\n         'sviluppatore': 10,\n         'intern': 10,\n         '–': 10,\n         'devops': 10,\n         'business': 10,\n         'java': 9,\n         '2024': 8,\n         'system': 8,\n         'stage': 7,\n         'front-end': 7,\n         'stack': 7,\n         'engineering': 7,\n         'security': 7,\n         'internship': 7,\n         'database': 7,\n         'remote': 6,\n         'cybersecurity': 6,\n         'development': 5,\n         'programmatore': 5,\n         'graduate': 5,\n         'remote)': 5,\n         'intelligence': 5,\n         'cyber': 5,\n         'specialist': 5,\n         'javascript': 5,\n         'f/h': 5,\n         'c#': 4,\n         '(100%': 4,\n         'lead': 4,\n         '(remote)': 4,\n         'manager': 4,\n         'reliability': 4,\n         'cloud': 4,\n         '(h/f)': 4,\n         'en': 4,\n         'ai': 3,\n         'apprenticeship': 3,\n         '(london)': 3,\n         'front': 3,\n         'end': 3,\n         'engineer,': 3,\n         'summer': 3,\n         'and': 3,\n         'consultant': 3,\n         'server': 3,\n         'site': 3,\n         'it': 3,\n         'soc': 3,\n         'embedded': 3,\n         'et': 3,\n         '100%': 3,\n         'remoto': 3,\n         'settore': 2,\n         'sanità': 2,\n         'app': 2,\n         'uk': 2,\n         'technology': 2,\n         'apprentice': 2,\n         '(backend)': 2,\n         'quality': 2,\n         'programming': 2,\n         'energy': 2,\n         'starting': 2,\n         'application': 2,\n         'associate': 2,\n         'freelance': 2,\n         'node.js': 2,\n         'infrastructure': 2,\n         'manager,': 2,\n         'sistemista': 2,\n         'milano': 2,\n         'rif.': 2,\n         'support': 2,\n         'sr.': 2,\n         'php': 2,\n         'e': 2,\n         'control': 2,\n         '(react)': 2,\n         'product': 2,\n         'sql': 2,\n         'for': 2,\n         'poei': 2,\n         'back-end': 2,\n         'alternance': 2,\n         'ingénieur': 2,\n         'f/m': 2,\n         'm/f': 2,\n         'or': 2,\n         'developers': 2,\n         'fullstack': 2,\n         'spain)': 2,\n         '(remote': 2,\n         'ibp': 1,\n         'algorithms': 1,\n         'unity': 1,\n         'game': 1,\n         'trainer': 1,\n         '(contract)': 1,\n         'tecnico': 1,\n         'bilance': 1,\n         'digitali': 1,\n         'supermercati': 1,\n         'asp.net': 1,\n         'manufacturing': 1,\n         'relocation': 1,\n         'usa': 1,\n         'programmer': 1,\n         'hmi': 1,\n         'flutter': 1,\n         'qa': 1,\n         'appartenente': 1,\n         'alle': 1,\n         'categorie': 1,\n         'protette': 1,\n         'erp': 1,\n         'campus': 1,\n         'programme': 1,\n         '(uk)': 1,\n         'l4': 1,\n         'degree': 1,\n         '(nottingham)': 1,\n         'start': 1,\n         '(fixed-term': 1,\n         'contract)': 1,\n         'emerging': 1,\n         'threats': 1,\n         'assurance/manual': 1,\n         'testing': 1,\n         'undergraduate': 1,\n         'harvesting': 1,\n         '(university': 1,\n         'grad)': 1,\n         'assistant': 1,\n         'foundation': 1,\n         '(edinburgh': 1,\n         'electrochemical': 1,\n         'modelling': 1,\n         'storage': 1,\n         '(12': 1,\n         'months)': 1,\n         '(eu)': 1,\n         'catalog': 1,\n         'geospatial': 1,\n         'analyst,': 1,\n         'university': 1,\n         'placement': 1,\n         '(september': 1,\n         'start)': 1,\n         'macro': 1,\n         'research': 1,\n         'london': 1,\n         'technical': 1,\n         'ux': 1,\n         'engineers': 1,\n         'middle+': 1,\n         'general': 1,\n         'digital': 1,\n         'designer': 1,\n         'siem': 1,\n         'power': 1,\n         'eso': 1,\n         '(security': 1,\n         'services)': 1,\n         'production': 1,\n         'f5': 1,\n         'pcn': 1,\n         'aws': 1,\n         'regional': 1,\n         '(remote,': 1,\n         'gbr)': 1,\n         'band': 1,\n         '6-': 1,\n         'cits': 1,\n         'ip': 1,\n         'merchandiser': 1,\n         'controller': 1,\n         'transformation': 1,\n         'financial': 1,\n         'services': 1,\n         '[cns]': 1,\n         'service': 1,\n         'desk': 1,\n         'operator': 1,\n         '(in': 1,\n         'brussels)': 1,\n         'firewall': 1,\n         'palo': 1,\n         'alto': 1,\n         'no': 1,\n         'freelancer!': 1,\n         '490': 1,\n         'progettista': 1,\n         'ict': 1,\n         'roma': 1,\n         '512': 1,\n         'valutazioni,': 1,\n         'industriali': 1,\n         'advisory': 1,\n         'engineer_milano': 1,\n         'middle/senior': 1,\n         'applicazioni': 1,\n         'shopify': 1,\n         'sviluppatori': 1,\n         'mobile': 1,\n         'linguaggio': 1,\n         'owl': 1,\n         'sparql': 1,\n         '[dig]': 1,\n         'global': 1,\n         'partner': 1,\n         'finance': 1,\n         'inside': 1,\n         'sales': 1,\n         'informatico': 1,\n         'labview': 1,\n         'automation/machine': 1,\n         'learning/ai': 1,\n         'computer': 1,\n         'vision': 1,\n         'alorithm': 1,\n         'sw': 1,\n         'gridspertise': 1,\n         'simulation': 1,\n         'modeling': 1,\n         'al': 1,\n         'engineers-machine': 1,\n         'deep': 1,\n         'elixir': 1,\n         '(virtual': 1,\n         'networking)': 1,\n         '(fully': 1,\n         'ios': 1,\n         'sfcc': 1,\n         '(c#)': 1,\n         'gov.uk': 1,\n         'notify': 1,\n         'pharma': 1,\n         'big': 1,\n         'pds': 1,\n         'ad&gmp': 1,\n         'i': 1,\n         'ethical': 1,\n         'eu': 1,\n         'institutions:': 1,\n         'dba': 1,\n         'oracle': 1,\n         'technician': 1,\n         'systems': 1,\n         'nosql': 1,\n         'broking': 1,\n         'deloitte': 1,\n         'nexthub': 1,\n         'bari': 1,\n         '(-1': 1,\n         'anno': 1,\n         'di': 1,\n         'esperienza)': 1,\n         '(roma)': 1,\n         'martech': 1,\n         'functional': 1,\n         'threat': 1,\n         'incident': 1,\n         'responder': 1,\n         'jr': 1,\n         'prov.': 1,\n         'trento': 1,\n         'jr/mid': 1,\n         'python': 1,\n         'developer/devops': 1,\n         'middle': 1,\n         'wealth': 1,\n         'asset': 1,\n         'management': 1,\n         'native': 1,\n         'staff': 1,\n         'tools': 1,\n         '(f/m/div)': 1,\n         'advanced': 1,\n         'process': 1,\n         'restauration': 1,\n         'hôtellerie': 1,\n         'départements': 1,\n         '06': 1,\n         '83': 1,\n         '(indépendant)': 1,\n         'international': 1,\n         'integration': 1,\n         'experienced': 1,\n         '18': 1,\n         'stagiaires': 1,\n         'aperol': 1,\n         'spritz': 1,\n         'plusieurs': 1,\n         'villes': 1,\n         'dans': 1,\n         'le': 1,\n         'sud': 1,\n         'de': 1,\n         'la': 1,\n         'france': 1,\n         'bcg': 1,\n         'x': 1,\n         'btoc': 1,\n         'btob': 1,\n         'lyon': 1,\n         'automation': 1,\n         'project': 1,\n         'leader': 1,\n         'evaluer': 1,\n         'développer': 1,\n         'des': 1,\n         'approches': 1,\n         'ia': 1,\n         'engineer-': 1,\n         'ingénieur-analyste': 1,\n         'engineer-analyst': 1,\n         'as': 1,\n         '24': 1,\n         'airbus': 1,\n         'upnext': 1,\n         '(m/f)': 1,\n         'toulouse': 1,\n         '(31)': 1,\n         'vue.js': 1,\n         'expert': 1,\n         '(vanilla)': 1,\n         '[western': 1,\n         'europe]': 1,\n         'développeur': 1,\n         '(intern)': 1,\n         'typescript/reactjs': 1,\n         'reactjs': 1,\n         '[freelance]': 1,\n         '(orange': 1,\n         'team)': 1,\n         'kraken': 1,\n         'technologies': 1,\n         'desarrollador/a': 1,\n         'españa': 1,\n         'patients': 1,\n         'area': 1,\n         'remote-friendly': 1,\n         'within': 1,\n         'tech': 1,\n         '(spain)': 1,\n         'work': 1,\n         'angular+': 1,\n         'react': 1,\n         'job)': 1,\n         '(full': 1,\n         '(typescript)': 1,\n         '(kraken': 1,\n         'siphon)': 1,\n         'nodejs': 1,\n         'remote,': 1,\n         '[remote]': 1,\n         'springboot': 1,\n         'in': 1,\n         'e-health': 1,\n         'startup': 1,\n         '(senior)': 1,\n         'marketplace': 1,\n         '(m/f/d)': 1,\n         'remoto),': 1,\n         'personalized': 1,\n         'internet': 1,\n         'assessor': 1,\n         'spain': 1,\n         '(spanish': 1,\n         'language)': 1,\n         'science': 1,\n         '(remoto)': 1,\n         'translation': 1,\n         '(german': 1,\n         'french)': 1,\n         'scientist-': 1,\n         'investigador': 1,\n         'predoctoral': 1,\n         'ops/engineer': 1,\n         'fullremote-data': 1,\n         '(time': 1,\n         'series)': 1})"
     },
     "execution_count": 29,
     "metadata": {},
     "output_type": "execute_result"
    }
   ],
   "source": [
    "from string import punctuation\n",
    "from collections import Counter\n",
    "\n",
    "def count_words(document: str, counter: Counter):\n",
    "    \"\"\"\n",
    "    :param document: a string representation of the document to inspect\n",
    "    :param counter: a Python built-in object used to count occurrences of items\n",
    "    \"\"\"\n",
    "    punct = [p for p in punctuation]\n",
    "    for t in document.split():\n",
    "        if not t in punct:\n",
    "            counter[t.lower()] += 1\n",
    "\n",
    "\n",
    "titles_counts = Counter()\n",
    "offers_frame.Name.map(lambda text: count_words(text, titles_counts))\n",
    "\n",
    "titles_counts"
   ],
   "metadata": {
    "collapsed": false,
    "ExecuteTime": {
     "end_time": "2024-01-26T19:20:30.990327100Z",
     "start_time": "2024-01-26T19:20:30.743826400Z"
    }
   },
   "id": "a47c7c31ce071ca4"
  },
  {
   "cell_type": "markdown",
   "source": [
    "Analisi delle occorrenze di parole:"
   ],
   "metadata": {
    "collapsed": false
   },
   "id": "26adff46bb768441"
  },
  {
   "cell_type": "markdown",
   "source": [
    "## Data Preparation\n",
    "Per permettere il completo soddisfacimento dei requisiti, alcuni dati mancanti alle offerte dovranno essere aggiunti al dataset, tra cui:\n",
    "- RequiredSkills: le Competenze richieste da una Offerta\n",
    "- LocationType: il tipo di Location, se in remoto (Remote) o in sede (OnSite)\n",
    "- Languages: le lingue naturali necessarie per l'offerta di lavoro"
   ],
   "metadata": {
    "collapsed": false
   },
   "id": "5225660adcd5fd35"
  },
  {
   "cell_type": "markdown",
   "source": [
    "### Skill Extraction\n",
    "L'estrazione delle Competenze, o *skill*, dal dataset delle Offerte è eseguita estraendo le skill richieste dalle descrizioni delle Offerte, facendo riferimento al dataset delle Competenze.\n",
    "\n",
    "Durante in seguito al processo di estrazione abbiamo notato che nel dataset erano presenti Offerte per cui non venivano specificate delle Competenze richieste, questo ci ha permesso di migliorare le procedure di estrazione e di identificare Competenze non contenute nel dataset; nonostante ciò sono rimaste delle Offerte che non richiedevano Competenze, in quanto effettivamente non venivano specificate nella descrizione, in questo caso sono state rimosse dal dataset in quanto il sistema Turing Careers durante il procedimento di creazione di una Offerta richiede a un Datore di Lavoro di inserire obbligatoriamente almeno una Competenza richiesta.\n",
    "\n",
    "Di seguito viene mostrato il procedimento di estrazione."
   ],
   "metadata": {
    "collapsed": false
   },
   "id": "610c2e04295de03d"
  },
  {
   "cell_type": "code",
   "execution_count": 31,
   "outputs": [],
   "source": [
    "with sqlite3.connect('../datasets/skills_dataset.db') as skills_connection:\n",
    "    skills_frame = pd.read_sql_query('SELECT * FROM skills', skills_connection)\n",
    "    skills_frame.set_index('ID', inplace=True)"
   ],
   "metadata": {
    "collapsed": false,
    "ExecuteTime": {
     "end_time": "2024-01-26T19:20:30.995331500Z",
     "start_time": "2024-01-26T19:20:30.772325800Z"
    }
   },
   "id": "f602ba7e22c94087"
  },
  {
   "cell_type": "code",
   "execution_count": 32,
   "outputs": [],
   "source": [
    "# --- In seguito le funzioni verranno aggregate all'interno di moduli python\n",
    "def remove_symbols(description: str, remove_map: dict) -> str:\n",
    "    \"\"\"\n",
    "    \"\"\"\n",
    "    for old, new in remove_map.items():\n",
    "        description = description.replace(old, new)\n",
    "    return description.lower()\n",
    "\n",
    "\n",
    "def extract_symbols(description: str, available_symbols: list) -> set:\n",
    "    s = set()\n",
    "    prev = ''\n",
    "    for word in description.split():\n",
    "        if word in available_symbols:\n",
    "            s.add(word)\n",
    "        elif f'{prev} {word}' in available_symbols:\n",
    "            s.add(f'{prev} {word}')  \n",
    "        prev = word\n",
    "    return s \n",
    "\n",
    "def translate_skills(skills: set, toId = False) -> set:\n",
    "    if toId:\n",
    "        return skill_to_id(skills)\n",
    "    else:\n",
    "        return id_to_skill(skills)\n",
    "\n",
    "def id_to_skill(skills: set[int]) -> set[str]:\n",
    "    out = set()\n",
    "    for skill in skills:\n",
    "        out.add(skills_frame.loc[skill, 'SKILL'])\n",
    "    \n",
    "    return out\n",
    "\n",
    "def skill_to_id(skills: set[str]) -> set[int]:\n",
    "    out = set()\n",
    "    for skill in skills:\n",
    "        out.add(\n",
    "            list(\n",
    "                skills_frame.loc[\n",
    "                    skills_frame['SKILL'].apply(lambda val: val.lower()) == skill.lower()\n",
    "                ].index\n",
    "            )[0]\n",
    "        )\n",
    "    \n",
    "    return out\n",
    "\n",
    "# Symbols to remove\n",
    "punct = [p for p in punctuation]\n",
    "punct.remove('+')\n",
    "punct.remove('#')\n",
    "# punct.remove('.')\n",
    "\n",
    "removal = {p: ' ' for p in punct}\n",
    "removal['\\n'] = ''\n",
    "removal['/'] = ' '\n",
    "removal['('] = ' '\n",
    "removal[')'] = ' '\n",
    "removal[','] = ' '\n",
    "removal['>'] = ' '\n",
    "removal['.'] = ' .'"
   ],
   "metadata": {
    "collapsed": false,
    "ExecuteTime": {
     "end_time": "2024-01-26T19:20:30.997826600Z",
     "start_time": "2024-01-26T19:20:30.787327200Z"
    }
   },
   "id": "fd2295e2a2f51c54"
  },
  {
   "cell_type": "code",
   "execution_count": 33,
   "outputs": [
    {
     "name": "stdout",
     "output_type": "stream",
     "text": [
      "There are 57 Offers with no skills available\n"
     ]
    },
    {
     "data": {
      "text/plain": "                                             Name  \\\n0                              Software Developer   \n1                       Junior Software Developer   \n2                              Software Developer   \n3                              Software Developer   \n4                       Senior Software Developer   \n..                                            ...   \n237             Machine Learning / Java Developer   \n238  Investigador predoctoral en Machine Learning   \n239         Manager, Machine Learning Engineering   \n240                 Machine Learning Ops/Engineer   \n241       FULLREMOTE-Data Scientist (Time Series)   \n\n                                           Description  \\\n0    Miniclip is a global leader in digital games w...   \n1    NETtoWORK, azienda italiana nata nel 2016, ope...   \n2    We are looking for talented and passionate peo...   \n3    ARESYS  is a R&D oriented company with nearly ...   \n4    Il/la Candidato/a dovrà padroneggiare: \\n \\n- ...   \n..                                                 ...   \n237  Descripción¡En Qindel Group estamos creciendo!...   \n238  Función: - Entrenamiento de modelos de Deep Le...   \n239  Affirm is reinventing credit to make it more h...   \n240  Attendance to the office in a hybrid work mode...   \n241  -Country:España-Province:Comunidad de Madrid-D...   \n\n                           Location                        RequiredSkills  \n0                   Genova, Liguria                            {100, 101}  \n1                      17100 Savona                       {2, 6, 7, 8, 9}  \n2                       55100 Lucca                     {0, 3, 6, 44, 26}  \n3                Matera, Basilicata                             {8, 9, 2}  \n4                  Catania, Sicilia  {0, 1, 3, 99, 6, 7, 104, 55, 57, 26}  \n..                              ...                                   ...  \n237    A Coruña, A Coruña provincia                         {2, 3, 6, 31}  \n238        Madrid, Madrid provincia                                   {2}  \n239  Barcelona, Barcelona provincia                        {3, 2, 59, 58}  \n240  28033 Madrid, Madrid provincia               {32, 2, 67, 89, 30, 31}  \n241             Comunidad de Madrid                              {104, 2}  \n\n[242 rows x 4 columns]",
      "text/html": "<div>\n<style scoped>\n    .dataframe tbody tr th:only-of-type {\n        vertical-align: middle;\n    }\n\n    .dataframe tbody tr th {\n        vertical-align: top;\n    }\n\n    .dataframe thead th {\n        text-align: right;\n    }\n</style>\n<table border=\"1\" class=\"dataframe\">\n  <thead>\n    <tr style=\"text-align: right;\">\n      <th></th>\n      <th>Name</th>\n      <th>Description</th>\n      <th>Location</th>\n      <th>RequiredSkills</th>\n    </tr>\n  </thead>\n  <tbody>\n    <tr>\n      <th>0</th>\n      <td>Software Developer</td>\n      <td>Miniclip is a global leader in digital games w...</td>\n      <td>Genova, Liguria</td>\n      <td>{100, 101}</td>\n    </tr>\n    <tr>\n      <th>1</th>\n      <td>Junior Software Developer</td>\n      <td>NETtoWORK, azienda italiana nata nel 2016, ope...</td>\n      <td>17100 Savona</td>\n      <td>{2, 6, 7, 8, 9}</td>\n    </tr>\n    <tr>\n      <th>2</th>\n      <td>Software Developer</td>\n      <td>We are looking for talented and passionate peo...</td>\n      <td>55100 Lucca</td>\n      <td>{0, 3, 6, 44, 26}</td>\n    </tr>\n    <tr>\n      <th>3</th>\n      <td>Software Developer</td>\n      <td>ARESYS  is a R&amp;D oriented company with nearly ...</td>\n      <td>Matera, Basilicata</td>\n      <td>{8, 9, 2}</td>\n    </tr>\n    <tr>\n      <th>4</th>\n      <td>Senior Software Developer</td>\n      <td>Il/la Candidato/a dovrà padroneggiare: \\n \\n- ...</td>\n      <td>Catania, Sicilia</td>\n      <td>{0, 1, 3, 99, 6, 7, 104, 55, 57, 26}</td>\n    </tr>\n    <tr>\n      <th>...</th>\n      <td>...</td>\n      <td>...</td>\n      <td>...</td>\n      <td>...</td>\n    </tr>\n    <tr>\n      <th>237</th>\n      <td>Machine Learning / Java Developer</td>\n      <td>Descripción¡En Qindel Group estamos creciendo!...</td>\n      <td>A Coruña, A Coruña provincia</td>\n      <td>{2, 3, 6, 31}</td>\n    </tr>\n    <tr>\n      <th>238</th>\n      <td>Investigador predoctoral en Machine Learning</td>\n      <td>Función: - Entrenamiento de modelos de Deep Le...</td>\n      <td>Madrid, Madrid provincia</td>\n      <td>{2}</td>\n    </tr>\n    <tr>\n      <th>239</th>\n      <td>Manager, Machine Learning Engineering</td>\n      <td>Affirm is reinventing credit to make it more h...</td>\n      <td>Barcelona, Barcelona provincia</td>\n      <td>{3, 2, 59, 58}</td>\n    </tr>\n    <tr>\n      <th>240</th>\n      <td>Machine Learning Ops/Engineer</td>\n      <td>Attendance to the office in a hybrid work mode...</td>\n      <td>28033 Madrid, Madrid provincia</td>\n      <td>{32, 2, 67, 89, 30, 31}</td>\n    </tr>\n    <tr>\n      <th>241</th>\n      <td>FULLREMOTE-Data Scientist (Time Series)</td>\n      <td>-Country:España-Province:Comunidad de Madrid-D...</td>\n      <td>Comunidad de Madrid</td>\n      <td>{104, 2}</td>\n    </tr>\n  </tbody>\n</table>\n<p>242 rows × 4 columns</p>\n</div>"
     },
     "execution_count": 33,
     "metadata": {},
     "output_type": "execute_result"
    }
   ],
   "source": [
    "# Get Skill list\n",
    "skills_list = [skill.lower() for skill in skills_frame['SKILL'].tolist()]\n",
    "\n",
    "\n",
    "# Extract skills from descriptions and add new column\n",
    "required_skills = [] \n",
    "for i, offer_description in enumerate(offers_frame.loc[:, 'Description']):\n",
    "    desc = remove_symbols(offer_description, removal)\n",
    "    offer_skills = extract_symbols(desc, skills_list)\n",
    "    required_skills.append(translate_skills(offer_skills, toId=True))\n",
    "offers_frame.insert(len(offers_frame.columns), \"RequiredSkills\", required_skills)\n",
    "\n",
    "length_raw = len(offers_frame)\n",
    "\n",
    "# Remove offers with no required skills\n",
    "offers_frame['RequiredSkills'] = offers_frame['RequiredSkills'].apply(lambda x: np.NaN if not x else x)\n",
    "offers_frame.dropna(subset='RequiredSkills', inplace=True)\n",
    "offers_frame.reset_index(drop=True, inplace=True)\n",
    "\n",
    "length_processed = len(offers_frame)\n",
    "print(f'There are {abs(length_processed - length_raw)} Offers with no skills available')\n",
    "offers_frame"
   ],
   "metadata": {
    "collapsed": false,
    "ExecuteTime": {
     "end_time": "2024-01-26T19:20:31.754828100Z",
     "start_time": "2024-01-26T19:20:30.797825900Z"
    }
   },
   "id": "21fbae0d15c8a9a6"
  },
  {
   "cell_type": "markdown",
   "source": [
    "### Tipo di Location\n",
    "Per estrarre il tipo di Location dalle informazioni attualmente già presenti nel dataset, \n",
    "saranno interpretate come di tipo Remote tutte le offerte che non presentano una Location."
   ],
   "metadata": {
    "collapsed": false
   },
   "id": "e1718ca2eae20e7a"
  },
  {
   "cell_type": "code",
   "execution_count": 34,
   "outputs": [
    {
     "data": {
      "text/plain": "                                             Name  \\\n0                              Software Developer   \n1                       Junior Software Developer   \n2                              Software Developer   \n3                              Software Developer   \n4                       Senior Software Developer   \n..                                            ...   \n237             Machine Learning / Java Developer   \n238  Investigador predoctoral en Machine Learning   \n239         Manager, Machine Learning Engineering   \n240                 Machine Learning Ops/Engineer   \n241       FULLREMOTE-Data Scientist (Time Series)   \n\n                                           Description  \\\n0    Miniclip is a global leader in digital games w...   \n1    NETtoWORK, azienda italiana nata nel 2016, ope...   \n2    We are looking for talented and passionate peo...   \n3    ARESYS  is a R&D oriented company with nearly ...   \n4    Il/la Candidato/a dovrà padroneggiare: \\n \\n- ...   \n..                                                 ...   \n237  Descripción¡En Qindel Group estamos creciendo!...   \n238  Función: - Entrenamiento de modelos de Deep Le...   \n239  Affirm is reinventing credit to make it more h...   \n240  Attendance to the office in a hybrid work mode...   \n241  -Country:España-Province:Comunidad de Madrid-D...   \n\n                           Location                        RequiredSkills  \\\n0                   Genova, Liguria                            {100, 101}   \n1                      17100 Savona                       {2, 6, 7, 8, 9}   \n2                       55100 Lucca                     {0, 3, 6, 44, 26}   \n3                Matera, Basilicata                             {8, 9, 2}   \n4                  Catania, Sicilia  {0, 1, 3, 99, 6, 7, 104, 55, 57, 26}   \n..                              ...                                   ...   \n237    A Coruña, A Coruña provincia                         {2, 3, 6, 31}   \n238        Madrid, Madrid provincia                                   {2}   \n239  Barcelona, Barcelona provincia                        {3, 2, 59, 58}   \n240  28033 Madrid, Madrid provincia               {32, 2, 67, 89, 30, 31}   \n241             Comunidad de Madrid                              {104, 2}   \n\n    LocationType  \n0         OnSite  \n1         OnSite  \n2         OnSite  \n3         OnSite  \n4         OnSite  \n..           ...  \n237       OnSite  \n238       OnSite  \n239       OnSite  \n240       OnSite  \n241       OnSite  \n\n[242 rows x 5 columns]",
      "text/html": "<div>\n<style scoped>\n    .dataframe tbody tr th:only-of-type {\n        vertical-align: middle;\n    }\n\n    .dataframe tbody tr th {\n        vertical-align: top;\n    }\n\n    .dataframe thead th {\n        text-align: right;\n    }\n</style>\n<table border=\"1\" class=\"dataframe\">\n  <thead>\n    <tr style=\"text-align: right;\">\n      <th></th>\n      <th>Name</th>\n      <th>Description</th>\n      <th>Location</th>\n      <th>RequiredSkills</th>\n      <th>LocationType</th>\n    </tr>\n  </thead>\n  <tbody>\n    <tr>\n      <th>0</th>\n      <td>Software Developer</td>\n      <td>Miniclip is a global leader in digital games w...</td>\n      <td>Genova, Liguria</td>\n      <td>{100, 101}</td>\n      <td>OnSite</td>\n    </tr>\n    <tr>\n      <th>1</th>\n      <td>Junior Software Developer</td>\n      <td>NETtoWORK, azienda italiana nata nel 2016, ope...</td>\n      <td>17100 Savona</td>\n      <td>{2, 6, 7, 8, 9}</td>\n      <td>OnSite</td>\n    </tr>\n    <tr>\n      <th>2</th>\n      <td>Software Developer</td>\n      <td>We are looking for talented and passionate peo...</td>\n      <td>55100 Lucca</td>\n      <td>{0, 3, 6, 44, 26}</td>\n      <td>OnSite</td>\n    </tr>\n    <tr>\n      <th>3</th>\n      <td>Software Developer</td>\n      <td>ARESYS  is a R&amp;D oriented company with nearly ...</td>\n      <td>Matera, Basilicata</td>\n      <td>{8, 9, 2}</td>\n      <td>OnSite</td>\n    </tr>\n    <tr>\n      <th>4</th>\n      <td>Senior Software Developer</td>\n      <td>Il/la Candidato/a dovrà padroneggiare: \\n \\n- ...</td>\n      <td>Catania, Sicilia</td>\n      <td>{0, 1, 3, 99, 6, 7, 104, 55, 57, 26}</td>\n      <td>OnSite</td>\n    </tr>\n    <tr>\n      <th>...</th>\n      <td>...</td>\n      <td>...</td>\n      <td>...</td>\n      <td>...</td>\n      <td>...</td>\n    </tr>\n    <tr>\n      <th>237</th>\n      <td>Machine Learning / Java Developer</td>\n      <td>Descripción¡En Qindel Group estamos creciendo!...</td>\n      <td>A Coruña, A Coruña provincia</td>\n      <td>{2, 3, 6, 31}</td>\n      <td>OnSite</td>\n    </tr>\n    <tr>\n      <th>238</th>\n      <td>Investigador predoctoral en Machine Learning</td>\n      <td>Función: - Entrenamiento de modelos de Deep Le...</td>\n      <td>Madrid, Madrid provincia</td>\n      <td>{2}</td>\n      <td>OnSite</td>\n    </tr>\n    <tr>\n      <th>239</th>\n      <td>Manager, Machine Learning Engineering</td>\n      <td>Affirm is reinventing credit to make it more h...</td>\n      <td>Barcelona, Barcelona provincia</td>\n      <td>{3, 2, 59, 58}</td>\n      <td>OnSite</td>\n    </tr>\n    <tr>\n      <th>240</th>\n      <td>Machine Learning Ops/Engineer</td>\n      <td>Attendance to the office in a hybrid work mode...</td>\n      <td>28033 Madrid, Madrid provincia</td>\n      <td>{32, 2, 67, 89, 30, 31}</td>\n      <td>OnSite</td>\n    </tr>\n    <tr>\n      <th>241</th>\n      <td>FULLREMOTE-Data Scientist (Time Series)</td>\n      <td>-Country:España-Province:Comunidad de Madrid-D...</td>\n      <td>Comunidad de Madrid</td>\n      <td>{104, 2}</td>\n      <td>OnSite</td>\n    </tr>\n  </tbody>\n</table>\n<p>242 rows × 5 columns</p>\n</div>"
     },
     "execution_count": 34,
     "metadata": {},
     "output_type": "execute_result"
    }
   ],
   "source": [
    "LOCATION_TYPES = {\"Remote\" : \"Remote\", \"On Site\" : \"OnSite\"}\n",
    "locations_present = offers_frame[\"Location\"].notna()\n",
    "types = []\n",
    "\n",
    "for is_present in locations_present:\n",
    "    if is_present:\n",
    "        types.append(LOCATION_TYPES[\"On Site\"])\n",
    "    else:\n",
    "        types.append(LOCATION_TYPES[\"Remote\"])\n",
    "\n",
    "offers_frame.loc[:, \"LocationType\"] = types\n",
    "\n",
    "offers_frame"
   ],
   "metadata": {
    "collapsed": false,
    "ExecuteTime": {
     "end_time": "2024-01-26T19:20:31.882325400Z",
     "start_time": "2024-01-26T19:20:31.825327100Z"
    }
   },
   "id": "bc8aa120ff609173"
  },
  {
   "cell_type": "markdown",
   "source": [
    "### Linguaggi Richiesti\n",
    "Per dedurre quali lingue parlate sono richieste da una data offerta di lavoro, viene utilizzato il modulo langdetect per identificare la lingua in cui è stata scritta la descrizione dell'offerta stessa, e successivamente tramite una ricerca all'interno del testo della descrizione per menzioni di ulteriori lingue."
   ],
   "metadata": {
    "collapsed": false
   },
   "id": "24560921d4d4adf6"
  },
  {
   "cell_type": "code",
   "execution_count": 35,
   "outputs": [
    {
     "data": {
      "text/plain": "                                             Name  \\\n0                              Software Developer   \n1                       Junior Software Developer   \n2                              Software Developer   \n3                              Software Developer   \n4                       Senior Software Developer   \n..                                            ...   \n237             Machine Learning / Java Developer   \n238  Investigador predoctoral en Machine Learning   \n239         Manager, Machine Learning Engineering   \n240                 Machine Learning Ops/Engineer   \n241       FULLREMOTE-Data Scientist (Time Series)   \n\n                                           Description  \\\n0    Miniclip is a global leader in digital games w...   \n1    NETtoWORK, azienda italiana nata nel 2016, ope...   \n2    We are looking for talented and passionate peo...   \n3    ARESYS  is a R&D oriented company with nearly ...   \n4    Il/la Candidato/a dovrà padroneggiare: \\n \\n- ...   \n..                                                 ...   \n237  Descripción¡En Qindel Group estamos creciendo!...   \n238  Función: - Entrenamiento de modelos de Deep Le...   \n239  Affirm is reinventing credit to make it more h...   \n240  Attendance to the office in a hybrid work mode...   \n241  -Country:España-Province:Comunidad de Madrid-D...   \n\n                           Location                        RequiredSkills  \\\n0                   Genova, Liguria                            {100, 101}   \n1                      17100 Savona                       {2, 6, 7, 8, 9}   \n2                       55100 Lucca                     {0, 3, 6, 44, 26}   \n3                Matera, Basilicata                             {8, 9, 2}   \n4                  Catania, Sicilia  {0, 1, 3, 99, 6, 7, 104, 55, 57, 26}   \n..                              ...                                   ...   \n237    A Coruña, A Coruña provincia                         {2, 3, 6, 31}   \n238        Madrid, Madrid provincia                                   {2}   \n239  Barcelona, Barcelona provincia                        {3, 2, 59, 58}   \n240  28033 Madrid, Madrid provincia               {32, 2, 67, 89, 30, 31}   \n241             Comunidad de Madrid                              {104, 2}   \n\n    LocationType   Languages  \n0         OnSite   {inglese}  \n1         OnSite  {italiano}  \n2         OnSite   {inglese}  \n3         OnSite   {inglese}  \n4         OnSite  {italiano}  \n..           ...         ...  \n237       OnSite        {es}  \n238       OnSite        {es}  \n239       OnSite   {inglese}  \n240       OnSite   {inglese}  \n241       OnSite   {inglese}  \n\n[242 rows x 6 columns]",
      "text/html": "<div>\n<style scoped>\n    .dataframe tbody tr th:only-of-type {\n        vertical-align: middle;\n    }\n\n    .dataframe tbody tr th {\n        vertical-align: top;\n    }\n\n    .dataframe thead th {\n        text-align: right;\n    }\n</style>\n<table border=\"1\" class=\"dataframe\">\n  <thead>\n    <tr style=\"text-align: right;\">\n      <th></th>\n      <th>Name</th>\n      <th>Description</th>\n      <th>Location</th>\n      <th>RequiredSkills</th>\n      <th>LocationType</th>\n      <th>Languages</th>\n    </tr>\n  </thead>\n  <tbody>\n    <tr>\n      <th>0</th>\n      <td>Software Developer</td>\n      <td>Miniclip is a global leader in digital games w...</td>\n      <td>Genova, Liguria</td>\n      <td>{100, 101}</td>\n      <td>OnSite</td>\n      <td>{inglese}</td>\n    </tr>\n    <tr>\n      <th>1</th>\n      <td>Junior Software Developer</td>\n      <td>NETtoWORK, azienda italiana nata nel 2016, ope...</td>\n      <td>17100 Savona</td>\n      <td>{2, 6, 7, 8, 9}</td>\n      <td>OnSite</td>\n      <td>{italiano}</td>\n    </tr>\n    <tr>\n      <th>2</th>\n      <td>Software Developer</td>\n      <td>We are looking for talented and passionate peo...</td>\n      <td>55100 Lucca</td>\n      <td>{0, 3, 6, 44, 26}</td>\n      <td>OnSite</td>\n      <td>{inglese}</td>\n    </tr>\n    <tr>\n      <th>3</th>\n      <td>Software Developer</td>\n      <td>ARESYS  is a R&amp;D oriented company with nearly ...</td>\n      <td>Matera, Basilicata</td>\n      <td>{8, 9, 2}</td>\n      <td>OnSite</td>\n      <td>{inglese}</td>\n    </tr>\n    <tr>\n      <th>4</th>\n      <td>Senior Software Developer</td>\n      <td>Il/la Candidato/a dovrà padroneggiare: \\n \\n- ...</td>\n      <td>Catania, Sicilia</td>\n      <td>{0, 1, 3, 99, 6, 7, 104, 55, 57, 26}</td>\n      <td>OnSite</td>\n      <td>{italiano}</td>\n    </tr>\n    <tr>\n      <th>...</th>\n      <td>...</td>\n      <td>...</td>\n      <td>...</td>\n      <td>...</td>\n      <td>...</td>\n      <td>...</td>\n    </tr>\n    <tr>\n      <th>237</th>\n      <td>Machine Learning / Java Developer</td>\n      <td>Descripción¡En Qindel Group estamos creciendo!...</td>\n      <td>A Coruña, A Coruña provincia</td>\n      <td>{2, 3, 6, 31}</td>\n      <td>OnSite</td>\n      <td>{es}</td>\n    </tr>\n    <tr>\n      <th>238</th>\n      <td>Investigador predoctoral en Machine Learning</td>\n      <td>Función: - Entrenamiento de modelos de Deep Le...</td>\n      <td>Madrid, Madrid provincia</td>\n      <td>{2}</td>\n      <td>OnSite</td>\n      <td>{es}</td>\n    </tr>\n    <tr>\n      <th>239</th>\n      <td>Manager, Machine Learning Engineering</td>\n      <td>Affirm is reinventing credit to make it more h...</td>\n      <td>Barcelona, Barcelona provincia</td>\n      <td>{3, 2, 59, 58}</td>\n      <td>OnSite</td>\n      <td>{inglese}</td>\n    </tr>\n    <tr>\n      <th>240</th>\n      <td>Machine Learning Ops/Engineer</td>\n      <td>Attendance to the office in a hybrid work mode...</td>\n      <td>28033 Madrid, Madrid provincia</td>\n      <td>{32, 2, 67, 89, 30, 31}</td>\n      <td>OnSite</td>\n      <td>{inglese}</td>\n    </tr>\n    <tr>\n      <th>241</th>\n      <td>FULLREMOTE-Data Scientist (Time Series)</td>\n      <td>-Country:España-Province:Comunidad de Madrid-D...</td>\n      <td>Comunidad de Madrid</td>\n      <td>{104, 2}</td>\n      <td>OnSite</td>\n      <td>{inglese}</td>\n    </tr>\n  </tbody>\n</table>\n<p>242 rows × 6 columns</p>\n</div>"
     },
     "execution_count": 35,
     "metadata": {},
     "output_type": "execute_result"
    }
   ],
   "source": [
    "from langdetect import detect\n",
    "offers_langs = []\n",
    "remove_map = {p:'' for p in punctuation}\n",
    "supported_langs = ['italiano', 'inglese', 'italian', 'english']\n",
    "eqs = [('italiano', 'italian'), ('inglese', 'english')]\n",
    "\n",
    "for desc in offers_frame.Description:\n",
    "    lang = detect(desc)\n",
    "    if lang == 'it':\n",
    "        lang = 'italiano'\n",
    "    elif lang == 'en':\n",
    "        lang = 'inglese'\n",
    "    \n",
    "    desc = remove_symbols(desc, remove_map)\n",
    "    found = extract_symbols(desc, supported_langs)\n",
    "    \n",
    "    found = list(found)\n",
    "    for i, l in enumerate(found):\n",
    "        for e in eqs:\n",
    "            if l in e:\n",
    "                found[i] = e[0]\n",
    "                break\n",
    "    \n",
    "    found = set(found)\n",
    "    found.add(lang)\n",
    "    offers_langs.append(found)\n",
    "    \n",
    "offers_frame.loc[:, \"Languages\"] = offers_langs\n",
    "\n",
    "offers_frame"
   ],
   "metadata": {
    "collapsed": false,
    "ExecuteTime": {
     "end_time": "2024-01-26T19:20:35.617325Z",
     "start_time": "2024-01-26T19:20:31.827826500Z"
    }
   },
   "id": "2981ee0458924810"
  },
  {
   "cell_type": "markdown",
   "source": [
    "**Distribuzione delle Lingue Richieste**\n",
    "\n",
    "Per verificare che il dataset fornisca una buona rappresentazione della realtà è sempre buona norma verificare la distribuzione dei dati, in alcuni casi, per la natura del problema, è impossibile avere un campionario bilanciato e bisogna ricorrere a tecniche *estreme* per ottenere un dataset la cui distribuzione non generi bias nei modelli di Machine Learning applicati, nel nostro caso invece basta ritornare alla fase di collezione dei dati; per questo motivo di seguito viene mostrata la distribuzione delle Lingue Richieste da una offerta. "
   ],
   "metadata": {
    "collapsed": false
   },
   "id": "7c4858e6e1062c33"
  },
  {
   "cell_type": "code",
   "execution_count": 36,
   "outputs": [],
   "source": [
    "# The count is executed given the assumption that the Required Languages can be Italian or English\n",
    "language_counter = Counter()\n",
    "for offer_languages in offers_frame.loc[:, 'Languages']:\n",
    "    if len(set(offer_languages)) == 2:\n",
    "        language_counter['both'] += 1\n",
    "    else:\n",
    "        for l in set(offer_languages):\n",
    "            language_counter[l] += 1"
   ],
   "metadata": {
    "collapsed": false,
    "ExecuteTime": {
     "end_time": "2024-01-26T19:20:35.617825800Z",
     "start_time": "2024-01-26T19:20:35.601825600Z"
    }
   },
   "id": "b4aa093a47f8b579"
  },
  {
   "cell_type": "code",
   "execution_count": 37,
   "outputs": [
    {
     "data": {
      "text/plain": "<Figure size 500x500 with 1 Axes>",
      "image/png": "[encoded data removed]"
     },
     "metadata": {},
     "output_type": "display_data"
    }
   ],
   "source": [
    "# A Pie-Chart is one of the best tools to analyze distribution given the visual nature\n",
    "plt.figure(figsize=(5, 5))\n",
    "plt.title('Required Languages Distribution')\n",
    "plt.pie(language_counter.values(), labels=language_counter.keys(), autopct='%0.f%%')\n",
    "plt.show()"
   ],
   "metadata": {
    "collapsed": false,
    "ExecuteTime": {
     "end_time": "2024-01-26T19:20:35.776827800Z",
     "start_time": "2024-01-26T19:20:35.608326300Z"
    }
   },
   "id": "b2ce5c069e10876e"
  },
  {
   "cell_type": "code",
   "execution_count": 37,
   "outputs": [],
   "source": [],
   "metadata": {
    "collapsed": false,
    "ExecuteTime": {
     "end_time": "2024-01-26T19:20:35.776827800Z",
     "start_time": "2024-01-26T19:20:35.765826400Z"
    }
   },
   "id": "5423f5cabdbd40e3"
  },
  {
   "cell_type": "code",
   "execution_count": 37,
   "outputs": [],
   "source": [],
   "metadata": {
    "collapsed": false,
    "ExecuteTime": {
     "end_time": "2024-01-26T19:20:35.777328100Z",
     "start_time": "2024-01-26T19:20:35.771326400Z"
    }
   },
   "id": "4198ae912d56a24"
  }
 ],
 "metadata": {
  "kernelspec": {
   "display_name": "Python 3",
   "language": "python",
   "name": "python3"
  },
  "language_info": {
   "codemirror_mode": {
    "name": "ipython",
    "version": 2
   },
   "file_extension": ".py",
   "mimetype": "text/x-python",
   "name": "python",
   "nbconvert_exporter": "python",
   "pygments_lexer": "ipython2",
   "version": "2.7.6"
  }
 },
 "nbformat": 4,
 "nbformat_minor": 5
}
