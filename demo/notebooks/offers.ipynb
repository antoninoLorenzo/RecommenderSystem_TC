{
 "cells": [
  {
   "cell_type": "code",
   "execution_count": 99,
   "id": "initial_id",
   "metadata": {
    "collapsed": true,
    "ExecuteTime": {
     "end_time": "2024-01-23T17:26:53.233339100Z",
     "start_time": "2024-01-23T17:26:53.161337600Z"
    }
   },
   "outputs": [],
   "source": [
    "import sqlite3\n",
    "import numpy as np\n",
    "import pandas as pd\n",
    "import matplotlib.pyplot as plt\n",
    "%matplotlib inline\n",
    "import seaborn as sns\n"
   ]
  },
  {
   "cell_type": "code",
   "execution_count": 100,
   "outputs": [
    {
     "data": {
      "text/plain": "                          Name  \\\nID                               \n1           Software Developer   \n2    Junior Software Developer   \n3           Software Developer   \n4           Software Developer   \n5    Senior Software Developer   \n..                         ...   \n850           JUNIOR DEVELOPER   \n851   Sviluppatore Java Junior   \n852   Stage Software Developer   \n853              Web Developer   \n854         Software Developer   \n\n                                           Description  \\\nID                                                       \n1    Miniclip is a global leader in digital games w...   \n2    NETtoWORK, azienda italiana nata nel 2016, ope...   \n3    We are looking for talented and passionate peo...   \n4    ARESYS  is a R&D oriented company with nearly ...   \n5    Il/la Candidato/a dovrà padroneggiare: \\n \\n- ...   \n..                                                 ...   \n850  Sede lavoro: Bergamo | Tempo pieno \\n Livello:...   \n851  TRIA ricerca uno sviluppatore Java JuniorNeola...   \n852  CHI SIAMO  \\n  Golilla è la start up delle azi...   \n853  Sei la persona che cerchiamo se:Sei appassiona...   \n854  Siamo alla ricerca di un/una  Software Develop...   \n\n                             Location  \nID                                     \n1                     Genova, Liguria  \n2                        17100 Savona  \n3                         55100 Lucca  \n4                  Matera, Basilicata  \n5                    Catania, Sicilia  \n..                                ...  \n850                Bergamo, Lombardia  \n851                              None  \n852                     20089 Rozzano  \n853  San Benedetto del Tronto, Marche  \n854               Catanzaro, Calabria  \n\n[854 rows x 3 columns]",
      "text/html": "<div>\n<style scoped>\n    .dataframe tbody tr th:only-of-type {\n        vertical-align: middle;\n    }\n\n    .dataframe tbody tr th {\n        vertical-align: top;\n    }\n\n    .dataframe thead th {\n        text-align: right;\n    }\n</style>\n<table border=\"1\" class=\"dataframe\">\n  <thead>\n    <tr style=\"text-align: right;\">\n      <th></th>\n      <th>Name</th>\n      <th>Description</th>\n      <th>Location</th>\n    </tr>\n    <tr>\n      <th>ID</th>\n      <th></th>\n      <th></th>\n      <th></th>\n    </tr>\n  </thead>\n  <tbody>\n    <tr>\n      <th>1</th>\n      <td>Software Developer</td>\n      <td>Miniclip is a global leader in digital games w...</td>\n      <td>Genova, Liguria</td>\n    </tr>\n    <tr>\n      <th>2</th>\n      <td>Junior Software Developer</td>\n      <td>NETtoWORK, azienda italiana nata nel 2016, ope...</td>\n      <td>17100 Savona</td>\n    </tr>\n    <tr>\n      <th>3</th>\n      <td>Software Developer</td>\n      <td>We are looking for talented and passionate peo...</td>\n      <td>55100 Lucca</td>\n    </tr>\n    <tr>\n      <th>4</th>\n      <td>Software Developer</td>\n      <td>ARESYS  is a R&amp;D oriented company with nearly ...</td>\n      <td>Matera, Basilicata</td>\n    </tr>\n    <tr>\n      <th>5</th>\n      <td>Senior Software Developer</td>\n      <td>Il/la Candidato/a dovrà padroneggiare: \\n \\n- ...</td>\n      <td>Catania, Sicilia</td>\n    </tr>\n    <tr>\n      <th>...</th>\n      <td>...</td>\n      <td>...</td>\n      <td>...</td>\n    </tr>\n    <tr>\n      <th>850</th>\n      <td>JUNIOR DEVELOPER</td>\n      <td>Sede lavoro: Bergamo | Tempo pieno \\n Livello:...</td>\n      <td>Bergamo, Lombardia</td>\n    </tr>\n    <tr>\n      <th>851</th>\n      <td>Sviluppatore Java Junior</td>\n      <td>TRIA ricerca uno sviluppatore Java JuniorNeola...</td>\n      <td>None</td>\n    </tr>\n    <tr>\n      <th>852</th>\n      <td>Stage Software Developer</td>\n      <td>CHI SIAMO  \\n  Golilla è la start up delle azi...</td>\n      <td>20089 Rozzano</td>\n    </tr>\n    <tr>\n      <th>853</th>\n      <td>Web Developer</td>\n      <td>Sei la persona che cerchiamo se:Sei appassiona...</td>\n      <td>San Benedetto del Tronto, Marche</td>\n    </tr>\n    <tr>\n      <th>854</th>\n      <td>Software Developer</td>\n      <td>Siamo alla ricerca di un/una  Software Develop...</td>\n      <td>Catanzaro, Calabria</td>\n    </tr>\n  </tbody>\n</table>\n<p>854 rows × 3 columns</p>\n</div>"
     },
     "execution_count": 100,
     "metadata": {},
     "output_type": "execute_result"
    }
   ],
   "source": [
    "offers_connection = sqlite3.connect('../datasets/offers_dataset.db')\n",
    "offers_frame = pd.read_sql_query('''SELECT * FROM offers''', offers_connection)\n",
    "offers_frame.set_index('ID', inplace=True)\n",
    "offers_connection.close()\n",
    "\n",
    "# [!] Le descrizioni all'interno del notebook non sono mostrate nella loro versione completa\n",
    "#     per accedere ad una specifica descrizione usare il metodo: offers_frame.loc[ID, NomeColonna]\n",
    "offers_frame"
   ],
   "metadata": {
    "collapsed": false,
    "ExecuteTime": {
     "end_time": "2024-01-23T17:26:53.381336600Z",
     "start_time": "2024-01-23T17:26:53.170334200Z"
    }
   },
   "id": "2d019a7a9033f77c"
  },
  {
   "cell_type": "markdown",
   "source": [
    "## Data Exploration\n",
    "Come prima cosa esaminiamo il nostro dataset di offerte, in particolare dovremmo verificare la qualità dei dati:\n",
    "- Base   \n",
    "    - Presenza di valori nulli\n",
    "    - (**Importante**) Presenza di sinonimi geografici\n",
    "    - Presenza di informazioni utili\n",
    "- Avanzato\n",
    "    - Analisi delle Parole Chiave (es. Titoli)\n",
    "    - Analisi della distribuzione dei dati"
   ],
   "metadata": {
    "collapsed": false
   },
   "id": "b148d9cefa03d4c8"
  },
  {
   "cell_type": "markdown",
   "source": [
    "**Presenza di Valori Nulli e Duplicati**\n",
    "Come è possibile vedere di seguito il dataset contiene valori nulli solo per la colonna Location, il che però è normale, in quanto non tutte le Offerte di lavoro sono in presenza, quindi le Location mancanti rappresentano il numero di Offerte di lavoro in Remote.\n",
    "Questa informazione è importante perchè in seguito ci sarà la necessità di rappresentare queste informazioni in modo omogeneo, in modo tale che un modello il cui scopo è raggruppare le Offerte (clustering, come proposto nell'Analisi del Problema) possa farlo in modo adeguato."
   ],
   "metadata": {
    "collapsed": false
   },
   "id": "ce3fcaa61d9998aa"
  },
  {
   "cell_type": "code",
   "execution_count": 101,
   "outputs": [
    {
     "name": "stdout",
     "output_type": "stream",
     "text": [
      "<class 'pandas.core.frame.DataFrame'>\n",
      "Index: 50 entries, 1 to 101\n",
      "Data columns (total 3 columns):\n",
      " #   Column       Non-Null Count  Dtype \n",
      "---  ------       --------------  ----- \n",
      " 0   Name         50 non-null     object\n",
      " 1   Description  50 non-null     object\n",
      " 2   Location     38 non-null     object\n",
      "dtypes: object(3)\n",
      "memory usage: 1.6+ KB\n"
     ]
    }
   ],
   "source": [
    "offers_frame.drop_duplicates(inplace=True)\n",
    "offers_frame.info()"
   ],
   "metadata": {
    "collapsed": false,
    "ExecuteTime": {
     "end_time": "2024-01-23T17:26:53.405835200Z",
     "start_time": "2024-01-23T17:26:53.195335800Z"
    }
   },
   "id": "6ab03fba00230b25"
  },
  {
   "cell_type": "code",
   "execution_count": 101,
   "outputs": [],
   "source": [],
   "metadata": {
    "collapsed": false,
    "ExecuteTime": {
     "end_time": "2024-01-23T17:26:53.406336100Z",
     "start_time": "2024-01-23T17:26:53.215334900Z"
    }
   },
   "id": "b9a7069faf18760d"
  },
  {
   "cell_type": "markdown",
   "source": [
    "## Presenza di Sinonimi Geografici\n",
    "Il dataset contiene attualmente molteplici istanze in cui la stessa Location è riportata in modi diversi, come \\<Cap>, \\<Città> e \\<Città>, \\<Regione>.\n"
   ],
   "metadata": {
    "collapsed": false
   },
   "id": "51416aacfc058b23"
  },
  {
   "cell_type": "code",
   "execution_count": 102,
   "outputs": [],
   "source": [
    "#example_city = \"Bologna\"\n",
    "\n",
    "#onsite_offers = offers_frame[offers_frame[\"Location\"].notna()]\n",
    "#geo_syn = onsite_offers.Location.map(lambda text: example_city in text)\n",
    "#onsite_offers[geo_syn]"
   ],
   "metadata": {
    "collapsed": false,
    "ExecuteTime": {
     "end_time": "2024-01-23T17:26:53.406336100Z",
     "start_time": "2024-01-23T17:26:53.223335400Z"
    }
   },
   "id": "c99cee79c72dcdd0"
  },
  {
   "cell_type": "markdown",
   "source": [
    "**Analisi dei Titoli**\n",
    "Di seguito vengono analizzati i Titoli delle Offerte di lavoro con lo scopo di verificare la presenza di termini comuni, in particolare vengono usate delle basilari tecniche di Natural Language Processing come:\n",
    "- **Tokenization**, utilizzata per dividere frasi o documenti in parole (*title.split()*) \n",
    "- **Rimozione della Punteggiatura**, utilizzata per migliorare la qualità dei dati estratti, in modo da non influenzare i risultati \n",
    "- **Normalizzazione**, utilizzata per ridurre la complessità del vocabolario e trattare parole con maiuscole e minuscole come equivalenti (*t.lower()*)"
   ],
   "metadata": {
    "collapsed": false
   },
   "id": "ac2efe4d43ad79b0"
  },
  {
   "cell_type": "code",
   "execution_count": 103,
   "outputs": [
    {
     "data": {
      "text/plain": "Counter({'software': 36,\n         'developer': 30,\n         'engineer': 8,\n         'junior': 6,\n         'senior': 4,\n         'sviluppatore': 3,\n         'java': 3,\n         'programmatore': 3,\n         'c#': 3,\n         'graduate': 3,\n         'frontend': 2,\n         'settore': 2,\n         'sanità': 2,\n         'full': 2,\n         'engineering': 2,\n         'apprenticeship': 2,\n         '2024': 2,\n         'intern': 2,\n         'ibp': 1,\n         'algorithms': 1,\n         'development': 1,\n         'unity': 1,\n         'game': 1,\n         'stage': 1,\n         'web': 1,\n         'ai': 1,\n         'trainer': 1,\n         '(contract)': 1,\n         'tecnico': 1,\n         'bilance': 1,\n         'digitali': 1,\n         'supermercati': 1,\n         'asp.net': 1,\n         'manufacturing': 1,\n         'relocation': 1,\n         'usa': 1,\n         'front-end': 1,\n         'app': 1,\n         'programmer': 1,\n         'hmi': 1,\n         'flutter': 1,\n         'remote': 1,\n         'stack': 1,\n         'qa': 1,\n         'appartenente': 1,\n         'alle': 1,\n         'categorie': 1,\n         'protette': 1,\n         'erp': 1,\n         'uk': 1,\n         'campus': 1,\n         'programme': 1,\n         'technology': 1,\n         '(uk)': 1,\n         'l4': 1,\n         'apprentice': 1,\n         '(london)': 1,\n         'front': 1,\n         'end': 1,\n         '(100%': 1,\n         'remote)': 1,\n         'degree': 1,\n         '(nottingham)': 1,\n         'lead': 1,\n         '(backend)': 1,\n         'system': 1,\n         'engineer,': 1,\n         'summer': 1,\n         'start': 1,\n         '(fixed-term': 1,\n         'contract)': 1})"
     },
     "execution_count": 103,
     "metadata": {},
     "output_type": "execute_result"
    }
   ],
   "source": [
    "from string import punctuation\n",
    "from collections import Counter\n",
    "\n",
    "def count_words(document: str, counter: Counter):\n",
    "    \"\"\"\n",
    "    :param document: a string representation of the document to inspect\n",
    "    :param counter: a Python built-in object used to count occurrences of items\n",
    "    \"\"\"\n",
    "    punct = [p for p in punctuation]\n",
    "    for t in document.split():\n",
    "        if not t in punct:\n",
    "            counter[t.lower()] += 1\n",
    "\n",
    "\n",
    "titles_counts = Counter()\n",
    "offers_frame.Name.map(lambda text: count_words(text, titles_counts))\n",
    "\n",
    "titles_counts"
   ],
   "metadata": {
    "collapsed": false,
    "ExecuteTime": {
     "end_time": "2024-01-23T17:26:53.424834100Z",
     "start_time": "2024-01-23T17:26:53.228835800Z"
    }
   },
   "id": "a47c7c31ce071ca4"
  },
  {
   "cell_type": "markdown",
   "source": [
    "Analisi delle occorrenze di parole:"
   ],
   "metadata": {
    "collapsed": false
   },
   "id": "26adff46bb768441"
  },
  {
   "cell_type": "code",
   "execution_count": 104,
   "outputs": [],
   "source": [
    "# Jacopo plotta qui"
   ],
   "metadata": {
    "collapsed": false,
    "ExecuteTime": {
     "end_time": "2024-01-23T17:26:53.425335500Z",
     "start_time": "2024-01-23T17:26:53.245334600Z"
    }
   },
   "id": "77d18769c1283146"
  },
  {
   "cell_type": "code",
   "execution_count": 104,
   "outputs": [],
   "source": [],
   "metadata": {
    "collapsed": false,
    "ExecuteTime": {
     "end_time": "2024-01-23T17:26:53.425335500Z",
     "start_time": "2024-01-23T17:26:53.250337400Z"
    }
   },
   "id": "fe02bb277e4b6bf5"
  },
  {
   "cell_type": "code",
   "execution_count": 104,
   "outputs": [],
   "source": [],
   "metadata": {
    "collapsed": false,
    "ExecuteTime": {
     "end_time": "2024-01-23T17:26:53.426835Z",
     "start_time": "2024-01-23T17:26:53.255337400Z"
    }
   },
   "id": "8447b5bb6bfb0af9"
  },
  {
   "cell_type": "markdown",
   "source": [
    "### Skill Extraction\n",
    "Per procedere con l'estrazione delle Competenze dalle Offerte per prima cosa importiamo il relativo dataset.   "
   ],
   "metadata": {
    "collapsed": false
   },
   "id": "142416c0760ec20f"
  },
  {
   "cell_type": "code",
   "execution_count": 105,
   "outputs": [
    {
     "data": {
      "text/plain": "         SKILL                  TYPE\nID                                  \n0   JavaScript  Programming Language\n1         HTML  Programming Language\n2       Python  Programming Language\n3          SQL  Programming Language\n4   TypeScript  Programming Language\n..         ...                   ...\n95         APT                  Tool\n96    Unity 3D                  Tool\n97      Pacman                  Tool\n98        pnpm                  Tool\n99         CSS  Programming Language\n\n[99 rows x 2 columns]",
      "text/html": "<div>\n<style scoped>\n    .dataframe tbody tr th:only-of-type {\n        vertical-align: middle;\n    }\n\n    .dataframe tbody tr th {\n        vertical-align: top;\n    }\n\n    .dataframe thead th {\n        text-align: right;\n    }\n</style>\n<table border=\"1\" class=\"dataframe\">\n  <thead>\n    <tr style=\"text-align: right;\">\n      <th></th>\n      <th>SKILL</th>\n      <th>TYPE</th>\n    </tr>\n    <tr>\n      <th>ID</th>\n      <th></th>\n      <th></th>\n    </tr>\n  </thead>\n  <tbody>\n    <tr>\n      <th>0</th>\n      <td>JavaScript</td>\n      <td>Programming Language</td>\n    </tr>\n    <tr>\n      <th>1</th>\n      <td>HTML</td>\n      <td>Programming Language</td>\n    </tr>\n    <tr>\n      <th>2</th>\n      <td>Python</td>\n      <td>Programming Language</td>\n    </tr>\n    <tr>\n      <th>3</th>\n      <td>SQL</td>\n      <td>Programming Language</td>\n    </tr>\n    <tr>\n      <th>4</th>\n      <td>TypeScript</td>\n      <td>Programming Language</td>\n    </tr>\n    <tr>\n      <th>...</th>\n      <td>...</td>\n      <td>...</td>\n    </tr>\n    <tr>\n      <th>95</th>\n      <td>APT</td>\n      <td>Tool</td>\n    </tr>\n    <tr>\n      <th>96</th>\n      <td>Unity 3D</td>\n      <td>Tool</td>\n    </tr>\n    <tr>\n      <th>97</th>\n      <td>Pacman</td>\n      <td>Tool</td>\n    </tr>\n    <tr>\n      <th>98</th>\n      <td>pnpm</td>\n      <td>Tool</td>\n    </tr>\n    <tr>\n      <th>99</th>\n      <td>CSS</td>\n      <td>Programming Language</td>\n    </tr>\n  </tbody>\n</table>\n<p>99 rows × 2 columns</p>\n</div>"
     },
     "execution_count": 105,
     "metadata": {},
     "output_type": "execute_result"
    }
   ],
   "source": [
    "with sqlite3.connect('../datasets/skills_dataset.db') as skills_connection:\n",
    "    skills_frame = pd.read_sql_query('SELECT * FROM skills', skills_connection)\n",
    "    skills_frame.set_index('ID', inplace=True)\n",
    "    \n",
    "skills_frame"
   ],
   "metadata": {
    "collapsed": false,
    "ExecuteTime": {
     "end_time": "2024-01-23T17:26:53.427837300Z",
     "start_time": "2024-01-23T17:26:53.263334200Z"
    }
   },
   "id": "ac82e9acc4696e99"
  },
  {
   "cell_type": "markdown",
   "source": [],
   "metadata": {
    "collapsed": false
   },
   "id": "21cb6a22ff972b2c"
  },
  {
   "cell_type": "code",
   "execution_count": 106,
   "outputs": [],
   "source": [
    "# Get Skill list\n",
    "skills_list = [skill.lower() for skill in skills_frame['SKILL'].tolist()]\n",
    "\n",
    "# Symbols to remove\n",
    "punct = [p for p in punctuation]\n",
    "punct.remove('+')\n",
    "punct.remove('#')\n",
    "\n",
    "removal = {p: '' for p in punct}\n",
    "removal['\\n'] = ''\n",
    "\n",
    "def remove_symbols(description: str, remove_map: dict) -> str:\n",
    "    for old, new in remove_map.items():\n",
    "        description = description.replace(old, new)\n",
    "    return description.lower()\n",
    "\n",
    "\n",
    "def extract_skills(description: str, available_skills: list) -> set:\n",
    "    s = set()\n",
    "    for word in description.split():\n",
    "        if word in available_skills:\n",
    "            s.add(word)\n",
    "    return s "
   ],
   "metadata": {
    "collapsed": false,
    "ExecuteTime": {
     "end_time": "2024-01-23T17:26:53.428335200Z",
     "start_time": "2024-01-23T17:26:53.282336300Z"
    }
   },
   "id": "6eabb82423ef85c7"
  },
  {
   "cell_type": "code",
   "execution_count": 107,
   "outputs": [
    {
     "name": "stdout",
     "output_type": "stream",
     "text": [
      "0-Offer: No Skills\n",
      "{'c', 'c#', 'java', 'c++', 'python'}\n",
      "{'oracle', 'javascript', 'angular', 'java'}\n",
      "{'c++', 'python'}\n",
      "{'javascript', 'c#', 'sql', 'java', 'angularjs'}\n",
      "{'java'}\n",
      "6-Offer: No Skills\n",
      "7-Offer: No Skills\n",
      "{'javascript', 'html', 'css'}\n",
      "{'mysql', 'java'}\n",
      "{'jquery', 'javascript', 'c#', 'sql', 'html', 'css'}\n",
      "{'java'}\n",
      "{'docker', 'javascript', 'php', 'react', 'go', 'java', 'kubernetes'}\n",
      "13-Offer: No Skills\n",
      "{'angular', 'react', 'typescript'}\n",
      "15-Offer: No Skills\n",
      "16-Offer: No Skills\n",
      "{'java'}\n",
      "{'oracle', 'angular', 'react', 'java'}\n",
      "19-Offer: No Skills\n",
      "{'mysql', 'c#', 'sql', 'java', 'c++', 'python'}\n",
      "{'oracle', 'javascript', 'typescript', 'flutter', 'react', 'angular', 'dart'}\n",
      "{'c#', 'sql'}\n",
      "{'javascript', 'php', 'sql', 'python'}\n",
      "24-Offer: No Skills\n",
      "{'dart', 'flutter'}\n",
      "{'docker', 'vite', 'c#', 'sql'}\n",
      "{'php', 'c#', 'java'}\n",
      "{'python', 'c#', 'java'}\n",
      "{'c++', 'c', 'java'}\n",
      "{'docker', 'mysql', 'javascript', 'django', 'sql', 'css', 'postgresql', 'python'}\n",
      "{'mysql', 'sql'}\n",
      "32-Offer: No Skills\n",
      "{'sql'}\n",
      "34-Offer: No Skills\n",
      "{'express', 'go', 'java', 'css', 'kotlin', 'python'}\n",
      "{'javascript', 'php', 'html', 'go', 'css'}\n",
      "{'javascript', 'html', 'angular', 'css'}\n",
      "{'javascript', 'react', 'c#'}\n",
      "{'css', 'javascript', 'html', 'java'}\n",
      "{'javascript', 'typescript', 'c#', 'html', 'sql', 'css'}\n",
      "{'javascript', 'react'}\n",
      "{'c#', 'c', 'java'}\n",
      "{'sql'}\n",
      "{'java'}\n",
      "{'mongodb', 'java'}\n",
      "{'c'}\n",
      "{'c', 'rust', 'java', 'c++', 'python'}\n",
      "{'ruby'}\n",
      "{'php', 'html'}\n"
     ]
    }
   ],
   "source": [
    "for i, offer_description in enumerate(offers_frame.loc[:, 'Description']):\n",
    "    desc = remove_symbols(offer_description, removal)\n",
    "    offer_skills = extract_skills(desc, skills_list)\n",
    "    if not offer_skills:\n",
    "        print(f'{i}-Offer: No Skills')\n",
    "    else:\n",
    "        print(offer_skills)\n"
   ],
   "metadata": {
    "collapsed": false,
    "ExecuteTime": {
     "end_time": "2024-01-23T17:26:53.428839900Z",
     "start_time": "2024-01-23T17:26:53.289839700Z"
    }
   },
   "id": "9cee2fbcd429c23b"
  },
  {
   "cell_type": "code",
   "execution_count": 108,
   "outputs": [
    {
     "name": "stderr",
     "output_type": "stream",
     "text": [
      "[nltk_data] Downloading package stopwords to\n",
      "[nltk_data]     C:\\Users\\anton\\AppData\\Roaming\\nltk_data...\n",
      "[nltk_data]   Package stopwords is already up-to-date!\n"
     ]
    }
   ],
   "source": [
    "# Package necessari per la manipolazione di descrizioni in italiano (es. TF-IDF)\n",
    "\n",
    "import nltk\n",
    "from nltk.corpus import stopwords\n",
    "from nltk.tokenize import word_tokenize\n",
    "nltk.download('stopwords')\n",
    "stop_words = set(stopwords.words('italian'))"
   ],
   "metadata": {
    "collapsed": false,
    "ExecuteTime": {
     "end_time": "2024-01-23T17:26:53.429336700Z",
     "start_time": "2024-01-23T17:26:53.323335Z"
    }
   },
   "id": "29a9deae9381e11f"
  },
  {
   "cell_type": "code",
   "execution_count": 108,
   "outputs": [],
   "source": [],
   "metadata": {
    "collapsed": false,
    "ExecuteTime": {
     "end_time": "2024-01-23T17:26:53.429833900Z",
     "start_time": "2024-01-23T17:26:53.331837700Z"
    }
   },
   "id": "50241e78b0cfb777"
  }
 ],
 "metadata": {
  "kernelspec": {
   "display_name": "Python 3",
   "language": "python",
   "name": "python3"
  },
  "language_info": {
   "codemirror_mode": {
    "name": "ipython",
    "version": 2
   },
   "file_extension": ".py",
   "mimetype": "text/x-python",
   "name": "python",
   "nbconvert_exporter": "python",
   "pygments_lexer": "ipython2",
   "version": "2.7.6"
  }
 },
 "nbformat": 4,
 "nbformat_minor": 5
}
