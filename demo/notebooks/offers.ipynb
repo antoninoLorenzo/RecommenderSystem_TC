{
 "cells": [
  {
   "cell_type": "code",
   "execution_count": 59,
   "id": "initial_id",
   "metadata": {
    "collapsed": true,
    "ExecuteTime": {
     "end_time": "2024-01-25T16:30:31.268083200Z",
     "start_time": "2024-01-25T16:30:31.214083300Z"
    }
   },
   "outputs": [],
   "source": [
    "import sqlite3\n",
    "\n",
    "import numpy as np\n",
    "import pandas as pd\n",
    "import matplotlib.pyplot as plt\n",
    "%matplotlib inline\n",
    "import seaborn as sns\n"
   ]
  },
  {
   "cell_type": "code",
   "execution_count": 60,
   "outputs": [
    {
     "data": {
      "text/plain": "                                                  Name  \\\n0                                   Software Developer   \n1                            Junior Software Developer   \n2                                   Software Developer   \n3                                   Software Developer   \n4                            Senior Software Developer   \n..                                                 ...   \n209  Senior Staff Product Engineer for Embedded Too...   \n210   Internship Engineer for Advanced Process Control   \n211                             DevOps Engineer Senior   \n212                          Software Quality Engineer   \n213                      Sr. Site Reliability Engineer   \n\n                                           Description            Location  \n0    Miniclip is a global leader in digital games w...     Genova, Liguria  \n1    NETtoWORK, azienda italiana nata nel 2016, ope...        17100 Savona  \n2    We are looking for talented and passionate peo...         55100 Lucca  \n3    ARESYS  is a R&D oriented company with nearly ...  Matera, Basilicata  \n4    Il/la Candidato/a dovrà padroneggiare: \\n \\n- ...    Catania, Sicilia  \n..                                                 ...                 ...  \n209  Do you want to be part of a new project team w...      Padova, Veneto  \n210  Internship Engineer for Advanced Process Contr...     Genova, Liguria  \n211  ARGO LOGICA società di consulenza informatica ...         Roma, Lazio  \n212  CentralReach is the #1 provider of SaaS softwa...        37121 Verona  \n213  CentralReach is the #1 provider of SaaS softwa...        37121 Verona  \n\n[214 rows x 3 columns]",
      "text/html": "<div>\n<style scoped>\n    .dataframe tbody tr th:only-of-type {\n        vertical-align: middle;\n    }\n\n    .dataframe tbody tr th {\n        vertical-align: top;\n    }\n\n    .dataframe thead th {\n        text-align: right;\n    }\n</style>\n<table border=\"1\" class=\"dataframe\">\n  <thead>\n    <tr style=\"text-align: right;\">\n      <th></th>\n      <th>Name</th>\n      <th>Description</th>\n      <th>Location</th>\n    </tr>\n  </thead>\n  <tbody>\n    <tr>\n      <th>0</th>\n      <td>Software Developer</td>\n      <td>Miniclip is a global leader in digital games w...</td>\n      <td>Genova, Liguria</td>\n    </tr>\n    <tr>\n      <th>1</th>\n      <td>Junior Software Developer</td>\n      <td>NETtoWORK, azienda italiana nata nel 2016, ope...</td>\n      <td>17100 Savona</td>\n    </tr>\n    <tr>\n      <th>2</th>\n      <td>Software Developer</td>\n      <td>We are looking for talented and passionate peo...</td>\n      <td>55100 Lucca</td>\n    </tr>\n    <tr>\n      <th>3</th>\n      <td>Software Developer</td>\n      <td>ARESYS  is a R&amp;D oriented company with nearly ...</td>\n      <td>Matera, Basilicata</td>\n    </tr>\n    <tr>\n      <th>4</th>\n      <td>Senior Software Developer</td>\n      <td>Il/la Candidato/a dovrà padroneggiare: \\n \\n- ...</td>\n      <td>Catania, Sicilia</td>\n    </tr>\n    <tr>\n      <th>...</th>\n      <td>...</td>\n      <td>...</td>\n      <td>...</td>\n    </tr>\n    <tr>\n      <th>209</th>\n      <td>Senior Staff Product Engineer for Embedded Too...</td>\n      <td>Do you want to be part of a new project team w...</td>\n      <td>Padova, Veneto</td>\n    </tr>\n    <tr>\n      <th>210</th>\n      <td>Internship Engineer for Advanced Process Control</td>\n      <td>Internship Engineer for Advanced Process Contr...</td>\n      <td>Genova, Liguria</td>\n    </tr>\n    <tr>\n      <th>211</th>\n      <td>DevOps Engineer Senior</td>\n      <td>ARGO LOGICA società di consulenza informatica ...</td>\n      <td>Roma, Lazio</td>\n    </tr>\n    <tr>\n      <th>212</th>\n      <td>Software Quality Engineer</td>\n      <td>CentralReach is the #1 provider of SaaS softwa...</td>\n      <td>37121 Verona</td>\n    </tr>\n    <tr>\n      <th>213</th>\n      <td>Sr. Site Reliability Engineer</td>\n      <td>CentralReach is the #1 provider of SaaS softwa...</td>\n      <td>37121 Verona</td>\n    </tr>\n  </tbody>\n</table>\n<p>214 rows × 3 columns</p>\n</div>"
     },
     "execution_count": 60,
     "metadata": {},
     "output_type": "execute_result"
    }
   ],
   "source": [
    "offers_connection = sqlite3.connect('../datasets/offers_dataset.db')\n",
    "offers_frame = pd.read_sql_query('''SELECT * FROM offers''', offers_connection)\n",
    "offers_connection.close()\n",
    "\n",
    "# [!] Le descrizioni all'interno del notebook non sono mostrate nella loro versione completa\n",
    "#     per accedere a una specifica descrizione usare il metodo: offers_frame.loc[ID, NomeColonna]\n",
    "offers_frame"
   ],
   "metadata": {
    "collapsed": false,
    "ExecuteTime": {
     "end_time": "2024-01-25T16:30:31.330084700Z",
     "start_time": "2024-01-25T16:30:31.230083200Z"
    }
   },
   "id": "2d019a7a9033f77c"
  },
  {
   "cell_type": "markdown",
   "source": [
    "## Data Exploration\n",
    "Come prima cosa esaminiamo il nostro dataset di offerte, in particolare dovremmo verificare la qualità dei dati:\n",
    "- Base   \n",
    "    - Presenza di valori nulli\n",
    "    - (**Importante**) Presenza di sinonimi geografici\n",
    "    - Presenza di informazioni utili\n",
    "- Avanzato\n",
    "    - Analisi delle Parole Chiave (es. Titoli)\n",
    "    - Analisi della distribuzione dei dati"
   ],
   "metadata": {
    "collapsed": false
   },
   "id": "b148d9cefa03d4c8"
  },
  {
   "cell_type": "markdown",
   "source": [
    "**Presenza di Valori Nulli e Duplicati**\n",
    "Come è possibile vedere di seguito il dataset contiene valori nulli solo per la colonna Location, il che però è normale, in quanto non tutte le Offerte di lavoro sono in presenza, quindi le Location mancanti rappresentano il numero di Offerte di lavoro in Remote.\n",
    "Questa informazione è importante perchè in seguito ci sarà la necessità di rappresentare queste informazioni in modo omogeneo, in modo tale che un modello il cui scopo è raggruppare le Offerte (clustering, come proposto nell'Analisi del Problema) possa farlo in modo adeguato."
   ],
   "metadata": {
    "collapsed": false
   },
   "id": "ce3fcaa61d9998aa"
  },
  {
   "cell_type": "code",
   "execution_count": 61,
   "outputs": [
    {
     "name": "stdout",
     "output_type": "stream",
     "text": [
      "<class 'pandas.core.frame.DataFrame'>\n",
      "Index: 213 entries, 0 to 213\n",
      "Data columns (total 3 columns):\n",
      " #   Column       Non-Null Count  Dtype \n",
      "---  ------       --------------  ----- \n",
      " 0   Name         213 non-null    object\n",
      " 1   Description  213 non-null    object\n",
      " 2   Location     177 non-null    object\n",
      "dtypes: object(3)\n",
      "memory usage: 6.7+ KB\n"
     ]
    }
   ],
   "source": [
    "offers_frame.dropna(subset='Name',inplace=True)\n",
    "offers_frame.drop_duplicates(inplace=True)\n",
    "offers_frame.info()"
   ],
   "metadata": {
    "collapsed": false,
    "ExecuteTime": {
     "end_time": "2024-01-25T16:30:31.367082800Z",
     "start_time": "2024-01-25T16:30:31.245082900Z"
    }
   },
   "id": "6ab03fba00230b25"
  },
  {
   "cell_type": "code",
   "execution_count": 61,
   "outputs": [],
   "source": [],
   "metadata": {
    "collapsed": false,
    "ExecuteTime": {
     "end_time": "2024-01-25T16:30:31.368082800Z",
     "start_time": "2024-01-25T16:30:31.260083300Z"
    }
   },
   "id": "b9a7069faf18760d"
  },
  {
   "cell_type": "markdown",
   "source": [
    "## Presenza di Sinonimi Geografici\n",
    "Il dataset contiene attualmente molteplici istanze in cui la stessa Location è riportata in modi diversi, come \\<Cap>, \\<Città> e \\<Città>, \\<Regione>.\n"
   ],
   "metadata": {
    "collapsed": false
   },
   "id": "51416aacfc058b23"
  },
  {
   "cell_type": "code",
   "execution_count": 62,
   "outputs": [],
   "source": [
    "#example_city = \"Bologna\"\n",
    "\n",
    "#onsite_offers = offers_frame[offers_frame[\"Location\"].notna()]\n",
    "#geo_syn = onsite_offers.Location.map(lambda text: example_city in text)\n",
    "#onsite_offers[geo_syn]"
   ],
   "metadata": {
    "collapsed": false,
    "ExecuteTime": {
     "end_time": "2024-01-25T16:30:31.400083900Z",
     "start_time": "2024-01-25T16:30:31.276083500Z"
    }
   },
   "id": "c99cee79c72dcdd0"
  },
  {
   "cell_type": "markdown",
   "source": [
    "**Analisi dei Titoli**\n",
    "Di seguito vengono analizzati i Titoli delle Offerte di lavoro con lo scopo di verificare la presenza di termini comuni, in particolare vengono usate delle basilari tecniche di Natural Language Processing come:\n",
    "- **Tokenization**, utilizzata per dividere frasi o documenti in parole (*title.split()*) \n",
    "- **Rimozione della Punteggiatura**, utilizzata per migliorare la qualità dei dati estratti, in modo da non influenzare i risultati \n",
    "- **Normalizzazione**, utilizzata per ridurre la complessità del vocabolario e trattare parole con maiuscole e minuscole come equivalenti (*t.lower()*)"
   ],
   "metadata": {
    "collapsed": false
   },
   "id": "ac2efe4d43ad79b0"
  },
  {
   "cell_type": "code",
   "execution_count": 63,
   "outputs": [
    {
     "data": {
      "text/plain": "Counter({'developer': 56,\n         'engineer': 53,\n         'software': 46,\n         'junior': 24,\n         'network': 21,\n         'analyst': 19,\n         'senior': 17,\n         'web': 15,\n         'data': 14,\n         'administrator': 14,\n         'sviluppatore': 10,\n         'full': 10,\n         'intern': 10,\n         'scientist': 10,\n         'backend': 9,\n         'devops': 9,\n         'frontend': 8,\n         '2024': 8,\n         'system': 8,\n         'security': 7,\n         'database': 7,\n         '–': 6,\n         'cybersecurity': 6,\n         'development': 5,\n         'programmatore': 5,\n         'remote': 5,\n         'stack': 5,\n         'engineering': 5,\n         'graduate': 5,\n         'intelligence': 5,\n         'cyber': 5,\n         'learning': 5,\n         'c#': 4,\n         'remote)': 4,\n         'internship': 4,\n         'specialist': 4,\n         'manager': 4,\n         'reliability': 4,\n         'java': 3,\n         'stage': 3,\n         'ai': 3,\n         'front-end': 3,\n         'apprenticeship': 3,\n         '(london)': 3,\n         'front': 3,\n         'end': 3,\n         'lead': 3,\n         'summer': 3,\n         'and': 3,\n         'consultant': 3,\n         'server': 3,\n         'site': 3,\n         'it': 3,\n         'business': 3,\n         'machine': 3,\n         'soc': 3,\n         'settore': 2,\n         'sanità': 2,\n         'app': 2,\n         'uk': 2,\n         'technology': 2,\n         'apprentice': 2,\n         '(100%': 2,\n         '(backend)': 2,\n         'engineer,': 2,\n         '(remote)': 2,\n         'quality': 2,\n         'programming': 2,\n         'energy': 2,\n         'starting': 2,\n         'application': 2,\n         'infrastructure': 2,\n         'sistemista': 2,\n         'milano': 2,\n         'rif.': 2,\n         'support': 2,\n         'sr.': 2,\n         'php': 2,\n         'javascript': 2,\n         'e': 2,\n         'control': 2,\n         'product': 2,\n         'sql': 2,\n         'cloud': 2,\n         'embedded': 2,\n         'for': 2,\n         'ibp': 1,\n         'algorithms': 1,\n         'unity': 1,\n         'game': 1,\n         'trainer': 1,\n         '(contract)': 1,\n         'tecnico': 1,\n         'bilance': 1,\n         'digitali': 1,\n         'supermercati': 1,\n         'asp.net': 1,\n         'manufacturing': 1,\n         'relocation': 1,\n         'usa': 1,\n         'programmer': 1,\n         'hmi': 1,\n         'flutter': 1,\n         'qa': 1,\n         'appartenente': 1,\n         'alle': 1,\n         'categorie': 1,\n         'protette': 1,\n         'erp': 1,\n         'campus': 1,\n         'programme': 1,\n         '(uk)': 1,\n         'l4': 1,\n         'degree': 1,\n         '(nottingham)': 1,\n         'start': 1,\n         '(fixed-term': 1,\n         'contract)': 1,\n         'emerging': 1,\n         'threats': 1,\n         'assurance/manual': 1,\n         'testing': 1,\n         'undergraduate': 1,\n         'harvesting': 1,\n         '(university': 1,\n         'grad)': 1,\n         'assistant': 1,\n         'foundation': 1,\n         '(edinburgh': 1,\n         'electrochemical': 1,\n         'modelling': 1,\n         'storage': 1,\n         '(12': 1,\n         'months)': 1,\n         '(eu)': 1,\n         'catalog': 1,\n         'geospatial': 1,\n         'analyst,': 1,\n         'university': 1,\n         'placement': 1,\n         '(september': 1,\n         'start)': 1,\n         'macro': 1,\n         'research': 1,\n         'associate': 1,\n         'london': 1,\n         'technical': 1,\n         'freelance': 1,\n         'ux': 1,\n         'engineers': 1,\n         'middle+': 1,\n         'general': 1,\n         'node.js': 1,\n         'digital': 1,\n         'designer': 1,\n         'siem': 1,\n         'power': 1,\n         'eso': 1,\n         '(security': 1,\n         'services)': 1,\n         'production': 1,\n         'f5': 1,\n         'pcn': 1,\n         'aws': 1,\n         'regional': 1,\n         'manager,': 1,\n         '(remote,': 1,\n         'gbr)': 1,\n         'band': 1,\n         '6-': 1,\n         'cits': 1,\n         'ip': 1,\n         'merchandiser': 1,\n         'controller': 1,\n         'transformation': 1,\n         'financial': 1,\n         'services': 1,\n         '[cns]': 1,\n         'service': 1,\n         'desk': 1,\n         'operator': 1,\n         '(in': 1,\n         'brussels)': 1,\n         'firewall': 1,\n         'palo': 1,\n         'alto': 1,\n         'no': 1,\n         'freelancer!': 1,\n         '490': 1,\n         'progettista': 1,\n         'ict': 1,\n         'roma': 1,\n         '512': 1,\n         'valutazioni,': 1,\n         'industriali': 1,\n         'advisory': 1,\n         'engineer_milano': 1,\n         'middle/senior': 1,\n         'applicazioni': 1,\n         'shopify': 1,\n         'sviluppatori': 1,\n         'mobile': 1,\n         'linguaggio': 1,\n         'owl': 1,\n         'sparql': 1,\n         '[dig]': 1,\n         'global': 1,\n         'partner': 1,\n         'finance': 1,\n         'inside': 1,\n         'sales': 1,\n         'informatico': 1,\n         'labview': 1,\n         'automation/machine': 1,\n         'learning/ai': 1,\n         'computer': 1,\n         'vision': 1,\n         'alorithm': 1,\n         'sw': 1,\n         'gridspertise': 1,\n         'simulation': 1,\n         'modeling': 1,\n         'al': 1,\n         'engineers-machine': 1,\n         'deep': 1,\n         'elixir': 1,\n         '(virtual': 1,\n         'networking)': 1,\n         '(react)': 1,\n         '(fully': 1,\n         'ios': 1,\n         'sfcc': 1,\n         '(c#)': 1,\n         'gov.uk': 1,\n         'notify': 1,\n         'pharma': 1,\n         'big': 1,\n         'pds': 1,\n         'ad&gmp': 1,\n         'i': 1,\n         'ethical': 1,\n         'eu': 1,\n         'institutions:': 1,\n         'dba': 1,\n         'oracle': 1,\n         'technician': 1,\n         'systems': 1,\n         'nosql': 1,\n         'broking': 1,\n         'deloitte': 1,\n         'nexthub': 1,\n         'bari': 1,\n         '(-1': 1,\n         'anno': 1,\n         'di': 1,\n         'esperienza)': 1,\n         '(roma)': 1,\n         'martech': 1,\n         'functional': 1,\n         'threat': 1,\n         'incident': 1,\n         'responder': 1,\n         'jr': 1,\n         'prov.': 1,\n         'trento': 1,\n         'jr/mid': 1,\n         'python': 1,\n         'developer/devops': 1,\n         'middle': 1,\n         'wealth': 1,\n         'asset': 1,\n         'management': 1,\n         'native': 1,\n         'staff': 1,\n         'tools': 1,\n         '(f/m/div)': 1,\n         'advanced': 1,\n         'process': 1})"
     },
     "execution_count": 63,
     "metadata": {},
     "output_type": "execute_result"
    }
   ],
   "source": [
    "from string import punctuation\n",
    "from collections import Counter\n",
    "\n",
    "def count_words(document: str, counter: Counter):\n",
    "    \"\"\"\n",
    "    :param document: a string representation of the document to inspect\n",
    "    :param counter: a Python built-in object used to count occurrences of items\n",
    "    \"\"\"\n",
    "    punct = [p for p in punctuation]\n",
    "    for t in document.split():\n",
    "        if not t in punct:\n",
    "            counter[t.lower()] += 1\n",
    "\n",
    "\n",
    "titles_counts = Counter()\n",
    "offers_frame.Name.map(lambda text: count_words(text, titles_counts))\n",
    "\n",
    "titles_counts"
   ],
   "metadata": {
    "collapsed": false,
    "ExecuteTime": {
     "end_time": "2024-01-25T16:30:31.423083600Z",
     "start_time": "2024-01-25T16:30:31.290083400Z"
    }
   },
   "id": "a47c7c31ce071ca4"
  },
  {
   "cell_type": "markdown",
   "source": [
    "Analisi delle occorrenze di parole:"
   ],
   "metadata": {
    "collapsed": false
   },
   "id": "26adff46bb768441"
  },
  {
   "cell_type": "code",
   "execution_count": 64,
   "outputs": [],
   "source": [
    "# Jacopo plotta qui"
   ],
   "metadata": {
    "collapsed": false,
    "ExecuteTime": {
     "end_time": "2024-01-25T16:30:31.423083600Z",
     "start_time": "2024-01-25T16:30:31.306084100Z"
    }
   },
   "id": "77d18769c1283146"
  },
  {
   "cell_type": "markdown",
   "source": [],
   "metadata": {
    "collapsed": false
   },
   "id": "142416c0760ec20f"
  },
  {
   "cell_type": "code",
   "execution_count": 64,
   "outputs": [],
   "source": [],
   "metadata": {
    "collapsed": false,
    "ExecuteTime": {
     "end_time": "2024-01-25T16:30:31.424083600Z",
     "start_time": "2024-01-25T16:30:31.322083200Z"
    }
   },
   "id": "50241e78b0cfb777"
  },
  {
   "cell_type": "markdown",
   "source": [
    "## Data Preparation\n",
    "Per permettere il completo soddisfacimento dei requisiti, alcuni dati mancanti alle offerte dovranno essere aggiunti al dataset, tra cui:\n",
    "- RequiredSkills: le Competenze richieste da una Offerta\n",
    "- LocationType: il tipo di Location, se in remoto (Remote) o in sede (OnSite)\n",
    "- Languages: le lingue naturali necessarie per l'offerta di lavoro"
   ],
   "metadata": {
    "collapsed": false
   },
   "id": "5225660adcd5fd35"
  },
  {
   "cell_type": "markdown",
   "source": [
    "### Skill Extraction\n",
    "Per procedere con l'estrazione delle Competenze dalle Offerte per prima cosa importiamo il relativo dataset.   "
   ],
   "metadata": {
    "collapsed": false
   },
   "id": "610c2e04295de03d"
  },
  {
   "cell_type": "code",
   "execution_count": 65,
   "outputs": [
    {
     "data": {
      "text/plain": "          SKILL                  TYPE\nID                                   \n0    JavaScript  Programming Language\n1          HTML  Programming Language\n2        Python  Programming Language\n3           SQL  Programming Language\n4    TypeScript  Programming Language\n..          ...                   ...\n100         Git                  Tool\n101      Travis                  Tool\n102       Swift  Programming Language\n103         iOS      Operating System\n104       Linux      Operating System\n\n[97 rows x 2 columns]",
      "text/html": "<div>\n<style scoped>\n    .dataframe tbody tr th:only-of-type {\n        vertical-align: middle;\n    }\n\n    .dataframe tbody tr th {\n        vertical-align: top;\n    }\n\n    .dataframe thead th {\n        text-align: right;\n    }\n</style>\n<table border=\"1\" class=\"dataframe\">\n  <thead>\n    <tr style=\"text-align: right;\">\n      <th></th>\n      <th>SKILL</th>\n      <th>TYPE</th>\n    </tr>\n    <tr>\n      <th>ID</th>\n      <th></th>\n      <th></th>\n    </tr>\n  </thead>\n  <tbody>\n    <tr>\n      <th>0</th>\n      <td>JavaScript</td>\n      <td>Programming Language</td>\n    </tr>\n    <tr>\n      <th>1</th>\n      <td>HTML</td>\n      <td>Programming Language</td>\n    </tr>\n    <tr>\n      <th>2</th>\n      <td>Python</td>\n      <td>Programming Language</td>\n    </tr>\n    <tr>\n      <th>3</th>\n      <td>SQL</td>\n      <td>Programming Language</td>\n    </tr>\n    <tr>\n      <th>4</th>\n      <td>TypeScript</td>\n      <td>Programming Language</td>\n    </tr>\n    <tr>\n      <th>...</th>\n      <td>...</td>\n      <td>...</td>\n    </tr>\n    <tr>\n      <th>100</th>\n      <td>Git</td>\n      <td>Tool</td>\n    </tr>\n    <tr>\n      <th>101</th>\n      <td>Travis</td>\n      <td>Tool</td>\n    </tr>\n    <tr>\n      <th>102</th>\n      <td>Swift</td>\n      <td>Programming Language</td>\n    </tr>\n    <tr>\n      <th>103</th>\n      <td>iOS</td>\n      <td>Operating System</td>\n    </tr>\n    <tr>\n      <th>104</th>\n      <td>Linux</td>\n      <td>Operating System</td>\n    </tr>\n  </tbody>\n</table>\n<p>97 rows × 2 columns</p>\n</div>"
     },
     "execution_count": 65,
     "metadata": {},
     "output_type": "execute_result"
    }
   ],
   "source": [
    "# [!] In alcune descrizioni di offerte c'è HTML5 o CSS3 che non vengono riconosciuti come HTML o CSS\n",
    "\n",
    "with sqlite3.connect('../datasets/skills_dataset.db') as skills_connection:\n",
    "    skills_frame = pd.read_sql_query('SELECT * FROM skills', skills_connection)\n",
    "    skills_frame.set_index('ID', inplace=True)\n",
    "    \n",
    "skills_frame"
   ],
   "metadata": {
    "collapsed": false,
    "ExecuteTime": {
     "end_time": "2024-01-25T16:30:31.478083100Z",
     "start_time": "2024-01-25T16:30:31.338083100Z"
    }
   },
   "id": "f602ba7e22c94087"
  },
  {
   "cell_type": "code",
   "execution_count": 66,
   "outputs": [],
   "source": [
    "def remove_symbols(description: str, remove_map: dict) -> str:\n",
    "    \"\"\"\n",
    "    \"\"\"\n",
    "    for old, new in remove_map.items():\n",
    "        description = description.replace(old, new)\n",
    "    return description.lower()\n",
    "\n",
    "\n",
    "def extract_symbols(description: str, available_symbols: list) -> set:\n",
    "    s = set()\n",
    "    prev = ''\n",
    "    for word in description.split():\n",
    "        if word in available_symbols:\n",
    "            s.add(word)\n",
    "        elif f'{prev} {word}' in available_symbols:\n",
    "            s.add(f'{prev} {word}')  \n",
    "        prev = word\n",
    "    return s "
   ],
   "metadata": {
    "collapsed": false,
    "ExecuteTime": {
     "end_time": "2024-01-25T16:30:31.492083800Z",
     "start_time": "2024-01-25T16:30:31.354083600Z"
    }
   },
   "id": "fd2295e2a2f51c54"
  },
  {
   "cell_type": "code",
   "execution_count": 75,
   "outputs": [],
   "source": [
    "# Get Skill list\n",
    "skills_list = [skill.lower() for skill in skills_frame['SKILL'].tolist()]\n",
    "\n",
    "def translate_skills(skills: set, toId = False) -> set:\n",
    "    if toId:\n",
    "        return skill_to_id(skills)\n",
    "    else:\n",
    "        return id_to_skill(skills)\n",
    "\n",
    "def id_to_skill(skills: set[int]) -> set[str]:\n",
    "    out = set()\n",
    "    for skill in skills:\n",
    "        out.add(skills_frame.loc[skill, 'SKILL'])\n",
    "    \n",
    "    return out\n",
    "\n",
    "def skill_to_id(skills: set[str]) -> set[int]:\n",
    "    out = set()\n",
    "    for skill in skills:\n",
    "        out.add(\n",
    "            list(\n",
    "                skills_frame.loc[\n",
    "                    skills_frame['SKILL'].apply(lambda val: val.lower()) == skill.lower()\n",
    "                ].index\n",
    "            )[0]\n",
    "        )\n",
    "    \n",
    "    return out\n",
    "\n",
    "# Symbols to remove\n",
    "punct = [p for p in punctuation]\n",
    "punct.remove('+')\n",
    "punct.remove('#')\n",
    "# punct.remove('.')\n",
    "\n",
    "removal = {p: ' ' for p in punct}\n",
    "removal['\\n'] = ''\n",
    "removal['/'] = ' '\n",
    "removal['('] = ' '\n",
    "removal[')'] = ' '\n",
    "removal[','] = ' '\n",
    "removal['>'] = ' '\n",
    "removal['.'] = ' .'"
   ],
   "metadata": {
    "collapsed": false,
    "ExecuteTime": {
     "end_time": "2024-01-25T16:33:35.206375Z",
     "start_time": "2024-01-25T16:33:35.183376Z"
    }
   },
   "id": "ed0093a32bece28f"
  },
  {
   "cell_type": "code",
   "execution_count": 67,
   "outputs": [],
   "source": [],
   "metadata": {
    "collapsed": false,
    "ExecuteTime": {
     "end_time": "2024-01-25T16:30:31.511083600Z",
     "start_time": "2024-01-25T16:30:31.387083400Z"
    }
   },
   "id": "97d9653efdfa22b1"
  },
  {
   "cell_type": "code",
   "execution_count": 68,
   "outputs": [
    {
     "name": "stdout",
     "output_type": "stream",
     "text": [
      "There are 47 Offers with no skills available\n"
     ]
    },
    {
     "data": {
      "text/plain": "                                                  Name  \\\n0                                   Software Developer   \n1                            Junior Software Developer   \n2                                   Software Developer   \n3                                   Software Developer   \n4                            Senior Software Developer   \n..                                                 ...   \n209  Senior Staff Product Engineer for Embedded Too...   \n210   Internship Engineer for Advanced Process Control   \n211                             DevOps Engineer Senior   \n212                          Software Quality Engineer   \n213                      Sr. Site Reliability Engineer   \n\n                                           Description            Location  \\\n0    Miniclip is a global leader in digital games w...     Genova, Liguria   \n1    NETtoWORK, azienda italiana nata nel 2016, ope...        17100 Savona   \n2    We are looking for talented and passionate peo...         55100 Lucca   \n3    ARESYS  is a R&D oriented company with nearly ...  Matera, Basilicata   \n4    Il/la Candidato/a dovrà padroneggiare: \\n \\n- ...    Catania, Sicilia   \n..                                                 ...                 ...   \n209  Do you want to be part of a new project team w...      Padova, Veneto   \n210  Internship Engineer for Advanced Process Contr...     Genova, Liguria   \n211  ARGO LOGICA società di consulenza informatica ...         Roma, Lazio   \n212  CentralReach is the #1 provider of SaaS softwa...        37121 Verona   \n213  CentralReach is the #1 provider of SaaS softwa...        37121 Verona   \n\n                           RequiredSkills  \n0                              {100, 101}  \n1                         {2, 6, 7, 8, 9}  \n2                       {0, 3, 6, 44, 26}  \n3                               {8, 9, 2}  \n4    {0, 1, 3, 99, 6, 7, 104, 55, 57, 26}  \n..                                    ...  \n209                                {8, 9}  \n210                            {8, 9, 12}  \n211                       {80, 73, 61, 6}  \n212                       {0, 1, 99, 103}  \n213       {2, 6, 104, 73, 12, 80, 89, 30}  \n\n[213 rows x 4 columns]",
      "text/html": "<div>\n<style scoped>\n    .dataframe tbody tr th:only-of-type {\n        vertical-align: middle;\n    }\n\n    .dataframe tbody tr th {\n        vertical-align: top;\n    }\n\n    .dataframe thead th {\n        text-align: right;\n    }\n</style>\n<table border=\"1\" class=\"dataframe\">\n  <thead>\n    <tr style=\"text-align: right;\">\n      <th></th>\n      <th>Name</th>\n      <th>Description</th>\n      <th>Location</th>\n      <th>RequiredSkills</th>\n    </tr>\n  </thead>\n  <tbody>\n    <tr>\n      <th>0</th>\n      <td>Software Developer</td>\n      <td>Miniclip is a global leader in digital games w...</td>\n      <td>Genova, Liguria</td>\n      <td>{100, 101}</td>\n    </tr>\n    <tr>\n      <th>1</th>\n      <td>Junior Software Developer</td>\n      <td>NETtoWORK, azienda italiana nata nel 2016, ope...</td>\n      <td>17100 Savona</td>\n      <td>{2, 6, 7, 8, 9}</td>\n    </tr>\n    <tr>\n      <th>2</th>\n      <td>Software Developer</td>\n      <td>We are looking for talented and passionate peo...</td>\n      <td>55100 Lucca</td>\n      <td>{0, 3, 6, 44, 26}</td>\n    </tr>\n    <tr>\n      <th>3</th>\n      <td>Software Developer</td>\n      <td>ARESYS  is a R&amp;D oriented company with nearly ...</td>\n      <td>Matera, Basilicata</td>\n      <td>{8, 9, 2}</td>\n    </tr>\n    <tr>\n      <th>4</th>\n      <td>Senior Software Developer</td>\n      <td>Il/la Candidato/a dovrà padroneggiare: \\n \\n- ...</td>\n      <td>Catania, Sicilia</td>\n      <td>{0, 1, 3, 99, 6, 7, 104, 55, 57, 26}</td>\n    </tr>\n    <tr>\n      <th>...</th>\n      <td>...</td>\n      <td>...</td>\n      <td>...</td>\n      <td>...</td>\n    </tr>\n    <tr>\n      <th>209</th>\n      <td>Senior Staff Product Engineer for Embedded Too...</td>\n      <td>Do you want to be part of a new project team w...</td>\n      <td>Padova, Veneto</td>\n      <td>{8, 9}</td>\n    </tr>\n    <tr>\n      <th>210</th>\n      <td>Internship Engineer for Advanced Process Control</td>\n      <td>Internship Engineer for Advanced Process Contr...</td>\n      <td>Genova, Liguria</td>\n      <td>{8, 9, 12}</td>\n    </tr>\n    <tr>\n      <th>211</th>\n      <td>DevOps Engineer Senior</td>\n      <td>ARGO LOGICA società di consulenza informatica ...</td>\n      <td>Roma, Lazio</td>\n      <td>{80, 73, 61, 6}</td>\n    </tr>\n    <tr>\n      <th>212</th>\n      <td>Software Quality Engineer</td>\n      <td>CentralReach is the #1 provider of SaaS softwa...</td>\n      <td>37121 Verona</td>\n      <td>{0, 1, 99, 103}</td>\n    </tr>\n    <tr>\n      <th>213</th>\n      <td>Sr. Site Reliability Engineer</td>\n      <td>CentralReach is the #1 provider of SaaS softwa...</td>\n      <td>37121 Verona</td>\n      <td>{2, 6, 104, 73, 12, 80, 89, 30}</td>\n    </tr>\n  </tbody>\n</table>\n<p>213 rows × 4 columns</p>\n</div>"
     },
     "execution_count": 68,
     "metadata": {},
     "output_type": "execute_result"
    }
   ],
   "source": [
    "# offers_frame['RequiredSkills'] = ''\n",
    "with_no_skills = 0\n",
    "\n",
    "required_skills_tmp = [] # used for the skill analysis section below\n",
    "required_skills_id = [] # used for storing required skill IDs in the dataframe\n",
    "\n",
    "for i, offer_description in enumerate(offers_frame.loc[:, 'Description']):\n",
    "    desc = remove_symbols(offer_description, removal)\n",
    "    offer_skills = extract_symbols(desc, skills_list)\n",
    "    if not offer_skills:\n",
    "        with_no_skills += 1\n",
    "        required_skills_id.append(np.NaN)\n",
    "        # print(f'\\n{i}: No Skills')\n",
    "        # print(offer_description)\n",
    "    else:\n",
    "        # print(f'{i}: {offer_skills}')\n",
    "        # offers_frame.loc[i, \"RequiredSkills\"] = ', '.join(offer_skills)\n",
    "        required_skills_tmp.append(offer_skills)\n",
    "        required_skills_id.append(\n",
    "            translate_skills(offer_skills, toId=True)\n",
    "        )\n",
    "\n",
    "offers_frame.loc[:, 'RequiredSkills'] = required_skills_id\n",
    "print(f'There are {with_no_skills} Offers with no skills available')\n",
    "\n",
    "offers_frame\n",
    "# offers_frame"
   ],
   "metadata": {
    "collapsed": false,
    "ExecuteTime": {
     "end_time": "2024-01-25T16:30:31.717083300Z",
     "start_time": "2024-01-25T16:30:31.402083100Z"
    }
   },
   "id": "21fbae0d15c8a9a6"
  },
  {
   "cell_type": "markdown",
   "source": [
    "**Frequenza di Skill**\n",
    "\n",
    "Una analisi delle Competenze più richieste può essere utile per guidare la scelta di metriche e algoritmi, per esempio si potrebbe pensare di dare una rilevanza maggiore a Competenze più richieste durante il processo di raccomandazione, dando una priorità più elevata a Offerte che richiedono quelle più richieste oppure a Sviluppatori che le posseggono."
   ],
   "metadata": {
    "collapsed": false
   },
   "id": "c6e67ce7ace08d6a"
  },
  {
   "cell_type": "code",
   "execution_count": 69,
   "outputs": [],
   "source": [
    "skill_counter = Counter()\n",
    "for offer_requirements in required_skills_tmp:\n",
    "    for r in offer_requirements:\n",
    "        skill_counter[r] += 1\n",
    "skill_plot = {s: c for s, c in skill_counter.most_common(20)}"
   ],
   "metadata": {
    "collapsed": false,
    "ExecuteTime": {
     "end_time": "2024-01-25T16:30:31.760083100Z",
     "start_time": "2024-01-25T16:30:31.719083800Z"
    }
   },
   "id": "3880cdf2f134910e"
  },
  {
   "cell_type": "code",
   "execution_count": 70,
   "outputs": [
    {
     "data": {
      "text/plain": "<Figure size 800x800 with 1 Axes>",
      "image/png": "[encoded data removed]"
     },
     "metadata": {},
     "output_type": "display_data"
    }
   ],
   "source": [
    "# A Bar-Plot is useful to easily represent a trend\n",
    "plt.figure(figsize=(8, 8))\n",
    "sns.barplot(x=skill_plot.values(), y=skill_plot.keys())\n",
    "plt.title(\"Count of Skills in the Dataset\")\n",
    "plt.xlabel(\"Count\")\n",
    "plt.ylabel(\"Skills\")\n",
    "plt.show()"
   ],
   "metadata": {
    "collapsed": false,
    "ExecuteTime": {
     "end_time": "2024-01-25T16:30:31.963083500Z",
     "start_time": "2024-01-25T16:30:31.732083300Z"
    }
   },
   "id": "4f4304d46a93169c"
  },
  {
   "cell_type": "markdown",
   "source": [
    "### Tipo di Location\n",
    "Per estrarre il tipo di Location dalle informazioni attualmente già presenti nel dataset, \n",
    "saranno interpretate come di tipo Remote tutte le offerte che non presentano una Location."
   ],
   "metadata": {
    "collapsed": false
   },
   "id": "e1718ca2eae20e7a"
  },
  {
   "cell_type": "code",
   "execution_count": 71,
   "outputs": [
    {
     "data": {
      "text/plain": "                                                  Name  \\\n0                                   Software Developer   \n1                            Junior Software Developer   \n2                                   Software Developer   \n3                                   Software Developer   \n4                            Senior Software Developer   \n..                                                 ...   \n209  Senior Staff Product Engineer for Embedded Too...   \n210   Internship Engineer for Advanced Process Control   \n211                             DevOps Engineer Senior   \n212                          Software Quality Engineer   \n213                      Sr. Site Reliability Engineer   \n\n                                           Description            Location  \\\n0    Miniclip is a global leader in digital games w...     Genova, Liguria   \n1    NETtoWORK, azienda italiana nata nel 2016, ope...        17100 Savona   \n2    We are looking for talented and passionate peo...         55100 Lucca   \n3    ARESYS  is a R&D oriented company with nearly ...  Matera, Basilicata   \n4    Il/la Candidato/a dovrà padroneggiare: \\n \\n- ...    Catania, Sicilia   \n..                                                 ...                 ...   \n209  Do you want to be part of a new project team w...      Padova, Veneto   \n210  Internship Engineer for Advanced Process Contr...     Genova, Liguria   \n211  ARGO LOGICA società di consulenza informatica ...         Roma, Lazio   \n212  CentralReach is the #1 provider of SaaS softwa...        37121 Verona   \n213  CentralReach is the #1 provider of SaaS softwa...        37121 Verona   \n\n                           RequiredSkills LocationType  \n0                              {100, 101}       OnSite  \n1                         {2, 6, 7, 8, 9}       OnSite  \n2                       {0, 3, 6, 44, 26}       OnSite  \n3                               {8, 9, 2}       OnSite  \n4    {0, 1, 3, 99, 6, 7, 104, 55, 57, 26}       OnSite  \n..                                    ...          ...  \n209                                {8, 9}       OnSite  \n210                            {8, 9, 12}       OnSite  \n211                       {80, 73, 61, 6}       OnSite  \n212                       {0, 1, 99, 103}       OnSite  \n213       {2, 6, 104, 73, 12, 80, 89, 30}       OnSite  \n\n[213 rows x 5 columns]",
      "text/html": "<div>\n<style scoped>\n    .dataframe tbody tr th:only-of-type {\n        vertical-align: middle;\n    }\n\n    .dataframe tbody tr th {\n        vertical-align: top;\n    }\n\n    .dataframe thead th {\n        text-align: right;\n    }\n</style>\n<table border=\"1\" class=\"dataframe\">\n  <thead>\n    <tr style=\"text-align: right;\">\n      <th></th>\n      <th>Name</th>\n      <th>Description</th>\n      <th>Location</th>\n      <th>RequiredSkills</th>\n      <th>LocationType</th>\n    </tr>\n  </thead>\n  <tbody>\n    <tr>\n      <th>0</th>\n      <td>Software Developer</td>\n      <td>Miniclip is a global leader in digital games w...</td>\n      <td>Genova, Liguria</td>\n      <td>{100, 101}</td>\n      <td>OnSite</td>\n    </tr>\n    <tr>\n      <th>1</th>\n      <td>Junior Software Developer</td>\n      <td>NETtoWORK, azienda italiana nata nel 2016, ope...</td>\n      <td>17100 Savona</td>\n      <td>{2, 6, 7, 8, 9}</td>\n      <td>OnSite</td>\n    </tr>\n    <tr>\n      <th>2</th>\n      <td>Software Developer</td>\n      <td>We are looking for talented and passionate peo...</td>\n      <td>55100 Lucca</td>\n      <td>{0, 3, 6, 44, 26}</td>\n      <td>OnSite</td>\n    </tr>\n    <tr>\n      <th>3</th>\n      <td>Software Developer</td>\n      <td>ARESYS  is a R&amp;D oriented company with nearly ...</td>\n      <td>Matera, Basilicata</td>\n      <td>{8, 9, 2}</td>\n      <td>OnSite</td>\n    </tr>\n    <tr>\n      <th>4</th>\n      <td>Senior Software Developer</td>\n      <td>Il/la Candidato/a dovrà padroneggiare: \\n \\n- ...</td>\n      <td>Catania, Sicilia</td>\n      <td>{0, 1, 3, 99, 6, 7, 104, 55, 57, 26}</td>\n      <td>OnSite</td>\n    </tr>\n    <tr>\n      <th>...</th>\n      <td>...</td>\n      <td>...</td>\n      <td>...</td>\n      <td>...</td>\n      <td>...</td>\n    </tr>\n    <tr>\n      <th>209</th>\n      <td>Senior Staff Product Engineer for Embedded Too...</td>\n      <td>Do you want to be part of a new project team w...</td>\n      <td>Padova, Veneto</td>\n      <td>{8, 9}</td>\n      <td>OnSite</td>\n    </tr>\n    <tr>\n      <th>210</th>\n      <td>Internship Engineer for Advanced Process Control</td>\n      <td>Internship Engineer for Advanced Process Contr...</td>\n      <td>Genova, Liguria</td>\n      <td>{8, 9, 12}</td>\n      <td>OnSite</td>\n    </tr>\n    <tr>\n      <th>211</th>\n      <td>DevOps Engineer Senior</td>\n      <td>ARGO LOGICA società di consulenza informatica ...</td>\n      <td>Roma, Lazio</td>\n      <td>{80, 73, 61, 6}</td>\n      <td>OnSite</td>\n    </tr>\n    <tr>\n      <th>212</th>\n      <td>Software Quality Engineer</td>\n      <td>CentralReach is the #1 provider of SaaS softwa...</td>\n      <td>37121 Verona</td>\n      <td>{0, 1, 99, 103}</td>\n      <td>OnSite</td>\n    </tr>\n    <tr>\n      <th>213</th>\n      <td>Sr. Site Reliability Engineer</td>\n      <td>CentralReach is the #1 provider of SaaS softwa...</td>\n      <td>37121 Verona</td>\n      <td>{2, 6, 104, 73, 12, 80, 89, 30}</td>\n      <td>OnSite</td>\n    </tr>\n  </tbody>\n</table>\n<p>213 rows × 5 columns</p>\n</div>"
     },
     "execution_count": 71,
     "metadata": {},
     "output_type": "execute_result"
    }
   ],
   "source": [
    "LOCATION_TYPES = {\"Remote\" : \"Remote\", \"On Site\" : \"OnSite\"}\n",
    "locations_present = offers_frame[\"Location\"].notna()\n",
    "types = []\n",
    "\n",
    "for is_present in locations_present:\n",
    "    if is_present:\n",
    "        types.append(LOCATION_TYPES[\"On Site\"])\n",
    "    else:\n",
    "        types.append(LOCATION_TYPES[\"Remote\"])\n",
    "\n",
    "offers_frame.loc[:, \"LocationType\"] = types\n",
    "\n",
    "offers_frame"
   ],
   "metadata": {
    "collapsed": false,
    "ExecuteTime": {
     "end_time": "2024-01-25T16:30:32.041083Z",
     "start_time": "2024-01-25T16:30:31.952083500Z"
    }
   },
   "id": "bc8aa120ff609173"
  },
  {
   "cell_type": "markdown",
   "source": [
    "### Linguaggi Richiesti\n",
    "Per dedurre quali lingue parlate sono richieste da una data offerta di lavoro, viene utilizzato il modulo langdetect per identificare la lingua in cui è stata scritta la descrizione dell'offerta stessa, e successivamente tramite una ricerca all'interno del testo della descrizione per menzioni di ulteriori lingue."
   ],
   "metadata": {
    "collapsed": false
   },
   "id": "24560921d4d4adf6"
  },
  {
   "cell_type": "code",
   "execution_count": 72,
   "outputs": [
    {
     "data": {
      "text/plain": "                                                  Name  \\\n0                                   Software Developer   \n1                            Junior Software Developer   \n2                                   Software Developer   \n3                                   Software Developer   \n4                            Senior Software Developer   \n..                                                 ...   \n209  Senior Staff Product Engineer for Embedded Too...   \n210   Internship Engineer for Advanced Process Control   \n211                             DevOps Engineer Senior   \n212                          Software Quality Engineer   \n213                      Sr. Site Reliability Engineer   \n\n                                           Description            Location  \\\n0    Miniclip is a global leader in digital games w...     Genova, Liguria   \n1    NETtoWORK, azienda italiana nata nel 2016, ope...        17100 Savona   \n2    We are looking for talented and passionate peo...         55100 Lucca   \n3    ARESYS  is a R&D oriented company with nearly ...  Matera, Basilicata   \n4    Il/la Candidato/a dovrà padroneggiare: \\n \\n- ...    Catania, Sicilia   \n..                                                 ...                 ...   \n209  Do you want to be part of a new project team w...      Padova, Veneto   \n210  Internship Engineer for Advanced Process Contr...     Genova, Liguria   \n211  ARGO LOGICA società di consulenza informatica ...         Roma, Lazio   \n212  CentralReach is the #1 provider of SaaS softwa...        37121 Verona   \n213  CentralReach is the #1 provider of SaaS softwa...        37121 Verona   \n\n                           RequiredSkills LocationType            Languages  \n0                              {100, 101}       OnSite            {inglese}  \n1                         {2, 6, 7, 8, 9}       OnSite           {italiano}  \n2                       {0, 3, 6, 44, 26}       OnSite            {inglese}  \n3                               {8, 9, 2}       OnSite            {inglese}  \n4    {0, 1, 3, 99, 6, 7, 104, 55, 57, 26}       OnSite           {italiano}  \n..                                    ...          ...                  ...  \n209                                {8, 9}       OnSite  {inglese, italiano}  \n210                            {8, 9, 12}       OnSite  {inglese, italiano}  \n211                       {80, 73, 61, 6}       OnSite           {italiano}  \n212                       {0, 1, 99, 103}       OnSite            {inglese}  \n213       {2, 6, 104, 73, 12, 80, 89, 30}       OnSite            {inglese}  \n\n[213 rows x 6 columns]",
      "text/html": "<div>\n<style scoped>\n    .dataframe tbody tr th:only-of-type {\n        vertical-align: middle;\n    }\n\n    .dataframe tbody tr th {\n        vertical-align: top;\n    }\n\n    .dataframe thead th {\n        text-align: right;\n    }\n</style>\n<table border=\"1\" class=\"dataframe\">\n  <thead>\n    <tr style=\"text-align: right;\">\n      <th></th>\n      <th>Name</th>\n      <th>Description</th>\n      <th>Location</th>\n      <th>RequiredSkills</th>\n      <th>LocationType</th>\n      <th>Languages</th>\n    </tr>\n  </thead>\n  <tbody>\n    <tr>\n      <th>0</th>\n      <td>Software Developer</td>\n      <td>Miniclip is a global leader in digital games w...</td>\n      <td>Genova, Liguria</td>\n      <td>{100, 101}</td>\n      <td>OnSite</td>\n      <td>{inglese}</td>\n    </tr>\n    <tr>\n      <th>1</th>\n      <td>Junior Software Developer</td>\n      <td>NETtoWORK, azienda italiana nata nel 2016, ope...</td>\n      <td>17100 Savona</td>\n      <td>{2, 6, 7, 8, 9}</td>\n      <td>OnSite</td>\n      <td>{italiano}</td>\n    </tr>\n    <tr>\n      <th>2</th>\n      <td>Software Developer</td>\n      <td>We are looking for talented and passionate peo...</td>\n      <td>55100 Lucca</td>\n      <td>{0, 3, 6, 44, 26}</td>\n      <td>OnSite</td>\n      <td>{inglese}</td>\n    </tr>\n    <tr>\n      <th>3</th>\n      <td>Software Developer</td>\n      <td>ARESYS  is a R&amp;D oriented company with nearly ...</td>\n      <td>Matera, Basilicata</td>\n      <td>{8, 9, 2}</td>\n      <td>OnSite</td>\n      <td>{inglese}</td>\n    </tr>\n    <tr>\n      <th>4</th>\n      <td>Senior Software Developer</td>\n      <td>Il/la Candidato/a dovrà padroneggiare: \\n \\n- ...</td>\n      <td>Catania, Sicilia</td>\n      <td>{0, 1, 3, 99, 6, 7, 104, 55, 57, 26}</td>\n      <td>OnSite</td>\n      <td>{italiano}</td>\n    </tr>\n    <tr>\n      <th>...</th>\n      <td>...</td>\n      <td>...</td>\n      <td>...</td>\n      <td>...</td>\n      <td>...</td>\n      <td>...</td>\n    </tr>\n    <tr>\n      <th>209</th>\n      <td>Senior Staff Product Engineer for Embedded Too...</td>\n      <td>Do you want to be part of a new project team w...</td>\n      <td>Padova, Veneto</td>\n      <td>{8, 9}</td>\n      <td>OnSite</td>\n      <td>{inglese, italiano}</td>\n    </tr>\n    <tr>\n      <th>210</th>\n      <td>Internship Engineer for Advanced Process Control</td>\n      <td>Internship Engineer for Advanced Process Contr...</td>\n      <td>Genova, Liguria</td>\n      <td>{8, 9, 12}</td>\n      <td>OnSite</td>\n      <td>{inglese, italiano}</td>\n    </tr>\n    <tr>\n      <th>211</th>\n      <td>DevOps Engineer Senior</td>\n      <td>ARGO LOGICA società di consulenza informatica ...</td>\n      <td>Roma, Lazio</td>\n      <td>{80, 73, 61, 6}</td>\n      <td>OnSite</td>\n      <td>{italiano}</td>\n    </tr>\n    <tr>\n      <th>212</th>\n      <td>Software Quality Engineer</td>\n      <td>CentralReach is the #1 provider of SaaS softwa...</td>\n      <td>37121 Verona</td>\n      <td>{0, 1, 99, 103}</td>\n      <td>OnSite</td>\n      <td>{inglese}</td>\n    </tr>\n    <tr>\n      <th>213</th>\n      <td>Sr. Site Reliability Engineer</td>\n      <td>CentralReach is the #1 provider of SaaS softwa...</td>\n      <td>37121 Verona</td>\n      <td>{2, 6, 104, 73, 12, 80, 89, 30}</td>\n      <td>OnSite</td>\n      <td>{inglese}</td>\n    </tr>\n  </tbody>\n</table>\n<p>213 rows × 6 columns</p>\n</div>"
     },
     "execution_count": 72,
     "metadata": {},
     "output_type": "execute_result"
    }
   ],
   "source": [
    "from langdetect import detect\n",
    "offers_langs = []\n",
    "remove_map = {p:'' for p in punctuation}\n",
    "supported_langs = ['italiano', 'inglese', 'italian', 'english']\n",
    "eqs = [('italiano', 'italian'), ('inglese', 'english')]\n",
    "\n",
    "for desc in offers_frame.Description:\n",
    "    lang = detect(desc)\n",
    "    if lang == 'it':\n",
    "        lang = 'italiano'\n",
    "    elif lang == 'en':\n",
    "        lang = 'inglese'\n",
    "    \n",
    "    desc = remove_symbols(desc, remove_map)\n",
    "    found = extract_symbols(desc, supported_langs)\n",
    "    \n",
    "    found = list(found)\n",
    "    for i, l in enumerate(found):\n",
    "        for e in eqs:\n",
    "            if l in e:\n",
    "                found[i] = e[0]\n",
    "                break\n",
    "    \n",
    "    found = set(found)\n",
    "    found.add(lang)\n",
    "    offers_langs.append(found)\n",
    "    \n",
    "offers_frame.loc[:, \"Languages\"] = offers_langs\n",
    "\n",
    "offers_frame"
   ],
   "metadata": {
    "collapsed": false,
    "ExecuteTime": {
     "end_time": "2024-01-25T16:30:33.495082900Z",
     "start_time": "2024-01-25T16:30:31.965083400Z"
    }
   },
   "id": "2981ee0458924810"
  },
  {
   "cell_type": "markdown",
   "source": [
    "**Distribuzione delle Lingue Richieste**\n",
    "\n",
    "Per verificare che il dataset fornisca una buona rappresentazione della realtà è sempre buona norma verificare la distribuzione dei dati, in alcuni casi, per la natura del problema, è impossibile avere un campionario bilanciato e bisogna ricorrere a tecniche *estreme* per ottenere un dataset la cui distribuzione non generi bias nei modelli di Machine Learning applicati, nel nostro caso invece basta ritornare alla fase di collezione dei dati; per questo motivo di seguito viene mostrata la distribuzione delle Lingue Richieste da una offerta. "
   ],
   "metadata": {
    "collapsed": false
   },
   "id": "7c4858e6e1062c33"
  },
  {
   "cell_type": "code",
   "execution_count": 73,
   "outputs": [],
   "source": [
    "# The count is executed given the assumption that the Required Languages can be Italian or English\n",
    "language_counter = Counter()\n",
    "for offer_languages in offers_frame.loc[:, 'Languages']:\n",
    "    if len(set(offer_languages)) == 2:\n",
    "        language_counter['both'] += 1\n",
    "    else:\n",
    "        for l in set(offer_languages):\n",
    "            language_counter[l] += 1"
   ],
   "metadata": {
    "collapsed": false,
    "ExecuteTime": {
     "end_time": "2024-01-25T16:30:33.513083200Z",
     "start_time": "2024-01-25T16:30:33.496083700Z"
    }
   },
   "id": "b4aa093a47f8b579"
  },
  {
   "cell_type": "code",
   "execution_count": 74,
   "outputs": [
    {
     "data": {
      "text/plain": "<Figure size 500x500 with 1 Axes>",
      "image/png": "[encoded data removed]"
     },
     "metadata": {},
     "output_type": "display_data"
    }
   ],
   "source": [
    "# A Pie-Chart is one of the best tools to analyze distribution given the visual nature\n",
    "plt.figure(figsize=(5, 5))\n",
    "plt.title('Required Languages Distribution')\n",
    "plt.pie(language_counter.values(), labels=language_counter.keys(), autopct='%0.f%%')\n",
    "plt.show()"
   ],
   "metadata": {
    "collapsed": false,
    "ExecuteTime": {
     "end_time": "2024-01-25T16:30:33.578083400Z",
     "start_time": "2024-01-25T16:30:33.511082800Z"
    }
   },
   "id": "b2ce5c069e10876e"
  },
  {
   "cell_type": "code",
   "execution_count": 74,
   "outputs": [],
   "source": [],
   "metadata": {
    "collapsed": false,
    "ExecuteTime": {
     "end_time": "2024-01-25T16:30:33.602083200Z",
     "start_time": "2024-01-25T16:30:33.572083700Z"
    }
   },
   "id": "5423f5cabdbd40e3"
  },
  {
   "cell_type": "code",
   "execution_count": 74,
   "outputs": [],
   "source": [],
   "metadata": {
    "collapsed": false,
    "ExecuteTime": {
     "end_time": "2024-01-25T16:30:33.637083400Z",
     "start_time": "2024-01-25T16:30:33.588083800Z"
    }
   },
   "id": "4198ae912d56a24"
  }
 ],
 "metadata": {
  "kernelspec": {
   "display_name": "Python 3",
   "language": "python",
   "name": "python3"
  },
  "language_info": {
   "codemirror_mode": {
    "name": "ipython",
    "version": 2
   },
   "file_extension": ".py",
   "mimetype": "text/x-python",
   "name": "python",
   "nbconvert_exporter": "python",
   "pygments_lexer": "ipython2",
   "version": "2.7.6"
  }
 },
 "nbformat": 4,
 "nbformat_minor": 5
}
