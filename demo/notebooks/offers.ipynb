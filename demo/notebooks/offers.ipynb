{
 "cells": [
  {
   "cell_type": "code",
   "execution_count": 1,
   "id": "initial_id",
   "metadata": {
    "collapsed": true,
    "ExecuteTime": {
     "end_time": "2024-01-23T16:47:04.282119900Z",
     "start_time": "2024-01-23T16:47:04.202123800Z"
    }
   },
   "outputs": [],
   "source": [
    "import sqlite3\n",
    "import numpy as np\n",
    "import pandas as pd\n",
    "import matplotlib.pyplot as plt\n",
    "%matplotlib inline\n",
    "import seaborn as sns\n"
   ]
  },
  {
   "cell_type": "code",
   "execution_count": 2,
   "outputs": [
    {
     "data": {
      "text/plain": "                          Name  \\\nID                               \n1           Software Developer   \n2    Junior Software Developer   \n3           Software Developer   \n4           Software Developer   \n5    Senior Software Developer   \n..                         ...   \n850           JUNIOR DEVELOPER   \n851   Sviluppatore Java Junior   \n852   Stage Software Developer   \n853              Web Developer   \n854         Software Developer   \n\n                                           Description  \\\nID                                                       \n1    Miniclip is a global leader in digital games w...   \n2    NETtoWORK, azienda italiana nata nel 2016, ope...   \n3    We are looking for talented and passionate peo...   \n4    ARESYS  is a R&D oriented company with nearly ...   \n5    Il/la Candidato/a dovrà padroneggiare: \\n \\n- ...   \n..                                                 ...   \n850  Sede lavoro: Bergamo | Tempo pieno \\n Livello:...   \n851  TRIA ricerca uno sviluppatore Java JuniorNeola...   \n852  CHI SIAMO  \\n  Golilla è la start up delle azi...   \n853  Sei la persona che cerchiamo se:Sei appassiona...   \n854  Siamo alla ricerca di un/una  Software Develop...   \n\n                             Location  \nID                                     \n1                     Genova, Liguria  \n2                        17100 Savona  \n3                         55100 Lucca  \n4                  Matera, Basilicata  \n5                    Catania, Sicilia  \n..                                ...  \n850                Bergamo, Lombardia  \n851                              None  \n852                     20089 Rozzano  \n853  San Benedetto del Tronto, Marche  \n854               Catanzaro, Calabria  \n\n[854 rows x 3 columns]",
      "text/html": "<div>\n<style scoped>\n    .dataframe tbody tr th:only-of-type {\n        vertical-align: middle;\n    }\n\n    .dataframe tbody tr th {\n        vertical-align: top;\n    }\n\n    .dataframe thead th {\n        text-align: right;\n    }\n</style>\n<table border=\"1\" class=\"dataframe\">\n  <thead>\n    <tr style=\"text-align: right;\">\n      <th></th>\n      <th>Name</th>\n      <th>Description</th>\n      <th>Location</th>\n    </tr>\n    <tr>\n      <th>ID</th>\n      <th></th>\n      <th></th>\n      <th></th>\n    </tr>\n  </thead>\n  <tbody>\n    <tr>\n      <th>1</th>\n      <td>Software Developer</td>\n      <td>Miniclip is a global leader in digital games w...</td>\n      <td>Genova, Liguria</td>\n    </tr>\n    <tr>\n      <th>2</th>\n      <td>Junior Software Developer</td>\n      <td>NETtoWORK, azienda italiana nata nel 2016, ope...</td>\n      <td>17100 Savona</td>\n    </tr>\n    <tr>\n      <th>3</th>\n      <td>Software Developer</td>\n      <td>We are looking for talented and passionate peo...</td>\n      <td>55100 Lucca</td>\n    </tr>\n    <tr>\n      <th>4</th>\n      <td>Software Developer</td>\n      <td>ARESYS  is a R&amp;D oriented company with nearly ...</td>\n      <td>Matera, Basilicata</td>\n    </tr>\n    <tr>\n      <th>5</th>\n      <td>Senior Software Developer</td>\n      <td>Il/la Candidato/a dovrà padroneggiare: \\n \\n- ...</td>\n      <td>Catania, Sicilia</td>\n    </tr>\n    <tr>\n      <th>...</th>\n      <td>...</td>\n      <td>...</td>\n      <td>...</td>\n    </tr>\n    <tr>\n      <th>850</th>\n      <td>JUNIOR DEVELOPER</td>\n      <td>Sede lavoro: Bergamo | Tempo pieno \\n Livello:...</td>\n      <td>Bergamo, Lombardia</td>\n    </tr>\n    <tr>\n      <th>851</th>\n      <td>Sviluppatore Java Junior</td>\n      <td>TRIA ricerca uno sviluppatore Java JuniorNeola...</td>\n      <td>None</td>\n    </tr>\n    <tr>\n      <th>852</th>\n      <td>Stage Software Developer</td>\n      <td>CHI SIAMO  \\n  Golilla è la start up delle azi...</td>\n      <td>20089 Rozzano</td>\n    </tr>\n    <tr>\n      <th>853</th>\n      <td>Web Developer</td>\n      <td>Sei la persona che cerchiamo se:Sei appassiona...</td>\n      <td>San Benedetto del Tronto, Marche</td>\n    </tr>\n    <tr>\n      <th>854</th>\n      <td>Software Developer</td>\n      <td>Siamo alla ricerca di un/una  Software Develop...</td>\n      <td>Catanzaro, Calabria</td>\n    </tr>\n  </tbody>\n</table>\n<p>854 rows × 3 columns</p>\n</div>"
     },
     "execution_count": 2,
     "metadata": {},
     "output_type": "execute_result"
    }
   ],
   "source": [
    "offers_connection = sqlite3.connect('../datasets/offers_dataset.db')\n",
    "offers_frame = pd.read_sql_query('''SELECT * FROM offers''', offers_connection)\n",
    "offers_frame.set_index('ID', inplace=True)\n",
    "offers_connection.close()\n",
    "\n",
    "# [!] Le descrizioni all'interno del notebook non sono mostrate nella loro versione completa\n",
    "#     per accedere ad una specifica descrizione usare il metodo: offers_frame.loc[ID, NomeColonna]\n",
    "offers_frame"
   ],
   "metadata": {
    "collapsed": false,
    "ExecuteTime": {
     "end_time": "2024-01-23T16:47:04.360121600Z",
     "start_time": "2024-01-23T16:47:04.270120300Z"
    }
   },
   "id": "2d019a7a9033f77c"
  },
  {
   "cell_type": "markdown",
   "source": [
    "## Data Exploration\n",
    "Come prima cosa esaminiamo il nostro dataset di offerte, in particolare dovremmo verificare la qualità dei dati:\n",
    "- Base   \n",
    "    - Presenza di valori nulli\n",
    "    - (**Importante**) Presenza di sinonimi geografici\n",
    "    - Presenza di informazioni utili\n",
    "- Avanzato\n",
    "    - Analisi delle Parole Chiave (es. Titoli)\n",
    "    - Analisi della distribuzione dei dati"
   ],
   "metadata": {
    "collapsed": false
   },
   "id": "b148d9cefa03d4c8"
  },
  {
   "cell_type": "markdown",
   "source": [
    "**Presenza di Valori Nulli**\n",
    "Come è possibile vedere di seguito il dataset contiene valori nulli solo per la colonna Location, il che però è normale, in quanto non tutte le Offerte di lavoro sono in presenza, quindi le Location mancanti rappresentano il numero di Offerte di lavoro in Remote.\n",
    "Questa informazione è importante perchè in seguito ci sarà la necessità di rappresentare queste informazioni in modo omogeneo, in modo tale che un modello il cui scopo è raggruppare le Offerte (clustering, come proposto nell'Analisi del Problema) possa farlo in modo adeguato."
   ],
   "metadata": {
    "collapsed": false
   },
   "id": "ce3fcaa61d9998aa"
  },
  {
   "cell_type": "code",
   "execution_count": 3,
   "outputs": [
    {
     "name": "stdout",
     "output_type": "stream",
     "text": [
      "<class 'pandas.core.frame.DataFrame'>\n",
      "Index: 854 entries, 1 to 854\n",
      "Data columns (total 3 columns):\n",
      " #   Column       Non-Null Count  Dtype \n",
      "---  ------       --------------  ----- \n",
      " 0   Name         854 non-null    object\n",
      " 1   Description  854 non-null    object\n",
      " 2   Location     700 non-null    object\n",
      "dtypes: object(3)\n",
      "memory usage: 26.7+ KB\n"
     ]
    }
   ],
   "source": [
    "offers_frame.info()"
   ],
   "metadata": {
    "collapsed": false,
    "ExecuteTime": {
     "end_time": "2024-01-23T16:47:04.363617800Z",
     "start_time": "2024-01-23T16:47:04.327120500Z"
    }
   },
   "id": "6ab03fba00230b25"
  },
  {
   "cell_type": "markdown",
   "source": [
    "## Presenza di Sinonimi Geografici\n",
    "Il dataset contiene attualmente molteplici istanze in cui la stessa Location è riportata in modi diversi, come \\<Cap>, \\<Città> e \\<Città>, \\<Regione>.\n"
   ],
   "metadata": {
    "collapsed": false
   },
   "id": "51416aacfc058b23"
  },
  {
   "cell_type": "code",
   "execution_count": 4,
   "outputs": [],
   "source": [
    "#example_city = \"Bologna\"\n",
    "\n",
    "#onsite_offers = offers_frame[offers_frame[\"Location\"].notna()]\n",
    "#geo_syn = onsite_offers.Location.map(lambda text: example_city in text)\n",
    "#onsite_offers[geo_syn]"
   ],
   "metadata": {
    "collapsed": false,
    "ExecuteTime": {
     "end_time": "2024-01-23T16:47:04.364117600Z",
     "start_time": "2024-01-23T16:47:04.347626900Z"
    }
   },
   "id": "c99cee79c72dcdd0"
  },
  {
   "cell_type": "markdown",
   "source": [
    "**Analisi dei Titoli**\n",
    "Di seguito vengono analizzati i Titoli delle Offerte di lavoro con lo scopo di verificare la presenza di termini comuni, in particolare vengono usate delle basilari tecniche di Natural Language Processing come:\n",
    "- **Tokenization**, utilizzata per dividere frasi o documenti in parole (*title.split()*) \n",
    "- **Rimozione della Punteggiatura**, utilizzata per migliorare la qualità dei dati estratti, in modo da non influenzare i risultati \n",
    "- **Normalizzazione**, utilizzata per ridurre la complessità del vocabolario e trattare parole con maiuscole e minuscole come equivalenti (*t.lower()*)"
   ],
   "metadata": {
    "collapsed": false
   },
   "id": "ac2efe4d43ad79b0"
  },
  {
   "cell_type": "code",
   "execution_count": 5,
   "outputs": [
    {
     "data": {
      "text/plain": "Counter({'software': 582,\n         'developer': 522,\n         'junior': 122,\n         'engineer': 106,\n         'senior': 83,\n         'c#': 81,\n         'java': 77,\n         'sviluppatore': 73,\n         'programmatore': 60,\n         'settore': 54,\n         'sanità': 54,\n         'frontend': 30,\n         'full': 28,\n         'ai': 27,\n         'trainer': 27,\n         '(contract)': 27,\n         'tecnico': 27,\n         'bilance': 27,\n         'digitali': 27,\n         'supermercati': 27,\n         'asp.net': 27,\n         'manufacturing': 27,\n         'relocation': 27,\n         'usa': 27,\n         'front-end': 27,\n         'app': 27,\n         'programmer': 27,\n         'hmi': 27,\n         'stage': 23,\n         'web': 23,\n         'graduate': 23,\n         'ibp': 22,\n         'algorithms': 22,\n         'development': 22,\n         'unity': 22,\n         'game': 22,\n         'remote': 19,\n         'appartenente': 18,\n         'alle': 18,\n         'categorie': 18,\n         'protette': 18,\n         'erp': 18,\n         'engineering': 15,\n         'apprenticeship': 15,\n         '2024': 15,\n         'intern': 14,\n         'stack': 9,\n         'uk': 8,\n         'campus': 8,\n         'programme': 8,\n         'technology': 8,\n         '(uk)': 8,\n         'l4': 8,\n         'apprentice': 8,\n         '(london)': 7,\n         'front': 7,\n         'end': 7,\n         '(100%': 7,\n         'remote)': 7,\n         'degree': 7,\n         '(nottingham)': 7,\n         'lead': 7,\n         '(backend)': 7,\n         'system': 7,\n         'engineer,': 7,\n         'summer': 7,\n         'start': 7,\n         '(fixed-term': 7,\n         'contract)': 7,\n         'flutter': 4,\n         'qa': 4})"
     },
     "execution_count": 5,
     "metadata": {},
     "output_type": "execute_result"
    }
   ],
   "source": [
    "from string import punctuation\n",
    "from collections import Counter\n",
    "\n",
    "def count_words(document: str, counter: Counter):\n",
    "    \"\"\"\n",
    "    :param document: a string representation of the document to inspect\n",
    "    :param counter: a Python built-in object used to count occurrences of items\n",
    "    \"\"\"\n",
    "    punct = [p for p in punctuation]\n",
    "    for t in document.split():\n",
    "        if not t in punct:\n",
    "            counter[t.lower()] += 1\n",
    "\n",
    "\n",
    "titles_counts = Counter()\n",
    "offers_frame.Name.map(lambda text: count_words(text, titles_counts))\n",
    "\n",
    "titles_counts"
   ],
   "metadata": {
    "collapsed": false,
    "ExecuteTime": {
     "end_time": "2024-01-23T16:47:04.450119300Z",
     "start_time": "2024-01-23T16:47:04.358621400Z"
    }
   },
   "id": "a47c7c31ce071ca4"
  },
  {
   "cell_type": "markdown",
   "source": [
    "Analisi delle occorrenze di parole:"
   ],
   "metadata": {
    "collapsed": false
   },
   "id": "26adff46bb768441"
  },
  {
   "cell_type": "code",
   "execution_count": 6,
   "outputs": [],
   "source": [
    "# Jacopo plotta qui"
   ],
   "metadata": {
    "collapsed": false,
    "ExecuteTime": {
     "end_time": "2024-01-23T16:47:04.451121300Z",
     "start_time": "2024-01-23T16:47:04.376122Z"
    }
   },
   "id": "77d18769c1283146"
  },
  {
   "cell_type": "code",
   "execution_count": 6,
   "outputs": [],
   "source": [],
   "metadata": {
    "collapsed": false,
    "ExecuteTime": {
     "end_time": "2024-01-23T16:47:04.452121500Z",
     "start_time": "2024-01-23T16:47:04.383121500Z"
    }
   },
   "id": "fe02bb277e4b6bf5"
  },
  {
   "cell_type": "code",
   "execution_count": 6,
   "outputs": [],
   "source": [],
   "metadata": {
    "collapsed": false,
    "ExecuteTime": {
     "end_time": "2024-01-23T16:47:04.509620700Z",
     "start_time": "2024-01-23T16:47:04.389620800Z"
    }
   },
   "id": "8447b5bb6bfb0af9"
  },
  {
   "cell_type": "markdown",
   "source": [
    "### Skill Extraction\n",
    "Per procedere con l'estrazione delle Competenze dalle Offerte per prima cosa importiamo il relativo dataset.   "
   ],
   "metadata": {
    "collapsed": false
   },
   "id": "142416c0760ec20f"
  },
  {
   "cell_type": "code",
   "execution_count": 7,
   "outputs": [
    {
     "data": {
      "text/plain": "         SKILL                  TYPE\nID                                  \n0   JavaScript  Programming Language\n1         HTML  Programming Language\n2       Python  Programming Language\n3          SQL  Programming Language\n4   TypeScript  Programming Language\n..         ...                   ...\n95         APT                  Tool\n96    Unity 3D                  Tool\n97      Pacman                  Tool\n98        pnpm                  Tool\n99         CSS  Programming Language\n\n[100 rows x 2 columns]",
      "text/html": "<div>\n<style scoped>\n    .dataframe tbody tr th:only-of-type {\n        vertical-align: middle;\n    }\n\n    .dataframe tbody tr th {\n        vertical-align: top;\n    }\n\n    .dataframe thead th {\n        text-align: right;\n    }\n</style>\n<table border=\"1\" class=\"dataframe\">\n  <thead>\n    <tr style=\"text-align: right;\">\n      <th></th>\n      <th>SKILL</th>\n      <th>TYPE</th>\n    </tr>\n    <tr>\n      <th>ID</th>\n      <th></th>\n      <th></th>\n    </tr>\n  </thead>\n  <tbody>\n    <tr>\n      <th>0</th>\n      <td>JavaScript</td>\n      <td>Programming Language</td>\n    </tr>\n    <tr>\n      <th>1</th>\n      <td>HTML</td>\n      <td>Programming Language</td>\n    </tr>\n    <tr>\n      <th>2</th>\n      <td>Python</td>\n      <td>Programming Language</td>\n    </tr>\n    <tr>\n      <th>3</th>\n      <td>SQL</td>\n      <td>Programming Language</td>\n    </tr>\n    <tr>\n      <th>4</th>\n      <td>TypeScript</td>\n      <td>Programming Language</td>\n    </tr>\n    <tr>\n      <th>...</th>\n      <td>...</td>\n      <td>...</td>\n    </tr>\n    <tr>\n      <th>95</th>\n      <td>APT</td>\n      <td>Tool</td>\n    </tr>\n    <tr>\n      <th>96</th>\n      <td>Unity 3D</td>\n      <td>Tool</td>\n    </tr>\n    <tr>\n      <th>97</th>\n      <td>Pacman</td>\n      <td>Tool</td>\n    </tr>\n    <tr>\n      <th>98</th>\n      <td>pnpm</td>\n      <td>Tool</td>\n    </tr>\n    <tr>\n      <th>99</th>\n      <td>CSS</td>\n      <td>Programming Language</td>\n    </tr>\n  </tbody>\n</table>\n<p>100 rows × 2 columns</p>\n</div>"
     },
     "execution_count": 7,
     "metadata": {},
     "output_type": "execute_result"
    }
   ],
   "source": [
    "with sqlite3.connect('../datasets/skills_dataset.db') as skills_connection:\n",
    "    skills_frame = pd.read_sql_query('SELECT * FROM skills', skills_connection)\n",
    "    skills_frame.set_index('ID', inplace=True)\n",
    "    \n",
    "skills_frame"
   ],
   "metadata": {
    "collapsed": false,
    "ExecuteTime": {
     "end_time": "2024-01-23T16:47:04.547119500Z",
     "start_time": "2024-01-23T16:47:04.397119500Z"
    }
   },
   "id": "ac82e9acc4696e99"
  },
  {
   "cell_type": "code",
   "execution_count": 8,
   "outputs": [
    {
     "data": {
      "text/plain": "'NETtoWORK azienda italiana nata nel 2016 operante nel settore dei servizi si occupa di soddisfare le necessità dei clienti offrendo servizi personalizzati   Il nostro team si avvale anche di consulenti esperti nel settore per supportare il cliente durante il periodo di collaborazionePosizionePer azienda cliente ricerchiamo una figura da inserire come  Junior Software DeveloperLa risorsa inserita in un team giovane e dinamico si occuperà dello sviluppo e del test di applicativi software per sistemi di comando controllo e diagnostica in ambito ferroviario ed automotive   Le attività di sviluppo e test del software saranno accompagnate anche dalla redazione dei documenti necessari per descrivere le funzioni sviluppate nel software stesso e la relativa aderenza ai requisiti di origineRequisitiE richiesta una laurea in  ingegneria triennale o magistrale anche senza esperienza lavorativa  oppure un  diploma tecnico superiore con esperienze lavorative pregresse in ambito ICTSono inoltre richieste buone capacità organizzative propensione al lavoro di gruppo proattività estrema curiosità e volontà di imparare unite ad un elevato senso di responsabilità   E richiesta familiarità anche non specifica e approfondita con i linguaggi di programmazione C C C Python Java la conoscenza dei linguaggi di programmazione SimulinkMATLAB ed in generale dei linguaggi contenuti nello standard IEC611313 sono un plusAltre informazioniSi offre inquadramento a tempo indeterminato fulltime con retribuzione adeguata al titolo di studio e alle competenze'"
     },
     "execution_count": 8,
     "metadata": {},
     "output_type": "execute_result"
    }
   ],
   "source": [
    "test_descriptions = offers_frame.loc[:5, 'Description']\n",
    "skills_list = [skill.lower() for skill in skills_frame['SKILL'].tolist()]\n",
    "\n",
    "removal = {p: '' for p in punctuation}\n",
    "removal['\\n'] = ''\n",
    "\n",
    "# Remove punctuation and \\n\n",
    "t = test_descriptions.iloc[1]\n",
    "for old, new in removal.items():\n",
    "    t = t.replace(old, new)\n",
    "\n",
    "t"
   ],
   "metadata": {
    "collapsed": false,
    "ExecuteTime": {
     "end_time": "2024-01-23T16:47:04.549119800Z",
     "start_time": "2024-01-23T16:47:04.416620100Z"
    }
   },
   "id": "6eabb82423ef85c7"
  }
 ],
 "metadata": {
  "kernelspec": {
   "display_name": "Python 3",
   "language": "python",
   "name": "python3"
  },
  "language_info": {
   "codemirror_mode": {
    "name": "ipython",
    "version": 2
   },
   "file_extension": ".py",
   "mimetype": "text/x-python",
   "name": "python",
   "nbconvert_exporter": "python",
   "pygments_lexer": "ipython2",
   "version": "2.7.6"
  }
 },
 "nbformat": 4,
 "nbformat_minor": 5
}
