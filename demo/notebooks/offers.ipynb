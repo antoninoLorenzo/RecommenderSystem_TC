{
 "cells": [
  {
   "cell_type": "code",
   "execution_count": 111,
   "id": "initial_id",
   "metadata": {
    "collapsed": true,
    "ExecuteTime": {
     "end_time": "2024-01-23T19:26:54.118461500Z",
     "start_time": "2024-01-23T19:26:53.991460Z"
    }
   },
   "outputs": [],
   "source": [
    "import sqlite3\n",
    "import numpy as np\n",
    "import pandas as pd\n",
    "import matplotlib.pyplot as plt\n",
    "%matplotlib inline\n",
    "import seaborn as sns\n"
   ]
  },
  {
   "cell_type": "code",
   "execution_count": 112,
   "outputs": [
    {
     "data": {
      "text/plain": "                            Name  \\\n0             Software Developer   \n1      Junior Software Developer   \n2             Software Developer   \n3             Software Developer   \n4      Senior Software Developer   \n..                           ...   \n130      Sviluppatori Web Mobile   \n131          FrontEnd Javascript   \n132     Programmatore PHP Junior   \n133     Full Stack Web Developer   \n134  Sviluppatore Web Full Stack   \n\n                                           Description  \\\n0    Miniclip is a global leader in digital games w...   \n1    NETtoWORK, azienda italiana nata nel 2016, ope...   \n2    We are looking for talented and passionate peo...   \n3    ARESYS  is a R&D oriented company with nearly ...   \n4    Il/la Candidato/a dovrà padroneggiare: \\n \\n- ...   \n..                                                 ...   \n130  Stiamo cercando 2 Sviluppatori web/mobile con ...   \n131  Luogo di lavoroMilanoInizioImmediato – Durata:...   \n132  Descrizione del Ruolo:  \\n Shaggy Owl s.r.l.s....   \n133  la risorsa da inserire nel contesto aziendale ...   \n134  Responsabilità Principali:  Il candidato, inte...   \n\n                     Location  \n0             Genova, Liguria  \n1                17100 Savona  \n2                 55100 Lucca  \n3          Matera, Basilicata  \n4            Catania, Sicilia  \n..                        ...  \n130           33170 Pordenone  \n131         Milano, Lombardia  \n132   01033 Civita Castellana  \n133              20123 Milano  \n134  20060 Pozzuolo Martesana  \n\n[135 rows x 3 columns]",
      "text/html": "<div>\n<style scoped>\n    .dataframe tbody tr th:only-of-type {\n        vertical-align: middle;\n    }\n\n    .dataframe tbody tr th {\n        vertical-align: top;\n    }\n\n    .dataframe thead th {\n        text-align: right;\n    }\n</style>\n<table border=\"1\" class=\"dataframe\">\n  <thead>\n    <tr style=\"text-align: right;\">\n      <th></th>\n      <th>Name</th>\n      <th>Description</th>\n      <th>Location</th>\n    </tr>\n  </thead>\n  <tbody>\n    <tr>\n      <th>0</th>\n      <td>Software Developer</td>\n      <td>Miniclip is a global leader in digital games w...</td>\n      <td>Genova, Liguria</td>\n    </tr>\n    <tr>\n      <th>1</th>\n      <td>Junior Software Developer</td>\n      <td>NETtoWORK, azienda italiana nata nel 2016, ope...</td>\n      <td>17100 Savona</td>\n    </tr>\n    <tr>\n      <th>2</th>\n      <td>Software Developer</td>\n      <td>We are looking for talented and passionate peo...</td>\n      <td>55100 Lucca</td>\n    </tr>\n    <tr>\n      <th>3</th>\n      <td>Software Developer</td>\n      <td>ARESYS  is a R&amp;D oriented company with nearly ...</td>\n      <td>Matera, Basilicata</td>\n    </tr>\n    <tr>\n      <th>4</th>\n      <td>Senior Software Developer</td>\n      <td>Il/la Candidato/a dovrà padroneggiare: \\n \\n- ...</td>\n      <td>Catania, Sicilia</td>\n    </tr>\n    <tr>\n      <th>...</th>\n      <td>...</td>\n      <td>...</td>\n      <td>...</td>\n    </tr>\n    <tr>\n      <th>130</th>\n      <td>Sviluppatori Web Mobile</td>\n      <td>Stiamo cercando 2 Sviluppatori web/mobile con ...</td>\n      <td>33170 Pordenone</td>\n    </tr>\n    <tr>\n      <th>131</th>\n      <td>FrontEnd Javascript</td>\n      <td>Luogo di lavoroMilanoInizioImmediato – Durata:...</td>\n      <td>Milano, Lombardia</td>\n    </tr>\n    <tr>\n      <th>132</th>\n      <td>Programmatore PHP Junior</td>\n      <td>Descrizione del Ruolo:  \\n Shaggy Owl s.r.l.s....</td>\n      <td>01033 Civita Castellana</td>\n    </tr>\n    <tr>\n      <th>133</th>\n      <td>Full Stack Web Developer</td>\n      <td>la risorsa da inserire nel contesto aziendale ...</td>\n      <td>20123 Milano</td>\n    </tr>\n    <tr>\n      <th>134</th>\n      <td>Sviluppatore Web Full Stack</td>\n      <td>Responsabilità Principali:  Il candidato, inte...</td>\n      <td>20060 Pozzuolo Martesana</td>\n    </tr>\n  </tbody>\n</table>\n<p>135 rows × 3 columns</p>\n</div>"
     },
     "execution_count": 112,
     "metadata": {},
     "output_type": "execute_result"
    }
   ],
   "source": [
    "offers_connection = sqlite3.connect('../datasets/offers_dataset.db')\n",
    "offers_frame = pd.read_sql_query('''SELECT * FROM offers''', offers_connection)\n",
    "offers_connection.close()\n",
    "\n",
    "# [!] Le descrizioni all'interno del notebook non sono mostrate nella loro versione completa\n",
    "#     per accedere ad una specifica descrizione usare il metodo: offers_frame.loc[ID, NomeColonna]\n",
    "offers_frame"
   ],
   "metadata": {
    "collapsed": false,
    "ExecuteTime": {
     "end_time": "2024-01-23T19:26:54.339462800Z",
     "start_time": "2024-01-23T19:26:53.999960200Z"
    }
   },
   "id": "2d019a7a9033f77c"
  },
  {
   "cell_type": "markdown",
   "source": [
    "## Data Exploration\n",
    "Come prima cosa esaminiamo il nostro dataset di offerte, in particolare dovremmo verificare la qualità dei dati:\n",
    "- Base   \n",
    "    - Presenza di valori nulli\n",
    "    - (**Importante**) Presenza di sinonimi geografici\n",
    "    - Presenza di informazioni utili\n",
    "- Avanzato\n",
    "    - Analisi delle Parole Chiave (es. Titoli)\n",
    "    - Analisi della distribuzione dei dati"
   ],
   "metadata": {
    "collapsed": false
   },
   "id": "b148d9cefa03d4c8"
  },
  {
   "cell_type": "markdown",
   "source": [
    "**Presenza di Valori Nulli e Duplicati**\n",
    "Come è possibile vedere di seguito il dataset contiene valori nulli solo per la colonna Location, il che però è normale, in quanto non tutte le Offerte di lavoro sono in presenza, quindi le Location mancanti rappresentano il numero di Offerte di lavoro in Remote.\n",
    "Questa informazione è importante perchè in seguito ci sarà la necessità di rappresentare queste informazioni in modo omogeneo, in modo tale che un modello il cui scopo è raggruppare le Offerte (clustering, come proposto nell'Analisi del Problema) possa farlo in modo adeguato."
   ],
   "metadata": {
    "collapsed": false
   },
   "id": "ce3fcaa61d9998aa"
  },
  {
   "cell_type": "code",
   "execution_count": 113,
   "outputs": [
    {
     "name": "stdout",
     "output_type": "stream",
     "text": [
      "<class 'pandas.core.frame.DataFrame'>\n",
      "Index: 129 entries, 0 to 134\n",
      "Data columns (total 3 columns):\n",
      " #   Column       Non-Null Count  Dtype \n",
      "---  ------       --------------  ----- \n",
      " 0   Name         129 non-null    object\n",
      " 1   Description  129 non-null    object\n",
      " 2   Location     102 non-null    object\n",
      "dtypes: object(3)\n",
      "memory usage: 4.0+ KB\n"
     ]
    }
   ],
   "source": [
    "offers_frame.drop_duplicates(inplace=True)\n",
    "offers_frame.info()"
   ],
   "metadata": {
    "collapsed": false,
    "ExecuteTime": {
     "end_time": "2024-01-23T19:26:54.359461100Z",
     "start_time": "2024-01-23T19:26:54.060461700Z"
    }
   },
   "id": "6ab03fba00230b25"
  },
  {
   "cell_type": "code",
   "execution_count": 113,
   "outputs": [],
   "source": [],
   "metadata": {
    "collapsed": false,
    "ExecuteTime": {
     "end_time": "2024-01-23T19:26:54.359961600Z",
     "start_time": "2024-01-23T19:26:54.157462300Z"
    }
   },
   "id": "b9a7069faf18760d"
  },
  {
   "cell_type": "markdown",
   "source": [
    "## Presenza di Sinonimi Geografici\n",
    "Il dataset contiene attualmente molteplici istanze in cui la stessa Location è riportata in modi diversi, come \\<Cap>, \\<Città> e \\<Città>, \\<Regione>.\n"
   ],
   "metadata": {
    "collapsed": false
   },
   "id": "51416aacfc058b23"
  },
  {
   "cell_type": "code",
   "execution_count": 114,
   "outputs": [],
   "source": [
    "#example_city = \"Bologna\"\n",
    "\n",
    "#onsite_offers = offers_frame[offers_frame[\"Location\"].notna()]\n",
    "#geo_syn = onsite_offers.Location.map(lambda text: example_city in text)\n",
    "#onsite_offers[geo_syn]"
   ],
   "metadata": {
    "collapsed": false,
    "ExecuteTime": {
     "end_time": "2024-01-23T19:26:54.360461500Z",
     "start_time": "2024-01-23T19:26:54.164460100Z"
    }
   },
   "id": "c99cee79c72dcdd0"
  },
  {
   "cell_type": "markdown",
   "source": [
    "**Analisi dei Titoli**\n",
    "Di seguito vengono analizzati i Titoli delle Offerte di lavoro con lo scopo di verificare la presenza di termini comuni, in particolare vengono usate delle basilari tecniche di Natural Language Processing come:\n",
    "- **Tokenization**, utilizzata per dividere frasi o documenti in parole (*title.split()*) \n",
    "- **Rimozione della Punteggiatura**, utilizzata per migliorare la qualità dei dati estratti, in modo da non influenzare i risultati \n",
    "- **Normalizzazione**, utilizzata per ridurre la complessità del vocabolario e trattare parole con maiuscole e minuscole come equivalenti (*t.lower()*)"
   ],
   "metadata": {
    "collapsed": false
   },
   "id": "ac2efe4d43ad79b0"
  },
  {
   "cell_type": "code",
   "execution_count": 115,
   "outputs": [
    {
     "data": {
      "text/plain": "Counter({'software': 42,\n         'developer': 42,\n         'engineer': 32,\n         'network': 21,\n         'web': 15,\n         'junior': 13,\n         'intern': 9,\n         'senior': 8,\n         'frontend': 8,\n         'sviluppatore': 8,\n         '2024': 8,\n         'full': 6,\n         'development': 5,\n         'engineering': 5,\n         'graduate': 5,\n         'security': 5,\n         'programmatore': 4,\n         'stack': 4,\n         'manager': 4,\n         'java': 3,\n         'c#': 3,\n         'apprenticeship': 3,\n         '(london)': 3,\n         'remote)': 3,\n         'summer': 3,\n         'analyst': 3,\n         'internship': 3,\n         '–': 3,\n         'specialist': 3,\n         'stage': 2,\n         'settore': 2,\n         'sanità': 2,\n         'front-end': 2,\n         'app': 2,\n         'remote': 2,\n         'uk': 2,\n         'technology': 2,\n         'apprentice': 2,\n         'front': 2,\n         'end': 2,\n         '(100%': 2,\n         'lead': 2,\n         'system': 2,\n         'engineer,': 2,\n         '(remote)': 2,\n         'programming': 2,\n         'cyber': 2,\n         'energy': 2,\n         'starting': 2,\n         'consultant': 2,\n         'server': 2,\n         'reliability': 2,\n         'rif.': 2,\n         'php': 2,\n         'javascript': 2,\n         'ibp': 1,\n         'algorithms': 1,\n         'unity': 1,\n         'game': 1,\n         'ai': 1,\n         'trainer': 1,\n         '(contract)': 1,\n         'tecnico': 1,\n         'bilance': 1,\n         'digitali': 1,\n         'supermercati': 1,\n         'asp.net': 1,\n         'manufacturing': 1,\n         'relocation': 1,\n         'usa': 1,\n         'programmer': 1,\n         'hmi': 1,\n         'flutter': 1,\n         'qa': 1,\n         'appartenente': 1,\n         'alle': 1,\n         'categorie': 1,\n         'protette': 1,\n         'erp': 1,\n         'campus': 1,\n         'programme': 1,\n         '(uk)': 1,\n         'l4': 1,\n         'degree': 1,\n         '(nottingham)': 1,\n         '(backend)': 1,\n         'start': 1,\n         '(fixed-term': 1,\n         'contract)': 1,\n         'emerging': 1,\n         'threats': 1,\n         'intelligence': 1,\n         'quality': 1,\n         'assurance/manual': 1,\n         'testing': 1,\n         'undergraduate': 1,\n         'harvesting': 1,\n         '(university': 1,\n         'grad)': 1,\n         'assistant': 1,\n         'foundation': 1,\n         '(edinburgh': 1,\n         'electrochemical': 1,\n         'modelling': 1,\n         'storage': 1,\n         '(12': 1,\n         'months)': 1,\n         '(eu)': 1,\n         'catalog': 1,\n         'geospatial': 1,\n         'application': 1,\n         'data': 1,\n         'analyst,': 1,\n         'university': 1,\n         'placement': 1,\n         '(september': 1,\n         'start)': 1,\n         'macro': 1,\n         'research': 1,\n         'and': 1,\n         'associate': 1,\n         'london': 1,\n         'technical': 1,\n         'backend': 1,\n         'freelance': 1,\n         'ux': 1,\n         'engineers': 1,\n         'middle+': 1,\n         'general': 1,\n         'node.js': 1,\n         'digital': 1,\n         'designer': 1,\n         'siem': 1,\n         'power': 1,\n         'eso': 1,\n         '(security': 1,\n         'services)': 1,\n         'production': 1,\n         'f5': 1,\n         'pcn': 1,\n         'aws': 1,\n         'regional': 1,\n         'infrastructure': 1,\n         'manager,': 1,\n         '(remote,': 1,\n         'gbr)': 1,\n         'band': 1,\n         '6-': 1,\n         'cits': 1,\n         'ip': 1,\n         'site': 1,\n         'merchandiser': 1,\n         'controller': 1,\n         'administrator': 1,\n         'sistemista': 1,\n         'it': 1,\n         'transformation': 1,\n         'milano': 1,\n         'financial': 1,\n         'services': 1,\n         '[cns]': 1,\n         'service': 1,\n         'desk': 1,\n         'operator': 1,\n         '(in': 1,\n         'brussels)': 1,\n         'firewall': 1,\n         'palo': 1,\n         'alto': 1,\n         'no': 1,\n         'freelancer!': 1,\n         '490': 1,\n         'support': 1,\n         'progettista': 1,\n         'ict': 1,\n         'sr.': 1,\n         'devops': 1,\n         'roma': 1,\n         '512': 1,\n         'valutazioni,': 1,\n         'industriali': 1,\n         'advisory': 1,\n         'engineer_milano': 1,\n         'middle/senior': 1,\n         'applicazioni': 1,\n         'shopify': 1,\n         'sviluppatori': 1,\n         'mobile': 1})"
     },
     "execution_count": 115,
     "metadata": {},
     "output_type": "execute_result"
    }
   ],
   "source": [
    "from string import punctuation\n",
    "from collections import Counter\n",
    "\n",
    "def count_words(document: str, counter: Counter):\n",
    "    \"\"\"\n",
    "    :param document: a string representation of the document to inspect\n",
    "    :param counter: a Python built-in object used to count occurrences of items\n",
    "    \"\"\"\n",
    "    punct = [p for p in punctuation]\n",
    "    for t in document.split():\n",
    "        if not t in punct:\n",
    "            counter[t.lower()] += 1\n",
    "\n",
    "\n",
    "titles_counts = Counter()\n",
    "offers_frame.Name.map(lambda text: count_words(text, titles_counts))\n",
    "\n",
    "titles_counts"
   ],
   "metadata": {
    "collapsed": false,
    "ExecuteTime": {
     "end_time": "2024-01-23T19:26:54.361460Z",
     "start_time": "2024-01-23T19:26:54.176960400Z"
    }
   },
   "id": "a47c7c31ce071ca4"
  },
  {
   "cell_type": "markdown",
   "source": [
    "Analisi delle occorrenze di parole:"
   ],
   "metadata": {
    "collapsed": false
   },
   "id": "26adff46bb768441"
  },
  {
   "cell_type": "code",
   "execution_count": 116,
   "outputs": [],
   "source": [
    "# Jacopo plotta qui"
   ],
   "metadata": {
    "collapsed": false,
    "ExecuteTime": {
     "end_time": "2024-01-23T19:26:54.361959700Z",
     "start_time": "2024-01-23T19:26:54.197483400Z"
    }
   },
   "id": "77d18769c1283146"
  },
  {
   "cell_type": "code",
   "execution_count": 116,
   "outputs": [],
   "source": [],
   "metadata": {
    "collapsed": false,
    "ExecuteTime": {
     "end_time": "2024-01-23T19:26:54.361959700Z",
     "start_time": "2024-01-23T19:26:54.203013400Z"
    }
   },
   "id": "fe02bb277e4b6bf5"
  },
  {
   "cell_type": "code",
   "execution_count": 116,
   "outputs": [],
   "source": [],
   "metadata": {
    "collapsed": false,
    "ExecuteTime": {
     "end_time": "2024-01-23T19:26:54.362460Z",
     "start_time": "2024-01-23T19:26:54.208444600Z"
    }
   },
   "id": "8447b5bb6bfb0af9"
  },
  {
   "cell_type": "markdown",
   "source": [
    "### Skill Extraction\n",
    "Per procedere con l'estrazione delle Competenze dalle Offerte per prima cosa importiamo il relativo dataset.   "
   ],
   "metadata": {
    "collapsed": false
   },
   "id": "142416c0760ec20f"
  },
  {
   "cell_type": "code",
   "execution_count": 117,
   "outputs": [
    {
     "data": {
      "text/plain": "         SKILL                  TYPE\nID                                  \n0   JavaScript  Programming Language\n1         HTML  Programming Language\n2       Python  Programming Language\n3          SQL  Programming Language\n4   TypeScript  Programming Language\n..         ...                   ...\n95         APT                  Tool\n96    Unity 3D                  Tool\n97      Pacman                  Tool\n98        pnpm                  Tool\n99         CSS  Programming Language\n\n[99 rows x 2 columns]",
      "text/html": "<div>\n<style scoped>\n    .dataframe tbody tr th:only-of-type {\n        vertical-align: middle;\n    }\n\n    .dataframe tbody tr th {\n        vertical-align: top;\n    }\n\n    .dataframe thead th {\n        text-align: right;\n    }\n</style>\n<table border=\"1\" class=\"dataframe\">\n  <thead>\n    <tr style=\"text-align: right;\">\n      <th></th>\n      <th>SKILL</th>\n      <th>TYPE</th>\n    </tr>\n    <tr>\n      <th>ID</th>\n      <th></th>\n      <th></th>\n    </tr>\n  </thead>\n  <tbody>\n    <tr>\n      <th>0</th>\n      <td>JavaScript</td>\n      <td>Programming Language</td>\n    </tr>\n    <tr>\n      <th>1</th>\n      <td>HTML</td>\n      <td>Programming Language</td>\n    </tr>\n    <tr>\n      <th>2</th>\n      <td>Python</td>\n      <td>Programming Language</td>\n    </tr>\n    <tr>\n      <th>3</th>\n      <td>SQL</td>\n      <td>Programming Language</td>\n    </tr>\n    <tr>\n      <th>4</th>\n      <td>TypeScript</td>\n      <td>Programming Language</td>\n    </tr>\n    <tr>\n      <th>...</th>\n      <td>...</td>\n      <td>...</td>\n    </tr>\n    <tr>\n      <th>95</th>\n      <td>APT</td>\n      <td>Tool</td>\n    </tr>\n    <tr>\n      <th>96</th>\n      <td>Unity 3D</td>\n      <td>Tool</td>\n    </tr>\n    <tr>\n      <th>97</th>\n      <td>Pacman</td>\n      <td>Tool</td>\n    </tr>\n    <tr>\n      <th>98</th>\n      <td>pnpm</td>\n      <td>Tool</td>\n    </tr>\n    <tr>\n      <th>99</th>\n      <td>CSS</td>\n      <td>Programming Language</td>\n    </tr>\n  </tbody>\n</table>\n<p>99 rows × 2 columns</p>\n</div>"
     },
     "execution_count": 117,
     "metadata": {},
     "output_type": "execute_result"
    }
   ],
   "source": [
    "with sqlite3.connect('../datasets/skills_dataset.db') as skills_connection:\n",
    "    skills_frame = pd.read_sql_query('SELECT * FROM skills', skills_connection)\n",
    "    skills_frame.set_index('ID', inplace=True)\n",
    "    \n",
    "skills_frame"
   ],
   "metadata": {
    "collapsed": false,
    "ExecuteTime": {
     "end_time": "2024-01-23T19:26:54.391461900Z",
     "start_time": "2024-01-23T19:26:54.214961Z"
    }
   },
   "id": "ac82e9acc4696e99"
  },
  {
   "cell_type": "markdown",
   "source": [],
   "metadata": {
    "collapsed": false
   },
   "id": "21cb6a22ff972b2c"
  },
  {
   "cell_type": "code",
   "execution_count": 118,
   "outputs": [],
   "source": [
    "# Get Skill list\n",
    "skills_list = [skill.lower() for skill in skills_frame['SKILL'].tolist()]\n",
    "\n",
    "# Symbols to remove\n",
    "punct = [p for p in punctuation]\n",
    "punct.remove('+')\n",
    "punct.remove('#')\n",
    "\n",
    "removal = {p: '' for p in punct}\n",
    "removal['\\n'] = ''\n",
    "\n",
    "def remove_symbols(description: str, remove_map: dict) -> str:\n",
    "    for old, new in remove_map.items():\n",
    "        description = description.replace(old, new)\n",
    "    return description.lower()\n",
    "\n",
    "\n",
    "def extract_symbols(description: str, available_symbols: list) -> set:\n",
    "    s = set()\n",
    "    for word in description.split():\n",
    "        if word in available_symbols:\n",
    "            s.add(word)\n",
    "    return s "
   ],
   "metadata": {
    "collapsed": false,
    "ExecuteTime": {
     "end_time": "2024-01-23T19:26:54.391962600Z",
     "start_time": "2024-01-23T19:26:54.251462Z"
    }
   },
   "id": "6eabb82423ef85c7"
  },
  {
   "cell_type": "code",
   "execution_count": 123,
   "outputs": [
    {
     "name": "stdout",
     "output_type": "stream",
     "text": [
      "0-Offer: No Skills\n",
      "{'c', 'c#', 'java', 'c++', 'python'}\n",
      "{'oracle', 'javascript', 'angular', 'java'}\n",
      "{'c++', 'python'}\n",
      "{'javascript', 'c#', 'sql', 'java', 'angularjs'}\n",
      "{'java'}\n",
      "6-Offer: No Skills\n",
      "7-Offer: No Skills\n",
      "{'javascript', 'html', 'css'}\n",
      "{'mysql', 'java'}\n",
      "{'jquery', 'javascript', 'c#', 'sql', 'html', 'css'}\n",
      "{'java'}\n",
      "{'docker', 'javascript', 'php', 'react', 'go', 'java', 'kubernetes'}\n",
      "13-Offer: No Skills\n",
      "{'angular', 'react', 'typescript'}\n",
      "15-Offer: No Skills\n",
      "16-Offer: No Skills\n",
      "{'java'}\n",
      "{'oracle', 'angular', 'react', 'java'}\n",
      "19-Offer: No Skills\n",
      "{'mysql', 'c#', 'sql', 'java', 'c++', 'python'}\n",
      "{'oracle', 'javascript', 'typescript', 'flutter', 'react', 'angular', 'dart'}\n",
      "{'c#', 'sql'}\n",
      "{'javascript', 'php', 'sql', 'python'}\n",
      "24-Offer: No Skills\n",
      "{'dart', 'flutter'}\n",
      "{'docker', 'vite', 'c#', 'sql'}\n",
      "{'php', 'c#', 'java'}\n",
      "{'python', 'c#', 'java'}\n",
      "{'c++', 'c', 'java'}\n",
      "{'docker', 'mysql', 'javascript', 'django', 'sql', 'css', 'postgresql', 'python'}\n",
      "{'mysql', 'sql'}\n",
      "32-Offer: No Skills\n",
      "{'sql'}\n",
      "34-Offer: No Skills\n",
      "{'express', 'go', 'java', 'css', 'kotlin', 'python'}\n",
      "{'javascript', 'php', 'html', 'go', 'css'}\n",
      "{'javascript', 'html', 'angular', 'css'}\n",
      "{'javascript', 'react', 'c#'}\n",
      "{'css', 'javascript', 'html', 'java'}\n",
      "{'javascript', 'typescript', 'c#', 'html', 'sql', 'css'}\n",
      "{'javascript', 'react'}\n",
      "{'c#', 'c', 'java'}\n",
      "{'sql'}\n",
      "{'java'}\n",
      "{'mongodb', 'java'}\n",
      "{'c'}\n",
      "{'c', 'rust', 'java', 'c++', 'python'}\n",
      "{'ruby'}\n",
      "{'php', 'html'}\n",
      "{'express'}\n",
      "{'c#', 'sql', 'java', 'python'}\n",
      "{'c++'}\n",
      "{'c', 'java', 'python'}\n",
      "{'python'}\n",
      "{'python', 'c++', 'java'}\n",
      "56-Offer: No Skills\n",
      "{'javascript', 'php', 'typescript', 'wordpress', 'laravel', 'react'}\n",
      "58-Offer: No Skills\n",
      "{'ruby', 'go'}\n",
      "{'react', 'sql'}\n",
      "{'python'}\n",
      "{'javascript', 'c#', 'kubernetes', 'powershell'}\n",
      "63-Offer: No Skills\n",
      "{'c#', 'c++', 'java'}\n",
      "{'go'}\n",
      "{'python'}\n",
      "{'sql', 'java'}\n",
      "{'rust', 'mysql', 'mongodb', 'redis', 'ruby', 'c++'}\n",
      "{'javascript', 'php', 'wordpress', 'html', 'css'}\n",
      "{'javascript', 'php', 'wordpress', 'html', 'css'}\n",
      "71-Offer: No Skills\n",
      "{'react', 'typescript'}\n",
      "{'webpack', 'javascript', 'typescript', 'go', 'react'}\n",
      "{'javascript', 'npm'}\n",
      "{'javascript', 'html', 'css'}\n",
      "{'webpack', 'javascript', 'php', 'react', 'go'}\n",
      "{'java'}\n",
      "{'html', 'css'}\n",
      "79-Offer: No Skills\n",
      "80-Offer: No Skills\n",
      "81-Offer: No Skills\n",
      "82-Offer: No Skills\n",
      "{'powershell', 'python'}\n",
      "84-Offer: No Skills\n",
      "85-Offer: No Skills\n",
      "86-Offer: No Skills\n",
      "87-Offer: No Skills\n",
      "88-Offer: No Skills\n",
      "89-Offer: No Skills\n",
      "90-Offer: No Skills\n",
      "{'go', 'vmware'}\n",
      "{'go', 'python'}\n",
      "{'vmware'}\n",
      "94-Offer: No Skills\n",
      "95-Offer: No Skills\n",
      "96-Offer: No Skills\n",
      "97-Offer: No Skills\n",
      "98-Offer: No Skills\n",
      "99-Offer: No Skills\n",
      "100-Offer: No Skills\n",
      "101-Offer: No Skills\n",
      "{'vmware', 'ansible'}\n",
      "103-Offer: No Skills\n",
      "104-Offer: No Skills\n",
      "105-Offer: No Skills\n",
      "106-Offer: No Skills\n",
      "107-Offer: No Skills\n",
      "{'cloudflare', 'sql', 'powershell'}\n",
      "{'docker', 'python', 'terraform', 'elasticsearch', 'powershell', 'kubernetes', 'dynamodb'}\n",
      "110-Offer: No Skills\n",
      "111-Offer: No Skills\n",
      "112-Offer: No Skills\n",
      "113-Offer: No Skills\n",
      "{'mysql', 'php', 'wordpress', 'html', 'css'}\n",
      "115-Offer: No Skills\n",
      "{'npm', 'mysql', 'javascript', 'php', 'typescript', 'mongodb', 'html', 'laravel', 'angular', 'css'}\n",
      "{'angular', 'javascript', 'react'}\n",
      "{'mysql', 'react', 'php', 'laravel'}\n",
      "{'jquery', 'docker', 'mysql', 'php', 'laravel'}\n",
      "{'javascript', 'html', 'css'}\n",
      "{'javascript', 'angular'}\n",
      "{'jquery', 'javascript', 'typescript', 'html', 'angular', 'angularjs'}\n",
      "{'jquery', 'mysql', 'javascript', 'php', 'wordpress', 'sql', 'laravel', 'angularjs'}\n",
      "{'docker', 'javascript', 'typescript', 'flutter', 'java', 'dart'}\n",
      "{'javascript', 'angular'}\n",
      "{'javascript', 'php', 'sql', 'html', 'css'}\n",
      "{'docker', 'php', 'html', 'laravel', 'kubernetes'}\n",
      "{'cloudflare', 'php', 'laravel'}\n",
      "There are 43 Offers with no skills available\n"
     ]
    }
   ],
   "source": [
    "with_no_skills = 0\n",
    "for i, offer_description in enumerate(offers_frame.loc[:, 'Description']):\n",
    "    desc = remove_symbols(offer_description, removal)\n",
    "    offer_skills = extract_symbols(desc, skills_list)\n",
    "    if not offer_skills:\n",
    "        print(f'{i}-Offer: No Skills')\n",
    "        with_no_skills += 1\n",
    "    else:\n",
    "        print(offer_skills)\n",
    "\n",
    "print(f'There are {with_no_skills} Offers with no skills available')"
   ],
   "metadata": {
    "collapsed": false,
    "ExecuteTime": {
     "end_time": "2024-01-23T19:28:32.408297300Z",
     "start_time": "2024-01-23T19:28:32.328798600Z"
    }
   },
   "id": "9cee2fbcd429c23b"
  },
  {
   "cell_type": "code",
   "execution_count": 120,
   "outputs": [
    {
     "name": "stderr",
     "output_type": "stream",
     "text": [
      "[nltk_data] Downloading package stopwords to\n",
      "[nltk_data]     C:\\Users\\anton\\AppData\\Roaming\\nltk_data...\n",
      "[nltk_data]   Package stopwords is already up-to-date!\n"
     ]
    }
   ],
   "source": [
    "# Package necessari per la manipolazione di descrizioni in italiano (es. TF-IDF)\n",
    "\n",
    "import nltk\n",
    "from nltk.corpus import stopwords\n",
    "from nltk.tokenize import word_tokenize\n",
    "nltk.download('stopwords')\n",
    "stop_words = set(stopwords.words('italian'))"
   ],
   "metadata": {
    "collapsed": false,
    "ExecuteTime": {
     "end_time": "2024-01-23T19:26:59.639478Z",
     "start_time": "2024-01-23T19:26:54.386960700Z"
    }
   },
   "id": "29a9deae9381e11f"
  },
  {
   "cell_type": "code",
   "execution_count": 120,
   "outputs": [],
   "source": [],
   "metadata": {
    "collapsed": false,
    "ExecuteTime": {
     "end_time": "2024-01-23T19:26:59.639977200Z",
     "start_time": "2024-01-23T19:26:59.630977900Z"
    }
   },
   "id": "50241e78b0cfb777"
  },
  {
   "cell_type": "markdown",
   "source": [
    "## Data Preparation\n",
    "Per permettere il completo soddisfacimento dei requisiti, alcuni dati mancanti alle offerte dovranno essere aggiunti al dataset, tra cui:\n",
    "- LocationType: il tipo di Location, se in remoto (Remote) o in sede (OnSite)\n",
    "- Languages: le lingue naturali necessarie per l'offerta di lavoro"
   ],
   "metadata": {
    "collapsed": false
   },
   "id": "5225660adcd5fd35"
  },
  {
   "cell_type": "markdown",
   "source": [
    "### Tipo di Location\n",
    "Per estrarre il tipo di Location dalle informazioni attualmente già presenti nel dataset, \n",
    "saranno interpretate come di tipo Remote tutte le offerte che non presentano una Location."
   ],
   "metadata": {
    "collapsed": false
   },
   "id": "e1718ca2eae20e7a"
  },
  {
   "cell_type": "code",
   "execution_count": 121,
   "outputs": [
    {
     "data": {
      "text/plain": "                            Name  \\\n0             Software Developer   \n1      Junior Software Developer   \n2             Software Developer   \n3             Software Developer   \n4      Senior Software Developer   \n..                           ...   \n130      Sviluppatori Web Mobile   \n131          FrontEnd Javascript   \n132     Programmatore PHP Junior   \n133     Full Stack Web Developer   \n134  Sviluppatore Web Full Stack   \n\n                                           Description  \\\n0    Miniclip is a global leader in digital games w...   \n1    NETtoWORK, azienda italiana nata nel 2016, ope...   \n2    We are looking for talented and passionate peo...   \n3    ARESYS  is a R&D oriented company with nearly ...   \n4    Il/la Candidato/a dovrà padroneggiare: \\n \\n- ...   \n..                                                 ...   \n130  Stiamo cercando 2 Sviluppatori web/mobile con ...   \n131  Luogo di lavoroMilanoInizioImmediato – Durata:...   \n132  Descrizione del Ruolo:  \\n Shaggy Owl s.r.l.s....   \n133  la risorsa da inserire nel contesto aziendale ...   \n134  Responsabilità Principali:  Il candidato, inte...   \n\n                     Location LocationType  \n0             Genova, Liguria       OnSite  \n1                17100 Savona       OnSite  \n2                 55100 Lucca       OnSite  \n3          Matera, Basilicata       OnSite  \n4            Catania, Sicilia       OnSite  \n..                        ...          ...  \n130           33170 Pordenone       OnSite  \n131         Milano, Lombardia       OnSite  \n132   01033 Civita Castellana       OnSite  \n133              20123 Milano       OnSite  \n134  20060 Pozzuolo Martesana       OnSite  \n\n[129 rows x 4 columns]",
      "text/html": "<div>\n<style scoped>\n    .dataframe tbody tr th:only-of-type {\n        vertical-align: middle;\n    }\n\n    .dataframe tbody tr th {\n        vertical-align: top;\n    }\n\n    .dataframe thead th {\n        text-align: right;\n    }\n</style>\n<table border=\"1\" class=\"dataframe\">\n  <thead>\n    <tr style=\"text-align: right;\">\n      <th></th>\n      <th>Name</th>\n      <th>Description</th>\n      <th>Location</th>\n      <th>LocationType</th>\n    </tr>\n  </thead>\n  <tbody>\n    <tr>\n      <th>0</th>\n      <td>Software Developer</td>\n      <td>Miniclip is a global leader in digital games w...</td>\n      <td>Genova, Liguria</td>\n      <td>OnSite</td>\n    </tr>\n    <tr>\n      <th>1</th>\n      <td>Junior Software Developer</td>\n      <td>NETtoWORK, azienda italiana nata nel 2016, ope...</td>\n      <td>17100 Savona</td>\n      <td>OnSite</td>\n    </tr>\n    <tr>\n      <th>2</th>\n      <td>Software Developer</td>\n      <td>We are looking for talented and passionate peo...</td>\n      <td>55100 Lucca</td>\n      <td>OnSite</td>\n    </tr>\n    <tr>\n      <th>3</th>\n      <td>Software Developer</td>\n      <td>ARESYS  is a R&amp;D oriented company with nearly ...</td>\n      <td>Matera, Basilicata</td>\n      <td>OnSite</td>\n    </tr>\n    <tr>\n      <th>4</th>\n      <td>Senior Software Developer</td>\n      <td>Il/la Candidato/a dovrà padroneggiare: \\n \\n- ...</td>\n      <td>Catania, Sicilia</td>\n      <td>OnSite</td>\n    </tr>\n    <tr>\n      <th>...</th>\n      <td>...</td>\n      <td>...</td>\n      <td>...</td>\n      <td>...</td>\n    </tr>\n    <tr>\n      <th>130</th>\n      <td>Sviluppatori Web Mobile</td>\n      <td>Stiamo cercando 2 Sviluppatori web/mobile con ...</td>\n      <td>33170 Pordenone</td>\n      <td>OnSite</td>\n    </tr>\n    <tr>\n      <th>131</th>\n      <td>FrontEnd Javascript</td>\n      <td>Luogo di lavoroMilanoInizioImmediato – Durata:...</td>\n      <td>Milano, Lombardia</td>\n      <td>OnSite</td>\n    </tr>\n    <tr>\n      <th>132</th>\n      <td>Programmatore PHP Junior</td>\n      <td>Descrizione del Ruolo:  \\n Shaggy Owl s.r.l.s....</td>\n      <td>01033 Civita Castellana</td>\n      <td>OnSite</td>\n    </tr>\n    <tr>\n      <th>133</th>\n      <td>Full Stack Web Developer</td>\n      <td>la risorsa da inserire nel contesto aziendale ...</td>\n      <td>20123 Milano</td>\n      <td>OnSite</td>\n    </tr>\n    <tr>\n      <th>134</th>\n      <td>Sviluppatore Web Full Stack</td>\n      <td>Responsabilità Principali:  Il candidato, inte...</td>\n      <td>20060 Pozzuolo Martesana</td>\n      <td>OnSite</td>\n    </tr>\n  </tbody>\n</table>\n<p>129 rows × 4 columns</p>\n</div>"
     },
     "execution_count": 121,
     "metadata": {},
     "output_type": "execute_result"
    }
   ],
   "source": [
    "LOCATION_TYPES = {\"Remote\" : \"Remote\", \"On Site\" : \"OnSite\"}\n",
    "locations_present = offers_frame[\"Location\"].notna()\n",
    "types = []\n",
    "\n",
    "for is_present in locations_present:\n",
    "    if is_present:\n",
    "        types.append(LOCATION_TYPES[\"On Site\"])\n",
    "    else:\n",
    "        types.append(LOCATION_TYPES[\"Remote\"])\n",
    "\n",
    "offers_frame.loc[:, \"LocationType\"] = types\n",
    "\n",
    "offers_frame"
   ],
   "metadata": {
    "collapsed": false,
    "ExecuteTime": {
     "end_time": "2024-01-23T19:26:59.700976800Z",
     "start_time": "2024-01-23T19:26:59.637978500Z"
    }
   },
   "id": "bc8aa120ff609173"
  },
  {
   "cell_type": "markdown",
   "source": [
    "### Linguaggi Richiesti\n",
    "Per dedurre quali lingue parlate sono richieste da una data offerta di lavoro, viene utilizzato il modulo langdetect per identificare la lingua in cui è stata scritta la descrizione dell'offerta stessa, e successivamente tramite una ricerca all'interno del testo della descrizione per menzioni di ulteriori lingue."
   ],
   "metadata": {
    "collapsed": false
   },
   "id": "24560921d4d4adf6"
  },
  {
   "cell_type": "code",
   "execution_count": 122,
   "outputs": [
    {
     "data": {
      "text/plain": "                            Name  \\\n0             Software Developer   \n1      Junior Software Developer   \n2             Software Developer   \n3             Software Developer   \n4      Senior Software Developer   \n..                           ...   \n130      Sviluppatori Web Mobile   \n131          FrontEnd Javascript   \n132     Programmatore PHP Junior   \n133     Full Stack Web Developer   \n134  Sviluppatore Web Full Stack   \n\n                                           Description  \\\n0    Miniclip is a global leader in digital games w...   \n1    NETtoWORK, azienda italiana nata nel 2016, ope...   \n2    We are looking for talented and passionate peo...   \n3    ARESYS  is a R&D oriented company with nearly ...   \n4    Il/la Candidato/a dovrà padroneggiare: \\n \\n- ...   \n..                                                 ...   \n130  Stiamo cercando 2 Sviluppatori web/mobile con ...   \n131  Luogo di lavoroMilanoInizioImmediato – Durata:...   \n132  Descrizione del Ruolo:  \\n Shaggy Owl s.r.l.s....   \n133  la risorsa da inserire nel contesto aziendale ...   \n134  Responsabilità Principali:  Il candidato, inte...   \n\n                     Location LocationType            Languages  \n0             Genova, Liguria       OnSite   [inglese, inglese]  \n1                17100 Savona       OnSite           [italiano]  \n2                 55100 Lucca       OnSite   [inglese, inglese]  \n3          Matera, Basilicata       OnSite            [inglese]  \n4            Catania, Sicilia       OnSite           [italiano]  \n..                        ...          ...                  ...  \n130           33170 Pordenone       OnSite           [italiano]  \n131         Milano, Lombardia       OnSite           [italiano]  \n132   01033 Civita Castellana       OnSite           [italiano]  \n133              20123 Milano       OnSite           [italiano]  \n134  20060 Pozzuolo Martesana       OnSite  [inglese, italiano]  \n\n[129 rows x 5 columns]",
      "text/html": "<div>\n<style scoped>\n    .dataframe tbody tr th:only-of-type {\n        vertical-align: middle;\n    }\n\n    .dataframe tbody tr th {\n        vertical-align: top;\n    }\n\n    .dataframe thead th {\n        text-align: right;\n    }\n</style>\n<table border=\"1\" class=\"dataframe\">\n  <thead>\n    <tr style=\"text-align: right;\">\n      <th></th>\n      <th>Name</th>\n      <th>Description</th>\n      <th>Location</th>\n      <th>LocationType</th>\n      <th>Languages</th>\n    </tr>\n  </thead>\n  <tbody>\n    <tr>\n      <th>0</th>\n      <td>Software Developer</td>\n      <td>Miniclip is a global leader in digital games w...</td>\n      <td>Genova, Liguria</td>\n      <td>OnSite</td>\n      <td>[inglese, inglese]</td>\n    </tr>\n    <tr>\n      <th>1</th>\n      <td>Junior Software Developer</td>\n      <td>NETtoWORK, azienda italiana nata nel 2016, ope...</td>\n      <td>17100 Savona</td>\n      <td>OnSite</td>\n      <td>[italiano]</td>\n    </tr>\n    <tr>\n      <th>2</th>\n      <td>Software Developer</td>\n      <td>We are looking for talented and passionate peo...</td>\n      <td>55100 Lucca</td>\n      <td>OnSite</td>\n      <td>[inglese, inglese]</td>\n    </tr>\n    <tr>\n      <th>3</th>\n      <td>Software Developer</td>\n      <td>ARESYS  is a R&amp;D oriented company with nearly ...</td>\n      <td>Matera, Basilicata</td>\n      <td>OnSite</td>\n      <td>[inglese]</td>\n    </tr>\n    <tr>\n      <th>4</th>\n      <td>Senior Software Developer</td>\n      <td>Il/la Candidato/a dovrà padroneggiare: \\n \\n- ...</td>\n      <td>Catania, Sicilia</td>\n      <td>OnSite</td>\n      <td>[italiano]</td>\n    </tr>\n    <tr>\n      <th>...</th>\n      <td>...</td>\n      <td>...</td>\n      <td>...</td>\n      <td>...</td>\n      <td>...</td>\n    </tr>\n    <tr>\n      <th>130</th>\n      <td>Sviluppatori Web Mobile</td>\n      <td>Stiamo cercando 2 Sviluppatori web/mobile con ...</td>\n      <td>33170 Pordenone</td>\n      <td>OnSite</td>\n      <td>[italiano]</td>\n    </tr>\n    <tr>\n      <th>131</th>\n      <td>FrontEnd Javascript</td>\n      <td>Luogo di lavoroMilanoInizioImmediato – Durata:...</td>\n      <td>Milano, Lombardia</td>\n      <td>OnSite</td>\n      <td>[italiano]</td>\n    </tr>\n    <tr>\n      <th>132</th>\n      <td>Programmatore PHP Junior</td>\n      <td>Descrizione del Ruolo:  \\n Shaggy Owl s.r.l.s....</td>\n      <td>01033 Civita Castellana</td>\n      <td>OnSite</td>\n      <td>[italiano]</td>\n    </tr>\n    <tr>\n      <th>133</th>\n      <td>Full Stack Web Developer</td>\n      <td>la risorsa da inserire nel contesto aziendale ...</td>\n      <td>20123 Milano</td>\n      <td>OnSite</td>\n      <td>[italiano]</td>\n    </tr>\n    <tr>\n      <th>134</th>\n      <td>Sviluppatore Web Full Stack</td>\n      <td>Responsabilità Principali:  Il candidato, inte...</td>\n      <td>20060 Pozzuolo Martesana</td>\n      <td>OnSite</td>\n      <td>[inglese, italiano]</td>\n    </tr>\n  </tbody>\n</table>\n<p>129 rows × 5 columns</p>\n</div>"
     },
     "execution_count": 122,
     "metadata": {},
     "output_type": "execute_result"
    }
   ],
   "source": [
    "from langdetect import detect\n",
    "offers_langs = []\n",
    "remove_map = {p:'' for p in punctuation}\n",
    "supported_langs = ['italiano', 'inglese', 'italian', 'english']\n",
    "eqs = [('italiano', 'italian'), ('inglese', 'english')]\n",
    "\n",
    "for desc in offers_frame.Description:\n",
    "    lang = detect(desc)\n",
    "    if lang == 'it':\n",
    "        lang = 'italiano'\n",
    "    elif lang == 'en':\n",
    "        lang = 'inglese'\n",
    "    \n",
    "    desc = remove_symbols(desc, remove_map)\n",
    "    found = extract_symbols(desc, supported_langs)\n",
    "    found.add(lang)\n",
    "    found = list(found)\n",
    "    \n",
    "    for i, l in enumerate(found):\n",
    "        for e in eqs:\n",
    "            if l in e:\n",
    "                found[i] = e[0]\n",
    "                break\n",
    "    \n",
    "    offers_langs.append(found)\n",
    "    \n",
    "offers_frame.loc[:, \"Languages\"] = offers_langs\n",
    "\n",
    "offers_frame"
   ],
   "metadata": {
    "collapsed": false,
    "ExecuteTime": {
     "end_time": "2024-01-23T19:27:02.549978100Z",
     "start_time": "2024-01-23T19:26:59.662477800Z"
    }
   },
   "id": "2981ee0458924810"
  },
  {
   "cell_type": "code",
   "execution_count": 122,
   "outputs": [],
   "source": [],
   "metadata": {
    "collapsed": false,
    "ExecuteTime": {
     "end_time": "2024-01-23T19:27:02.561978800Z",
     "start_time": "2024-01-23T19:27:02.550977500Z"
    }
   },
   "id": "b4aa093a47f8b579"
  }
 ],
 "metadata": {
  "kernelspec": {
   "display_name": "Python 3",
   "language": "python",
   "name": "python3"
  },
  "language_info": {
   "codemirror_mode": {
    "name": "ipython",
    "version": 2
   },
   "file_extension": ".py",
   "mimetype": "text/x-python",
   "name": "python",
   "nbconvert_exporter": "python",
   "pygments_lexer": "ipython2",
   "version": "2.7.6"
  }
 },
 "nbformat": 4,
 "nbformat_minor": 5
}
