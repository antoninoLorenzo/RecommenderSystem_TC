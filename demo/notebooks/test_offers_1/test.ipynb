{
 "cells": [
  {
   "cell_type": "code",
   "execution_count": 56,
   "id": "initial_id",
   "metadata": {
    "collapsed": true,
    "ExecuteTime": {
     "end_time": "2024-01-25T16:38:17.506316100Z",
     "start_time": "2024-01-25T16:38:17.407315600Z"
    }
   },
   "outputs": [],
   "source": [
    "import sqlite3\n",
    "import random\n",
    "from string import punctuation\n",
    "\n",
    "import pandas as pd\n",
    "import numpy as np\n",
    "from pandas.core.series import Series\n",
    "import matplotlib.pyplot as plt\n",
    "%matplotlib inline\n",
    "import seaborn as sns"
   ]
  },
  {
   "cell_type": "code",
   "execution_count": 57,
   "outputs": [],
   "source": [
    "offers_connection = sqlite3.connect('../../datasets/offers_dataset.db')\n",
    "offers_frame = pd.read_sql_query('''SELECT * FROM offers''', offers_connection)\n",
    "offers_connection.close()\n",
    "\n",
    "with sqlite3.connect('../../datasets/skills_dataset.db') as skills_connection:\n",
    "    skills_frame = pd.read_sql_query('SELECT * FROM skills', skills_connection)\n",
    "    skills_frame.set_index('ID', inplace=True)"
   ],
   "metadata": {
    "collapsed": false,
    "ExecuteTime": {
     "end_time": "2024-01-25T16:38:17.510316700Z",
     "start_time": "2024-01-25T16:38:17.428315700Z"
    }
   },
   "id": "15d7000a3b37f3ff"
  },
  {
   "cell_type": "code",
   "execution_count": 58,
   "outputs": [],
   "source": [
    "offers_frame.dropna(subset='Name',inplace=True)\n",
    "offers_frame.drop_duplicates(inplace=True)"
   ],
   "metadata": {
    "collapsed": false,
    "ExecuteTime": {
     "end_time": "2024-01-25T16:38:17.515315700Z",
     "start_time": "2024-01-25T16:38:17.443316Z"
    }
   },
   "id": "91a9d1877e212e8d"
  },
  {
   "cell_type": "code",
   "execution_count": 59,
   "outputs": [],
   "source": [
    "def remove_symbols(description: str, remove_map: dict) -> str:\n",
    "    \"\"\"\n",
    "    \"\"\"\n",
    "    for old, new in remove_map.items():\n",
    "        description = description.replace(old, new)\n",
    "    return description.lower()\n",
    "\n",
    "\n",
    "def extract_symbols(description: str, available_symbols: list) -> set:\n",
    "    s = set()\n",
    "    prev = ''\n",
    "    for word in description.split():\n",
    "        if word in available_symbols:\n",
    "            s.add(word)\n",
    "        elif f'{prev} {word}' in available_symbols:\n",
    "            s.add(f'{prev} {word}')  \n",
    "        prev = word\n",
    "    return s \n",
    "\n",
    "def translate_skills(skills: set, toId = False) -> set:\n",
    "    if toId:\n",
    "        return skill_to_id(skills)\n",
    "    else:\n",
    "        return id_to_skill(skills)\n",
    "\n",
    "def id_to_skill(skills: set[int]) -> set[str]:\n",
    "    out = set()\n",
    "    for skill in skills:\n",
    "        out.add(skills_frame.loc[skill, 'SKILL'])\n",
    "    \n",
    "    return out\n",
    "\n",
    "def skill_to_id(skills: set[str]) -> set[int]:\n",
    "    out = set()\n",
    "    for skill in skills:\n",
    "        out.add(\n",
    "            list(\n",
    "                skills_frame.loc[\n",
    "                    skills_frame['SKILL'].apply(lambda val: val.lower()) == skill.lower()\n",
    "                ].index\n",
    "            )[0]\n",
    "        )\n",
    "    \n",
    "    return out"
   ],
   "metadata": {
    "collapsed": false,
    "ExecuteTime": {
     "end_time": "2024-01-25T16:38:17.516316600Z",
     "start_time": "2024-01-25T16:38:17.459316700Z"
    }
   },
   "id": "411ce9eb7199b49f"
  },
  {
   "cell_type": "code",
   "execution_count": 60,
   "outputs": [],
   "source": [
    "# Get Skill list\n",
    "skills_list = [skill.lower() for skill in skills_frame['SKILL'].tolist()]\n",
    "\n",
    "# Symbols to remove\n",
    "punct = [p for p in punctuation]\n",
    "punct.remove('+')\n",
    "punct.remove('#')\n",
    "# punct.remove('.')\n",
    "\n",
    "removal = {p: ' ' for p in punct}\n",
    "removal['\\n'] = ''\n",
    "removal['/'] = ' '\n",
    "removal['('] = ' '\n",
    "removal[')'] = ' '\n",
    "removal[','] = ' '\n",
    "removal['>'] = ' '\n",
    "removal['.'] = ' .'"
   ],
   "metadata": {
    "collapsed": false,
    "ExecuteTime": {
     "end_time": "2024-01-25T16:38:17.516316600Z",
     "start_time": "2024-01-25T16:38:17.476315600Z"
    }
   },
   "id": "8c520e7daca7c8d5"
  },
  {
   "cell_type": "code",
   "execution_count": 61,
   "outputs": [
    {
     "data": {
      "text/plain": "                                                  Name  \\\n0                                   Software Developer   \n1                            Junior Software Developer   \n2                                   Software Developer   \n3                                   Software Developer   \n4                            Senior Software Developer   \n..                                                 ...   \n161  Senior Staff Product Engineer for Embedded Too...   \n162   Internship Engineer for Advanced Process Control   \n163                             DevOps Engineer Senior   \n164                          Software Quality Engineer   \n165                      Sr. Site Reliability Engineer   \n\n                                           Description            Location  \\\n0    Miniclip is a global leader in digital games w...     Genova, Liguria   \n1    NETtoWORK, azienda italiana nata nel 2016, ope...        17100 Savona   \n2    We are looking for talented and passionate peo...         55100 Lucca   \n3    ARESYS  is a R&D oriented company with nearly ...  Matera, Basilicata   \n4    Il/la Candidato/a dovrà padroneggiare: \\n \\n- ...    Catania, Sicilia   \n..                                                 ...                 ...   \n161  Do you want to be part of a new project team w...      Padova, Veneto   \n162  Internship Engineer for Advanced Process Contr...     Genova, Liguria   \n163  ARGO LOGICA società di consulenza informatica ...         Roma, Lazio   \n164  CentralReach is the #1 provider of SaaS softwa...        37121 Verona   \n165  CentralReach is the #1 provider of SaaS softwa...        37121 Verona   \n\n                           RequiredSkills  \n0                              {100, 101}  \n1                         {2, 6, 7, 8, 9}  \n2                       {0, 3, 6, 44, 26}  \n3                               {8, 9, 2}  \n4    {0, 1, 3, 99, 6, 7, 104, 55, 57, 26}  \n..                                    ...  \n161                                {8, 9}  \n162                            {8, 9, 12}  \n163                       {80, 73, 61, 6}  \n164                       {0, 1, 99, 103}  \n165       {2, 6, 104, 73, 12, 80, 89, 30}  \n\n[166 rows x 4 columns]",
      "text/html": "<div>\n<style scoped>\n    .dataframe tbody tr th:only-of-type {\n        vertical-align: middle;\n    }\n\n    .dataframe tbody tr th {\n        vertical-align: top;\n    }\n\n    .dataframe thead th {\n        text-align: right;\n    }\n</style>\n<table border=\"1\" class=\"dataframe\">\n  <thead>\n    <tr style=\"text-align: right;\">\n      <th></th>\n      <th>Name</th>\n      <th>Description</th>\n      <th>Location</th>\n      <th>RequiredSkills</th>\n    </tr>\n  </thead>\n  <tbody>\n    <tr>\n      <th>0</th>\n      <td>Software Developer</td>\n      <td>Miniclip is a global leader in digital games w...</td>\n      <td>Genova, Liguria</td>\n      <td>{100, 101}</td>\n    </tr>\n    <tr>\n      <th>1</th>\n      <td>Junior Software Developer</td>\n      <td>NETtoWORK, azienda italiana nata nel 2016, ope...</td>\n      <td>17100 Savona</td>\n      <td>{2, 6, 7, 8, 9}</td>\n    </tr>\n    <tr>\n      <th>2</th>\n      <td>Software Developer</td>\n      <td>We are looking for talented and passionate peo...</td>\n      <td>55100 Lucca</td>\n      <td>{0, 3, 6, 44, 26}</td>\n    </tr>\n    <tr>\n      <th>3</th>\n      <td>Software Developer</td>\n      <td>ARESYS  is a R&amp;D oriented company with nearly ...</td>\n      <td>Matera, Basilicata</td>\n      <td>{8, 9, 2}</td>\n    </tr>\n    <tr>\n      <th>4</th>\n      <td>Senior Software Developer</td>\n      <td>Il/la Candidato/a dovrà padroneggiare: \\n \\n- ...</td>\n      <td>Catania, Sicilia</td>\n      <td>{0, 1, 3, 99, 6, 7, 104, 55, 57, 26}</td>\n    </tr>\n    <tr>\n      <th>...</th>\n      <td>...</td>\n      <td>...</td>\n      <td>...</td>\n      <td>...</td>\n    </tr>\n    <tr>\n      <th>161</th>\n      <td>Senior Staff Product Engineer for Embedded Too...</td>\n      <td>Do you want to be part of a new project team w...</td>\n      <td>Padova, Veneto</td>\n      <td>{8, 9}</td>\n    </tr>\n    <tr>\n      <th>162</th>\n      <td>Internship Engineer for Advanced Process Control</td>\n      <td>Internship Engineer for Advanced Process Contr...</td>\n      <td>Genova, Liguria</td>\n      <td>{8, 9, 12}</td>\n    </tr>\n    <tr>\n      <th>163</th>\n      <td>DevOps Engineer Senior</td>\n      <td>ARGO LOGICA società di consulenza informatica ...</td>\n      <td>Roma, Lazio</td>\n      <td>{80, 73, 61, 6}</td>\n    </tr>\n    <tr>\n      <th>164</th>\n      <td>Software Quality Engineer</td>\n      <td>CentralReach is the #1 provider of SaaS softwa...</td>\n      <td>37121 Verona</td>\n      <td>{0, 1, 99, 103}</td>\n    </tr>\n    <tr>\n      <th>165</th>\n      <td>Sr. Site Reliability Engineer</td>\n      <td>CentralReach is the #1 provider of SaaS softwa...</td>\n      <td>37121 Verona</td>\n      <td>{2, 6, 104, 73, 12, 80, 89, 30}</td>\n    </tr>\n  </tbody>\n</table>\n<p>166 rows × 4 columns</p>\n</div>"
     },
     "execution_count": 61,
     "metadata": {},
     "output_type": "execute_result"
    }
   ],
   "source": [
    "required_skills = [] \n",
    "\n",
    "# Extract skills from descriptions and add new column\n",
    "for i, offer_description in enumerate(offers_frame.loc[:, 'Description']):\n",
    "    desc = remove_symbols(offer_description, removal)\n",
    "    offer_skills = extract_symbols(desc, skills_list)\n",
    "    required_skills.append(translate_skills(offer_skills, toId=True))  \n",
    "    #required_skills.append(offer_skills)\n",
    "offers_frame.insert(len(offers_frame.columns), \"RequiredSkills\", required_skills)\n",
    "\n",
    "# Remove offers with no required skills\n",
    "offers_frame['RequiredSkills'] = offers_frame['RequiredSkills'].apply(lambda x: np.NaN if not x else x)\n",
    "offers_frame.dropna(subset='RequiredSkills', inplace=True)\n",
    "offers_frame.reset_index(drop=True, inplace=True)\n",
    "offers_frame"
   ],
   "metadata": {
    "collapsed": false,
    "ExecuteTime": {
     "end_time": "2024-01-25T16:38:17.806316100Z",
     "start_time": "2024-01-25T16:38:17.490316300Z"
    }
   },
   "id": "19d237c083867bcf"
  },
  {
   "cell_type": "markdown",
   "source": [
    "### Jaccard Distance"
   ],
   "metadata": {
    "collapsed": false
   },
   "id": "65686f15a552c9d2"
  },
  {
   "cell_type": "code",
   "execution_count": 62,
   "outputs": [],
   "source": [
    "def _jaccard(s1: set, s2: set):\n",
    "    return 1 - (len(s1.intersection(s2)) / len(s1.union(s2)))\n",
    "\n",
    "def jaccard(row1: Series, row2: Series, col_name: str):\n",
    "    if row1.keys().values is not row2.keys().values:\n",
    "        raise ValueError(f'Rows have different columns: {row1.keys()} vs {row2.keys()}')   \n",
    "    if col_name not in row1.keys() or col_name not in row2.keys():\n",
    "        raise ValueError(f'Invalid Column Name {col_name}')  \n",
    "    return _jaccard(row1[col_name], row2[col_name])"
   ],
   "metadata": {
    "collapsed": false,
    "ExecuteTime": {
     "end_time": "2024-01-25T16:38:17.851316Z",
     "start_time": "2024-01-25T16:38:17.806316100Z"
    }
   },
   "id": "40d65ca6e1325e4e"
  },
  {
   "cell_type": "code",
   "execution_count": 63,
   "outputs": [
    {
     "name": "stdout",
     "output_type": "stream",
     "text": [
      "Distance between Frontend and Frontend: 0.00\n",
      " {0, 1, 99} and {0, 1, 99}\n",
      "Distance between Frontend and Software Developer Degree Apprenticeship (Nottingham): 1.00\n",
      " {0, 1, 99} and {6, 7, 9, 57, 30}\n",
      "Distance between AWS Security Engineer and Software Developer: 1.00\n",
      " {30} and {1, 10, 103}\n"
     ]
    }
   ],
   "source": [
    "# Examples\n",
    "r1 = offers_frame.loc[8, :]\n",
    "r2 = offers_frame.loc[37, :]\n",
    "r3 = offers_frame.loc[random.randint(0, len(offers_frame))]\n",
    "r4 = offers_frame.loc[random.randint(0, len(offers_frame))]\n",
    "\n",
    "print(f'Distance between {r1[\"Name\"]} and {r1[\"Name\"]}: {jaccard(r1, r1, \"RequiredSkills\"):.2f}\\n {r1[\"RequiredSkills\"]} and {r1[\"RequiredSkills\"]}')\n",
    "print(f'Distance between {r1[\"Name\"]} and {r2[\"Name\"]}: {jaccard(r1, r2, \"RequiredSkills\"):.2f}\\n {r1[\"RequiredSkills\"]} and {r2[\"RequiredSkills\"]}')\n",
    "print(f'Distance between {r3[\"Name\"]} and {r4[\"Name\"]}: {jaccard(r3, r4, \"RequiredSkills\"):.2f}\\n {r3[\"RequiredSkills\"]} and {r4[\"RequiredSkills\"]}')"
   ],
   "metadata": {
    "collapsed": false,
    "ExecuteTime": {
     "end_time": "2024-01-25T16:38:17.896316300Z",
     "start_time": "2024-01-25T16:38:17.823316800Z"
    }
   },
   "id": "44ac4f250c9e3328"
  },
  {
   "cell_type": "markdown",
   "source": [
    "## Distance Matrix"
   ],
   "metadata": {
    "collapsed": false
   },
   "id": "6e2dc81d861b9de5"
  },
  {
   "cell_type": "code",
   "execution_count": 74,
   "outputs": [],
   "source": [
    "def get_distance_matrix(frame: pd.DataFrame, col_name: str):\n",
    "    distances = []\n",
    "    for i, row1 in frame.iterrows():\n",
    "        distances.append([])\n",
    "        for j, row2 in frame.iterrows():\n",
    "            if i != j:\n",
    "                distances[-1].append(_jaccard(row1[col_name], row2[col_name]))\n",
    "            else:\n",
    "                distances[-1].append(0)#np.inf) \n",
    "    return pd.DataFrame(distances, index=frame.index, columns=frame.index)\n",
    "\n",
    "distance_matrix = get_distance_matrix(offers_frame, 'RequiredSkills')"
   ],
   "metadata": {
    "collapsed": false,
    "ExecuteTime": {
     "end_time": "2024-01-25T16:38:26.406662400Z",
     "start_time": "2024-01-25T16:38:25.564662400Z"
    }
   },
   "id": "b78ec64713866285"
  },
  {
   "cell_type": "code",
   "execution_count": 65,
   "outputs": [
    {
     "data": {
      "text/plain": "     0         1         2         3         4         5         6    \\\n0    0.0  1.000000  1.000000  1.000000  1.000000  1.000000  1.000000   \n1    1.0  0.000000  0.888889  0.400000  0.846154  0.833333  0.600000   \n2    1.0  0.888889  0.000000  1.000000  0.636364  0.833333  0.833333   \n3    1.0  0.400000  1.000000  0.000000  1.000000  1.000000  0.750000   \n4    1.0  0.846154  0.636364  1.000000  0.000000  0.800000  0.909091   \n..   ...       ...       ...       ...       ...       ...       ...   \n161  1.0  0.600000  1.000000  0.333333  1.000000  1.000000  1.000000   \n162  1.0  0.666667  1.000000  0.500000  1.000000  1.000000  1.000000   \n163  1.0  0.875000  0.875000  1.000000  0.923077  0.800000  0.800000   \n164  1.0  1.000000  0.875000  1.000000  0.727273  1.000000  1.000000   \n165  1.0  0.818182  0.916667  0.900000  0.875000  0.888889  0.750000   \n\n          7         8         9    ...       156       157       158  \\\n0    0.666667  1.000000  1.000000  ...  1.000000  0.857143  0.916667   \n1    1.000000  1.000000  0.833333  ...  0.923077  1.000000  0.933333   \n2    1.000000  0.857143  0.833333  ...  0.923077  1.000000  1.000000   \n3    1.000000  1.000000  1.000000  ...  0.909091  1.000000  0.923077   \n4    1.000000  0.700000  0.909091  ...  0.882353  0.933333  0.950000   \n..        ...       ...       ...  ...       ...       ...       ...   \n161  1.000000  1.000000  1.000000  ...  1.000000  1.000000  1.000000   \n162  1.000000  1.000000  1.000000  ...  1.000000  1.000000  1.000000   \n163  1.000000  1.000000  0.800000  ...  0.818182  0.888889  0.928571   \n164  1.000000  0.250000  1.000000  ...  0.916667  1.000000  1.000000   \n165  1.000000  1.000000  0.888889  ...  0.583333  0.600000  0.642857   \n\n          159       160       161       162       163       164       165  \n0    1.000000  1.000000  1.000000  1.000000  1.000000  1.000000  1.000000  \n1    0.857143  0.846154  0.600000  0.666667  0.875000  1.000000  0.818182  \n2    0.857143  0.846154  1.000000  1.000000  0.875000  0.875000  0.916667  \n3    0.800000  0.916667  0.333333  0.500000  1.000000  1.000000  0.900000  \n4    0.916667  0.750000  1.000000  1.000000  0.923077  0.727273  0.875000  \n..        ...       ...       ...       ...       ...       ...       ...  \n161  1.000000  1.000000  0.000000  0.333333  1.000000  1.000000  1.000000  \n162  1.000000  1.000000  0.333333  0.000000  1.000000  1.000000  0.900000  \n163  1.000000  0.833333  1.000000  1.000000  0.000000  1.000000  0.666667  \n164  1.000000  1.000000  1.000000  1.000000  1.000000  0.000000  1.000000  \n165  0.900000  0.500000  1.000000  0.900000  0.666667  1.000000  0.000000  \n\n[166 rows x 166 columns]",
      "text/html": "<div>\n<style scoped>\n    .dataframe tbody tr th:only-of-type {\n        vertical-align: middle;\n    }\n\n    .dataframe tbody tr th {\n        vertical-align: top;\n    }\n\n    .dataframe thead th {\n        text-align: right;\n    }\n</style>\n<table border=\"1\" class=\"dataframe\">\n  <thead>\n    <tr style=\"text-align: right;\">\n      <th></th>\n      <th>0</th>\n      <th>1</th>\n      <th>2</th>\n      <th>3</th>\n      <th>4</th>\n      <th>5</th>\n      <th>6</th>\n      <th>7</th>\n      <th>8</th>\n      <th>9</th>\n      <th>...</th>\n      <th>156</th>\n      <th>157</th>\n      <th>158</th>\n      <th>159</th>\n      <th>160</th>\n      <th>161</th>\n      <th>162</th>\n      <th>163</th>\n      <th>164</th>\n      <th>165</th>\n    </tr>\n  </thead>\n  <tbody>\n    <tr>\n      <th>0</th>\n      <td>0.0</td>\n      <td>1.000000</td>\n      <td>1.000000</td>\n      <td>1.000000</td>\n      <td>1.000000</td>\n      <td>1.000000</td>\n      <td>1.000000</td>\n      <td>0.666667</td>\n      <td>1.000000</td>\n      <td>1.000000</td>\n      <td>...</td>\n      <td>1.000000</td>\n      <td>0.857143</td>\n      <td>0.916667</td>\n      <td>1.000000</td>\n      <td>1.000000</td>\n      <td>1.000000</td>\n      <td>1.000000</td>\n      <td>1.000000</td>\n      <td>1.000000</td>\n      <td>1.000000</td>\n    </tr>\n    <tr>\n      <th>1</th>\n      <td>1.0</td>\n      <td>0.000000</td>\n      <td>0.888889</td>\n      <td>0.400000</td>\n      <td>0.846154</td>\n      <td>0.833333</td>\n      <td>0.600000</td>\n      <td>1.000000</td>\n      <td>1.000000</td>\n      <td>0.833333</td>\n      <td>...</td>\n      <td>0.923077</td>\n      <td>1.000000</td>\n      <td>0.933333</td>\n      <td>0.857143</td>\n      <td>0.846154</td>\n      <td>0.600000</td>\n      <td>0.666667</td>\n      <td>0.875000</td>\n      <td>1.000000</td>\n      <td>0.818182</td>\n    </tr>\n    <tr>\n      <th>2</th>\n      <td>1.0</td>\n      <td>0.888889</td>\n      <td>0.000000</td>\n      <td>1.000000</td>\n      <td>0.636364</td>\n      <td>0.833333</td>\n      <td>0.833333</td>\n      <td>1.000000</td>\n      <td>0.857143</td>\n      <td>0.833333</td>\n      <td>...</td>\n      <td>0.923077</td>\n      <td>1.000000</td>\n      <td>1.000000</td>\n      <td>0.857143</td>\n      <td>0.846154</td>\n      <td>1.000000</td>\n      <td>1.000000</td>\n      <td>0.875000</td>\n      <td>0.875000</td>\n      <td>0.916667</td>\n    </tr>\n    <tr>\n      <th>3</th>\n      <td>1.0</td>\n      <td>0.400000</td>\n      <td>1.000000</td>\n      <td>0.000000</td>\n      <td>1.000000</td>\n      <td>1.000000</td>\n      <td>0.750000</td>\n      <td>1.000000</td>\n      <td>1.000000</td>\n      <td>1.000000</td>\n      <td>...</td>\n      <td>0.909091</td>\n      <td>1.000000</td>\n      <td>0.923077</td>\n      <td>0.800000</td>\n      <td>0.916667</td>\n      <td>0.333333</td>\n      <td>0.500000</td>\n      <td>1.000000</td>\n      <td>1.000000</td>\n      <td>0.900000</td>\n    </tr>\n    <tr>\n      <th>4</th>\n      <td>1.0</td>\n      <td>0.846154</td>\n      <td>0.636364</td>\n      <td>1.000000</td>\n      <td>0.000000</td>\n      <td>0.800000</td>\n      <td>0.909091</td>\n      <td>1.000000</td>\n      <td>0.700000</td>\n      <td>0.909091</td>\n      <td>...</td>\n      <td>0.882353</td>\n      <td>0.933333</td>\n      <td>0.950000</td>\n      <td>0.916667</td>\n      <td>0.750000</td>\n      <td>1.000000</td>\n      <td>1.000000</td>\n      <td>0.923077</td>\n      <td>0.727273</td>\n      <td>0.875000</td>\n    </tr>\n    <tr>\n      <th>...</th>\n      <td>...</td>\n      <td>...</td>\n      <td>...</td>\n      <td>...</td>\n      <td>...</td>\n      <td>...</td>\n      <td>...</td>\n      <td>...</td>\n      <td>...</td>\n      <td>...</td>\n      <td>...</td>\n      <td>...</td>\n      <td>...</td>\n      <td>...</td>\n      <td>...</td>\n      <td>...</td>\n      <td>...</td>\n      <td>...</td>\n      <td>...</td>\n      <td>...</td>\n      <td>...</td>\n    </tr>\n    <tr>\n      <th>161</th>\n      <td>1.0</td>\n      <td>0.600000</td>\n      <td>1.000000</td>\n      <td>0.333333</td>\n      <td>1.000000</td>\n      <td>1.000000</td>\n      <td>1.000000</td>\n      <td>1.000000</td>\n      <td>1.000000</td>\n      <td>1.000000</td>\n      <td>...</td>\n      <td>1.000000</td>\n      <td>1.000000</td>\n      <td>1.000000</td>\n      <td>1.000000</td>\n      <td>1.000000</td>\n      <td>0.000000</td>\n      <td>0.333333</td>\n      <td>1.000000</td>\n      <td>1.000000</td>\n      <td>1.000000</td>\n    </tr>\n    <tr>\n      <th>162</th>\n      <td>1.0</td>\n      <td>0.666667</td>\n      <td>1.000000</td>\n      <td>0.500000</td>\n      <td>1.000000</td>\n      <td>1.000000</td>\n      <td>1.000000</td>\n      <td>1.000000</td>\n      <td>1.000000</td>\n      <td>1.000000</td>\n      <td>...</td>\n      <td>1.000000</td>\n      <td>1.000000</td>\n      <td>1.000000</td>\n      <td>1.000000</td>\n      <td>1.000000</td>\n      <td>0.333333</td>\n      <td>0.000000</td>\n      <td>1.000000</td>\n      <td>1.000000</td>\n      <td>0.900000</td>\n    </tr>\n    <tr>\n      <th>163</th>\n      <td>1.0</td>\n      <td>0.875000</td>\n      <td>0.875000</td>\n      <td>1.000000</td>\n      <td>0.923077</td>\n      <td>0.800000</td>\n      <td>0.800000</td>\n      <td>1.000000</td>\n      <td>1.000000</td>\n      <td>0.800000</td>\n      <td>...</td>\n      <td>0.818182</td>\n      <td>0.888889</td>\n      <td>0.928571</td>\n      <td>1.000000</td>\n      <td>0.833333</td>\n      <td>1.000000</td>\n      <td>1.000000</td>\n      <td>0.000000</td>\n      <td>1.000000</td>\n      <td>0.666667</td>\n    </tr>\n    <tr>\n      <th>164</th>\n      <td>1.0</td>\n      <td>1.000000</td>\n      <td>0.875000</td>\n      <td>1.000000</td>\n      <td>0.727273</td>\n      <td>1.000000</td>\n      <td>1.000000</td>\n      <td>1.000000</td>\n      <td>0.250000</td>\n      <td>1.000000</td>\n      <td>...</td>\n      <td>0.916667</td>\n      <td>1.000000</td>\n      <td>1.000000</td>\n      <td>1.000000</td>\n      <td>1.000000</td>\n      <td>1.000000</td>\n      <td>1.000000</td>\n      <td>1.000000</td>\n      <td>0.000000</td>\n      <td>1.000000</td>\n    </tr>\n    <tr>\n      <th>165</th>\n      <td>1.0</td>\n      <td>0.818182</td>\n      <td>0.916667</td>\n      <td>0.900000</td>\n      <td>0.875000</td>\n      <td>0.888889</td>\n      <td>0.750000</td>\n      <td>1.000000</td>\n      <td>1.000000</td>\n      <td>0.888889</td>\n      <td>...</td>\n      <td>0.583333</td>\n      <td>0.600000</td>\n      <td>0.642857</td>\n      <td>0.900000</td>\n      <td>0.500000</td>\n      <td>1.000000</td>\n      <td>0.900000</td>\n      <td>0.666667</td>\n      <td>1.000000</td>\n      <td>0.000000</td>\n    </tr>\n  </tbody>\n</table>\n<p>166 rows × 166 columns</p>\n</div>"
     },
     "execution_count": 65,
     "metadata": {},
     "output_type": "execute_result"
    }
   ],
   "source": [
    "distance_matrix"
   ],
   "metadata": {
    "collapsed": false,
    "ExecuteTime": {
     "end_time": "2024-01-25T16:38:18.749317100Z",
     "start_time": "2024-01-25T16:38:18.729316800Z"
    }
   },
   "id": "c1bb44fc024c26d4"
  },
  {
   "cell_type": "markdown",
   "source": [
    "**Distance matrix based recommendation**"
   ],
   "metadata": {
    "collapsed": false
   },
   "id": "8c4fc83782afb32b"
  },
  {
   "cell_type": "code",
   "execution_count": 66,
   "outputs": [],
   "source": [
    "def similar_offers(offer_id: int, threshold: float = 0.6) -> list:\n",
    "    similar = []\n",
    "    for item_id, distance in distance_matrix.iloc[offer_id].sort_values()[offer_id:].items():\n",
    "        if distance > threshold:\n",
    "            break\n",
    "        similar.append(offers_frame.iloc[item_id])\n",
    "    return similar"
   ],
   "metadata": {
    "collapsed": false,
    "ExecuteTime": {
     "end_time": "2024-01-25T16:38:18.774316400Z",
     "start_time": "2024-01-25T16:38:18.744316Z"
    }
   },
   "id": "fa9ec9359ae3b81c"
  },
  {
   "cell_type": "code",
   "execution_count": 67,
   "outputs": [
    {
     "name": "stdout",
     "output_type": "stream",
     "text": [
      "Offers Similar to Junior Software Developer:\n",
      "\n",
      "0> Cyber Security Analyst - Undergraduate : {9, 2, 6}\n",
      "1> Software Developer : {8, 9, 2}\n",
      "2> Energy Harvesting Internship – Starting Summer 2024 : {8, 9, 2}\n",
      "3> Computer Vision Alorithm / SW Engineer : {8, 9, 2}\n",
      "4> Software Engineer : {8, 9, 6}\n",
      "5> System Software Engineer, Summer Intern - 2024 Start (Fixed-Term Contract) : {2, 6, 104, 8, 9, 13}\n",
      "6> Manufacturing Software Engineer / Relocation USA : {2, 3, 6, 7, 8, 19}\n",
      "7> Software Engineer (University Grad) : {0, 8, 2, 6}\n",
      "8> Cyber Threat Intelligence Analyst : {9, 2, 12, 6}\n",
      "9> Software Application Engineer Intern : {104, 8, 6, 7}\n",
      "10> Control System Engineer : {8, 9, 2, 63}\n",
      "11> Software Developer - FULL REMOTE : {2, 6, 7, 30, 31}\n",
      "12> Software Developer Degree Apprenticeship (Nottingham) : {6, 7, 9, 57, 30}\n",
      "13> Emerging Threats Intelligence Intern (Remote) : {7, 8, 9, 43, 13}\n",
      "14> Senior Staff Product Engineer for Embedded Tools (f/m/div) : {8, 9}\n",
      "15> 2024 Intern - Software Development Engineering : {8, 6}\n",
      "16> IBP Junior Algorithms Software Development : {2, 6}\n"
     ]
    }
   ],
   "source": [
    "# Junior Software Developer: {c++, java, python, c, c#}\n",
    "print(f'Offers Similar to {offers_frame.iloc[1][\"Name\"]}:\\n')\n",
    "for i, o in enumerate(similar_offers(1)):\n",
    "    print(f'{i}> {o[\"Name\"]} : {o[\"RequiredSkills\"]}')"
   ],
   "metadata": {
    "collapsed": false,
    "ExecuteTime": {
     "end_time": "2024-01-25T16:38:18.805316300Z",
     "start_time": "2024-01-25T16:38:18.760316700Z"
    }
   },
   "id": "333bf76f3f195b1c"
  },
  {
   "cell_type": "code",
   "execution_count": 68,
   "outputs": [
    {
     "name": "stdout",
     "output_type": "stream",
     "text": [
      "Offers Similar to Frontend:\n",
      "\n",
      "0> Freelance Web & UX Developer : {0, 1, 99, 10, 48}\n",
      "1> Frontend Software Developer : {0, 1, 99, 5, 41, 44}\n",
      "2> Javascript Frontend : {0, 99, 44}\n",
      "3> FrontEnd Javascript : {0, 99, 44}\n",
      "4> JUNIOR DEVELOPER : {0, 1, 3, 99, 7, 42, 57}\n",
      "5> Software Developer : {0, 1, 3, 99, 4, 7, 57}\n",
      "6> Graduate Software Engineer (London) : {0, 1, 99, 6, 9, 30, 31}\n",
      "7> L4 Software Developer Apprentice : {0, 1, 99, 100, 9, 10, 12}\n",
      "8> SVILUPPATORE SOFTWARE : {0, 1, 3, 99, 7, 39, 44}\n",
      "9> Martech Analyst : {0, 1, 2, 3}\n"
     ]
    }
   ],
   "source": [
    "# Frontend: {css, javascript, html}\n",
    "print(f'Offers Similar to {offers_frame.iloc[8][\"Name\"]}:\\n')\n",
    "for i, o in enumerate(similar_offers(8)):\n",
    "    print(f'{i}> {o[\"Name\"]} : {o[\"RequiredSkills\"]}')"
   ],
   "metadata": {
    "collapsed": false,
    "ExecuteTime": {
     "end_time": "2024-01-25T16:38:18.860315800Z",
     "start_time": "2024-01-25T16:38:18.775315800Z"
    }
   },
   "id": "3c8dc191219cc2b4"
  },
  {
   "cell_type": "markdown",
   "source": [
    "**Clustering based recommendation**"
   ],
   "metadata": {
    "collapsed": false
   },
   "id": "6275ffe84720f62d"
  },
  {
   "cell_type": "code",
   "execution_count": 69,
   "outputs": [
    {
     "name": "stderr",
     "output_type": "stream",
     "text": [
      "C:\\Users\\Windows10\\AppData\\Local\\Programs\\Python\\Python39\\lib\\site-packages\\sklearn\\cluster\\_kmeans.py:1416: FutureWarning: The default value of `n_init` will change from 10 to 'auto' in 1.4. Set the value of `n_init` explicitly to suppress the warning\n",
      "  super()._check_params_vs_input(X, default_n_init=10)\n"
     ]
    }
   ],
   "source": [
    "from sklearn.cluster import KMeans\n",
    "\n",
    "kmeans = KMeans(n_clusters=4, init='k-means++', random_state=42)\n",
    "labels = kmeans.fit_predict(distance_matrix)\n",
    "offers_frame['Group'] = labels"
   ],
   "metadata": {
    "collapsed": false,
    "ExecuteTime": {
     "end_time": "2024-01-25T16:38:18.907315800Z",
     "start_time": "2024-01-25T16:38:18.793316Z"
    }
   },
   "id": "4a4c4b72b927f837"
  },
  {
   "cell_type": "code",
   "execution_count": 70,
   "outputs": [],
   "source": [
    "def _similar_offers_with_cluster(offer_id: int) -> list:\n",
    "    target_group = offers_frame.loc[offer_id, 'Group']\n",
    "    return list(\n",
    "        offers_frame[\n",
    "            offers_frame['Group'] == target_group\n",
    "        ].index\n",
    "    )\n",
    "\n",
    "def similar_offers_with_cluster(offer_id: int) -> list:\n",
    "    return [offers_frame.iloc[oid] for oid in _similar_offers_with_cluster(offer_id)]"
   ],
   "metadata": {
    "collapsed": false,
    "ExecuteTime": {
     "end_time": "2024-01-25T16:38:18.909315800Z",
     "start_time": "2024-01-25T16:38:18.823316100Z"
    }
   },
   "id": "cddb3d23cb3c8de4"
  },
  {
   "cell_type": "code",
   "execution_count": 71,
   "outputs": [
    {
     "name": "stdout",
     "output_type": "stream",
     "text": [
      "Offers Similar to Junior Software Developer:\n",
      "\n",
      "0> Junior Software Developer : {2, 6, 7, 8, 9}\n",
      "1> Software Developer : {8, 9, 2}\n",
      "2> IBP Junior Algorithms Software Development : {2, 6}\n",
      "3> Software Engineer : {8, 9, 6}\n",
      "4> System Software Engineer, Summer Intern - 2024 Start (Fixed-Term Contract) : {2, 6, 104, 8, 9, 13}\n",
      "5> Emerging Threats Intelligence Intern (Remote) : {7, 8, 9, 43, 13}\n",
      "6> Cyber Security Analyst - Undergraduate : {9, 2, 6}\n",
      "7> Energy Harvesting Internship – Starting Summer 2024 : {8, 9, 2}\n",
      "8> Software Engineer (University Grad) : {0, 8, 2, 6}\n",
      "9> Electrochemical Modelling - Energy Storage Internship – Starting Summer 2024 (12 months) : {2}\n",
      "10> Macro Research Analyst and Associate Internship 2024 London : {2}\n",
      "11> 2024 Intern - Software Development Engineering : {8, 6}\n",
      "12> Network Production Engineer : {8, 2, 13}\n",
      "13> AI Developer - MILANO [DIG] : {2, 67, 6, 8, 21, 63, 31}\n",
      "14> Control System Engineer : {8, 9, 2, 63}\n",
      "15> Computer Vision Alorithm / SW Engineer : {8, 9, 2}\n",
      "16> DATA SCIENTIST : {2}\n",
      "17> Backend Engineer : {2}\n",
      "18> Cybersecurity Analyst : {2, 5}\n",
      "19> Cyber Threat Intelligence Analyst : {9, 2, 12, 6}\n",
      "20> Python Developer/DevOps Engineer : {80, 9, 2, 4}\n",
      "21> Senior Staff Product Engineer for Embedded Tools (f/m/div) : {8, 9}\n",
      "22> Internship Engineer for Advanced Process Control : {8, 9, 12}\n"
     ]
    }
   ],
   "source": [
    "# Junior Software Developer: {c++, java, python, c, c#}\n",
    "print(f'Offers Similar to {offers_frame.iloc[1][\"Name\"]}:\\n')\n",
    "for i, o in enumerate(similar_offers_with_cluster(1)):\n",
    "    print(f'{i}> {o[\"Name\"]} : {o[\"RequiredSkills\"]}')"
   ],
   "metadata": {
    "collapsed": false,
    "ExecuteTime": {
     "end_time": "2024-01-25T16:38:18.910316Z",
     "start_time": "2024-01-25T16:38:18.839316100Z"
    }
   },
   "id": "346f33c7a6e0c0b3"
  },
  {
   "cell_type": "code",
   "execution_count": 72,
   "outputs": [
    {
     "name": "stdout",
     "output_type": "stream",
     "text": [
      "Offers Similar to Frontend:\n",
      "\n",
      "0> Senior Software Developer : {0, 1, 3, 99, 6, 7, 104, 55, 57, 26}\n",
      "1> Frontend : {0, 1, 99}\n",
      "2> JUNIOR DEVELOPER : {0, 1, 3, 99, 7, 42, 57}\n",
      "3> L4 Software Developer Apprentice : {0, 1, 99, 100, 9, 10, 12}\n",
      "4> Frontend Software Developer : {0, 1, 99, 5, 41, 44}\n",
      "5> Senior Software Developer : {0, 57, 41, 7}\n",
      "6> Graduate Software Engineer (London) : {0, 1, 99, 6, 9, 30, 31}\n",
      "7> Software Developer : {0, 1, 3, 99, 4, 7, 57}\n",
      "8> Front End Developer (100% Remote) : {0, 41, 12}\n",
      "9> Software Developer : {1, 10, 103}\n",
      "10> Web Developer : {0, 4, 41, 10, 48, 53}\n",
      "11> Software Engineer (EU) - App Catalog : {0, 99, 100, 7, 41, 11, 80, 57, 31}\n",
      "12> Web Development Manager : {0, 1, 99, 10, 48}\n",
      "13> Freelance Web & UX Developer : {0, 1, 99, 10, 48}\n",
      "14> Junior Web Developer : {0, 1, 99}\n",
      "15> Frontend Developer : {0, 41, 10, 12, 78}\n",
      "16> Web Developer Apprentice : {0, 1, 99, 9}\n",
      "17> Sviluppatore Web : {1, 99, 10, 48, 19}\n",
      "18> Sviluppatore Web - Middle/Senior : {0, 1, 99, 4, 41, 10, 74, 44, 48, 19, 21, 53}\n",
      "19> senior frontend developer : {0, 100, 68, 41, 44}\n",
      "20> Shopify Developer : {0, 1, 99, 100}\n",
      "21> Javascript Frontend : {0, 99, 44}\n",
      "22> FRONTEND DEVELOPER : {0, 1, 4, 42, 44, 55}\n",
      "23> WEB DEVELOPER - FULL STACK JUNIOR : {0, 3, 100, 104, 10, 42, 48, 19, 53, 55}\n",
      "24> FrontEnd Javascript : {0, 99, 44}\n",
      "25> Programmatore PHP Junior : {0, 1, 3, 99, 10}\n",
      "26> Backend Developer : {0, 1, 99, 100, 4, 73, 10, 44, 48, 19, 21, 53, 24, 93}\n",
      "27> JUNIOR DEVELOPER : {0, 1, 99, 102, 6, 41, 44, 14}\n",
      "28> Full Stack Developer : {0, 100, 104, 41, 10, 42, 19}\n",
      "29> Front End Developer Intern : {0, 1, 99, 41, 55}\n",
      "30> Junior Systems Administrator : {0, 1, 6, 104, 10, 19}\n",
      "31> SVILUPPATORE SOFTWARE : {0, 1, 3, 99, 7, 39, 44}\n",
      "32> Senior Developer : {0, 1, 99, 3, 10, 42, 18, 19, 21, 62}\n",
      "33> Software Quality Engineer : {0, 1, 99, 103}\n"
     ]
    }
   ],
   "source": [
    "# Frontend: {css, javascript, html}\n",
    "print(f'Offers Similar to {offers_frame.iloc[8][\"Name\"]}:\\n')\n",
    "for i, o in enumerate(similar_offers_with_cluster(8)):\n",
    "    print(f'{i}> {o[\"Name\"]} : {o[\"RequiredSkills\"]}')"
   ],
   "metadata": {
    "collapsed": false,
    "ExecuteTime": {
     "end_time": "2024-01-25T16:38:18.911315900Z",
     "start_time": "2024-01-25T16:38:18.854315800Z"
    }
   },
   "id": "7d7fed77089c691c"
  },
  {
   "cell_type": "code",
   "execution_count": 72,
   "outputs": [],
   "source": [],
   "metadata": {
    "collapsed": false,
    "ExecuteTime": {
     "end_time": "2024-01-25T16:38:18.911315900Z",
     "start_time": "2024-01-25T16:38:18.870316Z"
    }
   },
   "id": "613d0f739c3d799d"
  }
 ],
 "metadata": {
  "kernelspec": {
   "display_name": "Python 3",
   "language": "python",
   "name": "python3"
  },
  "language_info": {
   "codemirror_mode": {
    "name": "ipython",
    "version": 2
   },
   "file_extension": ".py",
   "mimetype": "text/x-python",
   "name": "python",
   "nbconvert_exporter": "python",
   "pygments_lexer": "ipython2",
   "version": "2.7.6"
  }
 },
 "nbformat": 4,
 "nbformat_minor": 5
}
