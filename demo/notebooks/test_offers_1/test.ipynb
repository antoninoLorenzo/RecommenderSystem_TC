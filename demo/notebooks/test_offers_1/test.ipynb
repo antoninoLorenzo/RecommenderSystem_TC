{
 "cells": [
  {
   "cell_type": "code",
   "execution_count": 210,
   "id": "initial_id",
   "metadata": {
    "collapsed": true,
    "ExecuteTime": {
     "end_time": "2024-01-25T10:17:10.408740400Z",
     "start_time": "2024-01-25T10:17:10.355234600Z"
    }
   },
   "outputs": [],
   "source": [
    "import sqlite3\n",
    "import random\n",
    "from string import punctuation\n",
    "\n",
    "import pandas as pd\n",
    "import numpy as np\n",
    "from pandas.core.series import Series\n",
    "import matplotlib.pyplot as plt\n",
    "%matplotlib inline\n",
    "import seaborn as sns"
   ]
  },
  {
   "cell_type": "code",
   "execution_count": 211,
   "outputs": [],
   "source": [
    "offers_connection = sqlite3.connect('../../datasets/offers_dataset.db')\n",
    "offers_frame = pd.read_sql_query('''SELECT * FROM offers''', offers_connection)\n",
    "offers_connection.close()\n",
    "\n",
    "with sqlite3.connect('../../datasets/skills_dataset.db') as skills_connection:\n",
    "    skills_frame = pd.read_sql_query('SELECT * FROM skills', skills_connection)\n",
    "    skills_frame.set_index('ID', inplace=True)"
   ],
   "metadata": {
    "collapsed": false,
    "ExecuteTime": {
     "end_time": "2024-01-25T10:17:10.454734500Z",
     "start_time": "2024-01-25T10:17:10.363737Z"
    }
   },
   "id": "15d7000a3b37f3ff"
  },
  {
   "cell_type": "code",
   "execution_count": 212,
   "outputs": [],
   "source": [
    "offers_frame.dropna(subset='Name',inplace=True)\n",
    "offers_frame.drop_duplicates(inplace=True)"
   ],
   "metadata": {
    "collapsed": false,
    "ExecuteTime": {
     "end_time": "2024-01-25T10:17:10.455734800Z",
     "start_time": "2024-01-25T10:17:10.374736100Z"
    }
   },
   "id": "91a9d1877e212e8d"
  },
  {
   "cell_type": "code",
   "execution_count": 213,
   "outputs": [],
   "source": [
    "def remove_symbols(description: str, remove_map: dict) -> str:\n",
    "    \"\"\"\n",
    "    \"\"\"\n",
    "    for old, new in remove_map.items():\n",
    "        description = description.replace(old, new)\n",
    "    return description.lower()\n",
    "\n",
    "\n",
    "def extract_symbols(description: str, available_symbols: list) -> set:\n",
    "    s = set()\n",
    "    prev = ''\n",
    "    for word in description.split():\n",
    "        if word in available_symbols:\n",
    "            s.add(word)\n",
    "        elif f'{prev} {word}' in available_symbols:\n",
    "            s.add(f'{prev} {word}')  \n",
    "        prev = word\n",
    "    return s "
   ],
   "metadata": {
    "collapsed": false,
    "ExecuteTime": {
     "end_time": "2024-01-25T10:17:10.455734800Z",
     "start_time": "2024-01-25T10:17:10.385733700Z"
    }
   },
   "id": "411ce9eb7199b49f"
  },
  {
   "cell_type": "code",
   "execution_count": 214,
   "outputs": [],
   "source": [
    "# Get Skill list\n",
    "skills_list = [skill.lower() for skill in skills_frame['SKILL'].tolist()]\n",
    "\n",
    "# Symbols to remove\n",
    "punct = [p for p in punctuation]\n",
    "punct.remove('+')\n",
    "punct.remove('#')\n",
    "# punct.remove('.')\n",
    "\n",
    "removal = {p: ' ' for p in punct}\n",
    "removal['\\n'] = ''\n",
    "removal['/'] = ' '\n",
    "removal['('] = ' '\n",
    "removal[')'] = ' '\n",
    "removal[','] = ' '\n",
    "removal['>'] = ' '\n",
    "removal['.'] = ' .'"
   ],
   "metadata": {
    "collapsed": false,
    "ExecuteTime": {
     "end_time": "2024-01-25T10:17:10.456234600Z",
     "start_time": "2024-01-25T10:17:10.397234800Z"
    }
   },
   "id": "8c520e7daca7c8d5"
  },
  {
   "cell_type": "code",
   "execution_count": 215,
   "outputs": [
    {
     "data": {
      "text/plain": "                                                  Name  \\\n0                                   Software Developer   \n1                            Junior Software Developer   \n2                                   Software Developer   \n3                                   Software Developer   \n4                            Senior Software Developer   \n..                                                 ...   \n161  Senior Staff Product Engineer for Embedded Too...   \n162   Internship Engineer for Advanced Process Control   \n163                             DevOps Engineer Senior   \n164                          Software Quality Engineer   \n165                      Sr. Site Reliability Engineer   \n\n                                           Description            Location  \\\n0    Miniclip is a global leader in digital games w...     Genova, Liguria   \n1    NETtoWORK, azienda italiana nata nel 2016, ope...        17100 Savona   \n2    We are looking for talented and passionate peo...         55100 Lucca   \n3    ARESYS  is a R&D oriented company with nearly ...  Matera, Basilicata   \n4    Il/la Candidato/a dovrà padroneggiare: \\n \\n- ...    Catania, Sicilia   \n..                                                 ...                 ...   \n161  Do you want to be part of a new project team w...      Padova, Veneto   \n162  Internship Engineer for Advanced Process Contr...     Genova, Liguria   \n163  ARGO LOGICA società di consulenza informatica ...         Roma, Lazio   \n164  CentralReach is the #1 provider of SaaS softwa...        37121 Verona   \n165  CentralReach is the #1 provider of SaaS softwa...        37121 Verona   \n\n                                        RequiredSkills  \n0                                        {git, travis}  \n1                           {c++, java, python, c, c#}  \n2             {javascript, sql, java, oracle, angular}  \n3                                     {python, c++, c}  \n4    {javascript, sql, java, oracle, html, c#, css,...  \n..                                                 ...  \n161                                           {c++, c}  \n162                                       {c++, c, go}  \n163                 {spring, kubernetes, java, docker}  \n164                       {css, javascript, html, ios}  \n165  {aws, java, docker, go, python, terraform, kub...  \n\n[166 rows x 4 columns]",
      "text/html": "<div>\n<style scoped>\n    .dataframe tbody tr th:only-of-type {\n        vertical-align: middle;\n    }\n\n    .dataframe tbody tr th {\n        vertical-align: top;\n    }\n\n    .dataframe thead th {\n        text-align: right;\n    }\n</style>\n<table border=\"1\" class=\"dataframe\">\n  <thead>\n    <tr style=\"text-align: right;\">\n      <th></th>\n      <th>Name</th>\n      <th>Description</th>\n      <th>Location</th>\n      <th>RequiredSkills</th>\n    </tr>\n  </thead>\n  <tbody>\n    <tr>\n      <th>0</th>\n      <td>Software Developer</td>\n      <td>Miniclip is a global leader in digital games w...</td>\n      <td>Genova, Liguria</td>\n      <td>{git, travis}</td>\n    </tr>\n    <tr>\n      <th>1</th>\n      <td>Junior Software Developer</td>\n      <td>NETtoWORK, azienda italiana nata nel 2016, ope...</td>\n      <td>17100 Savona</td>\n      <td>{c++, java, python, c, c#}</td>\n    </tr>\n    <tr>\n      <th>2</th>\n      <td>Software Developer</td>\n      <td>We are looking for talented and passionate peo...</td>\n      <td>55100 Lucca</td>\n      <td>{javascript, sql, java, oracle, angular}</td>\n    </tr>\n    <tr>\n      <th>3</th>\n      <td>Software Developer</td>\n      <td>ARESYS  is a R&amp;D oriented company with nearly ...</td>\n      <td>Matera, Basilicata</td>\n      <td>{python, c++, c}</td>\n    </tr>\n    <tr>\n      <th>4</th>\n      <td>Senior Software Developer</td>\n      <td>Il/la Candidato/a dovrà padroneggiare: \\n \\n- ...</td>\n      <td>Catania, Sicilia</td>\n      <td>{javascript, sql, java, oracle, html, c#, css,...</td>\n    </tr>\n    <tr>\n      <th>...</th>\n      <td>...</td>\n      <td>...</td>\n      <td>...</td>\n      <td>...</td>\n    </tr>\n    <tr>\n      <th>161</th>\n      <td>Senior Staff Product Engineer for Embedded Too...</td>\n      <td>Do you want to be part of a new project team w...</td>\n      <td>Padova, Veneto</td>\n      <td>{c++, c}</td>\n    </tr>\n    <tr>\n      <th>162</th>\n      <td>Internship Engineer for Advanced Process Control</td>\n      <td>Internship Engineer for Advanced Process Contr...</td>\n      <td>Genova, Liguria</td>\n      <td>{c++, c, go}</td>\n    </tr>\n    <tr>\n      <th>163</th>\n      <td>DevOps Engineer Senior</td>\n      <td>ARGO LOGICA società di consulenza informatica ...</td>\n      <td>Roma, Lazio</td>\n      <td>{spring, kubernetes, java, docker}</td>\n    </tr>\n    <tr>\n      <th>164</th>\n      <td>Software Quality Engineer</td>\n      <td>CentralReach is the #1 provider of SaaS softwa...</td>\n      <td>37121 Verona</td>\n      <td>{css, javascript, html, ios}</td>\n    </tr>\n    <tr>\n      <th>165</th>\n      <td>Sr. Site Reliability Engineer</td>\n      <td>CentralReach is the #1 provider of SaaS softwa...</td>\n      <td>37121 Verona</td>\n      <td>{aws, java, docker, go, python, terraform, kub...</td>\n    </tr>\n  </tbody>\n</table>\n<p>166 rows × 4 columns</p>\n</div>"
     },
     "execution_count": 215,
     "metadata": {},
     "output_type": "execute_result"
    }
   ],
   "source": [
    "required_skills = [] \n",
    "\n",
    "# Extract skills from descriptions and add new column\n",
    "for i, offer_description in enumerate(offers_frame.loc[:, 'Description']):\n",
    "    desc = remove_symbols(offer_description, removal)\n",
    "    offer_skills = extract_symbols(desc, skills_list)\n",
    "    required_skills.append(offer_skills)  \n",
    "offers_frame.insert(len(offers_frame.columns), \"RequiredSkills\", required_skills)\n",
    "\n",
    "# Remove offers with no required skills\n",
    "offers_frame['RequiredSkills'] = offers_frame['RequiredSkills'].apply(lambda x: np.NaN if not x else x)\n",
    "offers_frame.dropna(subset='RequiredSkills', inplace=True)\n",
    "offers_frame.reset_index(drop=True, inplace=True)\n",
    "offers_frame"
   ],
   "metadata": {
    "collapsed": false,
    "ExecuteTime": {
     "end_time": "2024-01-25T10:17:10.670733900Z",
     "start_time": "2024-01-25T10:17:10.404735400Z"
    }
   },
   "id": "19d237c083867bcf"
  },
  {
   "cell_type": "markdown",
   "source": [
    "### Jaccard Distance"
   ],
   "metadata": {
    "collapsed": false
   },
   "id": "65686f15a552c9d2"
  },
  {
   "cell_type": "code",
   "execution_count": 219,
   "outputs": [],
   "source": [
    "def _jaccard(s1: set, s2: set):\n",
    "    return 1 - (len(s1.intersection(s2)) / len(s1.union(s2)))\n",
    "\n",
    "def jaccard(row1: Series, row2: Series, col_name: str):\n",
    "    if row1.keys().values is not row2.keys().values:\n",
    "        raise ValueError(f'Rows have different columns: {row1.keys()} vs {row2.keys()}')   \n",
    "    if col_name not in row1.keys() or col_name not in row2.keys():\n",
    "        raise ValueError(f'Invalid Column Name {col_name}')  \n",
    "    return _jaccard(row1[col_name], row2[col_name])"
   ],
   "metadata": {
    "collapsed": false,
    "ExecuteTime": {
     "end_time": "2024-01-25T10:20:15.308749900Z",
     "start_time": "2024-01-25T10:20:15.298750500Z"
    }
   },
   "id": "40d65ca6e1325e4e"
  },
  {
   "cell_type": "code",
   "execution_count": 220,
   "outputs": [
    {
     "name": "stdout",
     "output_type": "stream",
     "text": [
      "Distance between Frontend and Frontend: 0.00\n",
      " {'css', 'javascript', 'html'} and {'css', 'javascript', 'html'}\n",
      "Distance between Frontend and Software Developer Degree Apprenticeship (Nottingham): 1.00\n",
      " {'css', 'javascript', 'html'} and {'aws', 'java', 'c', 'c#', '.net'}\n",
      "Distance between Sviluppatore Applicazioni Web and Software Developer - FULL REMOTE: 1.00\n",
      " {'mysql', 'react', 'laravel', 'php'} and {'aws', 'java', 'python', 'azure', 'c#'}\n"
     ]
    }
   ],
   "source": [
    "# Examples\n",
    "r1 = offers_frame.loc[8, :]\n",
    "r2 = offers_frame.loc[37, :]\n",
    "r3 = offers_frame.loc[random.randint(0, len(offers_frame))]\n",
    "r4 = offers_frame.loc[random.randint(0, len(offers_frame))]\n",
    "\n",
    "print(f'Distance between {r1[\"Name\"]} and {r1[\"Name\"]}: {jaccard(r1, r1, \"RequiredSkills\"):.2f}\\n {r1[\"RequiredSkills\"]} and {r1[\"RequiredSkills\"]}')\n",
    "print(f'Distance between {r1[\"Name\"]} and {r2[\"Name\"]}: {jaccard(r1, r2, \"RequiredSkills\"):.2f}\\n {r1[\"RequiredSkills\"]} and {r2[\"RequiredSkills\"]}')\n",
    "print(f'Distance between {r3[\"Name\"]} and {r4[\"Name\"]}: {jaccard(r3, r4, \"RequiredSkills\"):.2f}\\n {r3[\"RequiredSkills\"]} and {r4[\"RequiredSkills\"]}')"
   ],
   "metadata": {
    "collapsed": false,
    "ExecuteTime": {
     "end_time": "2024-01-25T10:20:15.778429Z",
     "start_time": "2024-01-25T10:20:15.766429Z"
    }
   },
   "id": "44ac4f250c9e3328"
  },
  {
   "cell_type": "markdown",
   "source": [
    "## Distance Matrix"
   ],
   "metadata": {
    "collapsed": false
   },
   "id": "6e2dc81d861b9de5"
  },
  {
   "cell_type": "code",
   "execution_count": 249,
   "outputs": [],
   "source": [
    "def get_distance_matrix(frame: pd.DataFrame, col_name: str):\n",
    "    distances = []\n",
    "    for i, row1 in frame.iterrows():\n",
    "        distances.append([])\n",
    "        for j, row2 in frame.iterrows():\n",
    "            if i != j:\n",
    "                distances[-1].append(_jaccard(row1[col_name], row2[col_name]))\n",
    "            else:\n",
    "                distances[-1].append(0)#np.inf) \n",
    "    return pd.DataFrame(distances, index=frame.index, columns=frame.index)\n",
    "\n",
    "distance_matrix = get_distance_matrix(offers_frame, 'RequiredSkills')"
   ],
   "metadata": {
    "collapsed": false,
    "ExecuteTime": {
     "end_time": "2024-01-25T10:45:21.117879100Z",
     "start_time": "2024-01-25T10:45:19.414878900Z"
    }
   },
   "id": "b78ec64713866285"
  },
  {
   "cell_type": "code",
   "execution_count": 250,
   "outputs": [
    {
     "data": {
      "text/plain": "     0         1         2         3         4         5         6    \\\n0    0.0  1.000000  1.000000  1.000000  1.000000  1.000000  1.000000   \n1    1.0  0.000000  0.888889  0.400000  0.846154  0.833333  0.600000   \n2    1.0  0.888889  0.000000  1.000000  0.636364  0.833333  0.833333   \n3    1.0  0.400000  1.000000  0.000000  1.000000  1.000000  0.750000   \n4    1.0  0.846154  0.636364  1.000000  0.000000  0.800000  0.909091   \n..   ...       ...       ...       ...       ...       ...       ...   \n161  1.0  0.600000  1.000000  0.333333  1.000000  1.000000  1.000000   \n162  1.0  0.666667  1.000000  0.500000  1.000000  1.000000  1.000000   \n163  1.0  0.875000  0.875000  1.000000  0.923077  0.800000  0.800000   \n164  1.0  1.000000  0.875000  1.000000  0.727273  1.000000  1.000000   \n165  1.0  0.818182  0.916667  0.900000  0.875000  0.888889  0.750000   \n\n          7         8         9    ...       156       157       158  \\\n0    0.666667  1.000000  1.000000  ...  1.000000  0.857143  0.916667   \n1    1.000000  1.000000  0.833333  ...  0.923077  1.000000  0.933333   \n2    1.000000  0.857143  0.833333  ...  0.923077  1.000000  1.000000   \n3    1.000000  1.000000  1.000000  ...  0.909091  1.000000  0.923077   \n4    1.000000  0.700000  0.909091  ...  0.882353  0.933333  0.950000   \n..        ...       ...       ...  ...       ...       ...       ...   \n161  1.000000  1.000000  1.000000  ...  1.000000  1.000000  1.000000   \n162  1.000000  1.000000  1.000000  ...  1.000000  1.000000  1.000000   \n163  1.000000  1.000000  0.800000  ...  0.818182  0.888889  0.928571   \n164  1.000000  0.250000  1.000000  ...  0.916667  1.000000  1.000000   \n165  1.000000  1.000000  0.888889  ...  0.583333  0.600000  0.642857   \n\n          159       160       161       162       163       164       165  \n0    1.000000  1.000000  1.000000  1.000000  1.000000  1.000000  1.000000  \n1    0.857143  0.846154  0.600000  0.666667  0.875000  1.000000  0.818182  \n2    0.857143  0.846154  1.000000  1.000000  0.875000  0.875000  0.916667  \n3    0.800000  0.916667  0.333333  0.500000  1.000000  1.000000  0.900000  \n4    0.916667  0.750000  1.000000  1.000000  0.923077  0.727273  0.875000  \n..        ...       ...       ...       ...       ...       ...       ...  \n161  1.000000  1.000000  0.000000  0.333333  1.000000  1.000000  1.000000  \n162  1.000000  1.000000  0.333333  0.000000  1.000000  1.000000  0.900000  \n163  1.000000  0.833333  1.000000  1.000000  0.000000  1.000000  0.666667  \n164  1.000000  1.000000  1.000000  1.000000  1.000000  0.000000  1.000000  \n165  0.900000  0.500000  1.000000  0.900000  0.666667  1.000000  0.000000  \n\n[166 rows x 166 columns]",
      "text/html": "<div>\n<style scoped>\n    .dataframe tbody tr th:only-of-type {\n        vertical-align: middle;\n    }\n\n    .dataframe tbody tr th {\n        vertical-align: top;\n    }\n\n    .dataframe thead th {\n        text-align: right;\n    }\n</style>\n<table border=\"1\" class=\"dataframe\">\n  <thead>\n    <tr style=\"text-align: right;\">\n      <th></th>\n      <th>0</th>\n      <th>1</th>\n      <th>2</th>\n      <th>3</th>\n      <th>4</th>\n      <th>5</th>\n      <th>6</th>\n      <th>7</th>\n      <th>8</th>\n      <th>9</th>\n      <th>...</th>\n      <th>156</th>\n      <th>157</th>\n      <th>158</th>\n      <th>159</th>\n      <th>160</th>\n      <th>161</th>\n      <th>162</th>\n      <th>163</th>\n      <th>164</th>\n      <th>165</th>\n    </tr>\n  </thead>\n  <tbody>\n    <tr>\n      <th>0</th>\n      <td>0.0</td>\n      <td>1.000000</td>\n      <td>1.000000</td>\n      <td>1.000000</td>\n      <td>1.000000</td>\n      <td>1.000000</td>\n      <td>1.000000</td>\n      <td>0.666667</td>\n      <td>1.000000</td>\n      <td>1.000000</td>\n      <td>...</td>\n      <td>1.000000</td>\n      <td>0.857143</td>\n      <td>0.916667</td>\n      <td>1.000000</td>\n      <td>1.000000</td>\n      <td>1.000000</td>\n      <td>1.000000</td>\n      <td>1.000000</td>\n      <td>1.000000</td>\n      <td>1.000000</td>\n    </tr>\n    <tr>\n      <th>1</th>\n      <td>1.0</td>\n      <td>0.000000</td>\n      <td>0.888889</td>\n      <td>0.400000</td>\n      <td>0.846154</td>\n      <td>0.833333</td>\n      <td>0.600000</td>\n      <td>1.000000</td>\n      <td>1.000000</td>\n      <td>0.833333</td>\n      <td>...</td>\n      <td>0.923077</td>\n      <td>1.000000</td>\n      <td>0.933333</td>\n      <td>0.857143</td>\n      <td>0.846154</td>\n      <td>0.600000</td>\n      <td>0.666667</td>\n      <td>0.875000</td>\n      <td>1.000000</td>\n      <td>0.818182</td>\n    </tr>\n    <tr>\n      <th>2</th>\n      <td>1.0</td>\n      <td>0.888889</td>\n      <td>0.000000</td>\n      <td>1.000000</td>\n      <td>0.636364</td>\n      <td>0.833333</td>\n      <td>0.833333</td>\n      <td>1.000000</td>\n      <td>0.857143</td>\n      <td>0.833333</td>\n      <td>...</td>\n      <td>0.923077</td>\n      <td>1.000000</td>\n      <td>1.000000</td>\n      <td>0.857143</td>\n      <td>0.846154</td>\n      <td>1.000000</td>\n      <td>1.000000</td>\n      <td>0.875000</td>\n      <td>0.875000</td>\n      <td>0.916667</td>\n    </tr>\n    <tr>\n      <th>3</th>\n      <td>1.0</td>\n      <td>0.400000</td>\n      <td>1.000000</td>\n      <td>0.000000</td>\n      <td>1.000000</td>\n      <td>1.000000</td>\n      <td>0.750000</td>\n      <td>1.000000</td>\n      <td>1.000000</td>\n      <td>1.000000</td>\n      <td>...</td>\n      <td>0.909091</td>\n      <td>1.000000</td>\n      <td>0.923077</td>\n      <td>0.800000</td>\n      <td>0.916667</td>\n      <td>0.333333</td>\n      <td>0.500000</td>\n      <td>1.000000</td>\n      <td>1.000000</td>\n      <td>0.900000</td>\n    </tr>\n    <tr>\n      <th>4</th>\n      <td>1.0</td>\n      <td>0.846154</td>\n      <td>0.636364</td>\n      <td>1.000000</td>\n      <td>0.000000</td>\n      <td>0.800000</td>\n      <td>0.909091</td>\n      <td>1.000000</td>\n      <td>0.700000</td>\n      <td>0.909091</td>\n      <td>...</td>\n      <td>0.882353</td>\n      <td>0.933333</td>\n      <td>0.950000</td>\n      <td>0.916667</td>\n      <td>0.750000</td>\n      <td>1.000000</td>\n      <td>1.000000</td>\n      <td>0.923077</td>\n      <td>0.727273</td>\n      <td>0.875000</td>\n    </tr>\n    <tr>\n      <th>...</th>\n      <td>...</td>\n      <td>...</td>\n      <td>...</td>\n      <td>...</td>\n      <td>...</td>\n      <td>...</td>\n      <td>...</td>\n      <td>...</td>\n      <td>...</td>\n      <td>...</td>\n      <td>...</td>\n      <td>...</td>\n      <td>...</td>\n      <td>...</td>\n      <td>...</td>\n      <td>...</td>\n      <td>...</td>\n      <td>...</td>\n      <td>...</td>\n      <td>...</td>\n      <td>...</td>\n    </tr>\n    <tr>\n      <th>161</th>\n      <td>1.0</td>\n      <td>0.600000</td>\n      <td>1.000000</td>\n      <td>0.333333</td>\n      <td>1.000000</td>\n      <td>1.000000</td>\n      <td>1.000000</td>\n      <td>1.000000</td>\n      <td>1.000000</td>\n      <td>1.000000</td>\n      <td>...</td>\n      <td>1.000000</td>\n      <td>1.000000</td>\n      <td>1.000000</td>\n      <td>1.000000</td>\n      <td>1.000000</td>\n      <td>0.000000</td>\n      <td>0.333333</td>\n      <td>1.000000</td>\n      <td>1.000000</td>\n      <td>1.000000</td>\n    </tr>\n    <tr>\n      <th>162</th>\n      <td>1.0</td>\n      <td>0.666667</td>\n      <td>1.000000</td>\n      <td>0.500000</td>\n      <td>1.000000</td>\n      <td>1.000000</td>\n      <td>1.000000</td>\n      <td>1.000000</td>\n      <td>1.000000</td>\n      <td>1.000000</td>\n      <td>...</td>\n      <td>1.000000</td>\n      <td>1.000000</td>\n      <td>1.000000</td>\n      <td>1.000000</td>\n      <td>1.000000</td>\n      <td>0.333333</td>\n      <td>0.000000</td>\n      <td>1.000000</td>\n      <td>1.000000</td>\n      <td>0.900000</td>\n    </tr>\n    <tr>\n      <th>163</th>\n      <td>1.0</td>\n      <td>0.875000</td>\n      <td>0.875000</td>\n      <td>1.000000</td>\n      <td>0.923077</td>\n      <td>0.800000</td>\n      <td>0.800000</td>\n      <td>1.000000</td>\n      <td>1.000000</td>\n      <td>0.800000</td>\n      <td>...</td>\n      <td>0.818182</td>\n      <td>0.888889</td>\n      <td>0.928571</td>\n      <td>1.000000</td>\n      <td>0.833333</td>\n      <td>1.000000</td>\n      <td>1.000000</td>\n      <td>0.000000</td>\n      <td>1.000000</td>\n      <td>0.666667</td>\n    </tr>\n    <tr>\n      <th>164</th>\n      <td>1.0</td>\n      <td>1.000000</td>\n      <td>0.875000</td>\n      <td>1.000000</td>\n      <td>0.727273</td>\n      <td>1.000000</td>\n      <td>1.000000</td>\n      <td>1.000000</td>\n      <td>0.250000</td>\n      <td>1.000000</td>\n      <td>...</td>\n      <td>0.916667</td>\n      <td>1.000000</td>\n      <td>1.000000</td>\n      <td>1.000000</td>\n      <td>1.000000</td>\n      <td>1.000000</td>\n      <td>1.000000</td>\n      <td>1.000000</td>\n      <td>0.000000</td>\n      <td>1.000000</td>\n    </tr>\n    <tr>\n      <th>165</th>\n      <td>1.0</td>\n      <td>0.818182</td>\n      <td>0.916667</td>\n      <td>0.900000</td>\n      <td>0.875000</td>\n      <td>0.888889</td>\n      <td>0.750000</td>\n      <td>1.000000</td>\n      <td>1.000000</td>\n      <td>0.888889</td>\n      <td>...</td>\n      <td>0.583333</td>\n      <td>0.600000</td>\n      <td>0.642857</td>\n      <td>0.900000</td>\n      <td>0.500000</td>\n      <td>1.000000</td>\n      <td>0.900000</td>\n      <td>0.666667</td>\n      <td>1.000000</td>\n      <td>0.000000</td>\n    </tr>\n  </tbody>\n</table>\n<p>166 rows × 166 columns</p>\n</div>"
     },
     "execution_count": 250,
     "metadata": {},
     "output_type": "execute_result"
    }
   ],
   "source": [
    "distance_matrix"
   ],
   "metadata": {
    "collapsed": false,
    "ExecuteTime": {
     "end_time": "2024-01-25T10:45:24.392705200Z",
     "start_time": "2024-01-25T10:45:24.374705500Z"
    }
   },
   "id": "c1bb44fc024c26d4"
  },
  {
   "cell_type": "code",
   "execution_count": 291,
   "outputs": [],
   "source": [
    "def similar_offers(offer_id: int, threshold: float = 0.6) -> list:\n",
    "    similar = []\n",
    "    for similar_id, item in distance_matrix.iloc[offer_id].sort_values()[offer_id:].items():\n",
    "        if item > threshold:\n",
    "            break\n",
    "        similar.append(offers_frame.iloc[similar_id])\n",
    "    return similar"
   ],
   "metadata": {
    "collapsed": false,
    "ExecuteTime": {
     "end_time": "2024-01-25T11:07:14.396207300Z",
     "start_time": "2024-01-25T11:07:14.360207Z"
    }
   },
   "id": "fa9ec9359ae3b81c"
  },
  {
   "cell_type": "code",
   "execution_count": 292,
   "outputs": [
    {
     "name": "stdout",
     "output_type": "stream",
     "text": [
      "Offers Similar to Junior Software Developer:\n",
      "\n",
      "0> Cyber Security Analyst - Undergraduate : {'python', 'c', 'java'}\n",
      "1> Software Developer : {'python', 'c++', 'c'}\n",
      "2> Energy Harvesting Internship – Starting Summer 2024 : {'python', 'c++', 'c'}\n",
      "3> Computer Vision Alorithm / SW Engineer : {'python', 'c++', 'c'}\n",
      "4> Software Engineer : {'c++', 'c', 'java'}\n",
      "5> System Software Engineer, Summer Intern - 2024 Start (Fixed-Term Contract) : {'c++', 'java', 'python', 'rust', 'c', 'linux'}\n",
      "6> Manufacturing Software Engineer / Relocation USA : {'mysql', 'c++', 'java', 'sql', 'python', 'c#'}\n",
      "7> Software Engineer (University Grad) : {'python', 'javascript', 'c++', 'java'}\n",
      "8> Cyber Threat Intelligence Analyst : {'python', 'c', 'go', 'java'}\n",
      "9> Software Application Engineer Intern : {'linux', 'c++', 'java', 'c#'}\n",
      "10> Control System Engineer : {'python', 'c++', 'c', 'tensorflow'}\n",
      "11> Software Developer - FULL REMOTE : {'aws', 'java', 'python', 'azure', 'c#'}\n",
      "12> Software Developer Degree Apprenticeship (Nottingham) : {'aws', 'java', 'c', 'c#', '.net'}\n",
      "13> Emerging Threats Intelligence Intern (Remote) : {'c++', 'rust', 'c', 'express', 'c#'}\n",
      "14> Senior Staff Product Engineer for Embedded Tools (f/m/div) : {'c++', 'c'}\n",
      "15> 2024 Intern - Software Development Engineering : {'c++', 'java'}\n",
      "16> IBP Junior Algorithms Software Development : {'python', 'java'}\n"
     ]
    }
   ],
   "source": [
    "# Junior Software Developer: {c++, java, python, c, c#}\n",
    "print(f'Offers Similar to {offers_frame.iloc[1][\"Name\"]}:\\n')\n",
    "for i, o in enumerate(similar_offers(1)):\n",
    "    print(f'{i}> {o[\"Name\"]} : {o[\"RequiredSkills\"]}')"
   ],
   "metadata": {
    "collapsed": false,
    "ExecuteTime": {
     "end_time": "2024-01-25T11:07:14.783707Z",
     "start_time": "2024-01-25T11:07:14.756209500Z"
    }
   },
   "id": "333bf76f3f195b1c"
  },
  {
   "cell_type": "code",
   "execution_count": 293,
   "outputs": [
    {
     "name": "stdout",
     "output_type": "stream",
     "text": [
      "Offers Similar to Frontend:\n",
      "\n",
      "0> Freelance Web & UX Developer : {'javascript', 'wordpress', 'html', 'css', 'php'}\n",
      "1> Frontend Software Developer : {'react', 'bash', 'javascript', 'angular', 'html', 'css'}\n",
      "2> Javascript Frontend : {'angular', 'css', 'javascript'}\n",
      "3> FrontEnd Javascript : {'angular', 'css', 'javascript'}\n",
      "4> JUNIOR DEVELOPER : {'javascript', 'sql', 'jquery', 'html', 'c#', 'css', '.net'}\n",
      "5> Software Developer : {'javascript', 'sql', 'html', 'typescript', 'c#', 'css', '.net'}\n",
      "6> Graduate Software Engineer (London) : {'javascript', 'aws', 'java', 'c', 'azure', 'html', 'css'}\n",
      "7> L4 Software Developer Apprentice : {'javascript', 'go', 'git', 'c', 'html', 'css', 'php'}\n",
      "8> SVILUPPATORE SOFTWARE : {'javascript', 'sql', 'angular', 'html', 'c#', 'css', 'vmware'}\n",
      "9> Martech Analyst : {'python', 'javascript', 'html', 'sql'}\n"
     ]
    }
   ],
   "source": [
    "# Frontend: {css, javascript, html}\n",
    "print(f'Offers Similar to {offers_frame.iloc[8][\"Name\"]}:\\n')\n",
    "for i, o in enumerate(similar_offers(8)):\n",
    "    print(f'{i}> {o[\"Name\"]} : {o[\"RequiredSkills\"]}')"
   ],
   "metadata": {
    "collapsed": false,
    "ExecuteTime": {
     "end_time": "2024-01-25T11:07:15.348712100Z",
     "start_time": "2024-01-25T11:07:15.330208100Z"
    }
   },
   "id": "3c8dc191219cc2b4"
  },
  {
   "cell_type": "code",
   "execution_count": null,
   "outputs": [],
   "source": [],
   "metadata": {
    "collapsed": false
   },
   "id": "4a4c4b72b927f837"
  }
 ],
 "metadata": {
  "kernelspec": {
   "display_name": "Python 3",
   "language": "python",
   "name": "python3"
  },
  "language_info": {
   "codemirror_mode": {
    "name": "ipython",
    "version": 2
   },
   "file_extension": ".py",
   "mimetype": "text/x-python",
   "name": "python",
   "nbconvert_exporter": "python",
   "pygments_lexer": "ipython2",
   "version": "2.7.6"
  }
 },
 "nbformat": 4,
 "nbformat_minor": 5
}
