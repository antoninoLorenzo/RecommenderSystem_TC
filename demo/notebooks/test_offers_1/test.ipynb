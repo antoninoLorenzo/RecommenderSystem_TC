{
 "cells": [
  {
   "cell_type": "code",
   "execution_count": 1,
   "id": "initial_id",
   "metadata": {
    "collapsed": true,
    "ExecuteTime": {
     "end_time": "2024-01-26T17:33:39.593913300Z",
     "start_time": "2024-01-26T17:33:39.577913300Z"
    }
   },
   "outputs": [],
   "source": [
    "import sqlite3\n",
    "import random\n",
    "from string import punctuation\n",
    "\n",
    "import pandas as pd\n",
    "import numpy as np\n",
    "from pandas.core.series import Series\n",
    "import matplotlib.pyplot as plt\n",
    "%matplotlib inline\n",
    "import seaborn as sns"
   ]
  },
  {
   "cell_type": "code",
   "execution_count": 2,
   "outputs": [],
   "source": [
    "offers_connection = sqlite3.connect('../../datasets/offers_dataset.db')\n",
    "offers_frame = pd.read_sql_query('''SELECT * FROM offers''', offers_connection)\n",
    "offers_connection.close()\n",
    "\n",
    "with sqlite3.connect('../../datasets/skills_dataset.db') as skills_connection:\n",
    "    skills_frame = pd.read_sql_query('SELECT * FROM skills', skills_connection)\n",
    "    skills_frame.set_index('ID', inplace=True)"
   ],
   "metadata": {
    "collapsed": false,
    "ExecuteTime": {
     "end_time": "2024-01-26T17:33:40.784633300Z",
     "start_time": "2024-01-26T17:33:40.751081700Z"
    }
   },
   "id": "15d7000a3b37f3ff"
  },
  {
   "cell_type": "code",
   "execution_count": 4,
   "outputs": [
    {
     "data": {
      "text/plain": "                                             Name  \\\n0                              Software Developer   \n1                       Junior Software Developer   \n2                              Software Developer   \n3                              Software Developer   \n4                       Senior Software Developer   \n..                                            ...   \n294             Machine Learning / Java Developer   \n295  Investigador predoctoral en Machine Learning   \n296         Manager, Machine Learning Engineering   \n297                 Machine Learning Ops/Engineer   \n298       FULLREMOTE-Data Scientist (Time Series)   \n\n                                           Description  \\\n0    Miniclip is a global leader in digital games w...   \n1    NETtoWORK, azienda italiana nata nel 2016, ope...   \n2    We are looking for talented and passionate peo...   \n3    ARESYS  is a R&D oriented company with nearly ...   \n4    Il/la Candidato/a dovrà padroneggiare: \\n \\n- ...   \n..                                                 ...   \n294  Descripción¡En Qindel Group estamos creciendo!...   \n295  Función: - Entrenamiento de modelos de Deep Le...   \n296  Affirm is reinventing credit to make it more h...   \n297  Attendance to the office in a hybrid work mode...   \n298  -Country:España-Province:Comunidad de Madrid-D...   \n\n                           Location  \n0                   Genova, Liguria  \n1                      17100 Savona  \n2                       55100 Lucca  \n3                Matera, Basilicata  \n4                  Catania, Sicilia  \n..                              ...  \n294    A Coruña, A Coruña provincia  \n295        Madrid, Madrid provincia  \n296  Barcelona, Barcelona provincia  \n297  28033 Madrid, Madrid provincia  \n298             Comunidad de Madrid  \n\n[299 rows x 3 columns]",
      "text/html": "<div>\n<style scoped>\n    .dataframe tbody tr th:only-of-type {\n        vertical-align: middle;\n    }\n\n    .dataframe tbody tr th {\n        vertical-align: top;\n    }\n\n    .dataframe thead th {\n        text-align: right;\n    }\n</style>\n<table border=\"1\" class=\"dataframe\">\n  <thead>\n    <tr style=\"text-align: right;\">\n      <th></th>\n      <th>Name</th>\n      <th>Description</th>\n      <th>Location</th>\n    </tr>\n  </thead>\n  <tbody>\n    <tr>\n      <th>0</th>\n      <td>Software Developer</td>\n      <td>Miniclip is a global leader in digital games w...</td>\n      <td>Genova, Liguria</td>\n    </tr>\n    <tr>\n      <th>1</th>\n      <td>Junior Software Developer</td>\n      <td>NETtoWORK, azienda italiana nata nel 2016, ope...</td>\n      <td>17100 Savona</td>\n    </tr>\n    <tr>\n      <th>2</th>\n      <td>Software Developer</td>\n      <td>We are looking for talented and passionate peo...</td>\n      <td>55100 Lucca</td>\n    </tr>\n    <tr>\n      <th>3</th>\n      <td>Software Developer</td>\n      <td>ARESYS  is a R&amp;D oriented company with nearly ...</td>\n      <td>Matera, Basilicata</td>\n    </tr>\n    <tr>\n      <th>4</th>\n      <td>Senior Software Developer</td>\n      <td>Il/la Candidato/a dovrà padroneggiare: \\n \\n- ...</td>\n      <td>Catania, Sicilia</td>\n    </tr>\n    <tr>\n      <th>...</th>\n      <td>...</td>\n      <td>...</td>\n      <td>...</td>\n    </tr>\n    <tr>\n      <th>294</th>\n      <td>Machine Learning / Java Developer</td>\n      <td>Descripción¡En Qindel Group estamos creciendo!...</td>\n      <td>A Coruña, A Coruña provincia</td>\n    </tr>\n    <tr>\n      <th>295</th>\n      <td>Investigador predoctoral en Machine Learning</td>\n      <td>Función: - Entrenamiento de modelos de Deep Le...</td>\n      <td>Madrid, Madrid provincia</td>\n    </tr>\n    <tr>\n      <th>296</th>\n      <td>Manager, Machine Learning Engineering</td>\n      <td>Affirm is reinventing credit to make it more h...</td>\n      <td>Barcelona, Barcelona provincia</td>\n    </tr>\n    <tr>\n      <th>297</th>\n      <td>Machine Learning Ops/Engineer</td>\n      <td>Attendance to the office in a hybrid work mode...</td>\n      <td>28033 Madrid, Madrid provincia</td>\n    </tr>\n    <tr>\n      <th>298</th>\n      <td>FULLREMOTE-Data Scientist (Time Series)</td>\n      <td>-Country:España-Province:Comunidad de Madrid-D...</td>\n      <td>Comunidad de Madrid</td>\n    </tr>\n  </tbody>\n</table>\n<p>299 rows × 3 columns</p>\n</div>"
     },
     "execution_count": 4,
     "metadata": {},
     "output_type": "execute_result"
    }
   ],
   "source": [
    "offers_frame.dropna(subset='Name',inplace=True)\n",
    "offers_frame.drop_duplicates(inplace=True)\n",
    "offers_frame"
   ],
   "metadata": {
    "collapsed": false,
    "ExecuteTime": {
     "end_time": "2024-01-26T17:33:51.230753600Z",
     "start_time": "2024-01-26T17:33:51.130756600Z"
    }
   },
   "id": "91a9d1877e212e8d"
  },
  {
   "cell_type": "code",
   "execution_count": 5,
   "outputs": [],
   "source": [
    "def remove_symbols(description: str, remove_map: dict) -> str:\n",
    "    \"\"\"\n",
    "    \"\"\"\n",
    "    for old, new in remove_map.items():\n",
    "        description = description.replace(old, new)\n",
    "    return description.lower()\n",
    "\n",
    "\n",
    "def extract_symbols(description: str, available_symbols: list) -> set:\n",
    "    s = set()\n",
    "    prev = ''\n",
    "    for word in description.split():\n",
    "        if word in available_symbols:\n",
    "            s.add(word)\n",
    "        elif f'{prev} {word}' in available_symbols:\n",
    "            s.add(f'{prev} {word}')  \n",
    "        prev = word\n",
    "    return s \n",
    "\n",
    "def translate_skills(skills: set, toId = False) -> set:\n",
    "    if toId:\n",
    "        return skill_to_id(skills)\n",
    "    else:\n",
    "        return id_to_skill(skills)\n",
    "\n",
    "def id_to_skill(skills: set[int]) -> set[str]:\n",
    "    out = set()\n",
    "    for skill in skills:\n",
    "        out.add(skills_frame.loc[skill, 'SKILL'])\n",
    "    \n",
    "    return out\n",
    "\n",
    "def skill_to_id(skills: set[str]) -> set[int]:\n",
    "    out = set()\n",
    "    for skill in skills:\n",
    "        out.add(\n",
    "            list(\n",
    "                skills_frame.loc[\n",
    "                    skills_frame['SKILL'].apply(lambda val: val.lower()) == skill.lower()\n",
    "                ].index\n",
    "            )[0]\n",
    "        )\n",
    "    \n",
    "    return out"
   ],
   "metadata": {
    "collapsed": false,
    "ExecuteTime": {
     "end_time": "2024-01-26T17:34:00.004818400Z",
     "start_time": "2024-01-26T17:33:59.990567600Z"
    }
   },
   "id": "411ce9eb7199b49f"
  },
  {
   "cell_type": "code",
   "execution_count": 6,
   "outputs": [],
   "source": [
    "# Get Skill list\n",
    "skills_list = [skill.lower() for skill in skills_frame['SKILL'].tolist()]\n",
    "\n",
    "# Symbols to remove\n",
    "punct = [p for p in punctuation]\n",
    "punct.remove('+')\n",
    "punct.remove('#')\n",
    "# punct.remove('.')\n",
    "\n",
    "removal = {p: ' ' for p in punct}\n",
    "removal['\\n'] = ''\n",
    "removal['/'] = ' '\n",
    "removal['('] = ' '\n",
    "removal[')'] = ' '\n",
    "removal[','] = ' '\n",
    "removal['>'] = ' '\n",
    "removal['.'] = ' .'"
   ],
   "metadata": {
    "collapsed": false,
    "ExecuteTime": {
     "end_time": "2024-01-26T17:34:00.976663700Z",
     "start_time": "2024-01-26T17:34:00.957661900Z"
    }
   },
   "id": "8c520e7daca7c8d5"
  },
  {
   "cell_type": "code",
   "execution_count": 7,
   "outputs": [
    {
     "data": {
      "text/plain": "                                             Name  \\\n0                              Software Developer   \n1                       Junior Software Developer   \n2                              Software Developer   \n3                              Software Developer   \n4                       Senior Software Developer   \n..                                            ...   \n237             Machine Learning / Java Developer   \n238  Investigador predoctoral en Machine Learning   \n239         Manager, Machine Learning Engineering   \n240                 Machine Learning Ops/Engineer   \n241       FULLREMOTE-Data Scientist (Time Series)   \n\n                                           Description  \\\n0    Miniclip is a global leader in digital games w...   \n1    NETtoWORK, azienda italiana nata nel 2016, ope...   \n2    We are looking for talented and passionate peo...   \n3    ARESYS  is a R&D oriented company with nearly ...   \n4    Il/la Candidato/a dovrà padroneggiare: \\n \\n- ...   \n..                                                 ...   \n237  Descripción¡En Qindel Group estamos creciendo!...   \n238  Función: - Entrenamiento de modelos de Deep Le...   \n239  Affirm is reinventing credit to make it more h...   \n240  Attendance to the office in a hybrid work mode...   \n241  -Country:España-Province:Comunidad de Madrid-D...   \n\n                           Location                        RequiredSkills  \n0                   Genova, Liguria                            {100, 101}  \n1                      17100 Savona                       {2, 6, 7, 8, 9}  \n2                       55100 Lucca                     {0, 3, 6, 44, 26}  \n3                Matera, Basilicata                             {8, 9, 2}  \n4                  Catania, Sicilia  {0, 1, 3, 99, 6, 7, 104, 55, 57, 26}  \n..                              ...                                   ...  \n237    A Coruña, A Coruña provincia                         {2, 3, 6, 31}  \n238        Madrid, Madrid provincia                                   {2}  \n239  Barcelona, Barcelona provincia                        {3, 2, 58, 59}  \n240  28033 Madrid, Madrid provincia               {32, 2, 67, 89, 30, 31}  \n241             Comunidad de Madrid                              {104, 2}  \n\n[242 rows x 4 columns]",
      "text/html": "<div>\n<style scoped>\n    .dataframe tbody tr th:only-of-type {\n        vertical-align: middle;\n    }\n\n    .dataframe tbody tr th {\n        vertical-align: top;\n    }\n\n    .dataframe thead th {\n        text-align: right;\n    }\n</style>\n<table border=\"1\" class=\"dataframe\">\n  <thead>\n    <tr style=\"text-align: right;\">\n      <th></th>\n      <th>Name</th>\n      <th>Description</th>\n      <th>Location</th>\n      <th>RequiredSkills</th>\n    </tr>\n  </thead>\n  <tbody>\n    <tr>\n      <th>0</th>\n      <td>Software Developer</td>\n      <td>Miniclip is a global leader in digital games w...</td>\n      <td>Genova, Liguria</td>\n      <td>{100, 101}</td>\n    </tr>\n    <tr>\n      <th>1</th>\n      <td>Junior Software Developer</td>\n      <td>NETtoWORK, azienda italiana nata nel 2016, ope...</td>\n      <td>17100 Savona</td>\n      <td>{2, 6, 7, 8, 9}</td>\n    </tr>\n    <tr>\n      <th>2</th>\n      <td>Software Developer</td>\n      <td>We are looking for talented and passionate peo...</td>\n      <td>55100 Lucca</td>\n      <td>{0, 3, 6, 44, 26}</td>\n    </tr>\n    <tr>\n      <th>3</th>\n      <td>Software Developer</td>\n      <td>ARESYS  is a R&amp;D oriented company with nearly ...</td>\n      <td>Matera, Basilicata</td>\n      <td>{8, 9, 2}</td>\n    </tr>\n    <tr>\n      <th>4</th>\n      <td>Senior Software Developer</td>\n      <td>Il/la Candidato/a dovrà padroneggiare: \\n \\n- ...</td>\n      <td>Catania, Sicilia</td>\n      <td>{0, 1, 3, 99, 6, 7, 104, 55, 57, 26}</td>\n    </tr>\n    <tr>\n      <th>...</th>\n      <td>...</td>\n      <td>...</td>\n      <td>...</td>\n      <td>...</td>\n    </tr>\n    <tr>\n      <th>237</th>\n      <td>Machine Learning / Java Developer</td>\n      <td>Descripción¡En Qindel Group estamos creciendo!...</td>\n      <td>A Coruña, A Coruña provincia</td>\n      <td>{2, 3, 6, 31}</td>\n    </tr>\n    <tr>\n      <th>238</th>\n      <td>Investigador predoctoral en Machine Learning</td>\n      <td>Función: - Entrenamiento de modelos de Deep Le...</td>\n      <td>Madrid, Madrid provincia</td>\n      <td>{2}</td>\n    </tr>\n    <tr>\n      <th>239</th>\n      <td>Manager, Machine Learning Engineering</td>\n      <td>Affirm is reinventing credit to make it more h...</td>\n      <td>Barcelona, Barcelona provincia</td>\n      <td>{3, 2, 58, 59}</td>\n    </tr>\n    <tr>\n      <th>240</th>\n      <td>Machine Learning Ops/Engineer</td>\n      <td>Attendance to the office in a hybrid work mode...</td>\n      <td>28033 Madrid, Madrid provincia</td>\n      <td>{32, 2, 67, 89, 30, 31}</td>\n    </tr>\n    <tr>\n      <th>241</th>\n      <td>FULLREMOTE-Data Scientist (Time Series)</td>\n      <td>-Country:España-Province:Comunidad de Madrid-D...</td>\n      <td>Comunidad de Madrid</td>\n      <td>{104, 2}</td>\n    </tr>\n  </tbody>\n</table>\n<p>242 rows × 4 columns</p>\n</div>"
     },
     "execution_count": 7,
     "metadata": {},
     "output_type": "execute_result"
    }
   ],
   "source": [
    "required_skills = [] \n",
    "\n",
    "# Extract skills from descriptions and add new column\n",
    "for i, offer_description in enumerate(offers_frame.loc[:, 'Description']):\n",
    "    desc = remove_symbols(offer_description, removal)\n",
    "    offer_skills = extract_symbols(desc, skills_list)\n",
    "    required_skills.append(translate_skills(offer_skills, toId=True))  \n",
    "    #required_skills.append(offer_skills)\n",
    "offers_frame.insert(len(offers_frame.columns), \"RequiredSkills\", required_skills)\n",
    "\n",
    "# Remove offers with no required skills\n",
    "offers_frame['RequiredSkills'] = offers_frame['RequiredSkills'].apply(lambda x: np.NaN if not x else x)\n",
    "offers_frame.dropna(subset='RequiredSkills', inplace=True)\n",
    "offers_frame.reset_index(drop=True, inplace=True)\n",
    "offers_frame"
   ],
   "metadata": {
    "collapsed": false,
    "ExecuteTime": {
     "end_time": "2024-01-26T17:34:03.307686400Z",
     "start_time": "2024-01-26T17:34:01.685686200Z"
    }
   },
   "id": "19d237c083867bcf"
  },
  {
   "cell_type": "markdown",
   "source": [
    "### Jaccard Distance"
   ],
   "metadata": {
    "collapsed": false
   },
   "id": "65686f15a552c9d2"
  },
  {
   "cell_type": "code",
   "execution_count": 8,
   "outputs": [],
   "source": [
    "def _jaccard(s1: set, s2: set):\n",
    "    return 1 - (len(s1.intersection(s2)) / len(s1.union(s2)))\n",
    "\n",
    "def jaccard(row1: Series, row2: Series, col_name: str):\n",
    "    if row1.keys().values is not row2.keys().values:\n",
    "        raise ValueError(f'Rows have different columns: {row1.keys()} vs {row2.keys()}')   \n",
    "    if col_name not in row1.keys() or col_name not in row2.keys():\n",
    "        raise ValueError(f'Invalid Column Name {col_name}')  \n",
    "    return _jaccard(row1[col_name], row2[col_name])"
   ],
   "metadata": {
    "collapsed": false,
    "ExecuteTime": {
     "end_time": "2024-01-26T17:35:01.669717700Z",
     "start_time": "2024-01-26T17:35:01.656718900Z"
    }
   },
   "id": "40d65ca6e1325e4e"
  },
  {
   "cell_type": "code",
   "execution_count": 9,
   "outputs": [
    {
     "name": "stdout",
     "output_type": "stream",
     "text": [
      "Distance between Frontend and Frontend: 0.00\n",
      " {0, 1, 99} and {0, 1, 99}\n",
      "Distance between Frontend and Software Developer Degree Apprenticeship (Nottingham): 1.00\n",
      " {0, 1, 99} and {6, 7, 9, 57, 30}\n",
      "Distance between EU Institutions: AI Machine Learning Data Scientist and Senior Infrastructure Server Engineer: 1.00\n",
      " {2, 3, 21, 102} and {12, 30, 39}\n"
     ]
    }
   ],
   "source": [
    "# Examples\n",
    "r1 = offers_frame.loc[8, :]\n",
    "r2 = offers_frame.loc[37, :]\n",
    "r3 = offers_frame.loc[random.randint(0, len(offers_frame))]\n",
    "r4 = offers_frame.loc[random.randint(0, len(offers_frame))]\n",
    "\n",
    "print(f'Distance between {r1[\"Name\"]} and {r1[\"Name\"]}: {jaccard(r1, r1, \"RequiredSkills\"):.2f}\\n {r1[\"RequiredSkills\"]} and {r1[\"RequiredSkills\"]}')\n",
    "print(f'Distance between {r1[\"Name\"]} and {r2[\"Name\"]}: {jaccard(r1, r2, \"RequiredSkills\"):.2f}\\n {r1[\"RequiredSkills\"]} and {r2[\"RequiredSkills\"]}')\n",
    "print(f'Distance between {r3[\"Name\"]} and {r4[\"Name\"]}: {jaccard(r3, r4, \"RequiredSkills\"):.2f}\\n {r3[\"RequiredSkills\"]} and {r4[\"RequiredSkills\"]}')"
   ],
   "metadata": {
    "collapsed": false,
    "ExecuteTime": {
     "end_time": "2024-01-26T17:35:02.348790100Z",
     "start_time": "2024-01-26T17:35:02.329292600Z"
    }
   },
   "id": "44ac4f250c9e3328"
  },
  {
   "cell_type": "markdown",
   "source": [
    "## Distance Matrix"
   ],
   "metadata": {
    "collapsed": false
   },
   "id": "6e2dc81d861b9de5"
  },
  {
   "cell_type": "code",
   "execution_count": 10,
   "outputs": [],
   "source": [
    "def get_distance_matrix(frame: pd.DataFrame, col_name: str):\n",
    "    distances = []\n",
    "    for i, row1 in frame.iterrows():\n",
    "        distances.append([])\n",
    "        for j, row2 in frame.iterrows():\n",
    "            if i != j:\n",
    "                distances[-1].append(_jaccard(row1[col_name], row2[col_name]))\n",
    "            else:\n",
    "                distances[-1].append(0)#np.inf) \n",
    "    return pd.DataFrame(distances, index=frame.index, columns=frame.index)\n",
    "\n",
    "distance_matrix = get_distance_matrix(offers_frame, 'RequiredSkills')"
   ],
   "metadata": {
    "collapsed": false,
    "ExecuteTime": {
     "end_time": "2024-01-26T17:35:09.974719500Z",
     "start_time": "2024-01-26T17:35:05.081720600Z"
    }
   },
   "id": "b78ec64713866285"
  },
  {
   "cell_type": "code",
   "execution_count": 11,
   "outputs": [
    {
     "data": {
      "text/plain": "     0         1         2         3         4         5         6    \\\n0    0.0  1.000000  1.000000  1.000000  1.000000  1.000000  1.000000   \n1    1.0  0.000000  0.888889  0.400000  0.846154  0.833333  0.600000   \n2    1.0  0.888889  0.000000  1.000000  0.636364  0.833333  0.833333   \n3    1.0  0.400000  1.000000  0.000000  1.000000  1.000000  0.750000   \n4    1.0  0.846154  0.636364  1.000000  0.000000  0.800000  0.909091   \n..   ...       ...       ...       ...       ...       ...       ...   \n237  1.0  0.714286  0.714286  0.833333  0.833333  0.800000  0.500000   \n238  1.0  0.800000  1.000000  0.666667  1.000000  1.000000  0.500000   \n239  1.0  0.875000  0.875000  0.833333  0.923077  1.000000  0.800000   \n240  1.0  0.900000  1.000000  0.875000  1.000000  1.000000  0.857143   \n241  1.0  0.833333  1.000000  0.750000  0.909091  1.000000  0.666667   \n\n          7         8         9    ...       232       233       234  \\\n0    0.666667  1.000000  1.000000  ...  1.000000  1.000000  1.000000   \n1    1.000000  1.000000  0.833333  ...  0.900000  0.833333  0.714286   \n2    1.000000  0.857143  0.833333  ...  0.900000  0.833333  0.714286   \n3    1.000000  1.000000  1.000000  ...  0.875000  0.750000  0.833333   \n4    1.000000  0.700000  0.909091  ...  0.933333  0.909091  0.833333   \n..        ...       ...       ...  ...       ...       ...       ...   \n237  1.000000  1.000000  0.800000  ...  0.750000  0.500000  0.000000   \n238  1.000000  1.000000  1.000000  ...  0.833333  0.500000  0.750000   \n239  1.000000  1.000000  1.000000  ...  0.333333  0.500000  0.666667   \n240  1.000000  1.000000  1.000000  ...  0.909091  0.857143  0.750000   \n241  1.000000  1.000000  1.000000  ...  0.857143  0.666667  0.800000   \n\n          235       236       237       238       239       240       241  \n0    1.000000  1.000000  1.000000  1.000000  1.000000  1.000000  1.000000  \n1    0.833333  0.818182  0.714286  0.800000  0.875000  0.900000  0.833333  \n2    0.833333  0.916667  0.714286  1.000000  0.875000  1.000000  1.000000  \n3    0.750000  0.900000  0.833333  0.666667  0.833333  0.875000  0.750000  \n4    0.909091  0.941176  0.833333  1.000000  0.923077  1.000000  0.909091  \n..        ...       ...       ...       ...       ...       ...       ...  \n237  0.500000  0.666667  0.000000  0.750000  0.666667  0.750000  0.800000  \n238  0.500000  0.875000  0.750000  0.000000  0.750000  0.833333  0.500000  \n239  0.500000  0.909091  0.666667  0.750000  0.000000  0.888889  0.800000  \n240  0.857143  0.600000  0.750000  0.833333  0.888889  0.000000  0.857143  \n241  0.666667  0.888889  0.800000  0.500000  0.800000  0.857143  0.000000  \n\n[242 rows x 242 columns]",
      "text/html": "<div>\n<style scoped>\n    .dataframe tbody tr th:only-of-type {\n        vertical-align: middle;\n    }\n\n    .dataframe tbody tr th {\n        vertical-align: top;\n    }\n\n    .dataframe thead th {\n        text-align: right;\n    }\n</style>\n<table border=\"1\" class=\"dataframe\">\n  <thead>\n    <tr style=\"text-align: right;\">\n      <th></th>\n      <th>0</th>\n      <th>1</th>\n      <th>2</th>\n      <th>3</th>\n      <th>4</th>\n      <th>5</th>\n      <th>6</th>\n      <th>7</th>\n      <th>8</th>\n      <th>9</th>\n      <th>...</th>\n      <th>232</th>\n      <th>233</th>\n      <th>234</th>\n      <th>235</th>\n      <th>236</th>\n      <th>237</th>\n      <th>238</th>\n      <th>239</th>\n      <th>240</th>\n      <th>241</th>\n    </tr>\n  </thead>\n  <tbody>\n    <tr>\n      <th>0</th>\n      <td>0.0</td>\n      <td>1.000000</td>\n      <td>1.000000</td>\n      <td>1.000000</td>\n      <td>1.000000</td>\n      <td>1.000000</td>\n      <td>1.000000</td>\n      <td>0.666667</td>\n      <td>1.000000</td>\n      <td>1.000000</td>\n      <td>...</td>\n      <td>1.000000</td>\n      <td>1.000000</td>\n      <td>1.000000</td>\n      <td>1.000000</td>\n      <td>1.000000</td>\n      <td>1.000000</td>\n      <td>1.000000</td>\n      <td>1.000000</td>\n      <td>1.000000</td>\n      <td>1.000000</td>\n    </tr>\n    <tr>\n      <th>1</th>\n      <td>1.0</td>\n      <td>0.000000</td>\n      <td>0.888889</td>\n      <td>0.400000</td>\n      <td>0.846154</td>\n      <td>0.833333</td>\n      <td>0.600000</td>\n      <td>1.000000</td>\n      <td>1.000000</td>\n      <td>0.833333</td>\n      <td>...</td>\n      <td>0.900000</td>\n      <td>0.833333</td>\n      <td>0.714286</td>\n      <td>0.833333</td>\n      <td>0.818182</td>\n      <td>0.714286</td>\n      <td>0.800000</td>\n      <td>0.875000</td>\n      <td>0.900000</td>\n      <td>0.833333</td>\n    </tr>\n    <tr>\n      <th>2</th>\n      <td>1.0</td>\n      <td>0.888889</td>\n      <td>0.000000</td>\n      <td>1.000000</td>\n      <td>0.636364</td>\n      <td>0.833333</td>\n      <td>0.833333</td>\n      <td>1.000000</td>\n      <td>0.857143</td>\n      <td>0.833333</td>\n      <td>...</td>\n      <td>0.900000</td>\n      <td>0.833333</td>\n      <td>0.714286</td>\n      <td>0.833333</td>\n      <td>0.916667</td>\n      <td>0.714286</td>\n      <td>1.000000</td>\n      <td>0.875000</td>\n      <td>1.000000</td>\n      <td>1.000000</td>\n    </tr>\n    <tr>\n      <th>3</th>\n      <td>1.0</td>\n      <td>0.400000</td>\n      <td>1.000000</td>\n      <td>0.000000</td>\n      <td>1.000000</td>\n      <td>1.000000</td>\n      <td>0.750000</td>\n      <td>1.000000</td>\n      <td>1.000000</td>\n      <td>1.000000</td>\n      <td>...</td>\n      <td>0.875000</td>\n      <td>0.750000</td>\n      <td>0.833333</td>\n      <td>0.750000</td>\n      <td>0.900000</td>\n      <td>0.833333</td>\n      <td>0.666667</td>\n      <td>0.833333</td>\n      <td>0.875000</td>\n      <td>0.750000</td>\n    </tr>\n    <tr>\n      <th>4</th>\n      <td>1.0</td>\n      <td>0.846154</td>\n      <td>0.636364</td>\n      <td>1.000000</td>\n      <td>0.000000</td>\n      <td>0.800000</td>\n      <td>0.909091</td>\n      <td>1.000000</td>\n      <td>0.700000</td>\n      <td>0.909091</td>\n      <td>...</td>\n      <td>0.933333</td>\n      <td>0.909091</td>\n      <td>0.833333</td>\n      <td>0.909091</td>\n      <td>0.941176</td>\n      <td>0.833333</td>\n      <td>1.000000</td>\n      <td>0.923077</td>\n      <td>1.000000</td>\n      <td>0.909091</td>\n    </tr>\n    <tr>\n      <th>...</th>\n      <td>...</td>\n      <td>...</td>\n      <td>...</td>\n      <td>...</td>\n      <td>...</td>\n      <td>...</td>\n      <td>...</td>\n      <td>...</td>\n      <td>...</td>\n      <td>...</td>\n      <td>...</td>\n      <td>...</td>\n      <td>...</td>\n      <td>...</td>\n      <td>...</td>\n      <td>...</td>\n      <td>...</td>\n      <td>...</td>\n      <td>...</td>\n      <td>...</td>\n      <td>...</td>\n    </tr>\n    <tr>\n      <th>237</th>\n      <td>1.0</td>\n      <td>0.714286</td>\n      <td>0.714286</td>\n      <td>0.833333</td>\n      <td>0.833333</td>\n      <td>0.800000</td>\n      <td>0.500000</td>\n      <td>1.000000</td>\n      <td>1.000000</td>\n      <td>0.800000</td>\n      <td>...</td>\n      <td>0.750000</td>\n      <td>0.500000</td>\n      <td>0.000000</td>\n      <td>0.500000</td>\n      <td>0.666667</td>\n      <td>0.000000</td>\n      <td>0.750000</td>\n      <td>0.666667</td>\n      <td>0.750000</td>\n      <td>0.800000</td>\n    </tr>\n    <tr>\n      <th>238</th>\n      <td>1.0</td>\n      <td>0.800000</td>\n      <td>1.000000</td>\n      <td>0.666667</td>\n      <td>1.000000</td>\n      <td>1.000000</td>\n      <td>0.500000</td>\n      <td>1.000000</td>\n      <td>1.000000</td>\n      <td>1.000000</td>\n      <td>...</td>\n      <td>0.833333</td>\n      <td>0.500000</td>\n      <td>0.750000</td>\n      <td>0.500000</td>\n      <td>0.875000</td>\n      <td>0.750000</td>\n      <td>0.000000</td>\n      <td>0.750000</td>\n      <td>0.833333</td>\n      <td>0.500000</td>\n    </tr>\n    <tr>\n      <th>239</th>\n      <td>1.0</td>\n      <td>0.875000</td>\n      <td>0.875000</td>\n      <td>0.833333</td>\n      <td>0.923077</td>\n      <td>1.000000</td>\n      <td>0.800000</td>\n      <td>1.000000</td>\n      <td>1.000000</td>\n      <td>1.000000</td>\n      <td>...</td>\n      <td>0.333333</td>\n      <td>0.500000</td>\n      <td>0.666667</td>\n      <td>0.500000</td>\n      <td>0.909091</td>\n      <td>0.666667</td>\n      <td>0.750000</td>\n      <td>0.000000</td>\n      <td>0.888889</td>\n      <td>0.800000</td>\n    </tr>\n    <tr>\n      <th>240</th>\n      <td>1.0</td>\n      <td>0.900000</td>\n      <td>1.000000</td>\n      <td>0.875000</td>\n      <td>1.000000</td>\n      <td>1.000000</td>\n      <td>0.857143</td>\n      <td>1.000000</td>\n      <td>1.000000</td>\n      <td>1.000000</td>\n      <td>...</td>\n      <td>0.909091</td>\n      <td>0.857143</td>\n      <td>0.750000</td>\n      <td>0.857143</td>\n      <td>0.600000</td>\n      <td>0.750000</td>\n      <td>0.833333</td>\n      <td>0.888889</td>\n      <td>0.000000</td>\n      <td>0.857143</td>\n    </tr>\n    <tr>\n      <th>241</th>\n      <td>1.0</td>\n      <td>0.833333</td>\n      <td>1.000000</td>\n      <td>0.750000</td>\n      <td>0.909091</td>\n      <td>1.000000</td>\n      <td>0.666667</td>\n      <td>1.000000</td>\n      <td>1.000000</td>\n      <td>1.000000</td>\n      <td>...</td>\n      <td>0.857143</td>\n      <td>0.666667</td>\n      <td>0.800000</td>\n      <td>0.666667</td>\n      <td>0.888889</td>\n      <td>0.800000</td>\n      <td>0.500000</td>\n      <td>0.800000</td>\n      <td>0.857143</td>\n      <td>0.000000</td>\n    </tr>\n  </tbody>\n</table>\n<p>242 rows × 242 columns</p>\n</div>"
     },
     "execution_count": 11,
     "metadata": {},
     "output_type": "execute_result"
    }
   ],
   "source": [
    "distance_matrix"
   ],
   "metadata": {
    "collapsed": false,
    "ExecuteTime": {
     "end_time": "2024-01-26T17:35:27.029024500Z",
     "start_time": "2024-01-26T17:35:26.971028700Z"
    }
   },
   "id": "c1bb44fc024c26d4"
  },
  {
   "cell_type": "code",
   "execution_count": 12,
   "outputs": [],
   "source": [
    "def similar_offers(offer_id: int, threshold: float = 0.6) -> list:\n",
    "    \"\"\"\n",
    "    get similar offers based only on distance matrix\n",
    "    \"\"\"\n",
    "    similar = []\n",
    "    for item_id, distance in distance_matrix.iloc[offer_id].sort_values()[offer_id:].items():\n",
    "        if distance > threshold:\n",
    "            break\n",
    "        similar.append(offers_frame.iloc[item_id])\n",
    "    return similar"
   ],
   "metadata": {
    "collapsed": false,
    "ExecuteTime": {
     "end_time": "2024-01-26T17:35:48.291617900Z",
     "start_time": "2024-01-26T17:35:48.287135400Z"
    }
   },
   "id": "fa9ec9359ae3b81c"
  },
  {
   "cell_type": "markdown",
   "source": [
    "### Clustering based recommendation"
   ],
   "metadata": {
    "collapsed": false
   },
   "id": "6275ffe84720f62d"
  },
  {
   "cell_type": "markdown",
   "source": [
    "**Silhouette Score**"
   ],
   "metadata": {
    "collapsed": false
   },
   "id": "4eb96fba6e39af6e"
  },
  {
   "cell_type": "code",
   "execution_count": 13,
   "outputs": [],
   "source": [
    "from sklearn.cluster import KMeans\n",
    "from scipy.spatial.distance import euclidean\n",
    "\n",
    "\n",
    "def item_cluster_distance(frame: pd.DataFrame, item: Series, target: int, \n",
    "                          group_label: str = 'Group', \n",
    "                          distance_label: str = 'RequiredSkills'):\n",
    "    \"\"\"\n",
    "    Computes distance between an item in a cluster X and the other items in a cluster Y.\n",
    "    Used also when X and Y are the same clusters.\n",
    "    \"\"\"\n",
    "    group = frame[frame[group_label] == target]\n",
    "    den = len(list(group.index))\n",
    "    distance = 0\n",
    "    \n",
    "    for it in group.iterrows():\n",
    "        if not it[1].equals(item):\n",
    "            distance += jaccard(item, it[1], distance_label)\n",
    "    \n",
    "    return distance/den\n",
    "\n",
    "def find_nearest_cluster(centroids, target_label: int):\n",
    "    nearest = None\n",
    "    target_centroid = centroids.iloc[target_label]\n",
    "    min_dist = float('inf')\n",
    "    \n",
    "    for label, vector in centroids[centroids.index != target_label].iterrows():\n",
    "        dist = euclidean(target_centroid, vector)\n",
    "        if dist < min_dist:\n",
    "            min_dist = dist\n",
    "            nearest = label\n",
    "    \n",
    "    return nearest\n",
    "\n",
    "\n",
    "def kmeans_silhouette(frame: pd.DataFrame,\n",
    "               clustering: KMeans,\n",
    "               group_label: str = 'Group',\n",
    "               distance_label: str = 'RequiredSkills'):\n",
    "    \n",
    "    silhouette_scores = []\n",
    "    for target_cluster in list(np.unique(frame[group_label])): \n",
    "        nearest_cluster = find_nearest_cluster(\n",
    "            pd.DataFrame(clustering.cluster_centers_),\n",
    "            target_cluster\n",
    "        )\n",
    "        for _, item in frame.iterrows():\n",
    "            a = item_cluster_distance(frame, item, target_cluster, group_label, distance_label)\n",
    "            b = item_cluster_distance(frame, item, nearest_cluster, group_label, distance_label)\n",
    "            silhouette_score = (b - a) / max(a, b)\n",
    "            silhouette_scores.append(silhouette_score)\n",
    "    \n",
    "    return np.mean(silhouette_scores)"
   ],
   "metadata": {
    "collapsed": false,
    "ExecuteTime": {
     "end_time": "2024-01-26T17:35:51.789898600Z",
     "start_time": "2024-01-26T17:35:51.390399200Z"
    }
   },
   "id": "6ce10b0e94bc107a"
  },
  {
   "cell_type": "code",
   "execution_count": 14,
   "outputs": [
    {
     "name": "stderr",
     "output_type": "stream",
     "text": [
      "C:\\Users\\anton\\AppData\\Local\\Programs\\Python\\Python311\\Lib\\site-packages\\joblib\\externals\\loky\\backend\\context.py:136: UserWarning: Could not find the number of physical cores for the following reason:\n",
      "[WinError 2] Impossibile trovare il file specificato\n",
      "Returning the number of logical cores instead. You can silence this warning by setting LOKY_MAX_CPU_COUNT to the number of cores you want to use.\n",
      "  warnings.warn(\n",
      "  File \"C:\\Users\\anton\\AppData\\Local\\Programs\\Python\\Python311\\Lib\\site-packages\\joblib\\externals\\loky\\backend\\context.py\", line 257, in _count_physical_cores\n",
      "    cpu_info = subprocess.run(\n",
      "               ^^^^^^^^^^^^^^^\n",
      "  File \"C:\\Users\\anton\\AppData\\Local\\Programs\\Python\\Python311\\Lib\\subprocess.py\", line 548, in run\n",
      "    with Popen(*popenargs, **kwargs) as process:\n",
      "         ^^^^^^^^^^^^^^^^^^^^^^^^^^^\n",
      "  File \"C:\\Users\\anton\\AppData\\Local\\Programs\\Python\\Python311\\Lib\\subprocess.py\", line 1026, in __init__\n",
      "    self._execute_child(args, executable, preexec_fn, close_fds,\n",
      "  File \"C:\\Users\\anton\\AppData\\Local\\Programs\\Python\\Python311\\Lib\\subprocess.py\", line 1538, in _execute_child\n",
      "    hp, ht, pid, tid = _winapi.CreateProcess(executable, args,\n",
      "                       ^^^^^^^^^^^^^^^^^^^^^^^^^^^^^^^^^^^^^^^\n"
     ]
    },
    {
     "name": "stdout",
     "output_type": "stream",
     "text": [
      "Value for 2: 0.000\n",
      "Value for 3: 0.020\n",
      "Value for 4: 0.018\n",
      "Value for 5: 0.020\n",
      "Value for 6: 0.013\n",
      "Value for 7: 0.016\n"
     ]
    }
   ],
   "source": [
    "# --- See how many clusters perform the best\n",
    "max_value = -2\n",
    "best_value = 0\n",
    "for k in range(2, 8):\n",
    "    tmp_kmeans = KMeans(n_clusters=k, init='k-means++', n_init=10, random_state=42)\n",
    "    labels = tmp_kmeans.fit_predict(distance_matrix)\n",
    "    offers_frame['Group'] = labels\n",
    "    \n",
    "    value = kmeans_silhouette(offers_frame, tmp_kmeans)\n",
    "    print(f'Value for {k}: {value:.3f}')\n",
    "    if value > max_value:\n",
    "        max_value = value\n",
    "        best_value = k"
   ],
   "metadata": {
    "collapsed": false,
    "ExecuteTime": {
     "end_time": "2024-01-26T17:36:55.305897800Z",
     "start_time": "2024-01-26T17:35:52.811900100Z"
    }
   },
   "id": "25a63464d6f5d895"
  },
  {
   "cell_type": "code",
   "execution_count": 15,
   "outputs": [],
   "source": [
    "# --- best\n",
    "kmeans = KMeans(n_clusters=best_value, init='k-means++', n_init=10, random_state=42)\n",
    "labels = kmeans.fit_predict(distance_matrix)\n",
    "offers_frame['Group'] = labels"
   ],
   "metadata": {
    "collapsed": false,
    "ExecuteTime": {
     "end_time": "2024-01-26T17:38:58.583027100Z",
     "start_time": "2024-01-26T17:38:58.510526700Z"
    }
   },
   "id": "fd722da2a8058599"
  },
  {
   "cell_type": "code",
   "execution_count": 16,
   "outputs": [],
   "source": [
    "def _similar_offers_with_cluster(offer_id: int) -> list:\n",
    "    target_group = offers_frame.loc[offer_id, 'Group']\n",
    "    return list(\n",
    "        offers_frame[\n",
    "            offers_frame['Group'] == target_group\n",
    "        ].index\n",
    "    )\n",
    "\n",
    "def similar_offers_with_cluster(offer_id: int) -> list:\n",
    "    return [offers_frame.iloc[oid] for oid in _similar_offers_with_cluster(offer_id)]"
   ],
   "metadata": {
    "collapsed": false,
    "ExecuteTime": {
     "end_time": "2024-01-26T17:38:59.378527200Z",
     "start_time": "2024-01-26T17:38:59.352027600Z"
    }
   },
   "id": "579f7329f81d3374"
  },
  {
   "cell_type": "code",
   "execution_count": 17,
   "outputs": [
    {
     "name": "stdout",
     "output_type": "stream",
     "text": [
      "Offers Similar to Frontend:\n",
      "\n",
      "0> Senior Software Developer : {0, 1, 3, 99, 6, 7, 104, 55, 57, 26}\n",
      "1> Frontend : {0, 1, 99}\n",
      "2> JUNIOR DEVELOPER : {0, 1, 99, 3, 7, 42, 57}\n",
      "3> Front-End - App Developer : {0, 65, 100, 4, 68, 103, 41, 44, 17, 26, 30, 31}\n",
      "4> Full Stack Developer : {0, 2, 3, 100, 99, 73, 41, 78, 18, 19, 84, 52, 30}\n",
      "5> L4 Software Developer Apprentice : {0, 1, 99, 100, 9, 10, 12}\n",
      "6> Frontend Software Developer : {0, 1, 99, 5, 41, 44}\n",
      "7> Senior Software Developer : {0, 57, 7, 41}\n",
      "8> Graduate Software Engineer (London) : {0, 1, 99, 6, 9, 30, 31}\n",
      "9> Software Developer : {0, 1, 99, 3, 4, 7, 57}\n",
      "10> Front End Developer (100% Remote) : {0, 41, 12}\n",
      "11> Web Developer : {0, 4, 41, 10, 48, 53}\n",
      "12> Software Engineer (EU) - App Catalog : {0, 99, 100, 7, 41, 11, 80, 57, 31}\n",
      "13> Web Development Manager : {0, 1, 99, 10, 48}\n",
      "14> Freelance Web & UX Developer : {0, 1, 99, 10, 48}\n",
      "15> Middle+ Front-End Developer : {0, 68, 4, 41, 12, 78}\n",
      "16> General Node.js Engineer (Remote) : {0, 74, 70}\n",
      "17> Junior Web Developer : {0, 1, 99}\n",
      "18> Frontend Developer : {0, 41, 10, 12, 78}\n",
      "19> Web Developer Apprentice : {0, 1, 99, 9}\n",
      "20> Sviluppatore Web : {1, 99, 10, 48, 19}\n",
      "21> Sviluppatore Web - Middle/Senior : {0, 1, 99, 4, 41, 74, 10, 44, 48, 19, 53, 21}\n",
      "22> senior frontend developer : {0, 100, 68, 41, 44}\n",
      "23> Shopify Developer : {0, 1, 99, 100}\n",
      "24> Javascript Frontend : {0, 99, 44}\n",
      "25> FRONTEND DEVELOPER : {0, 1, 4, 42, 44, 55}\n",
      "26> WEB DEVELOPER - FULL STACK JUNIOR : {0, 3, 100, 104, 42, 10, 48, 19, 53, 55}\n",
      "27> FrontEnd Javascript : {0, 99, 44}\n",
      "28> Programmatore PHP Junior : {0, 1, 99, 3, 10}\n",
      "29> Backend Developer : {0, 1, 99, 100, 4, 73, 10, 44, 48, 19, 53, 21, 24, 93}\n",
      "30> JUNIOR DEVELOPER : {0, 1, 99, 102, 6, 41, 44, 14}\n",
      "31> Full Stack Developer : {0, 100, 104, 41, 42, 10, 19}\n",
      "32> Front End Developer Intern : {0, 1, 99, 41, 55}\n",
      "33> Junior Systems Administrator : {0, 1, 6, 104, 10, 19}\n",
      "34> SVILUPPATORE SOFTWARE : {0, 1, 99, 3, 39, 7, 44}\n",
      "35> Senior Developer : {0, 1, 99, 3, 42, 10, 18, 19, 21, 62}\n",
      "36> Middle Backend Engineer : {0, 4, 6, 41, 30}\n",
      "37> Software Quality Engineer : {0, 1, 99, 103}\n",
      "38> Software Engineer - Front-End F/H : {0, 1, 99, 31}\n",
      "39> Front-end Developer : {0, 1, 99}\n",
      "40> Front-end developer H/F : {0, 73, 100, 104}\n",
      "41> Frontend Developer : {0, 1, 32, 99, 100, 4, 73, 41, 80, 21, 24, 25, 62}\n",
      "42> Vue.js Frontend Developer M/F : {1, 99, 100, 78}\n",
      "43> Expert Javascript (vanilla) - Frontend developer - F/M : {0, 73, 99, 78}\n",
      "44> Internship - Software developer : {0, 1, 99, 100, 6, 104}\n",
      "45> Frontend Developer F/H : {1, 99, 100, 4, 73, 41, 84}\n",
      "46> Senior Frontend Developer [Western Europe] : {0, 36, 4, 41, 43, 12, 18, 23, 30}\n",
      "47> STAGE DÉVELOPPEUR WEB Full Stack : {0, 1, 99, 10, 19}\n",
      "48> Frontend Developer Typescript/ReactJS : {0, 99, 4, 12}\n",
      "49> Frontend developers : {0, 1, 99, 100, 4, 41, 44, 18, 19, 21}\n",
      "50> Frontend Developer : {0, 100, 41, 78, 48}\n",
      "51> Frontend - ReactJS [Freelance] : {0, 1, 32, 99, 41, 44, 56, 30}\n",
      "52> Frontend Developer - Kraken Technologies : {0, 1, 2, 68, 4, 41, 78, 52, 89}\n",
      "53> Desarrollador/a frontend : {0, 99, 4, 41, 44}\n",
      "54> Frontend Developer España : {32, 99, 100, 41, 44, 30, 31}\n",
      "55> FullStack JavaScript Developer : {0, 73, 74, 30}\n",
      "56> Senior Frontend Developer : {0, 41, 100}\n",
      "57> Frontend Developer (React) Freelance : {0, 1, 99, 73, 41, 18}\n",
      "58> Frontend Engineer, Patients Area (100% remote-friendly within Spain) : {0, 100, 4, 73, 41, 44, 12, 77, 78}\n",
      "59> Frontend Developer - Javascript : {0, 41, 6, 30}\n",
      "60> Frontend Angular+ React (Remote job) : {0, 41, 4, 44}\n",
      "61> Junior Backend Developer (Typescript) : {0, 4, 31}\n",
      "62> Backend developers : {0, 1, 2, 3, 100, 99, 6, 4, 10, 14, 19, 52, 53, 21, 85, 61, 30}\n",
      "63> Senior Backend Developer : {0, 1, 99, 100, 5, 19, 53}\n",
      "64> Backend Developer : {0, 99, 6, 10, 19}\n",
      "65> Junior Backend Developer - E-health Startup : {0, 4, 31}\n"
     ]
    }
   ],
   "source": [
    "# Frontend: {css, javascript, html}\n",
    "print(f'Offers Similar to {offers_frame.iloc[8][\"Name\"]}:\\n')\n",
    "for i, o in enumerate(similar_offers_with_cluster(8)):\n",
    "    print(f'{i}> {o[\"Name\"]} : {o[\"RequiredSkills\"]}')"
   ],
   "metadata": {
    "collapsed": false,
    "ExecuteTime": {
     "end_time": "2024-01-26T17:39:00.663528800Z",
     "start_time": "2024-01-26T17:39:00.561528200Z"
    }
   },
   "id": "bfffa324d864154d"
  },
  {
   "cell_type": "code",
   "execution_count": null,
   "outputs": [],
   "source": [],
   "metadata": {
    "collapsed": false
   },
   "id": "e2e100d8727fd2bf"
  }
 ],
 "metadata": {
  "kernelspec": {
   "display_name": "Python 3",
   "language": "python",
   "name": "python3"
  },
  "language_info": {
   "codemirror_mode": {
    "name": "ipython",
    "version": 2
   },
   "file_extension": ".py",
   "mimetype": "text/x-python",
   "name": "python",
   "nbconvert_exporter": "python",
   "pygments_lexer": "ipython2",
   "version": "2.7.6"
  }
 },
 "nbformat": 4,
 "nbformat_minor": 5
}
