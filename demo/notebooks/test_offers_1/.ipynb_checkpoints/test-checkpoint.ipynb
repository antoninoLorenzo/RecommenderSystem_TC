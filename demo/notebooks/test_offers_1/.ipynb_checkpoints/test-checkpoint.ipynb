{
 "cells": [
  {
   "cell_type": "code",
   "execution_count": 1,
   "id": "initial_id",
   "metadata": {
    "collapsed": true,
    "ExecuteTime": {
     "end_time": "2024-01-26T12:45:57.625241500Z",
     "start_time": "2024-01-26T12:45:57.575742100Z"
    }
   },
   "outputs": [],
   "source": [
    "import sqlite3\n",
    "import random\n",
    "from string import punctuation\n",
    "\n",
    "import pandas as pd\n",
    "import numpy as np\n",
    "from pandas.core.series import Series\n",
    "import matplotlib.pyplot as plt\n",
    "%matplotlib inline\n",
    "import seaborn as sns"
   ]
  },
  {
   "cell_type": "code",
   "execution_count": 2,
   "outputs": [],
   "source": [
    "offers_connection = sqlite3.connect('../../datasets/offers_dataset.db')\n",
    "offers_frame = pd.read_sql_query('''SELECT * FROM offers''', offers_connection)\n",
    "offers_connection.close()\n",
    "\n",
    "with sqlite3.connect('../../datasets/skills_dataset.db') as skills_connection:\n",
    "    skills_frame = pd.read_sql_query('SELECT * FROM skills', skills_connection)\n",
    "    skills_frame.set_index('ID', inplace=True)"
   ],
   "metadata": {
    "collapsed": false,
    "ExecuteTime": {
     "end_time": "2024-01-26T12:45:57.645241600Z",
     "start_time": "2024-01-26T12:45:57.618243300Z"
    }
   },
   "id": "15d7000a3b37f3ff"
  },
  {
   "cell_type": "code",
   "execution_count": 3,
   "outputs": [],
   "source": [
    "offers_frame.dropna(subset='Name',inplace=True)\n",
    "offers_frame.drop_duplicates(inplace=True)"
   ],
   "metadata": {
    "collapsed": false,
    "ExecuteTime": {
     "end_time": "2024-01-26T12:45:57.656242200Z",
     "start_time": "2024-01-26T12:45:57.641742Z"
    }
   },
   "id": "91a9d1877e212e8d"
  },
  {
   "cell_type": "code",
   "execution_count": 4,
   "outputs": [],
   "source": [
    "def remove_symbols(description: str, remove_map: dict) -> str:\n",
    "    \"\"\"\n",
    "    \"\"\"\n",
    "    for old, new in remove_map.items():\n",
    "        description = description.replace(old, new)\n",
    "    return description.lower()\n",
    "\n",
    "\n",
    "def extract_symbols(description: str, available_symbols: list) -> set:\n",
    "    s = set()\n",
    "    prev = ''\n",
    "    for word in description.split():\n",
    "        if word in available_symbols:\n",
    "            s.add(word)\n",
    "        elif f'{prev} {word}' in available_symbols:\n",
    "            s.add(f'{prev} {word}')  \n",
    "        prev = word\n",
    "    return s \n",
    "\n",
    "def translate_skills(skills: set, toId = False) -> set:\n",
    "    if toId:\n",
    "        return skill_to_id(skills)\n",
    "    else:\n",
    "        return id_to_skill(skills)\n",
    "\n",
    "def id_to_skill(skills: set[int]) -> set[str]:\n",
    "    out = set()\n",
    "    for skill in skills:\n",
    "        out.add(skills_frame.loc[skill, 'SKILL'])\n",
    "    \n",
    "    return out\n",
    "\n",
    "def skill_to_id(skills: set[str]) -> set[int]:\n",
    "    out = set()\n",
    "    for skill in skills:\n",
    "        out.add(\n",
    "            list(\n",
    "                skills_frame.loc[\n",
    "                    skills_frame['SKILL'].apply(lambda val: val.lower()) == skill.lower()\n",
    "                ].index\n",
    "            )[0]\n",
    "        )\n",
    "    \n",
    "    return out"
   ],
   "metadata": {
    "collapsed": false,
    "ExecuteTime": {
     "end_time": "2024-01-26T12:45:57.667241800Z",
     "start_time": "2024-01-26T12:45:57.655742400Z"
    }
   },
   "id": "411ce9eb7199b49f"
  },
  {
   "cell_type": "code",
   "execution_count": 5,
   "outputs": [],
   "source": [
    "# Get Skill list\n",
    "skills_list = [skill.lower() for skill in skills_frame['SKILL'].tolist()]\n",
    "\n",
    "# Symbols to remove\n",
    "punct = [p for p in punctuation]\n",
    "punct.remove('+')\n",
    "punct.remove('#')\n",
    "# punct.remove('.')\n",
    "\n",
    "removal = {p: ' ' for p in punct}\n",
    "removal['\\n'] = ''\n",
    "removal['/'] = ' '\n",
    "removal['('] = ' '\n",
    "removal[')'] = ' '\n",
    "removal[','] = ' '\n",
    "removal['>'] = ' '\n",
    "removal['.'] = ' .'"
   ],
   "metadata": {
    "collapsed": false,
    "ExecuteTime": {
     "end_time": "2024-01-26T12:45:57.677245100Z",
     "start_time": "2024-01-26T12:45:57.667241800Z"
    }
   },
   "id": "8c520e7daca7c8d5"
  },
  {
   "cell_type": "code",
   "execution_count": 6,
   "outputs": [
    {
     "data": {
      "text/plain": "                                                  Name  \\\n0                                   Software Developer   \n1                            Junior Software Developer   \n2                                   Software Developer   \n3                                   Software Developer   \n4                            Senior Software Developer   \n..                                                 ...   \n161  Senior Staff Product Engineer for Embedded Too...   \n162   Internship Engineer for Advanced Process Control   \n163                             DevOps Engineer Senior   \n164                          Software Quality Engineer   \n165                      Sr. Site Reliability Engineer   \n\n                                           Description            Location  \\\n0    Miniclip is a global leader in digital games w...     Genova, Liguria   \n1    NETtoWORK, azienda italiana nata nel 2016, ope...        17100 Savona   \n2    We are looking for talented and passionate peo...         55100 Lucca   \n3    ARESYS  is a R&D oriented company with nearly ...  Matera, Basilicata   \n4    Il/la Candidato/a dovrà padroneggiare: \\n \\n- ...    Catania, Sicilia   \n..                                                 ...                 ...   \n161  Do you want to be part of a new project team w...      Padova, Veneto   \n162  Internship Engineer for Advanced Process Contr...     Genova, Liguria   \n163  ARGO LOGICA società di consulenza informatica ...         Roma, Lazio   \n164  CentralReach is the #1 provider of SaaS softwa...        37121 Verona   \n165  CentralReach is the #1 provider of SaaS softwa...        37121 Verona   \n\n                           RequiredSkills  \n0                              {100, 101}  \n1                         {2, 6, 7, 8, 9}  \n2                       {0, 3, 6, 44, 26}  \n3                               {8, 9, 2}  \n4    {0, 1, 3, 99, 6, 7, 104, 55, 57, 26}  \n..                                    ...  \n161                                {8, 9}  \n162                            {8, 9, 12}  \n163                       {80, 73, 61, 6}  \n164                       {0, 1, 99, 103}  \n165       {2, 6, 104, 73, 12, 80, 89, 30}  \n\n[166 rows x 4 columns]",
      "text/html": "<div>\n<style scoped>\n    .dataframe tbody tr th:only-of-type {\n        vertical-align: middle;\n    }\n\n    .dataframe tbody tr th {\n        vertical-align: top;\n    }\n\n    .dataframe thead th {\n        text-align: right;\n    }\n</style>\n<table border=\"1\" class=\"dataframe\">\n  <thead>\n    <tr style=\"text-align: right;\">\n      <th></th>\n      <th>Name</th>\n      <th>Description</th>\n      <th>Location</th>\n      <th>RequiredSkills</th>\n    </tr>\n  </thead>\n  <tbody>\n    <tr>\n      <th>0</th>\n      <td>Software Developer</td>\n      <td>Miniclip is a global leader in digital games w...</td>\n      <td>Genova, Liguria</td>\n      <td>{100, 101}</td>\n    </tr>\n    <tr>\n      <th>1</th>\n      <td>Junior Software Developer</td>\n      <td>NETtoWORK, azienda italiana nata nel 2016, ope...</td>\n      <td>17100 Savona</td>\n      <td>{2, 6, 7, 8, 9}</td>\n    </tr>\n    <tr>\n      <th>2</th>\n      <td>Software Developer</td>\n      <td>We are looking for talented and passionate peo...</td>\n      <td>55100 Lucca</td>\n      <td>{0, 3, 6, 44, 26}</td>\n    </tr>\n    <tr>\n      <th>3</th>\n      <td>Software Developer</td>\n      <td>ARESYS  is a R&amp;D oriented company with nearly ...</td>\n      <td>Matera, Basilicata</td>\n      <td>{8, 9, 2}</td>\n    </tr>\n    <tr>\n      <th>4</th>\n      <td>Senior Software Developer</td>\n      <td>Il/la Candidato/a dovrà padroneggiare: \\n \\n- ...</td>\n      <td>Catania, Sicilia</td>\n      <td>{0, 1, 3, 99, 6, 7, 104, 55, 57, 26}</td>\n    </tr>\n    <tr>\n      <th>...</th>\n      <td>...</td>\n      <td>...</td>\n      <td>...</td>\n      <td>...</td>\n    </tr>\n    <tr>\n      <th>161</th>\n      <td>Senior Staff Product Engineer for Embedded Too...</td>\n      <td>Do you want to be part of a new project team w...</td>\n      <td>Padova, Veneto</td>\n      <td>{8, 9}</td>\n    </tr>\n    <tr>\n      <th>162</th>\n      <td>Internship Engineer for Advanced Process Control</td>\n      <td>Internship Engineer for Advanced Process Contr...</td>\n      <td>Genova, Liguria</td>\n      <td>{8, 9, 12}</td>\n    </tr>\n    <tr>\n      <th>163</th>\n      <td>DevOps Engineer Senior</td>\n      <td>ARGO LOGICA società di consulenza informatica ...</td>\n      <td>Roma, Lazio</td>\n      <td>{80, 73, 61, 6}</td>\n    </tr>\n    <tr>\n      <th>164</th>\n      <td>Software Quality Engineer</td>\n      <td>CentralReach is the #1 provider of SaaS softwa...</td>\n      <td>37121 Verona</td>\n      <td>{0, 1, 99, 103}</td>\n    </tr>\n    <tr>\n      <th>165</th>\n      <td>Sr. Site Reliability Engineer</td>\n      <td>CentralReach is the #1 provider of SaaS softwa...</td>\n      <td>37121 Verona</td>\n      <td>{2, 6, 104, 73, 12, 80, 89, 30}</td>\n    </tr>\n  </tbody>\n</table>\n<p>166 rows × 4 columns</p>\n</div>"
     },
     "execution_count": 6,
     "metadata": {},
     "output_type": "execute_result"
    }
   ],
   "source": [
    "required_skills = [] \n",
    "\n",
    "# Extract skills from descriptions and add new column\n",
    "for i, offer_description in enumerate(offers_frame.loc[:, 'Description']):\n",
    "    desc = remove_symbols(offer_description, removal)\n",
    "    offer_skills = extract_symbols(desc, skills_list)\n",
    "    required_skills.append(translate_skills(offer_skills, toId=True))  \n",
    "    #required_skills.append(offer_skills)\n",
    "offers_frame.insert(len(offers_frame.columns), \"RequiredSkills\", required_skills)\n",
    "\n",
    "# Remove offers with no required skills\n",
    "offers_frame['RequiredSkills'] = offers_frame['RequiredSkills'].apply(lambda x: np.NaN if not x else x)\n",
    "offers_frame.dropna(subset='RequiredSkills', inplace=True)\n",
    "offers_frame.reset_index(drop=True, inplace=True)\n",
    "offers_frame"
   ],
   "metadata": {
    "collapsed": false,
    "ExecuteTime": {
     "end_time": "2024-01-26T12:45:58.074742200Z",
     "start_time": "2024-01-26T12:45:57.675743600Z"
    }
   },
   "id": "19d237c083867bcf"
  },
  {
   "cell_type": "markdown",
   "source": [
    "### Jaccard Distance"
   ],
   "metadata": {
    "collapsed": false
   },
   "id": "65686f15a552c9d2"
  },
  {
   "cell_type": "code",
   "execution_count": 7,
   "outputs": [],
   "source": [
    "def _jaccard(s1: set, s2: set):\n",
    "    return 1 - (len(s1.intersection(s2)) / len(s1.union(s2)))\n",
    "\n",
    "def jaccard(row1: Series, row2: Series, col_name: str):\n",
    "    if row1.keys().values is not row2.keys().values:\n",
    "        raise ValueError(f'Rows have different columns: {row1.keys()} vs {row2.keys()}')   \n",
    "    if col_name not in row1.keys() or col_name not in row2.keys():\n",
    "        raise ValueError(f'Invalid Column Name {col_name}')  \n",
    "    return _jaccard(row1[col_name], row2[col_name])"
   ],
   "metadata": {
    "collapsed": false,
    "ExecuteTime": {
     "end_time": "2024-01-26T12:45:58.077741800Z",
     "start_time": "2024-01-26T12:45:58.071241700Z"
    }
   },
   "id": "40d65ca6e1325e4e"
  },
  {
   "cell_type": "code",
   "execution_count": 8,
   "outputs": [
    {
     "name": "stdout",
     "output_type": "stream",
     "text": [
      "Distance between Frontend and Frontend: 0.00\n",
      " {0, 1, 99} and {0, 1, 99}\n",
      "Distance between Frontend and Software Developer Degree Apprenticeship (Nottingham): 1.00\n",
      " {0, 1, 99} and {6, 7, 9, 57, 30}\n",
      "Distance between Sistemista Junior - System Administrator and DevOps Engineer Senior: 0.86\n",
      " {104, 3, 6, 39} and {80, 73, 61, 6}\n"
     ]
    }
   ],
   "source": [
    "# Examples\n",
    "r1 = offers_frame.loc[8, :]\n",
    "r2 = offers_frame.loc[37, :]\n",
    "r3 = offers_frame.loc[random.randint(0, len(offers_frame))]\n",
    "r4 = offers_frame.loc[random.randint(0, len(offers_frame))]\n",
    "\n",
    "print(f'Distance between {r1[\"Name\"]} and {r1[\"Name\"]}: {jaccard(r1, r1, \"RequiredSkills\"):.2f}\\n {r1[\"RequiredSkills\"]} and {r1[\"RequiredSkills\"]}')\n",
    "print(f'Distance between {r1[\"Name\"]} and {r2[\"Name\"]}: {jaccard(r1, r2, \"RequiredSkills\"):.2f}\\n {r1[\"RequiredSkills\"]} and {r2[\"RequiredSkills\"]}')\n",
    "print(f'Distance between {r3[\"Name\"]} and {r4[\"Name\"]}: {jaccard(r3, r4, \"RequiredSkills\"):.2f}\\n {r3[\"RequiredSkills\"]} and {r4[\"RequiredSkills\"]}')"
   ],
   "metadata": {
    "collapsed": false,
    "ExecuteTime": {
     "end_time": "2024-01-26T12:45:58.092242300Z",
     "start_time": "2024-01-26T12:45:58.078741300Z"
    }
   },
   "id": "44ac4f250c9e3328"
  },
  {
   "cell_type": "markdown",
   "source": [
    "## Distance Matrix"
   ],
   "metadata": {
    "collapsed": false
   },
   "id": "6e2dc81d861b9de5"
  },
  {
   "cell_type": "code",
   "execution_count": 9,
   "outputs": [],
   "source": [
    "def get_distance_matrix(frame: pd.DataFrame, col_name: str):\n",
    "    distances = []\n",
    "    for i, row1 in frame.iterrows():\n",
    "        distances.append([])\n",
    "        for j, row2 in frame.iterrows():\n",
    "            if i != j:\n",
    "                distances[-1].append(_jaccard(row1[col_name], row2[col_name]))\n",
    "            else:\n",
    "                distances[-1].append(0)#np.inf) \n",
    "    return pd.DataFrame(distances, index=frame.index, columns=frame.index)\n",
    "\n",
    "distance_matrix = get_distance_matrix(offers_frame, 'RequiredSkills')"
   ],
   "metadata": {
    "collapsed": false,
    "ExecuteTime": {
     "end_time": "2024-01-26T12:45:59.920742Z",
     "start_time": "2024-01-26T12:45:58.087760400Z"
    }
   },
   "id": "b78ec64713866285"
  },
  {
   "cell_type": "code",
   "execution_count": 10,
   "outputs": [
    {
     "data": {
      "text/plain": "     0         1         2         3         4         5         6    \\\n0    0.0  1.000000  1.000000  1.000000  1.000000  1.000000  1.000000   \n1    1.0  0.000000  0.888889  0.400000  0.846154  0.833333  0.600000   \n2    1.0  0.888889  0.000000  1.000000  0.636364  0.833333  0.833333   \n3    1.0  0.400000  1.000000  0.000000  1.000000  1.000000  0.750000   \n4    1.0  0.846154  0.636364  1.000000  0.000000  0.800000  0.909091   \n..   ...       ...       ...       ...       ...       ...       ...   \n161  1.0  0.600000  1.000000  0.333333  1.000000  1.000000  1.000000   \n162  1.0  0.666667  1.000000  0.500000  1.000000  1.000000  1.000000   \n163  1.0  0.875000  0.875000  1.000000  0.923077  0.800000  0.800000   \n164  1.0  1.000000  0.875000  1.000000  0.727273  1.000000  1.000000   \n165  1.0  0.818182  0.916667  0.900000  0.875000  0.888889  0.750000   \n\n          7         8         9    ...       156       157       158  \\\n0    0.666667  1.000000  1.000000  ...  1.000000  0.857143  0.916667   \n1    1.000000  1.000000  0.833333  ...  0.923077  1.000000  0.933333   \n2    1.000000  0.857143  0.833333  ...  0.923077  1.000000  1.000000   \n3    1.000000  1.000000  1.000000  ...  0.909091  1.000000  0.923077   \n4    1.000000  0.700000  0.909091  ...  0.882353  0.933333  0.950000   \n..        ...       ...       ...  ...       ...       ...       ...   \n161  1.000000  1.000000  1.000000  ...  1.000000  1.000000  1.000000   \n162  1.000000  1.000000  1.000000  ...  1.000000  1.000000  1.000000   \n163  1.000000  1.000000  0.800000  ...  0.818182  0.888889  0.928571   \n164  1.000000  0.250000  1.000000  ...  0.916667  1.000000  1.000000   \n165  1.000000  1.000000  0.888889  ...  0.583333  0.600000  0.642857   \n\n          159       160       161       162       163       164       165  \n0    1.000000  1.000000  1.000000  1.000000  1.000000  1.000000  1.000000  \n1    0.857143  0.846154  0.600000  0.666667  0.875000  1.000000  0.818182  \n2    0.857143  0.846154  1.000000  1.000000  0.875000  0.875000  0.916667  \n3    0.800000  0.916667  0.333333  0.500000  1.000000  1.000000  0.900000  \n4    0.916667  0.750000  1.000000  1.000000  0.923077  0.727273  0.875000  \n..        ...       ...       ...       ...       ...       ...       ...  \n161  1.000000  1.000000  0.000000  0.333333  1.000000  1.000000  1.000000  \n162  1.000000  1.000000  0.333333  0.000000  1.000000  1.000000  0.900000  \n163  1.000000  0.833333  1.000000  1.000000  0.000000  1.000000  0.666667  \n164  1.000000  1.000000  1.000000  1.000000  1.000000  0.000000  1.000000  \n165  0.900000  0.500000  1.000000  0.900000  0.666667  1.000000  0.000000  \n\n[166 rows x 166 columns]",
      "text/html": "<div>\n<style scoped>\n    .dataframe tbody tr th:only-of-type {\n        vertical-align: middle;\n    }\n\n    .dataframe tbody tr th {\n        vertical-align: top;\n    }\n\n    .dataframe thead th {\n        text-align: right;\n    }\n</style>\n<table border=\"1\" class=\"dataframe\">\n  <thead>\n    <tr style=\"text-align: right;\">\n      <th></th>\n      <th>0</th>\n      <th>1</th>\n      <th>2</th>\n      <th>3</th>\n      <th>4</th>\n      <th>5</th>\n      <th>6</th>\n      <th>7</th>\n      <th>8</th>\n      <th>9</th>\n      <th>...</th>\n      <th>156</th>\n      <th>157</th>\n      <th>158</th>\n      <th>159</th>\n      <th>160</th>\n      <th>161</th>\n      <th>162</th>\n      <th>163</th>\n      <th>164</th>\n      <th>165</th>\n    </tr>\n  </thead>\n  <tbody>\n    <tr>\n      <th>0</th>\n      <td>0.0</td>\n      <td>1.000000</td>\n      <td>1.000000</td>\n      <td>1.000000</td>\n      <td>1.000000</td>\n      <td>1.000000</td>\n      <td>1.000000</td>\n      <td>0.666667</td>\n      <td>1.000000</td>\n      <td>1.000000</td>\n      <td>...</td>\n      <td>1.000000</td>\n      <td>0.857143</td>\n      <td>0.916667</td>\n      <td>1.000000</td>\n      <td>1.000000</td>\n      <td>1.000000</td>\n      <td>1.000000</td>\n      <td>1.000000</td>\n      <td>1.000000</td>\n      <td>1.000000</td>\n    </tr>\n    <tr>\n      <th>1</th>\n      <td>1.0</td>\n      <td>0.000000</td>\n      <td>0.888889</td>\n      <td>0.400000</td>\n      <td>0.846154</td>\n      <td>0.833333</td>\n      <td>0.600000</td>\n      <td>1.000000</td>\n      <td>1.000000</td>\n      <td>0.833333</td>\n      <td>...</td>\n      <td>0.923077</td>\n      <td>1.000000</td>\n      <td>0.933333</td>\n      <td>0.857143</td>\n      <td>0.846154</td>\n      <td>0.600000</td>\n      <td>0.666667</td>\n      <td>0.875000</td>\n      <td>1.000000</td>\n      <td>0.818182</td>\n    </tr>\n    <tr>\n      <th>2</th>\n      <td>1.0</td>\n      <td>0.888889</td>\n      <td>0.000000</td>\n      <td>1.000000</td>\n      <td>0.636364</td>\n      <td>0.833333</td>\n      <td>0.833333</td>\n      <td>1.000000</td>\n      <td>0.857143</td>\n      <td>0.833333</td>\n      <td>...</td>\n      <td>0.923077</td>\n      <td>1.000000</td>\n      <td>1.000000</td>\n      <td>0.857143</td>\n      <td>0.846154</td>\n      <td>1.000000</td>\n      <td>1.000000</td>\n      <td>0.875000</td>\n      <td>0.875000</td>\n      <td>0.916667</td>\n    </tr>\n    <tr>\n      <th>3</th>\n      <td>1.0</td>\n      <td>0.400000</td>\n      <td>1.000000</td>\n      <td>0.000000</td>\n      <td>1.000000</td>\n      <td>1.000000</td>\n      <td>0.750000</td>\n      <td>1.000000</td>\n      <td>1.000000</td>\n      <td>1.000000</td>\n      <td>...</td>\n      <td>0.909091</td>\n      <td>1.000000</td>\n      <td>0.923077</td>\n      <td>0.800000</td>\n      <td>0.916667</td>\n      <td>0.333333</td>\n      <td>0.500000</td>\n      <td>1.000000</td>\n      <td>1.000000</td>\n      <td>0.900000</td>\n    </tr>\n    <tr>\n      <th>4</th>\n      <td>1.0</td>\n      <td>0.846154</td>\n      <td>0.636364</td>\n      <td>1.000000</td>\n      <td>0.000000</td>\n      <td>0.800000</td>\n      <td>0.909091</td>\n      <td>1.000000</td>\n      <td>0.700000</td>\n      <td>0.909091</td>\n      <td>...</td>\n      <td>0.882353</td>\n      <td>0.933333</td>\n      <td>0.950000</td>\n      <td>0.916667</td>\n      <td>0.750000</td>\n      <td>1.000000</td>\n      <td>1.000000</td>\n      <td>0.923077</td>\n      <td>0.727273</td>\n      <td>0.875000</td>\n    </tr>\n    <tr>\n      <th>...</th>\n      <td>...</td>\n      <td>...</td>\n      <td>...</td>\n      <td>...</td>\n      <td>...</td>\n      <td>...</td>\n      <td>...</td>\n      <td>...</td>\n      <td>...</td>\n      <td>...</td>\n      <td>...</td>\n      <td>...</td>\n      <td>...</td>\n      <td>...</td>\n      <td>...</td>\n      <td>...</td>\n      <td>...</td>\n      <td>...</td>\n      <td>...</td>\n      <td>...</td>\n      <td>...</td>\n    </tr>\n    <tr>\n      <th>161</th>\n      <td>1.0</td>\n      <td>0.600000</td>\n      <td>1.000000</td>\n      <td>0.333333</td>\n      <td>1.000000</td>\n      <td>1.000000</td>\n      <td>1.000000</td>\n      <td>1.000000</td>\n      <td>1.000000</td>\n      <td>1.000000</td>\n      <td>...</td>\n      <td>1.000000</td>\n      <td>1.000000</td>\n      <td>1.000000</td>\n      <td>1.000000</td>\n      <td>1.000000</td>\n      <td>0.000000</td>\n      <td>0.333333</td>\n      <td>1.000000</td>\n      <td>1.000000</td>\n      <td>1.000000</td>\n    </tr>\n    <tr>\n      <th>162</th>\n      <td>1.0</td>\n      <td>0.666667</td>\n      <td>1.000000</td>\n      <td>0.500000</td>\n      <td>1.000000</td>\n      <td>1.000000</td>\n      <td>1.000000</td>\n      <td>1.000000</td>\n      <td>1.000000</td>\n      <td>1.000000</td>\n      <td>...</td>\n      <td>1.000000</td>\n      <td>1.000000</td>\n      <td>1.000000</td>\n      <td>1.000000</td>\n      <td>1.000000</td>\n      <td>0.333333</td>\n      <td>0.000000</td>\n      <td>1.000000</td>\n      <td>1.000000</td>\n      <td>0.900000</td>\n    </tr>\n    <tr>\n      <th>163</th>\n      <td>1.0</td>\n      <td>0.875000</td>\n      <td>0.875000</td>\n      <td>1.000000</td>\n      <td>0.923077</td>\n      <td>0.800000</td>\n      <td>0.800000</td>\n      <td>1.000000</td>\n      <td>1.000000</td>\n      <td>0.800000</td>\n      <td>...</td>\n      <td>0.818182</td>\n      <td>0.888889</td>\n      <td>0.928571</td>\n      <td>1.000000</td>\n      <td>0.833333</td>\n      <td>1.000000</td>\n      <td>1.000000</td>\n      <td>0.000000</td>\n      <td>1.000000</td>\n      <td>0.666667</td>\n    </tr>\n    <tr>\n      <th>164</th>\n      <td>1.0</td>\n      <td>1.000000</td>\n      <td>0.875000</td>\n      <td>1.000000</td>\n      <td>0.727273</td>\n      <td>1.000000</td>\n      <td>1.000000</td>\n      <td>1.000000</td>\n      <td>0.250000</td>\n      <td>1.000000</td>\n      <td>...</td>\n      <td>0.916667</td>\n      <td>1.000000</td>\n      <td>1.000000</td>\n      <td>1.000000</td>\n      <td>1.000000</td>\n      <td>1.000000</td>\n      <td>1.000000</td>\n      <td>1.000000</td>\n      <td>0.000000</td>\n      <td>1.000000</td>\n    </tr>\n    <tr>\n      <th>165</th>\n      <td>1.0</td>\n      <td>0.818182</td>\n      <td>0.916667</td>\n      <td>0.900000</td>\n      <td>0.875000</td>\n      <td>0.888889</td>\n      <td>0.750000</td>\n      <td>1.000000</td>\n      <td>1.000000</td>\n      <td>0.888889</td>\n      <td>...</td>\n      <td>0.583333</td>\n      <td>0.600000</td>\n      <td>0.642857</td>\n      <td>0.900000</td>\n      <td>0.500000</td>\n      <td>1.000000</td>\n      <td>0.900000</td>\n      <td>0.666667</td>\n      <td>1.000000</td>\n      <td>0.000000</td>\n    </tr>\n  </tbody>\n</table>\n<p>166 rows × 166 columns</p>\n</div>"
     },
     "execution_count": 10,
     "metadata": {},
     "output_type": "execute_result"
    }
   ],
   "source": [
    "distance_matrix"
   ],
   "metadata": {
    "collapsed": false,
    "ExecuteTime": {
     "end_time": "2024-01-26T12:45:59.969242600Z",
     "start_time": "2024-01-26T12:45:59.924244Z"
    }
   },
   "id": "c1bb44fc024c26d4"
  },
  {
   "cell_type": "markdown",
   "source": [
    "**Distance matrix based recommendation**"
   ],
   "metadata": {
    "collapsed": false
   },
   "id": "8c4fc83782afb32b"
  },
  {
   "cell_type": "code",
   "execution_count": 11,
   "outputs": [],
   "source": [
    "def similar_offers(offer_id: int, threshold: float = 0.6) -> list:\n",
    "    similar = []\n",
    "    for item_id, distance in distance_matrix.iloc[offer_id].sort_values()[offer_id:].items():\n",
    "        if distance > threshold:\n",
    "            break\n",
    "        similar.append(offers_frame.iloc[item_id])\n",
    "    return similar"
   ],
   "metadata": {
    "collapsed": false,
    "ExecuteTime": {
     "end_time": "2024-01-26T12:45:59.969742400Z",
     "start_time": "2024-01-26T12:45:59.948744Z"
    }
   },
   "id": "fa9ec9359ae3b81c"
  },
  {
   "cell_type": "code",
   "execution_count": 12,
   "outputs": [
    {
     "name": "stdout",
     "output_type": "stream",
     "text": [
      "Offers Similar to Junior Software Developer:\n",
      "\n",
      "0> Cyber Security Analyst - Undergraduate : {9, 2, 6}\n",
      "1> Software Developer : {8, 9, 2}\n",
      "2> Energy Harvesting Internship – Starting Summer 2024 : {8, 9, 2}\n",
      "3> Computer Vision Alorithm / SW Engineer : {8, 9, 2}\n",
      "4> Software Engineer : {8, 9, 6}\n",
      "5> System Software Engineer, Summer Intern - 2024 Start (Fixed-Term Contract) : {2, 6, 104, 9, 8, 13}\n",
      "6> Manufacturing Software Engineer / Relocation USA : {2, 3, 6, 7, 8, 19}\n",
      "7> Software Engineer (University Grad) : {0, 8, 2, 6}\n",
      "8> Cyber Threat Intelligence Analyst : {9, 2, 12, 6}\n",
      "9> Software Application Engineer Intern : {104, 8, 6, 7}\n",
      "10> Control System Engineer : {8, 9, 2, 63}\n",
      "11> Software Developer - FULL REMOTE : {2, 6, 7, 30, 31}\n",
      "12> Software Developer Degree Apprenticeship (Nottingham) : {6, 7, 9, 57, 30}\n",
      "13> Emerging Threats Intelligence Intern (Remote) : {7, 8, 9, 43, 13}\n",
      "14> Senior Staff Product Engineer for Embedded Tools (f/m/div) : {8, 9}\n",
      "15> 2024 Intern - Software Development Engineering : {8, 6}\n",
      "16> IBP Junior Algorithms Software Development : {2, 6}\n"
     ]
    }
   ],
   "source": [
    "# Junior Software Developer: {c++, java, python, c, c#}\n",
    "print(f'Offers Similar to {offers_frame.iloc[1][\"Name\"]}:\\n')\n",
    "for i, o in enumerate(similar_offers(1)):\n",
    "    print(f'{i}> {o[\"Name\"]} : {o[\"RequiredSkills\"]}')"
   ],
   "metadata": {
    "collapsed": false,
    "ExecuteTime": {
     "end_time": "2024-01-26T12:45:59.970744Z",
     "start_time": "2024-01-26T12:45:59.956742200Z"
    }
   },
   "id": "333bf76f3f195b1c"
  },
  {
   "cell_type": "code",
   "execution_count": 13,
   "outputs": [
    {
     "name": "stdout",
     "output_type": "stream",
     "text": [
      "Offers Similar to Frontend:\n",
      "\n",
      "0> Freelance Web & UX Developer : {0, 1, 99, 10, 48}\n",
      "1> Frontend Software Developer : {0, 1, 99, 5, 41, 44}\n",
      "2> Javascript Frontend : {0, 99, 44}\n",
      "3> FrontEnd Javascript : {0, 99, 44}\n",
      "4> JUNIOR DEVELOPER : {0, 1, 3, 99, 7, 42, 57}\n",
      "5> Software Developer : {0, 1, 3, 4, 99, 7, 57}\n",
      "6> Graduate Software Engineer (London) : {0, 1, 99, 6, 9, 30, 31}\n",
      "7> L4 Software Developer Apprentice : {0, 1, 99, 100, 9, 10, 12}\n",
      "8> SVILUPPATORE SOFTWARE : {0, 1, 3, 99, 39, 7, 44}\n",
      "9> Martech Analyst : {0, 1, 2, 3}\n"
     ]
    }
   ],
   "source": [
    "# Frontend: {css, javascript, html}\n",
    "print(f'Offers Similar to {offers_frame.iloc[8][\"Name\"]}:\\n')\n",
    "for i, o in enumerate(similar_offers(8)):\n",
    "    print(f'{i}> {o[\"Name\"]} : {o[\"RequiredSkills\"]}')"
   ],
   "metadata": {
    "collapsed": false,
    "ExecuteTime": {
     "end_time": "2024-01-26T12:45:59.992742600Z",
     "start_time": "2024-01-26T12:45:59.966244200Z"
    }
   },
   "id": "3c8dc191219cc2b4"
  },
  {
   "cell_type": "markdown",
   "source": [
    "**Clustering based recommendation**"
   ],
   "metadata": {
    "collapsed": false
   },
   "id": "6275ffe84720f62d"
  },
  {
   "cell_type": "code",
   "execution_count": 14,
   "outputs": [
    {
     "name": "stderr",
     "output_type": "stream",
     "text": [
      "C:\\Users\\anton\\AppData\\Local\\Programs\\Python\\Python311\\Lib\\site-packages\\sklearn\\cluster\\_kmeans.py:1412: FutureWarning: The default value of `n_init` will change from 10 to 'auto' in 1.4. Set the value of `n_init` explicitly to suppress the warning\n",
      "  super()._check_params_vs_input(X, default_n_init=10)\n",
      "C:\\Users\\anton\\AppData\\Local\\Programs\\Python\\Python311\\Lib\\site-packages\\joblib\\externals\\loky\\backend\\context.py:136: UserWarning: Could not find the number of physical cores for the following reason:\n",
      "[WinError 2] Impossibile trovare il file specificato\n",
      "Returning the number of logical cores instead. You can silence this warning by setting LOKY_MAX_CPU_COUNT to the number of cores you want to use.\n",
      "  warnings.warn(\n",
      "  File \"C:\\Users\\anton\\AppData\\Local\\Programs\\Python\\Python311\\Lib\\site-packages\\joblib\\externals\\loky\\backend\\context.py\", line 257, in _count_physical_cores\n",
      "    cpu_info = subprocess.run(\n",
      "               ^^^^^^^^^^^^^^^\n",
      "  File \"C:\\Users\\anton\\AppData\\Local\\Programs\\Python\\Python311\\Lib\\subprocess.py\", line 548, in run\n",
      "    with Popen(*popenargs, **kwargs) as process:\n",
      "         ^^^^^^^^^^^^^^^^^^^^^^^^^^^\n",
      "  File \"C:\\Users\\anton\\AppData\\Local\\Programs\\Python\\Python311\\Lib\\subprocess.py\", line 1026, in __init__\n",
      "    self._execute_child(args, executable, preexec_fn, close_fds,\n",
      "  File \"C:\\Users\\anton\\AppData\\Local\\Programs\\Python\\Python311\\Lib\\subprocess.py\", line 1538, in _execute_child\n",
      "    hp, ht, pid, tid = _winapi.CreateProcess(executable, args,\n",
      "                       ^^^^^^^^^^^^^^^^^^^^^^^^^^^^^^^^^^^^^^^\n"
     ]
    }
   ],
   "source": [
    "from sklearn.cluster import KMeans\n",
    "\n",
    "kmeans = KMeans(n_clusters=4, init='k-means++', random_state=42)\n",
    "labels = kmeans.fit_predict(distance_matrix)\n",
    "offers_frame['Group'] = labels"
   ],
   "metadata": {
    "collapsed": false,
    "ExecuteTime": {
     "end_time": "2024-01-26T12:46:02.732743600Z",
     "start_time": "2024-01-26T12:45:59.972242900Z"
    }
   },
   "id": "4a4c4b72b927f837"
  },
  {
   "cell_type": "code",
   "execution_count": 15,
   "outputs": [],
   "source": [
    "def _similar_offers_with_cluster(offer_id: int) -> list:\n",
    "    target_group = offers_frame.loc[offer_id, 'Group']\n",
    "    return list(\n",
    "        offers_frame[\n",
    "            offers_frame['Group'] == target_group\n",
    "        ].index\n",
    "    )\n",
    "\n",
    "def similar_offers_with_cluster(offer_id: int) -> list:\n",
    "    return [offers_frame.iloc[oid] for oid in _similar_offers_with_cluster(offer_id)]"
   ],
   "metadata": {
    "collapsed": false,
    "ExecuteTime": {
     "end_time": "2024-01-26T12:46:02.747241300Z",
     "start_time": "2024-01-26T12:46:02.736248200Z"
    }
   },
   "id": "cddb3d23cb3c8de4"
  },
  {
   "cell_type": "code",
   "execution_count": 16,
   "outputs": [
    {
     "name": "stdout",
     "output_type": "stream",
     "text": [
      "Offers Similar to Junior Software Developer:\n",
      "\n",
      "0> Junior Software Developer : {2, 6, 7, 8, 9}\n",
      "1> Software Developer : {8, 9, 2}\n",
      "2> IBP Junior Algorithms Software Development : {2, 6}\n",
      "3> Software Engineer : {8, 9, 6}\n",
      "4> System Software Engineer, Summer Intern - 2024 Start (Fixed-Term Contract) : {2, 6, 104, 9, 8, 13}\n",
      "5> Emerging Threats Intelligence Intern (Remote) : {7, 8, 9, 43, 13}\n",
      "6> Cyber Security Analyst - Undergraduate : {9, 2, 6}\n",
      "7> Energy Harvesting Internship – Starting Summer 2024 : {8, 9, 2}\n",
      "8> Software Engineer (University Grad) : {0, 8, 2, 6}\n",
      "9> Electrochemical Modelling - Energy Storage Internship – Starting Summer 2024 (12 months) : {2}\n",
      "10> Macro Research Analyst and Associate Internship 2024 London : {2}\n",
      "11> 2024 Intern - Software Development Engineering : {8, 6}\n",
      "12> Network Production Engineer : {8, 2, 13}\n",
      "13> AI Developer - MILANO [DIG] : {2, 67, 6, 8, 21, 31, 63}\n",
      "14> Control System Engineer : {8, 9, 2, 63}\n",
      "15> Computer Vision Alorithm / SW Engineer : {8, 9, 2}\n",
      "16> DATA SCIENTIST : {2}\n",
      "17> Backend Engineer : {2}\n",
      "18> Cybersecurity Analyst : {2, 5}\n",
      "19> Cyber Threat Intelligence Analyst : {9, 2, 12, 6}\n",
      "20> Python Developer/DevOps Engineer : {80, 9, 2, 4}\n",
      "21> Senior Staff Product Engineer for Embedded Tools (f/m/div) : {8, 9}\n",
      "22> Internship Engineer for Advanced Process Control : {8, 9, 12}\n"
     ]
    }
   ],
   "source": [
    "# Junior Software Developer: {c++, java, python, c, c#}\n",
    "print(f'Offers Similar to {offers_frame.iloc[1][\"Name\"]}:\\n')\n",
    "for i, o in enumerate(similar_offers_with_cluster(1)):\n",
    "    print(f'{i}> {o[\"Name\"]} : {o[\"RequiredSkills\"]}')"
   ],
   "metadata": {
    "collapsed": false,
    "ExecuteTime": {
     "end_time": "2024-01-26T12:46:02.825242400Z",
     "start_time": "2024-01-26T12:46:02.741744500Z"
    }
   },
   "id": "346f33c7a6e0c0b3"
  },
  {
   "cell_type": "code",
   "execution_count": 17,
   "outputs": [
    {
     "name": "stdout",
     "output_type": "stream",
     "text": [
      "Offers Similar to Frontend:\n",
      "\n",
      "0> Senior Software Developer : {0, 1, 3, 99, 6, 7, 104, 55, 57, 26}\n",
      "1> Frontend : {0, 1, 99}\n",
      "2> JUNIOR DEVELOPER : {0, 1, 3, 99, 7, 42, 57}\n",
      "3> L4 Software Developer Apprentice : {0, 1, 99, 100, 9, 10, 12}\n",
      "4> Frontend Software Developer : {0, 1, 99, 5, 41, 44}\n",
      "5> Senior Software Developer : {0, 57, 41, 7}\n",
      "6> Graduate Software Engineer (London) : {0, 1, 99, 6, 9, 30, 31}\n",
      "7> Software Developer : {0, 1, 3, 4, 99, 7, 57}\n",
      "8> Front End Developer (100% Remote) : {0, 41, 12}\n",
      "9> Software Developer : {1, 10, 103}\n",
      "10> Web Developer : {0, 4, 41, 10, 48, 53}\n",
      "11> Software Engineer (EU) - App Catalog : {0, 99, 100, 7, 41, 11, 80, 57, 31}\n",
      "12> Web Development Manager : {0, 1, 99, 10, 48}\n",
      "13> Freelance Web & UX Developer : {0, 1, 99, 10, 48}\n",
      "14> Junior Web Developer : {0, 1, 99}\n",
      "15> Frontend Developer : {0, 41, 10, 12, 78}\n",
      "16> Web Developer Apprentice : {0, 9, 99, 1}\n",
      "17> Sviluppatore Web : {1, 99, 10, 48, 19}\n",
      "18> Sviluppatore Web - Middle/Senior : {0, 1, 99, 4, 41, 10, 74, 44, 48, 19, 53, 21}\n",
      "19> senior frontend developer : {0, 100, 68, 41, 44}\n",
      "20> Shopify Developer : {0, 1, 99, 100}\n",
      "21> Javascript Frontend : {0, 99, 44}\n",
      "22> FRONTEND DEVELOPER : {0, 1, 4, 42, 44, 55}\n",
      "23> WEB DEVELOPER - FULL STACK JUNIOR : {0, 3, 100, 104, 10, 42, 48, 19, 53, 55}\n",
      "24> FrontEnd Javascript : {0, 99, 44}\n",
      "25> Programmatore PHP Junior : {0, 1, 3, 99, 10}\n",
      "26> Backend Developer : {0, 1, 99, 4, 100, 73, 10, 44, 48, 19, 53, 21, 24, 93}\n",
      "27> JUNIOR DEVELOPER : {0, 1, 99, 6, 102, 41, 44, 14}\n",
      "28> Full Stack Developer : {0, 100, 104, 41, 10, 42, 19}\n",
      "29> Front End Developer Intern : {0, 1, 99, 41, 55}\n",
      "30> Junior Systems Administrator : {0, 1, 6, 104, 10, 19}\n",
      "31> SVILUPPATORE SOFTWARE : {0, 1, 3, 99, 39, 7, 44}\n",
      "32> Senior Developer : {0, 1, 3, 99, 10, 42, 18, 19, 21, 62}\n",
      "33> Software Quality Engineer : {0, 1, 99, 103}\n"
     ]
    }
   ],
   "source": [
    "# Frontend: {css, javascript, html}\n",
    "print(f'Offers Similar to {offers_frame.iloc[8][\"Name\"]}:\\n')\n",
    "for i, o in enumerate(similar_offers_with_cluster(8)):\n",
    "    print(f'{i}> {o[\"Name\"]} : {o[\"RequiredSkills\"]}')"
   ],
   "metadata": {
    "collapsed": false,
    "ExecuteTime": {
     "end_time": "2024-01-26T12:46:02.826242800Z",
     "start_time": "2024-01-26T12:46:02.756743Z"
    }
   },
   "id": "7d7fed77089c691c"
  },
  {
   "cell_type": "code",
   "execution_count": 18,
   "outputs": [
    {
     "data": {
      "text/plain": "                                                  Name  \\\n0                                   Software Developer   \n1                            Junior Software Developer   \n2                                   Software Developer   \n3                                   Software Developer   \n4                            Senior Software Developer   \n..                                                 ...   \n161  Senior Staff Product Engineer for Embedded Too...   \n162   Internship Engineer for Advanced Process Control   \n163                             DevOps Engineer Senior   \n164                          Software Quality Engineer   \n165                      Sr. Site Reliability Engineer   \n\n                                           Description            Location  \\\n0    Miniclip is a global leader in digital games w...     Genova, Liguria   \n1    NETtoWORK, azienda italiana nata nel 2016, ope...        17100 Savona   \n2    We are looking for talented and passionate peo...         55100 Lucca   \n3    ARESYS  is a R&D oriented company with nearly ...  Matera, Basilicata   \n4    Il/la Candidato/a dovrà padroneggiare: \\n \\n- ...    Catania, Sicilia   \n..                                                 ...                 ...   \n161  Do you want to be part of a new project team w...      Padova, Veneto   \n162  Internship Engineer for Advanced Process Contr...     Genova, Liguria   \n163  ARGO LOGICA società di consulenza informatica ...         Roma, Lazio   \n164  CentralReach is the #1 provider of SaaS softwa...        37121 Verona   \n165  CentralReach is the #1 provider of SaaS softwa...        37121 Verona   \n\n                           RequiredSkills  Group  \n0                              {100, 101}      1  \n1                         {2, 6, 7, 8, 9}      0  \n2                       {0, 3, 6, 44, 26}      2  \n3                               {8, 9, 2}      0  \n4    {0, 1, 3, 99, 6, 7, 104, 55, 57, 26}      3  \n..                                    ...    ...  \n161                                {8, 9}      0  \n162                            {8, 9, 12}      0  \n163                       {80, 73, 61, 6}      1  \n164                       {0, 1, 99, 103}      3  \n165       {2, 6, 104, 73, 12, 80, 89, 30}      1  \n\n[166 rows x 5 columns]",
      "text/html": "<div>\n<style scoped>\n    .dataframe tbody tr th:only-of-type {\n        vertical-align: middle;\n    }\n\n    .dataframe tbody tr th {\n        vertical-align: top;\n    }\n\n    .dataframe thead th {\n        text-align: right;\n    }\n</style>\n<table border=\"1\" class=\"dataframe\">\n  <thead>\n    <tr style=\"text-align: right;\">\n      <th></th>\n      <th>Name</th>\n      <th>Description</th>\n      <th>Location</th>\n      <th>RequiredSkills</th>\n      <th>Group</th>\n    </tr>\n  </thead>\n  <tbody>\n    <tr>\n      <th>0</th>\n      <td>Software Developer</td>\n      <td>Miniclip is a global leader in digital games w...</td>\n      <td>Genova, Liguria</td>\n      <td>{100, 101}</td>\n      <td>1</td>\n    </tr>\n    <tr>\n      <th>1</th>\n      <td>Junior Software Developer</td>\n      <td>NETtoWORK, azienda italiana nata nel 2016, ope...</td>\n      <td>17100 Savona</td>\n      <td>{2, 6, 7, 8, 9}</td>\n      <td>0</td>\n    </tr>\n    <tr>\n      <th>2</th>\n      <td>Software Developer</td>\n      <td>We are looking for talented and passionate peo...</td>\n      <td>55100 Lucca</td>\n      <td>{0, 3, 6, 44, 26}</td>\n      <td>2</td>\n    </tr>\n    <tr>\n      <th>3</th>\n      <td>Software Developer</td>\n      <td>ARESYS  is a R&amp;D oriented company with nearly ...</td>\n      <td>Matera, Basilicata</td>\n      <td>{8, 9, 2}</td>\n      <td>0</td>\n    </tr>\n    <tr>\n      <th>4</th>\n      <td>Senior Software Developer</td>\n      <td>Il/la Candidato/a dovrà padroneggiare: \\n \\n- ...</td>\n      <td>Catania, Sicilia</td>\n      <td>{0, 1, 3, 99, 6, 7, 104, 55, 57, 26}</td>\n      <td>3</td>\n    </tr>\n    <tr>\n      <th>...</th>\n      <td>...</td>\n      <td>...</td>\n      <td>...</td>\n      <td>...</td>\n      <td>...</td>\n    </tr>\n    <tr>\n      <th>161</th>\n      <td>Senior Staff Product Engineer for Embedded Too...</td>\n      <td>Do you want to be part of a new project team w...</td>\n      <td>Padova, Veneto</td>\n      <td>{8, 9}</td>\n      <td>0</td>\n    </tr>\n    <tr>\n      <th>162</th>\n      <td>Internship Engineer for Advanced Process Control</td>\n      <td>Internship Engineer for Advanced Process Contr...</td>\n      <td>Genova, Liguria</td>\n      <td>{8, 9, 12}</td>\n      <td>0</td>\n    </tr>\n    <tr>\n      <th>163</th>\n      <td>DevOps Engineer Senior</td>\n      <td>ARGO LOGICA società di consulenza informatica ...</td>\n      <td>Roma, Lazio</td>\n      <td>{80, 73, 61, 6}</td>\n      <td>1</td>\n    </tr>\n    <tr>\n      <th>164</th>\n      <td>Software Quality Engineer</td>\n      <td>CentralReach is the #1 provider of SaaS softwa...</td>\n      <td>37121 Verona</td>\n      <td>{0, 1, 99, 103}</td>\n      <td>3</td>\n    </tr>\n    <tr>\n      <th>165</th>\n      <td>Sr. Site Reliability Engineer</td>\n      <td>CentralReach is the #1 provider of SaaS softwa...</td>\n      <td>37121 Verona</td>\n      <td>{2, 6, 104, 73, 12, 80, 89, 30}</td>\n      <td>1</td>\n    </tr>\n  </tbody>\n</table>\n<p>166 rows × 5 columns</p>\n</div>"
     },
     "execution_count": 18,
     "metadata": {},
     "output_type": "execute_result"
    }
   ],
   "source": [
    "offers_frame"
   ],
   "metadata": {
    "collapsed": false,
    "ExecuteTime": {
     "end_time": "2024-01-26T12:46:09.272967600Z",
     "start_time": "2024-01-26T12:46:09.236468200Z"
    }
   },
   "id": "613d0f739c3d799d"
  },
  {
   "cell_type": "markdown",
   "source": [
    "### Silhouette Score"
   ],
   "metadata": {
    "collapsed": false
   },
   "id": "4eb96fba6e39af6e"
  },
  {
   "cell_type": "code",
   "execution_count": 37,
   "outputs": [
    {
     "name": "stdout",
     "output_type": "stream",
     "text": [
      "(3, Name                                             Software Developer\n",
      "Description       ARESYS  is a R&D oriented company with nearly ...\n",
      "Location                                         Matera, Basilicata\n",
      "RequiredSkills                                            {8, 9, 2}\n",
      "Group                                                             0\n",
      "Name: 3, dtype: object)\n",
      "(6, Name                     IBP Junior Algorithms Software Development\n",
      "Description       Pirelli is looking for the following profile t...\n",
      "Location                                               Bari, Puglia\n",
      "RequiredSkills                                               {2, 6}\n",
      "Group                                                             0\n",
      "Name: 6, dtype: object)\n",
      "(26, Name                                              Software Engineer\n",
      "Description       Main Responsibilities  \\n - Design and develop...\n",
      "Location                                                Roma, Lazio\n",
      "RequiredSkills                                            {8, 9, 6}\n",
      "Group                                                             0\n",
      "Name: 26, dtype: object)\n",
      "(42, Name              System Software Engineer, Summer Intern - 2024...\n",
      "Description       ResponsibilitiesTikTok is the leading destinat...\n",
      "Location                                                     London\n",
      "RequiredSkills                                {2, 6, 104, 9, 8, 13}\n",
      "Group                                                             0\n",
      "Name: 42, dtype: object)\n",
      "(45, Name                  Emerging Threats Intelligence Intern (Remote)\n",
      "Description       #WeAreCrowdStrike and our mission is to stop b...\n",
      "Location                                                       None\n",
      "RequiredSkills                                    {7, 8, 9, 43, 13}\n",
      "Group                                                             0\n",
      "Name: 45, dtype: object)\n",
      "(48, Name                         Cyber Security Analyst - Undergraduate\n",
      "Description       Pfizer UK Undergraduate Programme 2024/2025Cyb...\n",
      "Location                                                   Sandwich\n",
      "RequiredSkills                                            {9, 2, 6}\n",
      "Group                                                             0\n",
      "Name: 48, dtype: object)\n",
      "(49, Name              Energy Harvesting Internship – Starting Summer...\n",
      "Description       Job Title:Energy Harvesting Internship – Start...\n",
      "Location                                                  Cambridge\n",
      "RequiredSkills                                            {8, 9, 2}\n",
      "Group                                                             0\n",
      "Name: 49, dtype: object)\n",
      "(50, Name                            Software Engineer (University Grad)\n",
      "Description       Want to build new features and improve existin...\n",
      "Location                                                     London\n",
      "RequiredSkills                                         {0, 8, 2, 6}\n",
      "Group                                                             0\n",
      "Name: 50, dtype: object)\n",
      "(55, Name              Electrochemical Modelling - Energy Storage Int...\n",
      "Description       Job Title:Electrochemical Modelling - Energy S...\n",
      "Location                                                  Cambridge\n",
      "RequiredSkills                                                  {2}\n",
      "Group                                                             0\n",
      "Name: 55, dtype: object)\n",
      "(59, Name              Macro Research Analyst and Associate Internshi...\n",
      "Description       Summer Internship Programme Overview  \\n  Get ...\n",
      "Location                                                 London E14\n",
      "RequiredSkills                                                  {2}\n",
      "Group                                                             0\n",
      "Name: 59, dtype: object)\n",
      "(69, Name                 2024 Intern - Software Development Engineering\n",
      "Description       Our CompanyChanging the world through digital ...\n",
      "Location                                             Edinburgh EH11\n",
      "RequiredSkills                                               {8, 6}\n",
      "Group                                                             0\n",
      "Name: 69, dtype: object)\n",
      "(72, Name                                    Network Production Engineer\n",
      "Description       This will be your network and it is constantly...\n",
      "Location                                                     London\n",
      "RequiredSkills                                           {8, 2, 13}\n",
      "Group                                                             0\n",
      "Name: 72, dtype: object)\n",
      "(97, Name                                    AI Developer - MILANO [DIG]\n",
      "Description       Trasforma le tue aspirazioni professionali in ...\n",
      "Location                                                     Italia\n",
      "RequiredSkills                            {2, 67, 6, 8, 21, 31, 63}\n",
      "Group                                                             0\n",
      "Name: 97, dtype: object)\n",
      "(101, Name                                        Control System Engineer\n",
      "Description       For innovative projects in the automotive sect...\n",
      "Location                                               10123 Torino\n",
      "RequiredSkills                                        {8, 9, 2, 63}\n",
      "Group                                                             0\n",
      "Name: 101, dtype: object)\n",
      "(102, Name                         Computer Vision Alorithm / SW Engineer\n",
      "Description       Il nostro cliente è una multinazionale storica...\n",
      "Location                                                43124 Parma\n",
      "RequiredSkills                                            {8, 9, 2}\n",
      "Group                                                             0\n",
      "Name: 102, dtype: object)\n",
      "(104, Name                                                 DATA SCIENTIST\n",
      "Description       Per strutturata software house specializzata n...\n",
      "Location                                         Conegliano, Veneto\n",
      "RequiredSkills                                                  {2}\n",
      "Group                                                             0\n",
      "Name: 104, dtype: object)\n",
      "(113, Name                                               Backend Engineer\n",
      "Description       What you'll be doing:- Collaborate with Produc...\n",
      "Location                                                London EC2A\n",
      "RequiredSkills                                                  {2}\n",
      "Group                                                             0\n",
      "Name: 113, dtype: object)\n",
      "(145, Name                                          Cybersecurity Analyst\n",
      "Description       Chi è CertegoCertego è la società del Gruppo V...\n",
      "Location                        Provincia di Modena, Emilia-Romagna\n",
      "RequiredSkills                                               {2, 5}\n",
      "Group                                                             0\n",
      "Name: 145, dtype: object)\n",
      "(148, Name                              Cyber Threat Intelligence Analyst\n",
      "Description       Cleafy has recently secured a €10 million Seri...\n",
      "Location                                          Milano, Lombardia\n",
      "RequiredSkills                                        {9, 2, 12, 6}\n",
      "Group                                                             0\n",
      "Name: 148, dtype: object)\n",
      "(154, Name                               Python Developer/DevOps Engineer\n",
      "Description       rev.ng Labs è un'azienda che sta sviluppando u...\n",
      "Location                                          Milano, Lombardia\n",
      "RequiredSkills                                        {80, 9, 2, 4}\n",
      "Group                                                             0\n",
      "Name: 154, dtype: object)\n",
      "(161, Name              Senior Staff Product Engineer for Embedded Too...\n",
      "Description       Do you want to be part of a new project team w...\n",
      "Location                                             Padova, Veneto\n",
      "RequiredSkills                                               {8, 9}\n",
      "Group                                                             0\n",
      "Name: 161, dtype: object)\n",
      "(162, Name               Internship Engineer for Advanced Process Control\n",
      "Description       Internship Engineer for Advanced Process Contr...\n",
      "Location                                            Genova, Liguria\n",
      "RequiredSkills                                           {8, 9, 12}\n",
      "Group                                                             0\n",
      "Name: 162, dtype: object)\n"
     ]
    }
   ],
   "source": [
    "group = offers_frame[offers_frame['Group'] == 0]\n",
    "offer_i = offers_frame.iloc[list(group.index)[0]]\n",
    "\n",
    "den = len(list(group.index))\n",
    "inner_distance = 0  # a(i)\n",
    "for offer in group.iterrows():   \n",
    "    if not offer[1].equals(offer_i):\n",
    "        inner_distance += jaccard(offer_i, offer, 'RequiredSkills')\n",
    "inner_distance = inner_distance/den"
   ],
   "metadata": {
    "collapsed": false,
    "ExecuteTime": {
     "end_time": "2024-01-26T12:55:46.888807900Z",
     "start_time": "2024-01-26T12:55:46.830308Z"
    }
   },
   "id": "5d72aa0d7825e907"
  },
  {
   "cell_type": "code",
   "execution_count": 38,
   "outputs": [
    {
     "data": {
      "text/plain": "array([[1.        , 0.56728778, 0.94209643, 0.50507246, 0.9555345 ,\n        0.91299172, 0.65207039, 1.        , 0.99275362, 0.91299172,\n        0.98774704, 0.88364389, 0.95466653, 0.99378882, 0.91299172,\n        0.95628502, 0.98550725, 0.7423913 , 0.99178744, 0.98757764,\n        0.85515873, 0.872343  , 1.        , 0.98647343, 0.91540718,\n        0.80445135, 0.63768116, 0.94470753, 0.98913043, 1.        ,\n        0.84954671, 0.92530742, 0.9889579 , 0.98291925, 0.88681379,\n        0.98339921, 0.97681159, 0.85258642, 1.        , 0.88364389,\n        0.93576605, 0.86521739, 0.61402692, 1.        , 1.        ,\n        0.77109919, 0.85061171, 0.86226708, 0.58291925, 0.50507246,\n        0.64327122, 0.99033816, 0.83405797, 0.98043478, 0.99033816,\n        0.64451346, 0.98316611, 0.81062802, 0.97463768, 0.64451346,\n        0.83863009, 0.91229688, 0.99456522, 0.99456522, 0.99275362,\n        0.98007246, 0.99275362, 0.99275362, 0.98291925, 0.7426501 ,\n        0.90728088, 0.86459627, 0.65289855, 1.        , 0.98405797,\n        0.81250863, 0.99378882, 0.98913043, 0.99604743, 0.92584318,\n        1.        , 1.        , 1.        , 1.        , 0.99178744,\n        0.99456522, 1.        , 1.        , 0.99378882, 0.99275362,\n        0.99033816, 0.99375697, 0.88540168, 0.99275362, 0.99456522,\n        0.99294184, 1.        , 0.74780727, 0.9826087 , 0.7760352 ,\n        0.80688406, 0.58524845, 0.50507246, 0.83134921, 0.64451346,\n        0.82513803, 0.7760352 , 0.87306763, 0.992711  , 0.95892103,\n        0.99202899, 1.        , 0.99456522, 0.64451346, 0.88364389,\n        0.98043478, 0.97922705, 0.99516908, 0.94406608, 1.        ,\n        0.98478261, 0.85740166, 0.88479829, 0.86727053, 0.7760352 ,\n        0.85148378, 1.        , 0.91739299, 0.85812629, 0.93504141,\n        0.99456522, 0.99565217, 1.        , 1.        , 0.94434092,\n        1.        , 0.99378882, 1.        , 0.98774704, 0.92666536,\n        0.98983625, 0.99082126, 0.93504141, 0.99082126, 0.99275362,\n        0.74704969, 0.85515873, 0.79712341, 0.63945825, 0.77752996,\n        0.84211525, 0.99393813, 0.89252933, 0.99516908, 0.72738095,\n        0.93666165, 0.91291655, 0.99604743, 0.93226343, 0.82531056,\n        0.88802285, 0.67282609, 0.71680469, 0.93486888, 0.99378882,\n        0.85969224],\n       [0.95362119, 0.91118696, 0.9366284 , 0.95148436, 0.93151497,\n        0.9140238 , 0.90825624, 0.95362119, 0.97841873, 0.91531805,\n        0.96272772, 0.90525658, 0.89992677, 0.90900165, 0.91560665,\n        0.88164203, 0.94601494, 0.91941529, 0.90536346, 0.95890411,\n        0.94569901, 0.94482496, 0.93127567, 0.95045438, 0.90917937,\n        0.87918835, 0.92639605, 0.9110364 , 0.95388755, 0.98411611,\n        0.92274338, 0.93394867, 0.95405181, 0.92971382, 0.90959392,\n        0.95501613, 0.92640316, 0.88562434, 0.99894626, 0.90525658,\n        0.91038887, 0.9370461 , 0.91039364, 0.97597304, 0.96432377,\n        0.96385612, 0.92379519, 0.94574448, 0.91160514, 0.95148436,\n        0.91049126, 0.93589807, 0.97018917, 0.94687383, 0.91453284,\n        0.96602556, 0.92279496, 0.90054344, 0.9500598 , 0.96602556,\n        0.93391656, 0.95297505, 0.96997449, 0.96997449, 0.92430404,\n        0.92876676, 0.97034172, 0.97841873, 0.92799887, 0.9245157 ,\n        0.96893381, 0.92774071, 0.96254605, 0.92760961, 0.91232318,\n        0.89437229, 0.94446619, 0.97247228, 0.97094516, 0.91649347,\n        0.956621  , 0.956621  , 0.97247574, 0.94828224, 0.94352391,\n        0.93083431, 0.93412698, 0.94338052, 0.95518131, 0.97170649,\n        0.96899805, 0.93835163, 0.91792963, 0.97170649, 0.96894709,\n        0.90168099, 0.92864599, 0.93209025, 0.96073059, 0.97058174,\n        0.88693896, 0.95651535, 0.95148436, 0.97080629, 0.96602556,\n        0.97271724, 0.97058174, 0.95167551, 0.94255287, 0.93891449,\n        0.9112809 , 0.90815463, 0.96282614, 0.96602556, 0.90525658,\n        0.94753241, 0.92761489, 0.89629649, 0.90320347, 0.96538462,\n        0.90923051, 0.92962774, 0.93089173, 0.96458919, 0.97058174,\n        0.95750049, 0.98630137, 0.91815374, 0.96813472, 0.92325219,\n        0.92929426, 0.96492024, 0.9851824 , 0.98019629, 0.90887277,\n        0.97678843, 0.98091977, 0.99894626, 0.9642119 , 0.95193559,\n        0.92647555, 0.91710405, 0.92325219, 0.91710405, 0.9439982 ,\n        0.95813665, 0.95929519, 0.9040517 , 0.90143766, 0.9245636 ,\n        0.93814371, 0.9651211 , 0.93552555, 0.88885776, 0.94226126,\n        0.87386229, 0.88984277, 0.89260954, 0.90393208, 0.95915994,\n        0.88415593, 0.96872146, 0.94919498, 0.91095965, 0.9658951 ,\n        0.8599321 ],\n       [0.99438833, 0.86584334, 0.7939518 , 0.90383598, 0.82254181,\n        0.91275353, 0.85351531, 0.99438833, 0.96717372, 0.93156766,\n        0.82781736, 0.94923942, 0.95688038, 0.96690886, 0.9575497 ,\n        0.90247021, 0.91195887, 0.72554729, 0.9408786 , 0.72794112,\n        0.72240961, 0.91827601, 0.97137315, 0.8128051 , 0.92371032,\n        0.79981962, 0.9452381 , 0.85039444, 0.74582131, 0.75945567,\n        0.92293359, 0.96678179, 0.96510943, 0.91703112, 0.8932744 ,\n        0.82781736, 0.97694004, 0.88426728, 0.70132275, 0.94923942,\n        0.95275542, 0.96572872, 0.88623313, 1.        , 0.97705026,\n        0.96263027, 0.70167949, 0.98386143, 0.87224226, 0.90383598,\n        0.8580805 , 0.97722632, 0.99305556, 1.        , 0.76941739,\n        0.87215608, 0.91525615, 0.90548942, 1.        , 0.87215608,\n        0.74798149, 0.9588518 , 0.9667308 , 0.9667308 , 0.99093915,\n        0.98382004, 0.98090829, 0.96717372, 0.97454806, 0.94393639,\n        0.96760362, 0.86273349, 0.90846561, 0.96064815, 0.96220238,\n        0.88866643, 0.9546176 , 0.98263889, 0.8079934 , 0.90937269,\n        0.99444444, 0.99444444, 0.96838624, 0.9897587 , 0.96341378,\n        0.97388568, 0.97101039, 0.97244168, 0.96690986, 0.97561728,\n        0.97411616, 0.87867392, 0.95526202, 0.97561728, 0.83439053,\n        0.93077065, 0.96462712, 0.87243405, 0.95945767, 0.62989418,\n        0.85728616, 0.91788158, 0.90383598, 0.68943803, 0.87215608,\n        0.70142897, 0.62989418, 0.92302389, 0.9619172 , 0.94974565,\n        0.94563982, 0.9604818 , 0.97181237, 0.87215608, 0.94923942,\n        0.98055556, 0.94843474, 0.96618305, 0.95866604, 0.98981481,\n        0.86092072, 0.90773478, 0.90211918, 0.94080487, 0.62989418,\n        0.68291947, 1.        , 0.7551743 , 0.73733165, 0.76257485,\n        0.94943783, 0.75363757, 0.75279782, 0.71686408, 0.90653529,\n        0.97361111, 0.98333333, 0.70132275, 0.84675024, 0.82331912,\n        0.79280103, 0.72490249, 0.76257485, 0.72490249, 0.96481481,\n        0.89237213, 0.71777998, 0.72432876, 0.89082962, 0.75593974,\n        0.89934564, 0.87288184, 0.94021164, 0.94186277, 0.92507855,\n        0.9263031 , 0.87665683, 0.94842442, 0.9234638 , 0.63846801,\n        0.74898952, 0.98391755, 0.98603395, 0.95840949, 0.96809965,\n        0.88625868],\n       [0.97428699, 0.96389003, 0.83174315, 0.98856209, 0.73168392,\n        0.96679505, 0.98618008, 0.97428699, 0.58797852, 0.96242858,\n        0.67770828, 0.98427871, 0.85998675, 0.91271547, 0.98618008,\n        0.93013309, 0.95239262, 0.94119051, 0.86689948, 0.93186275,\n        0.81202572, 0.95903149, 0.98795518, 0.9471014 , 0.916716  ,\n        0.96367921, 0.9754085 , 0.83649365, 0.92117542, 0.95999915,\n        0.9191225 , 0.66394867, 0.64734489, 0.79068394, 0.7232573 ,\n        0.67869038, 0.79265649, 0.94335689, 0.97268908, 0.98427871,\n        0.96248098, 0.97353896, 0.97217521, 1.        , 0.82487308,\n        0.97491479, 0.94087816, 0.97428699, 0.9754085 , 0.98856209,\n        0.87677489, 0.77299188, 0.9842437 , 0.98406863, 0.90743517,\n        1.        , 0.77745632, 0.95833088, 0.98011204, 1.        ,\n        0.95150813, 0.89772352, 0.60071938, 0.60071938, 0.91674029,\n        0.83813809, 0.87212555, 0.58797852, 0.78395891, 0.98618008,\n        0.63271345, 0.97966641, 1.        , 0.99579832, 0.98011204,\n        0.98338002, 0.98309778, 0.99305556, 0.96695421, 0.9819206 ,\n        0.98284314, 0.98284314, 0.72592106, 0.93286721, 0.69745482,\n        0.79008243, 0.87987437, 0.91201511, 0.62153263, 0.68880295,\n        0.75091698, 0.79371987, 0.88670559, 0.68880295, 0.60582693,\n        0.87435328, 0.94222869, 0.98180439, 0.97383287, 0.97604724,\n        0.82783072, 0.98991597, 0.98856209, 0.97574484, 1.        ,\n        0.97864146, 0.97604724, 0.90238222, 0.73911614, 0.69872124,\n        0.77153038, 0.94783093, 0.63524494, 1.        , 0.98427871,\n        0.98139483, 0.93410364, 0.90348622, 0.95447192, 0.98349673,\n        0.95392157, 0.98926596, 0.99522536, 1.        , 0.97604724,\n        0.96899011, 1.        , 0.94835214, 0.97170847, 0.95281034,\n        0.95506907, 0.95382545, 0.97283868, 0.95456137, 0.72919213,\n        0.99705882, 0.992507  , 0.97268908, 0.67730051, 0.94986398,\n        0.94935555, 0.96023756, 0.95281034, 0.96023756, 0.98501401,\n        0.99579832, 0.76071959, 0.82426487, 0.96594378, 0.7726976 ,\n        0.97617965, 0.71768115, 0.95784897, 0.96509009, 0.97429697,\n        0.82965178, 0.91304618, 0.96933622, 0.97511623, 0.97269969,\n        0.95301414, 0.98676471, 0.97439309, 0.98467353, 0.63740532,\n        0.97037316]])"
     },
     "execution_count": 38,
     "metadata": {},
     "output_type": "execute_result"
    }
   ],
   "source": [
    "def find_nearest_cluster(target_cluster_label, centroids):\n",
    "    target_centroid = centroids[target_cluster_label]\n",
    "    distances = np.linalg.norm(centroids - target_centroid, axis=1)\n",
    "    nearest_cluster = np.argmin(distances)\n",
    "    return nearest_cluster"
   ],
   "metadata": {
    "collapsed": false,
    "ExecuteTime": {
     "end_time": "2024-01-26T13:18:02.520505500Z",
     "start_time": "2024-01-26T13:18:02.488004900Z"
    }
   },
   "id": "33d4bea22081e5b9"
  },
  {
   "cell_type": "code",
   "execution_count": null,
   "outputs": [],
   "source": [
    "centroids = kmeans.cluster_centers_\n",
    "target_cluster = 0\n",
    "nearest_cluster = find_nearest_cluster(target_cluster, centroids)"
   ],
   "metadata": {
    "collapsed": false
   },
   "id": "2ac7c85a2eea34d0"
  }
 ],
 "metadata": {
  "kernelspec": {
   "display_name": "Python 3",
   "language": "python",
   "name": "python3"
  },
  "language_info": {
   "codemirror_mode": {
    "name": "ipython",
    "version": 2
   },
   "file_extension": ".py",
   "mimetype": "text/x-python",
   "name": "python",
   "nbconvert_exporter": "python",
   "pygments_lexer": "ipython2",
   "version": "2.7.6"
  }
 },
 "nbformat": 4,
 "nbformat_minor": 5
}
