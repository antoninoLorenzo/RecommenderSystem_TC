{
 "cells": [
  {
   "cell_type": "code",
   "execution_count": 197,
   "id": "initial_id",
   "metadata": {
    "collapsed": true,
    "jupyter": {
     "outputs_hidden": true
    },
    "ExecuteTime": {
     "end_time": "2024-01-30T17:10:11.204316700Z",
     "start_time": "2024-01-30T17:10:11.041315300Z"
    }
   },
   "outputs": [],
   "source": [
    "import os\n",
    "import sqlite3\n",
    "\n",
    "import pandas as pd\n",
    "import numpy as np\n",
    "import matplotlib.pyplot as plt\n",
    "import seaborn as sns\n",
    "\n",
    "os.environ['LOKY_MAX_CPU_COUNT'] = '6'\n",
    "%matplotlib inline"
   ]
  },
  {
   "cell_type": "code",
   "execution_count": 198,
   "id": "15d7000a3b37f3ff",
   "metadata": {
    "collapsed": false,
    "ExecuteTime": {
     "end_time": "2024-01-30T17:10:11.281815800Z",
     "start_time": "2024-01-30T17:10:11.053317300Z"
    }
   },
   "outputs": [
    {
     "data": {
      "text/plain": "                                                  Name  \\\n0                                   Software Developer   \n1                            Junior Software Developer   \n2                                   Software Developer   \n3                                   Software Developer   \n4                            Senior Software Developer   \n..                                                 ...   \n477                        IT On-Site Support Engineer   \n478                           Python Software Engineer   \n479                                  Software Engineer   \n480  Workspace & Endpoint Deployment - System Engineer   \n481  Athonet - Elixir Software Engineer for Mobile ...   \n\n                                           Description  \\\n0    Miniclip is a global leader in digital games w...   \n1    NETtoWORK, azienda italiana nata nel 2016, ope...   \n2    We are looking for talented and passionate peo...   \n3    ARESYS  is a R&D oriented company with nearly ...   \n4    Il/la Candidato/a dovrà padroneggiare: \\n \\n- ...   \n..                                                 ...   \n477  IT On-Site Support EngineerFunctional area: In...   \n478  Now is an amazing time to join Nozomi Networks...   \n479  Who we are:At Mambu, we believe that banking a...   \n480  Intesa Sanpaolo è un gruppo bancario internazi...   \n481  Athonet - Elixir Software Engineer for Mobile ...   \n\n                             Location                        RequiredSkills  \\\n0                     Genova, Liguria                            {101, 100}   \n1                        17100 Savona                       {8, 2, 7, 6, 9}   \n2                         55100 Lucca                     {26, 3, 44, 0, 6}   \n3                  Matera, Basilicata                             {8, 9, 2}   \n4                    Catania, Sicilia  {55, 26, 3, 7, 1, 0, 57, 6, 104, 99}   \n..                                ...                                   ...   \n477                 Milano, Lombardia                                 {103}   \n478                 Milano, Lombardia                       {89, 30, 73, 2}   \n479        Provincia di Latina, Lazio                           {6, 31, 30}   \n480                 Milano, Lombardia                                 {103}   \n481  Cernusco sul Naviglio, Lombardia                                 {104}   \n\n    LocationType          Languages   Latitude  Longitude  \n0         OnSite            inglese  44.405650   8.946256  \n1         OnSite           italiano  44.342550   8.429389  \n2         OnSite            inglese  43.842920  10.502698  \n3         OnSite            inglese  40.666379  16.604320  \n4         OnSite           italiano  37.507877  15.083030  \n..           ...                ...        ...        ...  \n477       OnSite  inglese, italiano  45.464204   9.189982  \n478       OnSite            inglese  45.464204   9.189982  \n479       OnSite            inglese  41.408748  13.081790  \n480       OnSite  inglese, italiano  45.464204   9.189982  \n481       OnSite  inglese, italiano  45.524980   9.332959  \n\n[482 rows x 8 columns]",
      "text/html": "<div>\n<style scoped>\n    .dataframe tbody tr th:only-of-type {\n        vertical-align: middle;\n    }\n\n    .dataframe tbody tr th {\n        vertical-align: top;\n    }\n\n    .dataframe thead th {\n        text-align: right;\n    }\n</style>\n<table border=\"1\" class=\"dataframe\">\n  <thead>\n    <tr style=\"text-align: right;\">\n      <th></th>\n      <th>Name</th>\n      <th>Description</th>\n      <th>Location</th>\n      <th>RequiredSkills</th>\n      <th>LocationType</th>\n      <th>Languages</th>\n      <th>Latitude</th>\n      <th>Longitude</th>\n    </tr>\n  </thead>\n  <tbody>\n    <tr>\n      <th>0</th>\n      <td>Software Developer</td>\n      <td>Miniclip is a global leader in digital games w...</td>\n      <td>Genova, Liguria</td>\n      <td>{101, 100}</td>\n      <td>OnSite</td>\n      <td>inglese</td>\n      <td>44.405650</td>\n      <td>8.946256</td>\n    </tr>\n    <tr>\n      <th>1</th>\n      <td>Junior Software Developer</td>\n      <td>NETtoWORK, azienda italiana nata nel 2016, ope...</td>\n      <td>17100 Savona</td>\n      <td>{8, 2, 7, 6, 9}</td>\n      <td>OnSite</td>\n      <td>italiano</td>\n      <td>44.342550</td>\n      <td>8.429389</td>\n    </tr>\n    <tr>\n      <th>2</th>\n      <td>Software Developer</td>\n      <td>We are looking for talented and passionate peo...</td>\n      <td>55100 Lucca</td>\n      <td>{26, 3, 44, 0, 6}</td>\n      <td>OnSite</td>\n      <td>inglese</td>\n      <td>43.842920</td>\n      <td>10.502698</td>\n    </tr>\n    <tr>\n      <th>3</th>\n      <td>Software Developer</td>\n      <td>ARESYS  is a R&amp;D oriented company with nearly ...</td>\n      <td>Matera, Basilicata</td>\n      <td>{8, 9, 2}</td>\n      <td>OnSite</td>\n      <td>inglese</td>\n      <td>40.666379</td>\n      <td>16.604320</td>\n    </tr>\n    <tr>\n      <th>4</th>\n      <td>Senior Software Developer</td>\n      <td>Il/la Candidato/a dovrà padroneggiare: \\n \\n- ...</td>\n      <td>Catania, Sicilia</td>\n      <td>{55, 26, 3, 7, 1, 0, 57, 6, 104, 99}</td>\n      <td>OnSite</td>\n      <td>italiano</td>\n      <td>37.507877</td>\n      <td>15.083030</td>\n    </tr>\n    <tr>\n      <th>...</th>\n      <td>...</td>\n      <td>...</td>\n      <td>...</td>\n      <td>...</td>\n      <td>...</td>\n      <td>...</td>\n      <td>...</td>\n      <td>...</td>\n    </tr>\n    <tr>\n      <th>477</th>\n      <td>IT On-Site Support Engineer</td>\n      <td>IT On-Site Support EngineerFunctional area: In...</td>\n      <td>Milano, Lombardia</td>\n      <td>{103}</td>\n      <td>OnSite</td>\n      <td>inglese, italiano</td>\n      <td>45.464204</td>\n      <td>9.189982</td>\n    </tr>\n    <tr>\n      <th>478</th>\n      <td>Python Software Engineer</td>\n      <td>Now is an amazing time to join Nozomi Networks...</td>\n      <td>Milano, Lombardia</td>\n      <td>{89, 30, 73, 2}</td>\n      <td>OnSite</td>\n      <td>inglese</td>\n      <td>45.464204</td>\n      <td>9.189982</td>\n    </tr>\n    <tr>\n      <th>479</th>\n      <td>Software Engineer</td>\n      <td>Who we are:At Mambu, we believe that banking a...</td>\n      <td>Provincia di Latina, Lazio</td>\n      <td>{6, 31, 30}</td>\n      <td>OnSite</td>\n      <td>inglese</td>\n      <td>41.408748</td>\n      <td>13.081790</td>\n    </tr>\n    <tr>\n      <th>480</th>\n      <td>Workspace &amp; Endpoint Deployment - System Engineer</td>\n      <td>Intesa Sanpaolo è un gruppo bancario internazi...</td>\n      <td>Milano, Lombardia</td>\n      <td>{103}</td>\n      <td>OnSite</td>\n      <td>inglese, italiano</td>\n      <td>45.464204</td>\n      <td>9.189982</td>\n    </tr>\n    <tr>\n      <th>481</th>\n      <td>Athonet - Elixir Software Engineer for Mobile ...</td>\n      <td>Athonet - Elixir Software Engineer for Mobile ...</td>\n      <td>Cernusco sul Naviglio, Lombardia</td>\n      <td>{104}</td>\n      <td>OnSite</td>\n      <td>inglese, italiano</td>\n      <td>45.524980</td>\n      <td>9.332959</td>\n    </tr>\n  </tbody>\n</table>\n<p>482 rows × 8 columns</p>\n</div>"
     },
     "execution_count": 198,
     "metadata": {},
     "output_type": "execute_result"
    }
   ],
   "source": [
    "offers_connection = sqlite3.connect('../datasets/offers_full.db')\n",
    "offers_frame = pd.read_sql_query('''SELECT * FROM offers''', offers_connection)\n",
    "offers_connection.close()\n",
    "\n",
    "offers_frame.dropna(subset='Name',inplace=True)\n",
    "offers_frame.drop_duplicates(inplace=True)\n",
    "\n",
    "# Convert RequiredSkills to set\n",
    "def string_to_set(item_set):\n",
    "     return set(item_set.split(', '))\n",
    "offers_frame['RequiredSkills'] = offers_frame['RequiredSkills'].apply(string_to_set)\n",
    "\n",
    "offers_frame"
   ]
  },
  {
   "cell_type": "markdown",
   "id": "6e2dc81d861b9de5",
   "metadata": {
    "collapsed": false
   },
   "source": [
    "## Distance Matrix "
   ]
  },
  {
   "cell_type": "code",
   "execution_count": 199,
   "id": "b78ec64713866285",
   "metadata": {
    "collapsed": false,
    "ExecuteTime": {
     "end_time": "2024-01-30T17:10:27.394816100Z",
     "start_time": "2024-01-30T17:10:11.118815400Z"
    }
   },
   "outputs": [
    {
     "data": {
      "text/plain": "     0         1         2         3         4         5         6    \\\n0    0.0  1.000000  1.000000  1.000000  1.000000  1.000000  1.000000   \n1    1.0  0.000000  0.888889  0.400000  0.846154  0.833333  0.600000   \n2    1.0  0.888889  0.000000  1.000000  0.636364  0.833333  0.833333   \n3    1.0  0.400000  1.000000  0.000000  1.000000  1.000000  0.750000   \n4    1.0  0.846154  0.636364  1.000000  0.000000  0.800000  0.909091   \n..   ...       ...       ...       ...       ...       ...       ...   \n477  1.0  1.000000  1.000000  1.000000  1.000000  1.000000  1.000000   \n478  1.0  0.875000  1.000000  0.833333  1.000000  1.000000  0.800000   \n479  1.0  0.857143  0.857143  1.000000  0.916667  0.750000  0.750000   \n480  1.0  1.000000  1.000000  1.000000  1.000000  1.000000  1.000000   \n481  1.0  1.000000  1.000000  1.000000  0.900000  1.000000  1.000000   \n\n          7         8         9    ...       472       473       474  \\\n0    0.666667  1.000000  1.000000  ...  1.000000  1.000000  1.000000   \n1    1.000000  1.000000  0.833333  ...  1.000000  0.888889  0.777778   \n2    1.000000  0.857143  0.833333  ...  0.833333  0.888889  1.000000   \n3    1.000000  1.000000  1.000000  ...  1.000000  0.857143  0.714286   \n4    1.000000  0.700000  0.909091  ...  0.800000  0.846154  1.000000   \n..        ...       ...       ...  ...       ...       ...       ...   \n477  1.000000  1.000000  1.000000  ...  1.000000  1.000000  1.000000   \n478  1.000000  1.000000  1.000000  ...  1.000000  0.875000  0.750000   \n479  1.000000  1.000000  0.750000  ...  1.000000  1.000000  0.714286   \n480  1.000000  1.000000  1.000000  ...  1.000000  1.000000  1.000000   \n481  1.000000  1.000000  1.000000  ...  1.000000  0.800000  1.000000   \n\n          475       476  477       478       479  480  481  \n0    1.000000  1.000000  1.0  1.000000  1.000000  1.0  1.0  \n1    0.933333  0.833333  1.0  0.875000  0.857143  1.0  1.0  \n2    0.857143  1.000000  1.0  1.000000  0.857143  1.0  1.0  \n3    0.923077  0.750000  1.0  0.833333  1.000000  1.0  1.0  \n4    0.687500  1.000000  1.0  1.000000  0.916667  1.0  0.9  \n..        ...       ...  ...       ...       ...  ...  ...  \n477  1.000000  1.000000  0.0  1.000000  1.000000  0.0  1.0  \n478  0.846154  0.500000  1.0  0.000000  0.833333  1.0  1.0  \n479  0.923077  0.750000  1.0  0.833333  0.000000  1.0  1.0  \n480  1.000000  1.000000  0.0  1.000000  1.000000  0.0  1.0  \n481  0.909091  1.000000  1.0  1.000000  1.000000  1.0  0.0  \n\n[482 rows x 482 columns]",
      "text/html": "<div>\n<style scoped>\n    .dataframe tbody tr th:only-of-type {\n        vertical-align: middle;\n    }\n\n    .dataframe tbody tr th {\n        vertical-align: top;\n    }\n\n    .dataframe thead th {\n        text-align: right;\n    }\n</style>\n<table border=\"1\" class=\"dataframe\">\n  <thead>\n    <tr style=\"text-align: right;\">\n      <th></th>\n      <th>0</th>\n      <th>1</th>\n      <th>2</th>\n      <th>3</th>\n      <th>4</th>\n      <th>5</th>\n      <th>6</th>\n      <th>7</th>\n      <th>8</th>\n      <th>9</th>\n      <th>...</th>\n      <th>472</th>\n      <th>473</th>\n      <th>474</th>\n      <th>475</th>\n      <th>476</th>\n      <th>477</th>\n      <th>478</th>\n      <th>479</th>\n      <th>480</th>\n      <th>481</th>\n    </tr>\n  </thead>\n  <tbody>\n    <tr>\n      <th>0</th>\n      <td>0.0</td>\n      <td>1.000000</td>\n      <td>1.000000</td>\n      <td>1.000000</td>\n      <td>1.000000</td>\n      <td>1.000000</td>\n      <td>1.000000</td>\n      <td>0.666667</td>\n      <td>1.000000</td>\n      <td>1.000000</td>\n      <td>...</td>\n      <td>1.000000</td>\n      <td>1.000000</td>\n      <td>1.000000</td>\n      <td>1.000000</td>\n      <td>1.000000</td>\n      <td>1.0</td>\n      <td>1.000000</td>\n      <td>1.000000</td>\n      <td>1.0</td>\n      <td>1.0</td>\n    </tr>\n    <tr>\n      <th>1</th>\n      <td>1.0</td>\n      <td>0.000000</td>\n      <td>0.888889</td>\n      <td>0.400000</td>\n      <td>0.846154</td>\n      <td>0.833333</td>\n      <td>0.600000</td>\n      <td>1.000000</td>\n      <td>1.000000</td>\n      <td>0.833333</td>\n      <td>...</td>\n      <td>1.000000</td>\n      <td>0.888889</td>\n      <td>0.777778</td>\n      <td>0.933333</td>\n      <td>0.833333</td>\n      <td>1.0</td>\n      <td>0.875000</td>\n      <td>0.857143</td>\n      <td>1.0</td>\n      <td>1.0</td>\n    </tr>\n    <tr>\n      <th>2</th>\n      <td>1.0</td>\n      <td>0.888889</td>\n      <td>0.000000</td>\n      <td>1.000000</td>\n      <td>0.636364</td>\n      <td>0.833333</td>\n      <td>0.833333</td>\n      <td>1.000000</td>\n      <td>0.857143</td>\n      <td>0.833333</td>\n      <td>...</td>\n      <td>0.833333</td>\n      <td>0.888889</td>\n      <td>1.000000</td>\n      <td>0.857143</td>\n      <td>1.000000</td>\n      <td>1.0</td>\n      <td>1.000000</td>\n      <td>0.857143</td>\n      <td>1.0</td>\n      <td>1.0</td>\n    </tr>\n    <tr>\n      <th>3</th>\n      <td>1.0</td>\n      <td>0.400000</td>\n      <td>1.000000</td>\n      <td>0.000000</td>\n      <td>1.000000</td>\n      <td>1.000000</td>\n      <td>0.750000</td>\n      <td>1.000000</td>\n      <td>1.000000</td>\n      <td>1.000000</td>\n      <td>...</td>\n      <td>1.000000</td>\n      <td>0.857143</td>\n      <td>0.714286</td>\n      <td>0.923077</td>\n      <td>0.750000</td>\n      <td>1.0</td>\n      <td>0.833333</td>\n      <td>1.000000</td>\n      <td>1.0</td>\n      <td>1.0</td>\n    </tr>\n    <tr>\n      <th>4</th>\n      <td>1.0</td>\n      <td>0.846154</td>\n      <td>0.636364</td>\n      <td>1.000000</td>\n      <td>0.000000</td>\n      <td>0.800000</td>\n      <td>0.909091</td>\n      <td>1.000000</td>\n      <td>0.700000</td>\n      <td>0.909091</td>\n      <td>...</td>\n      <td>0.800000</td>\n      <td>0.846154</td>\n      <td>1.000000</td>\n      <td>0.687500</td>\n      <td>1.000000</td>\n      <td>1.0</td>\n      <td>1.000000</td>\n      <td>0.916667</td>\n      <td>1.0</td>\n      <td>0.9</td>\n    </tr>\n    <tr>\n      <th>...</th>\n      <td>...</td>\n      <td>...</td>\n      <td>...</td>\n      <td>...</td>\n      <td>...</td>\n      <td>...</td>\n      <td>...</td>\n      <td>...</td>\n      <td>...</td>\n      <td>...</td>\n      <td>...</td>\n      <td>...</td>\n      <td>...</td>\n      <td>...</td>\n      <td>...</td>\n      <td>...</td>\n      <td>...</td>\n      <td>...</td>\n      <td>...</td>\n      <td>...</td>\n      <td>...</td>\n    </tr>\n    <tr>\n      <th>477</th>\n      <td>1.0</td>\n      <td>1.000000</td>\n      <td>1.000000</td>\n      <td>1.000000</td>\n      <td>1.000000</td>\n      <td>1.000000</td>\n      <td>1.000000</td>\n      <td>1.000000</td>\n      <td>1.000000</td>\n      <td>1.000000</td>\n      <td>...</td>\n      <td>1.000000</td>\n      <td>1.000000</td>\n      <td>1.000000</td>\n      <td>1.000000</td>\n      <td>1.000000</td>\n      <td>0.0</td>\n      <td>1.000000</td>\n      <td>1.000000</td>\n      <td>0.0</td>\n      <td>1.0</td>\n    </tr>\n    <tr>\n      <th>478</th>\n      <td>1.0</td>\n      <td>0.875000</td>\n      <td>1.000000</td>\n      <td>0.833333</td>\n      <td>1.000000</td>\n      <td>1.000000</td>\n      <td>0.800000</td>\n      <td>1.000000</td>\n      <td>1.000000</td>\n      <td>1.000000</td>\n      <td>...</td>\n      <td>1.000000</td>\n      <td>0.875000</td>\n      <td>0.750000</td>\n      <td>0.846154</td>\n      <td>0.500000</td>\n      <td>1.0</td>\n      <td>0.000000</td>\n      <td>0.833333</td>\n      <td>1.0</td>\n      <td>1.0</td>\n    </tr>\n    <tr>\n      <th>479</th>\n      <td>1.0</td>\n      <td>0.857143</td>\n      <td>0.857143</td>\n      <td>1.000000</td>\n      <td>0.916667</td>\n      <td>0.750000</td>\n      <td>0.750000</td>\n      <td>1.000000</td>\n      <td>1.000000</td>\n      <td>0.750000</td>\n      <td>...</td>\n      <td>1.000000</td>\n      <td>1.000000</td>\n      <td>0.714286</td>\n      <td>0.923077</td>\n      <td>0.750000</td>\n      <td>1.0</td>\n      <td>0.833333</td>\n      <td>0.000000</td>\n      <td>1.0</td>\n      <td>1.0</td>\n    </tr>\n    <tr>\n      <th>480</th>\n      <td>1.0</td>\n      <td>1.000000</td>\n      <td>1.000000</td>\n      <td>1.000000</td>\n      <td>1.000000</td>\n      <td>1.000000</td>\n      <td>1.000000</td>\n      <td>1.000000</td>\n      <td>1.000000</td>\n      <td>1.000000</td>\n      <td>...</td>\n      <td>1.000000</td>\n      <td>1.000000</td>\n      <td>1.000000</td>\n      <td>1.000000</td>\n      <td>1.000000</td>\n      <td>0.0</td>\n      <td>1.000000</td>\n      <td>1.000000</td>\n      <td>0.0</td>\n      <td>1.0</td>\n    </tr>\n    <tr>\n      <th>481</th>\n      <td>1.0</td>\n      <td>1.000000</td>\n      <td>1.000000</td>\n      <td>1.000000</td>\n      <td>0.900000</td>\n      <td>1.000000</td>\n      <td>1.000000</td>\n      <td>1.000000</td>\n      <td>1.000000</td>\n      <td>1.000000</td>\n      <td>...</td>\n      <td>1.000000</td>\n      <td>0.800000</td>\n      <td>1.000000</td>\n      <td>0.909091</td>\n      <td>1.000000</td>\n      <td>1.0</td>\n      <td>1.000000</td>\n      <td>1.000000</td>\n      <td>1.0</td>\n      <td>0.0</td>\n    </tr>\n  </tbody>\n</table>\n<p>482 rows × 482 columns</p>\n</div>"
     },
     "execution_count": 199,
     "metadata": {},
     "output_type": "execute_result"
    }
   ],
   "source": [
    "from commons import (\n",
    "    get_distance_matrix,\n",
    "    kmeans_silhouette\n",
    ")\n",
    "\n",
    "distance_matrix = get_distance_matrix(offers_frame, 'RequiredSkills')\n",
    "distance_matrix"
   ]
  },
  {
   "cell_type": "markdown",
   "id": "6275ffe84720f62d",
   "metadata": {
    "collapsed": false
   },
   "source": [
    "## Clustering \n",
    "\n",
    "Nella sezione qui di seguito vengono effettuati degli esperimenti con diversi algoritmi di Clustering, per valutare i risultati useremo il **Silhouette Score**, questo perchè fornisce più dettagli riguardo alle relazioni, in particolare la separazione, tra cluster.\n",
    "\n",
    "Per interpretare i risultati del Silhouette Score è importante notare che i valori, che variano da -1 a +1 hanno i seguenti significati:\n",
    "-  1: Gli Item sono assegnati a un cluster specifico e i cluster sono facilmente distinguibili.\n",
    "-  0: I cluster si sovrappongono.\n",
    "- -1: Gli Item vengono assegnati a cluster errati."
   ]
  },
  {
   "cell_type": "markdown",
   "source": [
    "### KMeans\n"
   ],
   "metadata": {
    "collapsed": false
   },
   "id": "8474c523e1358120"
  },
  {
   "cell_type": "code",
   "execution_count": 200,
   "id": "25a63464d6f5d895",
   "metadata": {
    "collapsed": false,
    "ExecuteTime": {
     "end_time": "2024-01-30T17:12:18.849543500Z",
     "start_time": "2024-01-30T17:10:27.393816500Z"
    }
   },
   "outputs": [
    {
     "name": "stdout",
     "output_type": "stream",
     "text": [
      "Score for 3: -0.008\n",
      "Score for 4: -0.001\n",
      "Score for 5: -0.006\n",
      "Score for 6: 0.011\n"
     ]
    }
   ],
   "source": [
    "from concurrent.futures import ThreadPoolExecutor, as_completed\n",
    "from sklearn.cluster import KMeans\n",
    "\n",
    "\n",
    "def evaluate_clustering(k):\n",
    "    tmp_kmeans = KMeans(n_clusters=k, init='k-means++', n_init=5, random_state=42)\n",
    "    tmp_labels = tmp_kmeans.fit_predict(distance_matrix)\n",
    "    offers_frame['Group'] = tmp_labels\n",
    "    \n",
    "    score = kmeans_silhouette(offers_frame, tmp_kmeans)\n",
    "    return score, k\n",
    "\n",
    "# --- See how many clusters perform the best\n",
    "max_value = -2\n",
    "best_value = 0\n",
    "with ThreadPoolExecutor(max_workers=4) as executor:\n",
    "    futures = [executor.submit(evaluate_clustering, k) for k in range(3, 7)]\n",
    "    for future in as_completed(futures):\n",
    "        try:\n",
    "            value, k = future.result()\n",
    "            print(f'Score for {k}: {value:.3f}')\n",
    "            if value > max_value:\n",
    "                best_value = k\n",
    "        except Exception as something:\n",
    "            import traceback\n",
    "            traceback.print_exc()\n",
    "            print(f'Something went wrong: {something}')\n",
    "            break\n"
   ]
  },
  {
   "cell_type": "markdown",
   "source": [
    "### Birch\n",
    "\n",
    "Dati gli scarsi risultati con il KMeans è stata effettuata una ricerca di algoritmi più adatti, i primi miglioramenti sono stati ottenuti con il Birch (...), nonostante ciò il margine di miglioramento era ancora alto. \n",
    "\n",
    "Un problema potrebbe essere la dimensione della Distance Matrix, infatti anche se il Birch è più flessibile, in generale gli algoritmi di clustering non lavorano bene su dati con molte dimensioni, che tra l'altro sono destinate ad aumentare con l'aggiunta di nuove offerte nel sistema; l'intuizione è quindi stata quella di applicare una tecnica di riduzione delle dimensionalità chiamata **Principal Component Analysis** (che avevamo già esplorato per effettuare la visualizzazione mostrata di seguito).\n"
   ],
   "metadata": {
    "collapsed": false
   },
   "id": "23fe446a32a2764b"
  },
  {
   "cell_type": "code",
   "execution_count": 209,
   "outputs": [
    {
     "name": "stdout",
     "output_type": "stream",
     "text": [
      "Best Parameters with Distance Matrix: {'branching_factor': 100, 'n_clusters': 5, 'threshold': 0.5}\n",
      "Best Silhouette Score with Distance Matrix: 0.18\n"
     ]
    }
   ],
   "source": [
    "from sklearn.cluster import Birch\n",
    "from sklearn.model_selection import GridSearchCV\n",
    "from sklearn.metrics import silhouette_score\n",
    "\n",
    "\n",
    "def birch_silhouette_scorer(model, data):\n",
    "    tmp_labels = model.fit_predict(data)\n",
    "    score = silhouette_score(data, tmp_labels)\n",
    "    return score\n",
    "\n",
    "param_grid = {\n",
    "    'n_clusters': [3, 4, 5, 6],\n",
    "    'threshold': [0.5, 0.7, 0.8],\n",
    "    'branching_factor': [50, 100]\n",
    "}\n",
    "gsearch_base = GridSearchCV(Birch(), param_grid, cv=5, scoring=birch_silhouette_scorer, n_jobs=-1)\n",
    "gsearch_base.fit(distance_matrix)\n",
    "\n",
    "print(f\"Best Parameters with Distance Matrix: {gsearch_base.best_params_}\")\n",
    "print(f\"Best Silhouette Score with Distance Matrix: {gsearch_base.best_score_:.2f}\")"
   ],
   "metadata": {
    "collapsed": false,
    "ExecuteTime": {
     "end_time": "2024-01-30T17:12:41.464661700Z",
     "start_time": "2024-01-30T17:12:38.897161500Z"
    }
   },
   "id": "3bbe690aab0ac708"
  },
  {
   "cell_type": "code",
   "execution_count": 211,
   "outputs": [
    {
     "name": "stdout",
     "output_type": "stream",
     "text": [
      "Best Parameters: {'branching_factor': 50, 'n_clusters': 3, 'threshold': 0.5}\n",
      "Best Silhouette Score: 0.47\n"
     ]
    }
   ],
   "source": [
    "from sklearn.decomposition import PCA\n",
    "\n",
    "\n",
    "_pca = PCA(2)\n",
    "_data = _pca.fit_transform(distance_matrix)\n",
    "\n",
    "gsearch_pca = GridSearchCV(Birch(), param_grid, cv=5, scoring=birch_silhouette_scorer, n_jobs=-1)\n",
    "gsearch_pca.fit(_data)\n",
    "\n",
    "print(f\"Best Parameters: {gsearch_pca.best_params_}\")\n",
    "print(f\"Best Silhouette Score: {gsearch_pca.best_score_:.2f}\")"
   ],
   "metadata": {
    "collapsed": false,
    "ExecuteTime": {
     "end_time": "2024-01-30T17:12:58.750999900Z",
     "start_time": "2024-01-30T17:12:57.790998600Z"
    }
   },
   "id": "2bd27ee06b44a00c"
  },
  {
   "cell_type": "code",
   "execution_count": 212,
   "outputs": [],
   "source": [
    "brc = Birch(\n",
    "    n_clusters=gsearch_pca.best_params_['n_clusters'], \n",
    "    threshold=gsearch_pca.best_params_['threshold'], \n",
    "    branching_factor=gsearch_pca.best_params_['branching_factor']\n",
    ")\n",
    "brc.fit(distance_matrix)\n",
    "labels = brc.labels_\n",
    "offers_frame['Group'] = labels"
   ],
   "metadata": {
    "collapsed": false,
    "ExecuteTime": {
     "end_time": "2024-01-30T17:13:00.597505400Z",
     "start_time": "2024-01-30T17:13:00.513997900Z"
    }
   },
   "id": "8addf802a0c30fe9"
  },
  {
   "cell_type": "markdown",
   "id": "b09507c95def3e80",
   "metadata": {
    "collapsed": false
   },
   "source": [
    "### Visualizzazione dei Cluster\n",
    "\n",
    "Visualizzare i risultati è importante per poter trarre delle conclusioni sulla qualità del clustering, la natura dei dati che bisogna visualizzare è però multidimensionale, questo può rendere arduo effettuare un plot; analizzando il problema possiamo dire che il nostro obbiettivo è *poter associare delle coordinate (x, y) a ogni Offerta nel dataset*, in particolare sfruttando la matrice delle distanze.\n",
    "Per fare ciò useremo la riduzione delle dimensionalità tramite **Principal Component Analysis**. "
   ]
  },
  {
   "cell_type": "code",
   "execution_count": 213,
   "id": "579f7329f81d3374",
   "metadata": {
    "collapsed": false,
    "ExecuteTime": {
     "end_time": "2024-01-30T17:13:05.048497500Z",
     "start_time": "2024-01-30T17:13:04.537498100Z"
    }
   },
   "outputs": [
    {
     "data": {
      "text/plain": "<Figure size 1400x1000 with 1 Axes>",
      "image/png": "[encoded data removed]"
     },
     "metadata": {},
     "output_type": "display_data"
    }
   ],
   "source": [
    "from sklearn.decomposition import PCA\n",
    "\n",
    "\n",
    "pca = PCA(2)\n",
    "group_labels = offers_frame['Group']\n",
    "reduced_data = pca.fit_transform(distance_matrix)\n",
    "\n",
    "plt.figure(figsize=(14, 10))\n",
    "sns.scatterplot(x=reduced_data[:,0], y=reduced_data[:,1], hue=group_labels, palette='viridis')\n",
    "plt.title('Offers Clustering')\n",
    "\n",
    "plt.show()"
   ]
  },
  {
   "cell_type": "markdown",
   "source": [
    "### TESTS\n",
    "\n",
    "\n",
    "\n",
    "\n",
    "\n",
    "\n",
    "\n",
    "\n",
    "\n",
    "..."
   ],
   "metadata": {
    "collapsed": false
   },
   "id": "8ffb8f6f99ac8777"
  },
  {
   "cell_type": "markdown",
   "id": "c28773c16c424f1",
   "metadata": {
    "collapsed": false
   },
   "source": [
    "**Esempi**"
   ]
  },
  {
   "cell_type": "code",
   "execution_count": 214,
   "id": "e80d4ba527fa8811",
   "metadata": {
    "collapsed": false,
    "ExecuteTime": {
     "end_time": "2024-01-30T17:13:12.405497400Z",
     "start_time": "2024-01-30T17:13:12.357499900Z"
    }
   },
   "outputs": [
    {
     "data": {
      "text/plain": "                                                  Name  \\\n0                                   Software Developer   \n1                            Junior Software Developer   \n2                                   Software Developer   \n3                                   Software Developer   \n4                            Senior Software Developer   \n..                                                 ...   \n477                        IT On-Site Support Engineer   \n478                           Python Software Engineer   \n479                                  Software Engineer   \n480  Workspace & Endpoint Deployment - System Engineer   \n481  Athonet - Elixir Software Engineer for Mobile ...   \n\n                                           Description  \\\n0    Miniclip is a global leader in digital games w...   \n1    NETtoWORK, azienda italiana nata nel 2016, ope...   \n2    We are looking for talented and passionate peo...   \n3    ARESYS  is a R&D oriented company with nearly ...   \n4    Il/la Candidato/a dovrà padroneggiare: \\n \\n- ...   \n..                                                 ...   \n477  IT On-Site Support EngineerFunctional area: In...   \n478  Now is an amazing time to join Nozomi Networks...   \n479  Who we are:At Mambu, we believe that banking a...   \n480  Intesa Sanpaolo è un gruppo bancario internazi...   \n481  Athonet - Elixir Software Engineer for Mobile ...   \n\n                             Location                        RequiredSkills  \\\n0                     Genova, Liguria                            {101, 100}   \n1                        17100 Savona                       {8, 2, 7, 6, 9}   \n2                         55100 Lucca                     {26, 3, 44, 0, 6}   \n3                  Matera, Basilicata                             {8, 9, 2}   \n4                    Catania, Sicilia  {55, 26, 3, 7, 1, 0, 57, 6, 104, 99}   \n..                                ...                                   ...   \n477                 Milano, Lombardia                                 {103}   \n478                 Milano, Lombardia                       {89, 30, 73, 2}   \n479        Provincia di Latina, Lazio                           {6, 31, 30}   \n480                 Milano, Lombardia                                 {103}   \n481  Cernusco sul Naviglio, Lombardia                                 {104}   \n\n    LocationType          Languages   Latitude  Longitude  Group  \n0         OnSite            inglese  44.405650   8.946256      0  \n1         OnSite           italiano  44.342550   8.429389      2  \n2         OnSite            inglese  43.842920  10.502698      0  \n3         OnSite            inglese  40.666379  16.604320      2  \n4         OnSite           italiano  37.507877  15.083030      0  \n..           ...                ...        ...        ...    ...  \n477       OnSite  inglese, italiano  45.464204   9.189982      0  \n478       OnSite            inglese  45.464204   9.189982      1  \n479       OnSite            inglese  41.408748  13.081790      1  \n480       OnSite  inglese, italiano  45.464204   9.189982      0  \n481       OnSite  inglese, italiano  45.524980   9.332959      0  \n\n[482 rows x 9 columns]",
      "text/html": "<div>\n<style scoped>\n    .dataframe tbody tr th:only-of-type {\n        vertical-align: middle;\n    }\n\n    .dataframe tbody tr th {\n        vertical-align: top;\n    }\n\n    .dataframe thead th {\n        text-align: right;\n    }\n</style>\n<table border=\"1\" class=\"dataframe\">\n  <thead>\n    <tr style=\"text-align: right;\">\n      <th></th>\n      <th>Name</th>\n      <th>Description</th>\n      <th>Location</th>\n      <th>RequiredSkills</th>\n      <th>LocationType</th>\n      <th>Languages</th>\n      <th>Latitude</th>\n      <th>Longitude</th>\n      <th>Group</th>\n    </tr>\n  </thead>\n  <tbody>\n    <tr>\n      <th>0</th>\n      <td>Software Developer</td>\n      <td>Miniclip is a global leader in digital games w...</td>\n      <td>Genova, Liguria</td>\n      <td>{101, 100}</td>\n      <td>OnSite</td>\n      <td>inglese</td>\n      <td>44.405650</td>\n      <td>8.946256</td>\n      <td>0</td>\n    </tr>\n    <tr>\n      <th>1</th>\n      <td>Junior Software Developer</td>\n      <td>NETtoWORK, azienda italiana nata nel 2016, ope...</td>\n      <td>17100 Savona</td>\n      <td>{8, 2, 7, 6, 9}</td>\n      <td>OnSite</td>\n      <td>italiano</td>\n      <td>44.342550</td>\n      <td>8.429389</td>\n      <td>2</td>\n    </tr>\n    <tr>\n      <th>2</th>\n      <td>Software Developer</td>\n      <td>We are looking for talented and passionate peo...</td>\n      <td>55100 Lucca</td>\n      <td>{26, 3, 44, 0, 6}</td>\n      <td>OnSite</td>\n      <td>inglese</td>\n      <td>43.842920</td>\n      <td>10.502698</td>\n      <td>0</td>\n    </tr>\n    <tr>\n      <th>3</th>\n      <td>Software Developer</td>\n      <td>ARESYS  is a R&amp;D oriented company with nearly ...</td>\n      <td>Matera, Basilicata</td>\n      <td>{8, 9, 2}</td>\n      <td>OnSite</td>\n      <td>inglese</td>\n      <td>40.666379</td>\n      <td>16.604320</td>\n      <td>2</td>\n    </tr>\n    <tr>\n      <th>4</th>\n      <td>Senior Software Developer</td>\n      <td>Il/la Candidato/a dovrà padroneggiare: \\n \\n- ...</td>\n      <td>Catania, Sicilia</td>\n      <td>{55, 26, 3, 7, 1, 0, 57, 6, 104, 99}</td>\n      <td>OnSite</td>\n      <td>italiano</td>\n      <td>37.507877</td>\n      <td>15.083030</td>\n      <td>0</td>\n    </tr>\n    <tr>\n      <th>...</th>\n      <td>...</td>\n      <td>...</td>\n      <td>...</td>\n      <td>...</td>\n      <td>...</td>\n      <td>...</td>\n      <td>...</td>\n      <td>...</td>\n      <td>...</td>\n    </tr>\n    <tr>\n      <th>477</th>\n      <td>IT On-Site Support Engineer</td>\n      <td>IT On-Site Support EngineerFunctional area: In...</td>\n      <td>Milano, Lombardia</td>\n      <td>{103}</td>\n      <td>OnSite</td>\n      <td>inglese, italiano</td>\n      <td>45.464204</td>\n      <td>9.189982</td>\n      <td>0</td>\n    </tr>\n    <tr>\n      <th>478</th>\n      <td>Python Software Engineer</td>\n      <td>Now is an amazing time to join Nozomi Networks...</td>\n      <td>Milano, Lombardia</td>\n      <td>{89, 30, 73, 2}</td>\n      <td>OnSite</td>\n      <td>inglese</td>\n      <td>45.464204</td>\n      <td>9.189982</td>\n      <td>1</td>\n    </tr>\n    <tr>\n      <th>479</th>\n      <td>Software Engineer</td>\n      <td>Who we are:At Mambu, we believe that banking a...</td>\n      <td>Provincia di Latina, Lazio</td>\n      <td>{6, 31, 30}</td>\n      <td>OnSite</td>\n      <td>inglese</td>\n      <td>41.408748</td>\n      <td>13.081790</td>\n      <td>1</td>\n    </tr>\n    <tr>\n      <th>480</th>\n      <td>Workspace &amp; Endpoint Deployment - System Engineer</td>\n      <td>Intesa Sanpaolo è un gruppo bancario internazi...</td>\n      <td>Milano, Lombardia</td>\n      <td>{103}</td>\n      <td>OnSite</td>\n      <td>inglese, italiano</td>\n      <td>45.464204</td>\n      <td>9.189982</td>\n      <td>0</td>\n    </tr>\n    <tr>\n      <th>481</th>\n      <td>Athonet - Elixir Software Engineer for Mobile ...</td>\n      <td>Athonet - Elixir Software Engineer for Mobile ...</td>\n      <td>Cernusco sul Naviglio, Lombardia</td>\n      <td>{104}</td>\n      <td>OnSite</td>\n      <td>inglese, italiano</td>\n      <td>45.524980</td>\n      <td>9.332959</td>\n      <td>0</td>\n    </tr>\n  </tbody>\n</table>\n<p>482 rows × 9 columns</p>\n</div>"
     },
     "execution_count": 214,
     "metadata": {},
     "output_type": "execute_result"
    }
   ],
   "source": [
    "from commons import id_to_skill\n",
    "\n",
    "def _similar_offers_with_cluster(offer_id: int) -> list:\n",
    "    target_group = offers_frame.loc[offer_id, 'Group']\n",
    "    return list(\n",
    "        offers_frame[\n",
    "            offers_frame['Group'] == target_group\n",
    "        ].index\n",
    "    )\n",
    "\n",
    "def similar_offers_with_cluster(offer_id: int) -> list:\n",
    "    return [offers_frame.iloc[oid] for oid in _similar_offers_with_cluster(offer_id)]\n",
    "offers_frame"
   ]
  },
  {
   "cell_type": "code",
   "execution_count": 215,
   "id": "bfffa324d864154d",
   "metadata": {
    "collapsed": false,
    "ExecuteTime": {
     "end_time": "2024-01-30T17:13:12.670496300Z",
     "start_time": "2024-01-30T17:13:12.547997300Z"
    }
   },
   "outputs": [
    {
     "name": "stdout",
     "output_type": "stream",
     "text": [
      "Offers Similar to Frontend:\n",
      "\n",
      "0> Software Developer\n",
      "1> Software Developer\n",
      "2> Senior Software Developer\n",
      "3> SOFTWARE DEVELOPER\n",
      "4> Unity game developer\n",
      "5> Frontend\n",
      "6> Software Engineer\n",
      "7> JUNIOR DEVELOPER\n",
      "8> Sviluppatore Java Junior\n",
      "9> Stage Software Developer\n",
      "10> Programmatore senior Java - settore sanità\n",
      "11> Programmatore senior C# / ASP.NET - settore sanità\n",
      "12> Sviluppatore C# - C# Programmer\n",
      "13> HMI Software Developer\n",
      "14> Software Developer\n",
      "15> Software Developer Junior\n",
      "16> Software Engineer\n",
      "17> Full Stack Developer\n",
      "18> Programmatore software\n",
      "19> Appartenente alle categorie protette Software Developer ERP\n",
      "20> L4 Software Developer Apprentice\n",
      "21> Frontend Software Developer\n",
      "22> Senior Software Developer\n",
      "23> Graduate Software Engineer (London)\n",
      "24> Software Developer\n",
      "25> Front End Developer (100% Remote)\n",
      "26> Software Developer Degree Apprenticeship (Nottingham)\n",
      "27> Software Developer\n",
      "28> Software Engineering Lead\n",
      "29> Junior Software Engineer (Backend)\n",
      "30> Software Engineer Intern\n",
      "31> Software Developer\n",
      "32> Software Developer\n",
      "33> Emerging Threats Intelligence Intern (Remote)\n",
      "34> Programming Intern\n",
      "35> Web Developer\n",
      "36> Technology Cyber & Security Analyst Foundation Apprenticeship 2024 (London)\n",
      "37> Engineering Intern (Edinburgh / UK Remote)\n",
      "38> Software Engineer\n",
      "39> Software Engineer (EU) - App Catalog\n",
      "40> Software Application Engineer Intern\n",
      "41> Senior Backend Specialist (100% remote)\n",
      "42> Web Development Manager\n",
      "43> Freelance Web & UX Developer\n",
      "44> Frontend Development Engineers\n",
      "45> Middle+ Front-End Developer\n",
      "46> General Node.js Engineer (Remote)\n",
      "47> Junior Web Developer\n",
      "48> Frontend Developer\n",
      "49> 2024 Intern - Software Development Engineering\n",
      "50> Web Developer Apprentice\n",
      "51> Server Engineer, Band 6- CITS\n",
      "52> NETWORK ENGINEER\n",
      "53> ICT NETWORK & SECURITY SPECIALIST\n",
      "54> Network Engineer - Roma Rif. 512\n",
      "55> Junior Network Engineer\n",
      "56> Sviluppatore Web\n",
      "57> Front End Developer\n",
      "58> Sviluppatore Web - Middle/Senior\n",
      "59> senior frontend developer\n",
      "60> Sviluppatore Applicazioni Web\n",
      "61> Sviluppatore PHP\n",
      "62> Shopify Developer\n",
      "63> Javascript Frontend\n",
      "64> FRONTEND DEVELOPER\n",
      "65> WEB DEVELOPER - FULL STACK JUNIOR\n",
      "66> Sviluppatori Web Mobile\n",
      "67> FrontEnd Javascript\n",
      "68> Programmatore PHP Junior\n",
      "69> Full Stack Web Developer\n",
      "70> Programmatore Informatico LabView e C#\n",
      "71> Backend Developer\n",
      "72> JUNIOR DEVELOPER\n",
      "73> Full Stack Developer\n",
      "74> Front End Developer Intern\n",
      "75> Software Developer\n",
      "76> Senior Site Reliability Developer (Virtual networking)\n",
      "77> Senior iOS Developer\n",
      "78> PDS AD&GMP Scientist I\n",
      "79> Sistemista Junior - System Administrator\n",
      "80> SYSTEM ADMINISTRATOR\n",
      "81> DBA SQL Server\n",
      "82> Oracle Database Administrator\n",
      "83> Application Support Technician – Database Administrator\n",
      "84> Junior Systems Administrator\n",
      "85> Database Administrator\n",
      "86> Database Administrator NoSQL\n",
      "87> Database Administrator | SQL\n",
      "88> SVILUPPATORE SOFTWARE\n",
      "89> Cloud Database Administrator\n",
      "90> System Administrator\n",
      "91> SYSTEM ADMINISTRATOR\n",
      "92> Stage | System Administrator Junior\n",
      "93> SOC Analyst Cybersecurity\n",
      "94> Senior Developer\n",
      "95> Embedded Developer\n",
      "96> Senior Staff Product Engineer for Embedded Tools (f/m/div)\n",
      "97> Internship Engineer for Advanced Process Control\n",
      "98> DevOps Engineer Senior\n",
      "99> Software Quality Engineer\n",
      "100> Software Developer - POEI\n",
      "101> Software Engineer - Front-End F/H\n",
      "102> Internship - Junior Software Developer\n",
      "103> Business Developer Junior H/F\n",
      "104> Back-End Software Engineer H/F\n",
      "105> Software Engineer\n",
      "106> Ingénieur Data H/F - Toulouse (31)\n",
      "107> Front-end Developer\n",
      "108> Front-end developer H/F\n",
      "109> Frontend Developer\n",
      "110> Vue.js Frontend Developer M/F\n",
      "111> Expert Javascript (vanilla) - Frontend developer - F/M\n",
      "112> Internship - Software developer\n",
      "113> Frontend Developer F/H\n",
      "114> STAGE DÉVELOPPEUR WEB Full Stack\n",
      "115> Frontend Developer Typescript/ReactJS\n",
      "116> Frontend developers\n",
      "117> Frontend Developer\n",
      "118> Frontend - ReactJS [Freelance]\n",
      "119> Frontend Developer (Orange Team)\n",
      "120> Desarrollador/a frontend\n",
      "121> Senior Frontend Developer\n",
      "122> Frontend Developer (React) Freelance\n",
      "123> Frontend Engineer, Patients Area (100% remote-friendly within Spain)\n",
      "124> Java Tech Lead (Spain) - Remote Work\n",
      "125> Frontend Angular+ React (Remote job)\n",
      "126> JAVA DEVELOPER (FULL REMOTE)\n",
      "127> Backend developers\n",
      "128> Senior Backend Developer\n",
      "129> Backend Developer\n",
      "130> Java Springboot Developer (remote)\n",
      "131> Java Backend Developer (Remote in Spain)\n",
      "132> (Senior) Fullstack Developer Marketplace (m/f/d)\n",
      "133> Java Backend Developer (100% Remoto), 100% En remoto\n",
      "134> Personalized Internet Assessor – Spain (Spanish Language)\n",
      "135> Frontend Developer - Vue.JS\n",
      "136> Frontend Developer\n",
      "137> Frontend Developer Tracking (m/f/d)\n",
      "138> Fullstack-Developer Frontend-Focus (m/w/d)\n",
      "139> Frontend Developer in Alicante\n",
      "140> Frontend Developer (Vue)\n",
      "141> CO27 - FrontEnd Developer (React)\n",
      "142> Frontend developer\n",
      "143> Python Engineer (Remote)\n",
      "144> Backend Engineer - Sports\n",
      "145> Microservices Software Engineer\n",
      "146> Data Engineer/Google Cloud\n",
      "147> Systems Reliability Engineer - hybrid cloud - Barcelona\n",
      "148> Associate Solution Engineer\n",
      "149> Advanced Support Engineer- Database\n",
      "150> Front-end Engineer\n",
      "151> Frontend Engineer (React/Remote)\n",
      "152> Principal Game Developer\n",
      "153> PHP Developer\n",
      "154> Backend Developer\n",
      "155> Game Automation Director\n",
      "156> Unity Developer\n",
      "157> Ruby on rails Junior Developer (Remote)\n",
      "158> Full Stack Developer\n",
      "159> Junior Java Developer\n",
      "160> Front-End Development Intern MIS\n",
      "161> Backend Java Developer\n",
      "162> Flutter Developer (Intern)\n",
      "163> Associate Software Developer\n",
      "164> Lead Email Developer (HTML)\n",
      "165> Flutter Developer\n",
      "166> Senior Software Developer\n",
      "167> Backend Engineer\n",
      "168> Principal Developer | Candy Crush Soda Saga\n",
      "169> INTEGRATED PRODUCER MADRID- PIPELINE\n",
      "170> Fullstack Developer - PHP & JavaScript\n",
      "171> Angular Front-End Developer (Málaga)\n",
      "172> Backend Developer PHP\n",
      "173> Senior Core Developer - BCN\n",
      "174> Lead/Senior Unity Developer C#\n",
      "175> Art Design Project Manager\n",
      "176> Release Manager\n",
      "177> IOS Developer\n",
      "178> Senior Developer Javascript/Typescript -Full remote\n",
      "179> Unity3D Senior Developer\n",
      "180> Quality Analyst I\n",
      "181> PHP Laravel Backend Developer in Alicante\n",
      "182> Game developer Intern, Unity C#\n",
      "183> Game developer\n",
      "184> Game Programmer\n",
      "185> Game Developer - Jeux Mobile Casual\n",
      "186> Game programmer\n",
      "187> Gameplay Programmer – Projet non annoncé - F/H/NB\n",
      "188> Programmeur Gameplay (H/F/NB) Projet Multijoueurs\n",
      "189> Senior Game Developer\n",
      "190> Développeur.se Jeux vidéo Unity\n",
      "191> Gameplay Programmer Unreal - F/H/NB\n",
      "192> Gameplay programmer Unity\n",
      "193> Programmeur gameplay H/F\n",
      "194> Programmeur Systèmes Gameplay (H/F)\n",
      "195> Junior GamePlay Programmer\n",
      "196> Programmeuse / Programmeur Gameplay\n",
      "197> Lead Gameplay Programmer (F/H/NB)\n",
      "198> Gameplay & UI Programmer (UE5)\n",
      "199> Programmeur Gameplay Senior H/F (Flight Sim)\n",
      "200> Lead Gameplay Programmer - F/H/NB\n",
      "201> Senior Gameplay Programmer C++\n",
      "202> Animateur d'atelier - développeur de jeux vidéo- PERISCOLAIRE TUMO en TEMPS PARTIEL\n",
      "203> Programmeur gameplay c++\n",
      "204> DEVELOPPEUR .NET (BORNES DE JEUX) H/F\n",
      "205> Lead développeur Jeux Vidéo Unreal Engine (H/F)\n",
      "206> Développeur Back-End Nodejs - Junior 2 ans Xp - Jeux et paris en ligne\n",
      "207> Développeur Python senior - Jeux vidéos - CDI - Paris - 60k\n",
      "208> Game Developer Unity\n",
      "209> Lead Game Developer Unity\n",
      "210> Programmeur Gameplay (H/F/NB)\n",
      "211> Programmeur Systèmes Gameplay (H/F/NB)\n",
      "212> Programmeur Gameplay (H/F/NB) – Projet Multi-joueurs\n",
      "213> Programmeur Gameplay H/F (Flight Sim)\n",
      "214> Programmeur Gameplay (Intelligence Artificielle) (H/F/NB)\n",
      "215> Gameplay Programmer\n",
      "216> Programmeur Gameplay Physique (H/F/NB) - Projet Multi-joueurs\n",
      "217> Gameplay Programmer - FR\n",
      "218> Programmeur Gameplay IA (H/F/NB) - Projet Multi-joueurs\n",
      "219> Développeur Jeux Vidéo F/H\n",
      "220> Customer Engineer, Security, Google Cloud\n",
      "221> Data Engineer TALEND\n",
      "222> Cloud Engineer\n",
      "223> QA Engineer H/F\n",
      "224> Stage Data Engineer - Prévisions & Analyse Réseaux\n",
      "225> Sr Auto SW Apps Engineer\n",
      "226> Data Engineer (H/F)\n",
      "227> DATA ANALYST / ENGINEER (F/H)\n",
      "228> Data Engineer Cloud– GCP Confirmé F/H\n",
      "229> Data engineer – Hauts de France / Lille (59)\n",
      "230> Software Development Engineer\n",
      "231> Software Engineer H/F\n",
      "232> Software engineer (H/F) - Stage\n",
      "233> STAGIAIRE SOFTWARE ENGINEER (H/F)\n",
      "234> Cloud System Engineer\n",
      "235> Field Service Engineer\n",
      "236> Oracle cloud specialist\n",
      "237> Support Engineer\n",
      "238> Delivery Engineer\n",
      "239> Customer Engineer, Google for Education\n",
      "240> Full Stack Software Engineer\n",
      "241> IT On-Site Support Engineer\n",
      "242> Workspace & Endpoint Deployment - System Engineer\n",
      "243> Athonet - Elixir Software Engineer for Mobile Core\n"
     ]
    }
   ],
   "source": [
    "print(f'Offers Similar to {offers_frame.iloc[8][\"Name\"]}:\\n')\n",
    "for i, o in enumerate(similar_offers_with_cluster(8)):\n",
    "    print(f'{i}> {o[\"Name\"]}')"
   ]
  },
  {
   "cell_type": "code",
   "execution_count": 216,
   "id": "e2e100d8727fd2bf",
   "metadata": {
    "collapsed": false,
    "ExecuteTime": {
     "end_time": "2024-01-30T17:13:12.859998300Z",
     "start_time": "2024-01-30T17:13:12.781998300Z"
    }
   },
   "outputs": [
    {
     "name": "stdout",
     "output_type": "stream",
     "text": [
      "Offers Similar to Software Developer:\n",
      "\n",
      "0> Junior Software Developer\n",
      "1> Software Developer\n",
      "2> IBP Junior Algorithms Software Development\n",
      "3> Manufacturing Software Engineer / Relocation USA\n",
      "4> Sviluppatore software\n",
      "5> Campus - Graduate Programme - Technology Graduate Software Engineer - 2024 (UK)\n",
      "6> System Software Engineer, Summer Intern - 2024 Start (Fixed-Term Contract)\n",
      "7> Quality Assurance/Manual Testing\n",
      "8> Cyber Security Analyst - Undergraduate\n",
      "9> Energy Harvesting Internship – Starting Summer 2024\n",
      "10> Software Engineer (University Grad)\n",
      "11> Electrochemical Modelling - Energy Storage Internship – Starting Summer 2024 (12 months)\n",
      "12> Macro Research Analyst and Associate Internship 2024 London\n",
      "13> Graduate Technical Consultant (London)\n",
      "14> SIEM Engineer\n",
      "15> Network Production Engineer\n",
      "16> AI Developer - MILANO [DIG]\n",
      "17> Data Analyst\n",
      "18> Junior IT Consultant - Full Remote\n",
      "19> Control System Engineer\n",
      "20> Computer Vision Alorithm / SW Engineer\n",
      "21> Gridspertise - Data and Intelligence Lead\n",
      "22> DATA SCIENTIST\n",
      "23> Simulation Machine Learning Analyst\n",
      "24> Business Intelligence & Data Modeling Analyst\n",
      "25> Al Engineers-Machine Learning & Deep Learning\n",
      "26> Backend Engineer\n",
      "27> Developer - GOV.UK Notify\n",
      "28> Senior Backend Developer\n",
      "29> Junior Data Scientist\n",
      "30> Data Scientist\n",
      "31> DATA SCIENTIST | MACHINE LEARNING | BIG DATA\n",
      "32> EU Institutions: AI Machine Learning Data Scientist\n",
      "33> Database Administrator - Broking\n",
      "34> Cybersecurity Analyst\n",
      "35> Martech Analyst\n",
      "36> Functional Analyst - Data Analyst\n",
      "37> Cyber Threat Intelligence Analyst\n",
      "38> Business Intelligence Analyst\n",
      "39> Junior DevOps Engineer\n",
      "40> Python Developer/DevOps Engineer\n",
      "41> DEVOPS ENGINEER | INFRASTRUCTURE DEVOPS | FULL REMOTE\n",
      "42> Software Integration Engineer\n",
      "43> Junior Embedded Software Engineer\n",
      "44> Software Engineer / Automation Project Leader\n",
      "45> STAGE - Data Scientist / Engineer - Evaluer et développer des approches IA - F/H\n",
      "46> STAGE - Ingénieur-Analyste Data / INTERNSHIP - Data Engineer-Analyst (H/F)\n",
      "47> Stage – Ingénieur Data H/F - AS 24\n",
      "48> Back-end or Front-end Developer (Intern)\n",
      "49> Backend Developer (Kraken Siphon)\n",
      "50> Full Stack Developer\n",
      "51> Backend developer [Remote]\n",
      "52> Junior Machine Learning Engineer\n",
      "53> Machine Learning Scientist\n",
      "54> Junior Data Scientist\n",
      "55> Data Science (Remoto)\n",
      "56> Data Scientist- 100% remoto M/F\n",
      "57> Data Scientist\n",
      "58> Machine Learning / Java Developer\n",
      "59> Investigador predoctoral en Machine Learning\n",
      "60> Manager, Machine Learning Engineering\n",
      "61> FULLREMOTE-Data Scientist (Time Series)\n",
      "62> Cloud Engineer\n",
      "63> DATA ENGINEER/DATA SCIENTIST\n",
      "64> MLOps _ Engineer - MADRID\n",
      "65> Cloud Engineer (Private Cloud) - Alicante - Hibryd\n",
      "66> Cloud Software Engineer\n",
      "67> Data Engineer\n",
      "68> Python Data Engineer (Remote)\n",
      "69> Senior Simulation Software Engineer\n",
      "70> Cloud Site Reliability Architect\n",
      "71> Machine Learning Engineer - Mobility Data Platform\n",
      "72> Stress Engineer (Aerospace)\n",
      "73> Content Creator\n",
      "74> Senior Gameplay Programmer\n",
      "75> Sales Engineer\n",
      "76> Software Engineer - AI & ML - France or Remote EMEA\n",
      "77> Software Engineer - MLOps - France or Remote France\n",
      "78> Cloud Conversational AI Engineer, Google Cloud (English, French)\n",
      "79> Data Engineer H/F\n",
      "80> Data Cloud Engineer (IT) / Freelance\n",
      "81> Data engineer Google cloud plateforme (H/F)\n",
      "82> Data engineer (IT) / Freelance\n",
      "83> Machine Learning Engineer H/F/NB\n",
      "84> MLOps Engineer F/H\n",
      "85> Cloud Data Engineer H/F\n",
      "86> AI / GenAI Manager (F/H)\n",
      "87> Stagiaire Data Engineer Teradata H/F\n",
      "88> DATA ENGINEER H/F DÉCOUVRIR PARIS - CDI\n",
      "89> Senior Solutions Engineer\n",
      "90> Technical Solutions Engineer, Networking, Google Cloud\n",
      "91> Cloud AI Engineer\n",
      "92> ARTIFICIAL INTELLIGENCE ENGINEER\n",
      "93> Big Data Engineer - Sede di Napoli\n",
      "94> Solution Engineer (different levels available) - Salesforce Data Cloud\n",
      "95> Cloud Infrastructure Engineer - GCP - Remote\n",
      "96> Junior Data Engineer\n",
      "97> Junior Data Engineer (Internship)\n"
     ]
    }
   ],
   "source": [
    "print(f'Offers Similar to {offers_frame.iloc[0][\"Name\"]}:\\n')\n",
    "for i, o in enumerate(similar_offers_with_cluster(240)):\n",
    "    print(f'{i}> {o[\"Name\"]}')"
   ]
  },
  {
   "cell_type": "code",
   "execution_count": 217,
   "id": "8ea76fef7366463d",
   "metadata": {
    "collapsed": false,
    "ExecuteTime": {
     "end_time": "2024-01-30T17:13:13.097498600Z",
     "start_time": "2024-01-30T17:13:12.956997400Z"
    }
   },
   "outputs": [
    {
     "name": "stdout",
     "output_type": "stream",
     "text": [
      "Offers Similar to Software Developer:\n",
      "\n",
      "0> Junior Software Developer\n",
      "1> Software Developer\n",
      "2> IBP Junior Algorithms Software Development\n",
      "3> Manufacturing Software Engineer / Relocation USA\n",
      "4> Sviluppatore software\n",
      "5> Campus - Graduate Programme - Technology Graduate Software Engineer - 2024 (UK)\n",
      "6> System Software Engineer, Summer Intern - 2024 Start (Fixed-Term Contract)\n",
      "7> Quality Assurance/Manual Testing\n",
      "8> Cyber Security Analyst - Undergraduate\n",
      "9> Energy Harvesting Internship – Starting Summer 2024\n",
      "10> Software Engineer (University Grad)\n",
      "11> Electrochemical Modelling - Energy Storage Internship – Starting Summer 2024 (12 months)\n",
      "12> Macro Research Analyst and Associate Internship 2024 London\n",
      "13> Graduate Technical Consultant (London)\n",
      "14> SIEM Engineer\n",
      "15> Network Production Engineer\n",
      "16> AI Developer - MILANO [DIG]\n",
      "17> Data Analyst\n",
      "18> Junior IT Consultant - Full Remote\n",
      "19> Control System Engineer\n",
      "20> Computer Vision Alorithm / SW Engineer\n",
      "21> Gridspertise - Data and Intelligence Lead\n",
      "22> DATA SCIENTIST\n",
      "23> Simulation Machine Learning Analyst\n",
      "24> Business Intelligence & Data Modeling Analyst\n",
      "25> Al Engineers-Machine Learning & Deep Learning\n",
      "26> Backend Engineer\n",
      "27> Developer - GOV.UK Notify\n",
      "28> Senior Backend Developer\n",
      "29> Junior Data Scientist\n",
      "30> Data Scientist\n",
      "31> DATA SCIENTIST | MACHINE LEARNING | BIG DATA\n",
      "32> EU Institutions: AI Machine Learning Data Scientist\n",
      "33> Database Administrator - Broking\n",
      "34> Cybersecurity Analyst\n",
      "35> Martech Analyst\n",
      "36> Functional Analyst - Data Analyst\n",
      "37> Cyber Threat Intelligence Analyst\n",
      "38> Business Intelligence Analyst\n",
      "39> Junior DevOps Engineer\n",
      "40> Python Developer/DevOps Engineer\n",
      "41> DEVOPS ENGINEER | INFRASTRUCTURE DEVOPS | FULL REMOTE\n",
      "42> Software Integration Engineer\n",
      "43> Junior Embedded Software Engineer\n",
      "44> Software Engineer / Automation Project Leader\n",
      "45> STAGE - Data Scientist / Engineer - Evaluer et développer des approches IA - F/H\n",
      "46> STAGE - Ingénieur-Analyste Data / INTERNSHIP - Data Engineer-Analyst (H/F)\n",
      "47> Stage – Ingénieur Data H/F - AS 24\n",
      "48> Back-end or Front-end Developer (Intern)\n",
      "49> Backend Developer (Kraken Siphon)\n",
      "50> Full Stack Developer\n",
      "51> Backend developer [Remote]\n",
      "52> Junior Machine Learning Engineer\n",
      "53> Machine Learning Scientist\n",
      "54> Junior Data Scientist\n",
      "55> Data Science (Remoto)\n",
      "56> Data Scientist- 100% remoto M/F\n",
      "57> Data Scientist\n",
      "58> Machine Learning / Java Developer\n",
      "59> Investigador predoctoral en Machine Learning\n",
      "60> Manager, Machine Learning Engineering\n",
      "61> FULLREMOTE-Data Scientist (Time Series)\n",
      "62> Cloud Engineer\n",
      "63> DATA ENGINEER/DATA SCIENTIST\n",
      "64> MLOps _ Engineer - MADRID\n",
      "65> Cloud Engineer (Private Cloud) - Alicante - Hibryd\n",
      "66> Cloud Software Engineer\n",
      "67> Data Engineer\n",
      "68> Python Data Engineer (Remote)\n",
      "69> Senior Simulation Software Engineer\n",
      "70> Cloud Site Reliability Architect\n",
      "71> Machine Learning Engineer - Mobility Data Platform\n",
      "72> Stress Engineer (Aerospace)\n",
      "73> Content Creator\n",
      "74> Senior Gameplay Programmer\n",
      "75> Sales Engineer\n",
      "76> Software Engineer - AI & ML - France or Remote EMEA\n",
      "77> Software Engineer - MLOps - France or Remote France\n",
      "78> Cloud Conversational AI Engineer, Google Cloud (English, French)\n",
      "79> Data Engineer H/F\n",
      "80> Data Cloud Engineer (IT) / Freelance\n",
      "81> Data engineer Google cloud plateforme (H/F)\n",
      "82> Data engineer (IT) / Freelance\n",
      "83> Machine Learning Engineer H/F/NB\n",
      "84> MLOps Engineer F/H\n",
      "85> Cloud Data Engineer H/F\n",
      "86> AI / GenAI Manager (F/H)\n",
      "87> Stagiaire Data Engineer Teradata H/F\n",
      "88> DATA ENGINEER H/F DÉCOUVRIR PARIS - CDI\n",
      "89> Senior Solutions Engineer\n",
      "90> Technical Solutions Engineer, Networking, Google Cloud\n",
      "91> Cloud AI Engineer\n",
      "92> ARTIFICIAL INTELLIGENCE ENGINEER\n",
      "93> Big Data Engineer - Sede di Napoli\n",
      "94> Solution Engineer (different levels available) - Salesforce Data Cloud\n",
      "95> Cloud Infrastructure Engineer - GCP - Remote\n",
      "96> Junior Data Engineer\n",
      "97> Junior Data Engineer (Internship)\n"
     ]
    }
   ],
   "source": [
    "print(f'Offers Similar to {offers_frame.iloc[13][\"Name\"]}:\\n')\n",
    "for i, o in enumerate(similar_offers_with_cluster(237)):\n",
    "    print(f'{i}> {o[\"Name\"]}')"
   ]
  }
 ],
 "metadata": {
  "kernelspec": {
   "display_name": "Python 3 (ipykernel)",
   "language": "python",
   "name": "python3"
  },
  "language_info": {
   "codemirror_mode": {
    "name": "ipython",
    "version": 3
   },
   "file_extension": ".py",
   "mimetype": "text/x-python",
   "name": "python",
   "nbconvert_exporter": "python",
   "pygments_lexer": "ipython3",
   "version": "3.11.5"
  }
 },
 "nbformat": 4,
 "nbformat_minor": 5
}
