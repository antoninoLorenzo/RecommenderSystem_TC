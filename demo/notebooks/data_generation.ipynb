{
 "cells": [
  {
   "cell_type": "code",
   "execution_count": 9,
   "id": "initial_id",
   "metadata": {
    "collapsed": true,
    "ExecuteTime": {
     "end_time": "2024-01-28T17:33:10.444339400Z",
     "start_time": "2024-01-28T17:33:10.418017200Z"
    }
   },
   "outputs": [],
   "source": [
    "import sqlite3\n",
    "import numpy as np\n",
    "import pandas as pd\n",
    "import matplotlib.pyplot as plt\n",
    "%matplotlib inline\n",
    "import seaborn as sns"
   ]
  },
  {
   "cell_type": "markdown",
   "source": [
    "<h2> Skills </h2>\n",
    "Come prima parte della generazione dei dati, è necessario specificare quali siano le possibili skill che un developer possa avere.\n"
   ],
   "metadata": {
    "collapsed": false
   },
   "id": "50e05a882c1509b3"
  },
  {
   "cell_type": "code",
   "outputs": [
    {
     "data": {
      "text/plain": "          SKILL                  TYPE\nID                                   \n0    JavaScript  Programming Language\n1          HTML  Programming Language\n2        Python  Programming Language\n3           SQL  Programming Language\n4    TypeScript  Programming Language\n..          ...                   ...\n100         Git                  Tool\n101      Travis                  Tool\n102       Swift  Programming Language\n103         iOS      Operating System\n104       Linux      Operating System\n\n[95 rows x 2 columns]",
      "text/html": "<div>\n<style scoped>\n    .dataframe tbody tr th:only-of-type {\n        vertical-align: middle;\n    }\n\n    .dataframe tbody tr th {\n        vertical-align: top;\n    }\n\n    .dataframe thead th {\n        text-align: right;\n    }\n</style>\n<table border=\"1\" class=\"dataframe\">\n  <thead>\n    <tr style=\"text-align: right;\">\n      <th></th>\n      <th>SKILL</th>\n      <th>TYPE</th>\n    </tr>\n    <tr>\n      <th>ID</th>\n      <th></th>\n      <th></th>\n    </tr>\n  </thead>\n  <tbody>\n    <tr>\n      <th>0</th>\n      <td>JavaScript</td>\n      <td>Programming Language</td>\n    </tr>\n    <tr>\n      <th>1</th>\n      <td>HTML</td>\n      <td>Programming Language</td>\n    </tr>\n    <tr>\n      <th>2</th>\n      <td>Python</td>\n      <td>Programming Language</td>\n    </tr>\n    <tr>\n      <th>3</th>\n      <td>SQL</td>\n      <td>Programming Language</td>\n    </tr>\n    <tr>\n      <th>4</th>\n      <td>TypeScript</td>\n      <td>Programming Language</td>\n    </tr>\n    <tr>\n      <th>...</th>\n      <td>...</td>\n      <td>...</td>\n    </tr>\n    <tr>\n      <th>100</th>\n      <td>Git</td>\n      <td>Tool</td>\n    </tr>\n    <tr>\n      <th>101</th>\n      <td>Travis</td>\n      <td>Tool</td>\n    </tr>\n    <tr>\n      <th>102</th>\n      <td>Swift</td>\n      <td>Programming Language</td>\n    </tr>\n    <tr>\n      <th>103</th>\n      <td>iOS</td>\n      <td>Operating System</td>\n    </tr>\n    <tr>\n      <th>104</th>\n      <td>Linux</td>\n      <td>Operating System</td>\n    </tr>\n  </tbody>\n</table>\n<p>95 rows × 2 columns</p>\n</div>"
     },
     "execution_count": 10,
     "metadata": {},
     "output_type": "execute_result"
    }
   ],
   "source": [
    "with sqlite3.connect('../datasets/skills_dataset.db') as skills_conn:\n",
    "    skills_frame = pd.read_sql('SELECT * FROM Skills', skills_conn, index_col='ID') \n",
    "skills_frame"
   ],
   "metadata": {
    "collapsed": false,
    "ExecuteTime": {
     "end_time": "2024-01-28T17:33:10.480050600Z",
     "start_time": "2024-01-28T17:33:10.447314900Z"
    }
   },
   "id": "c441ca59f1ed6b60",
   "execution_count": 10
  },
  {
   "cell_type": "code",
   "outputs": [
    {
     "data": {
      "text/plain": "      Linguaggi di Programmazione                           Framework  \\\nID                                                                      \n1             HTML,CSS,JavaScript                React,Angular,Vue.js   \n2               Python,JavaScript                  Django,Flask,NumPy   \n3       TypeScript,JavaScript,CSS                React,Angular,Vue.js   \n4                     Bash,Python          NumPy,PyTorch,Scikit-Learn   \n5    Java,C++,HTML,CSS,JavaScript  Spring,JavaEE,React,Angular,Vue.js   \n..                            ...                                 ...   \n504           CSS,JavaScript,HTML                React,Angular,Vue.js   \n505           HTML,CSS,JavaScript                React,Angular,Vue.js   \n506         Python,JavaScript,CSS                  Django,Flask,NumPy   \n507     TypeScript,JavaScript,CSS                React,Angular,Vue.js   \n508        Bash,Python,JavaScript          NumPy,PyTorch,Scikit-Learn   \n\n                              Database                      Tools  \\\nID                                                                  \n1                         MySQL,Oracle  npm,Webpack,Visual Studio   \n2                        MongoDB,MySQL      Pip,Homebrew,Composer   \n3                     PostgreSQL,MySQL         Yarn,Webpack,CMake   \n4                        MongoDB,Redis     Docker,Pacman,Homebrew   \n5    MySQL,Oracle,Microsoft SQL Server    Maven,Gradle,Kubernetes   \n..                                 ...                        ...   \n504                   MySQL,PostgreSQL  npm,Webpack,Visual Studio   \n505                        MySQL,Redis  npm,Webpack,Visual Studio   \n506                      MongoDB,MySQL      Pip,Homebrew,Composer   \n507                   PostgreSQL,MySQL         Yarn,Webpack,CMake   \n508                      MongoDB,Redis     Docker,Pacman,Homebrew   \n\n            Cloud  \nID                 \n1          Heroku  \n2             AWS  \n3    Google Cloud  \n4          Docker  \n5           Azure  \n..            ...  \n504        Vercel  \n505       Netlify  \n506           AWS  \n507           AWS  \n508  Google Cloud  \n\n[476 rows x 5 columns]",
      "text/html": "<div>\n<style scoped>\n    .dataframe tbody tr th:only-of-type {\n        vertical-align: middle;\n    }\n\n    .dataframe tbody tr th {\n        vertical-align: top;\n    }\n\n    .dataframe thead th {\n        text-align: right;\n    }\n</style>\n<table border=\"1\" class=\"dataframe\">\n  <thead>\n    <tr style=\"text-align: right;\">\n      <th></th>\n      <th>Linguaggi di Programmazione</th>\n      <th>Framework</th>\n      <th>Database</th>\n      <th>Tools</th>\n      <th>Cloud</th>\n    </tr>\n    <tr>\n      <th>ID</th>\n      <th></th>\n      <th></th>\n      <th></th>\n      <th></th>\n      <th></th>\n    </tr>\n  </thead>\n  <tbody>\n    <tr>\n      <th>1</th>\n      <td>HTML,CSS,JavaScript</td>\n      <td>React,Angular,Vue.js</td>\n      <td>MySQL,Oracle</td>\n      <td>npm,Webpack,Visual Studio</td>\n      <td>Heroku</td>\n    </tr>\n    <tr>\n      <th>2</th>\n      <td>Python,JavaScript</td>\n      <td>Django,Flask,NumPy</td>\n      <td>MongoDB,MySQL</td>\n      <td>Pip,Homebrew,Composer</td>\n      <td>AWS</td>\n    </tr>\n    <tr>\n      <th>3</th>\n      <td>TypeScript,JavaScript,CSS</td>\n      <td>React,Angular,Vue.js</td>\n      <td>PostgreSQL,MySQL</td>\n      <td>Yarn,Webpack,CMake</td>\n      <td>Google Cloud</td>\n    </tr>\n    <tr>\n      <th>4</th>\n      <td>Bash,Python</td>\n      <td>NumPy,PyTorch,Scikit-Learn</td>\n      <td>MongoDB,Redis</td>\n      <td>Docker,Pacman,Homebrew</td>\n      <td>Docker</td>\n    </tr>\n    <tr>\n      <th>5</th>\n      <td>Java,C++,HTML,CSS,JavaScript</td>\n      <td>Spring,JavaEE,React,Angular,Vue.js</td>\n      <td>MySQL,Oracle,Microsoft SQL Server</td>\n      <td>Maven,Gradle,Kubernetes</td>\n      <td>Azure</td>\n    </tr>\n    <tr>\n      <th>...</th>\n      <td>...</td>\n      <td>...</td>\n      <td>...</td>\n      <td>...</td>\n      <td>...</td>\n    </tr>\n    <tr>\n      <th>504</th>\n      <td>CSS,JavaScript,HTML</td>\n      <td>React,Angular,Vue.js</td>\n      <td>MySQL,PostgreSQL</td>\n      <td>npm,Webpack,Visual Studio</td>\n      <td>Vercel</td>\n    </tr>\n    <tr>\n      <th>505</th>\n      <td>HTML,CSS,JavaScript</td>\n      <td>React,Angular,Vue.js</td>\n      <td>MySQL,Redis</td>\n      <td>npm,Webpack,Visual Studio</td>\n      <td>Netlify</td>\n    </tr>\n    <tr>\n      <th>506</th>\n      <td>Python,JavaScript,CSS</td>\n      <td>Django,Flask,NumPy</td>\n      <td>MongoDB,MySQL</td>\n      <td>Pip,Homebrew,Composer</td>\n      <td>AWS</td>\n    </tr>\n    <tr>\n      <th>507</th>\n      <td>TypeScript,JavaScript,CSS</td>\n      <td>React,Angular,Vue.js</td>\n      <td>PostgreSQL,MySQL</td>\n      <td>Yarn,Webpack,CMake</td>\n      <td>AWS</td>\n    </tr>\n    <tr>\n      <th>508</th>\n      <td>Bash,Python,JavaScript</td>\n      <td>NumPy,PyTorch,Scikit-Learn</td>\n      <td>MongoDB,Redis</td>\n      <td>Docker,Pacman,Homebrew</td>\n      <td>Google Cloud</td>\n    </tr>\n  </tbody>\n</table>\n<p>476 rows × 5 columns</p>\n</div>"
     },
     "execution_count": 11,
     "metadata": {},
     "output_type": "execute_result"
    }
   ],
   "source": [
    "gpt_generated_frame = pd.read_csv('../datasets/new_gpt_generated_dataset.csv', index_col='ID')\n",
    "\n",
    "#gpt_generated_frame.drop_duplicates()\n",
    "\n",
    "gpt_generated_frame"
   ],
   "metadata": {
    "collapsed": false,
    "ExecuteTime": {
     "end_time": "2024-01-28T17:33:10.516258600Z",
     "start_time": "2024-01-28T17:33:10.482035Z"
    }
   },
   "id": "39d2882537e16406",
   "execution_count": 11
  },
  {
   "cell_type": "code",
   "outputs": [],
   "source": [],
   "metadata": {
    "collapsed": false,
    "ExecuteTime": {
     "end_time": "2024-01-28T17:33:10.518242900Z",
     "start_time": "2024-01-28T17:33:10.501379300Z"
    }
   },
   "id": "ac61864cd34953aa",
   "execution_count": 11
  },
  {
   "cell_type": "code",
   "outputs": [],
   "source": [],
   "metadata": {
    "collapsed": false,
    "ExecuteTime": {
     "end_time": "2024-01-28T17:33:10.604051700Z",
     "start_time": "2024-01-28T17:33:10.519730600Z"
    }
   },
   "id": "e4e3b5eb87450a2f",
   "execution_count": 11
  }
 ],
 "metadata": {
  "kernelspec": {
   "display_name": "Python 3",
   "language": "python",
   "name": "python3"
  },
  "language_info": {
   "codemirror_mode": {
    "name": "ipython",
    "version": 2
   },
   "file_extension": ".py",
   "mimetype": "text/x-python",
   "name": "python",
   "nbconvert_exporter": "python",
   "pygments_lexer": "ipython2",
   "version": "2.7.6"
  }
 },
 "nbformat": 4,
 "nbformat_minor": 5
}
