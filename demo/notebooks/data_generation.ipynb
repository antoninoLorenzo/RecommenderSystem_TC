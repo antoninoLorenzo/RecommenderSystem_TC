{
 "cells": [
  {
   "cell_type": "code",
   "execution_count": 61,
   "id": "initial_id",
   "metadata": {
    "collapsed": true,
    "ExecuteTime": {
     "end_time": "2024-01-26T19:31:12.569840300Z",
     "start_time": "2024-01-26T19:31:12.523216900Z"
    }
   },
   "outputs": [],
   "source": [
    "import sqlite3\n",
    "import numpy as np\n",
    "import pandas as pd\n",
    "import matplotlib.pyplot as plt\n",
    "%matplotlib inline\n",
    "import seaborn as sns"
   ]
  },
  {
   "cell_type": "markdown",
   "source": [
    "<h2> Skills </h2>\n",
    "Come prima parte della generazione dei dati, è necessario specificare quali siano le possibili skill che un developer possa avere.\n"
   ],
   "metadata": {
    "collapsed": false
   },
   "id": "50e05a882c1509b3"
  },
  {
   "cell_type": "code",
   "outputs": [
    {
     "data": {
      "text/plain": "          SKILL                  TYPE\nID                                   \n0    JavaScript  Programming Language\n1          HTML  Programming Language\n2        Python  Programming Language\n3           SQL  Programming Language\n4    TypeScript  Programming Language\n..          ...                   ...\n100         Git                  Tool\n101      Travis                  Tool\n102       Swift  Programming Language\n103         iOS      Operating System\n104       Linux      Operating System\n\n[97 rows x 2 columns]",
      "text/html": "<div>\n<style scoped>\n    .dataframe tbody tr th:only-of-type {\n        vertical-align: middle;\n    }\n\n    .dataframe tbody tr th {\n        vertical-align: top;\n    }\n\n    .dataframe thead th {\n        text-align: right;\n    }\n</style>\n<table border=\"1\" class=\"dataframe\">\n  <thead>\n    <tr style=\"text-align: right;\">\n      <th></th>\n      <th>SKILL</th>\n      <th>TYPE</th>\n    </tr>\n    <tr>\n      <th>ID</th>\n      <th></th>\n      <th></th>\n    </tr>\n  </thead>\n  <tbody>\n    <tr>\n      <th>0</th>\n      <td>JavaScript</td>\n      <td>Programming Language</td>\n    </tr>\n    <tr>\n      <th>1</th>\n      <td>HTML</td>\n      <td>Programming Language</td>\n    </tr>\n    <tr>\n      <th>2</th>\n      <td>Python</td>\n      <td>Programming Language</td>\n    </tr>\n    <tr>\n      <th>3</th>\n      <td>SQL</td>\n      <td>Programming Language</td>\n    </tr>\n    <tr>\n      <th>4</th>\n      <td>TypeScript</td>\n      <td>Programming Language</td>\n    </tr>\n    <tr>\n      <th>...</th>\n      <td>...</td>\n      <td>...</td>\n    </tr>\n    <tr>\n      <th>100</th>\n      <td>Git</td>\n      <td>Tool</td>\n    </tr>\n    <tr>\n      <th>101</th>\n      <td>Travis</td>\n      <td>Tool</td>\n    </tr>\n    <tr>\n      <th>102</th>\n      <td>Swift</td>\n      <td>Programming Language</td>\n    </tr>\n    <tr>\n      <th>103</th>\n      <td>iOS</td>\n      <td>Operating System</td>\n    </tr>\n    <tr>\n      <th>104</th>\n      <td>Linux</td>\n      <td>Operating System</td>\n    </tr>\n  </tbody>\n</table>\n<p>97 rows × 2 columns</p>\n</div>"
     },
     "execution_count": 62,
     "metadata": {},
     "output_type": "execute_result"
    }
   ],
   "source": [
    "with sqlite3.connect('../datasets/skills_dataset.db') as skills_conn:\n",
    "    skills_frame = pd.read_sql('SELECT * FROM Skills', skills_conn, index_col='ID') \n",
    "skills_frame"
   ],
   "metadata": {
    "collapsed": false,
    "ExecuteTime": {
     "end_time": "2024-01-26T19:31:12.571824600Z",
     "start_time": "2024-01-26T19:31:12.555952300Z"
    }
   },
   "id": "c441ca59f1ed6b60",
   "execution_count": 62
  },
  {
   "cell_type": "code",
   "outputs": [],
   "source": [],
   "metadata": {
    "collapsed": false,
    "ExecuteTime": {
     "end_time": "2024-01-26T19:31:12.576784500Z",
     "start_time": "2024-01-26T19:31:12.572816400Z"
    }
   },
   "id": "9e5469fcaf71af28",
   "execution_count": 62
  },
  {
   "cell_type": "code",
   "outputs": [
    {
     "data": {
      "text/plain": "               Linguaggi_di_Programmazione  \\\nID                                           \n1               JavaScript,HTML,Python,CSS   \n2                       TypeScript,Java,C#   \n3                               C++,C,Java   \n4                  HTML,JavaScript,PHP,CSS   \n5                      Python,Java,Ruby,Go   \n6                                   Python   \n7                 Bash,PowerShell,C,Python   \n8                                  Go,Rust   \n9                 Ruby,JavaScript,HTML,CSS   \n10                         Java,JavaScript   \n11                 PHP,JavaScript,HTML,CSS   \n12  TypeScript,JavaScript,HTML,Python, CSS   \n13                             C#,Java,C++   \n14                                  Python   \n15         JavaScript,TypeScript,HTML, CSS   \n16     Dart,JavaScript,TypeScript,HTML,CSS   \n17                             Java,Kotlin   \n18                           C,Python,Java   \n19         HTML,JavaScript,TypeScript, CSS   \n20                                  Python   \n21             JavaScript,HTML,Python, CSS   \n22                      TypeScript,Java,C#   \n23                              C++,Python   \n24                 HTML,JavaScript,PHP,CSS   \n25                        Python,Java,Ruby   \n26                              C,Java,C++   \n27                       PowerShell,Python   \n28                   Go,Java,Kotlin,Python   \n29                Ruby,JavaScript,HTML,CSS   \n30                         Java,JavaScript   \n31                 PHP,JavaScript,HTML,CSS   \n32          TypeScript,JavaScript,HTML,CSS   \n33                                  C#,C++   \n34                        Go,Rust,Lua,Bash   \n35          JavaScript,TypeScript,HTML,CSS   \n36              Dart,JavaScript,TypeScript   \n37                 Java,Kotlin,Python,Rust   \n38                       C++,C,Python,Java   \n39          HTML,JavaScript,TypeScript,CSS   \n40                                  Python   \n41              JavaScript,HTML,Python,CSS   \n42                      TypeScript,Java,C#   \n43                     C++,JavaScript,Java   \n44                 HTML,JavaScript,PHP,CSS   \n45                     Python,Java,Ruby,Go   \n46                       C,Java,C++,Python   \n47       Bash,PowerShell,Python,JavaScript   \n48                   Go,Rust,Kotlin,Python   \n49                Ruby,JavaScript,HTML,CSS   \n50                     Java,C++,JavaScript   \n\n                                 Framework                    Database  \\\nID                                                                       \n1             Node.js,React,jQuery,Express     PostgreSQL,MySQL,SQLite   \n2                           Angular,Vue.js  Microsoft SQL Server,MySQL   \n3                                      NaN           PostgreSQL,SQLite   \n4                          Node.js, Vue.js                       MySQL   \n5                                    Flask         MongoDB,MySQL,Redis   \n6                           Flask, FastAPI                       MySQL   \n7                                      NaN                       MySQL   \n8                                      NaN              SQLite,MariaDB   \n9                          Node.js,Next.js                     MongoDB   \n10                       Spring, JakartaEE  OracleDB,PostgreSQL, MySQL   \n11                                     NaN               MariaDB,MySQL   \n12                                   React          PostgreSQL,MongoDB   \n13                             .NET,Spring  Microsoft SQL Server,MySQL   \n14                   FastAPI,Pandas,Django                  PostgreSQL   \n15                            Svelte,React                       MySQL   \n16                   Flutter,Angular,React                      SQLite   \n17                                  Spring                      Oracle   \n18                               JakartaEE                       MySQL   \n19                    Angular,React,Vue.js                         NaN   \n20  Flask,FastAPI,NumPy,Tensorflow, Pandas                       MySQL   \n21            Node.js,React,jQuery,Express     PostgreSQL,MySQL,SQLite   \n22                                  Spring  Microsoft SQL Server,MySQL   \n23    NumPy,Scikit-Learn,Tensorflow,Pandas                       MySQL   \n24                                     NaN                         NaN   \n25                            Flask,Spring                 MySQL,Redis   \n26                                  Spring                         NaN   \n27                                     NaN                         NaN   \n28                      FastAPI, JakartaEE              SQLite,MariaDB   \n29                           Node.js,React                         NaN   \n30                                  Spring           Oracle,PostgreSQL   \n31                 Node.js,Angular,Next.js               MongoDB,MySQL   \n32                                   React          PostgreSQL,MongoDB   \n33                                    .NET  Microsoft SQL Server,MySQL   \n34                                     NaN                       Redis   \n35                                  Svelte                       MySQL   \n36                                 Flutter                      SQLite   \n37                        JakartaEE,Spring                       MySQL   \n38                                  Spring                       MySQL   \n39                   React,Next.js,Express                     MongoDB   \n40                                 FastAPI                       MySQL   \n41                   Node.js,jQuery,Django     PostgreSQL,MySQL,SQLite   \n42                                    .NET  Microsoft SQL Server,MySQL   \n43                                  Django           PostgreSQL,SQLite   \n44                                     NaN                       MySQL   \n45                            Flask,Spring               MongoDB,MySQL   \n46                               JakartaEE                         NaN   \n47         NumPy,Pandas,Scikit-Learn,React                         NaN   \n48                                 FastAPI              SQLite,MariaDB   \n49                         Angular,Next.js                         NaN   \n50                                  Spring           Oracle,PostgreSQL   \n\n                            Tool                 Cloud  \nID                                                      \n1         Docker,npm,Pip,Webpack                   AWS  \n2        Kubernetes,Maven,Docker          Google Cloud  \n3                      CMake,GCC                   AWS  \n4                   Composer,npm                Vercel  \n5                   Docker,Cargo  Google Cloud, Heroku  \n6                     npm,Docker                   NaN  \n7                         Docker                 Azure  \n8                         Docker                   AWS  \n9                   RubyGems,npm                Heroku  \n10                  Maven,Gradle                   AWS  \n11  Composer,Homebrew,Chocolatey             AWS,Azure  \n12              npm,Webpack,Yarn                   NaN  \n13                 NuGet,MSBuild                 Azure  \n14                           NaN                   NaN  \n15              npm,Webpack,Yarn                   AWS  \n16              npm,Webpack,Yarn              Firebase  \n17                  Maven,Gradle          Google Cloud  \n18                         Maven                   NaN  \n19                  Webpack,Yarn                   NaN  \n20                    pip,Docker                   NaN  \n21        Docker,npm,Pip,Webpack                   NaN  \n22             Kubernetes,Docker                 Azure  \n23                     CMake,GCC                   AWS  \n24                           NaN                   NaN  \n25         Docker,Cargo,RubyGems                Heroku  \n26                      GCC,Make                   AWS  \n27                        Docker                   NaN  \n28                    Docker,Pip                   AWS  \n29             RubyGems,Homebrew                   NaN  \n30                  Maven,Gradle          Google Cloud  \n31                           Git                   NaN  \n32              npm,Webpack,Yarn                   NaN  \n33                 NuGet,MSBuild                 Azure  \n34                  Docker,Cargo                   NaN  \n35              npm,Webpack,Yarn                   NaN  \n36              npm,Webpack,Yarn              Firebase  \n37                  Maven,Gradle                   AWS  \n38                  Maven,Gradle                   NaN  \n39              npm,Webpack,Yarn                   NaN  \n40                    pip,Docker                   NaN  \n41               npm,Pip,Webpack                   NaN  \n42             Kubernetes,Docker                 Azure  \n43                     CMake,GCC                   AWS  \n44             Composer,Homebrew                   NaN  \n45            Docker,Redis,Cargo                   AWS  \n46                      GCC,Make                   NaN  \n47     Docker,Ansible,Chocolatey                   AWS  \n48                Docker,npm,Pip             AWS,Azure  \n49             RubyGems,Homebrew         Heroku,Vercel  \n50                  Maven,Gradle             AWS,Azure  ",
      "text/html": "<div>\n<style scoped>\n    .dataframe tbody tr th:only-of-type {\n        vertical-align: middle;\n    }\n\n    .dataframe tbody tr th {\n        vertical-align: top;\n    }\n\n    .dataframe thead th {\n        text-align: right;\n    }\n</style>\n<table border=\"1\" class=\"dataframe\">\n  <thead>\n    <tr style=\"text-align: right;\">\n      <th></th>\n      <th>Linguaggi_di_Programmazione</th>\n      <th>Framework</th>\n      <th>Database</th>\n      <th>Tool</th>\n      <th>Cloud</th>\n    </tr>\n    <tr>\n      <th>ID</th>\n      <th></th>\n      <th></th>\n      <th></th>\n      <th></th>\n      <th></th>\n    </tr>\n  </thead>\n  <tbody>\n    <tr>\n      <th>1</th>\n      <td>JavaScript,HTML,Python,CSS</td>\n      <td>Node.js,React,jQuery,Express</td>\n      <td>PostgreSQL,MySQL,SQLite</td>\n      <td>Docker,npm,Pip,Webpack</td>\n      <td>AWS</td>\n    </tr>\n    <tr>\n      <th>2</th>\n      <td>TypeScript,Java,C#</td>\n      <td>Angular,Vue.js</td>\n      <td>Microsoft SQL Server,MySQL</td>\n      <td>Kubernetes,Maven,Docker</td>\n      <td>Google Cloud</td>\n    </tr>\n    <tr>\n      <th>3</th>\n      <td>C++,C,Java</td>\n      <td>NaN</td>\n      <td>PostgreSQL,SQLite</td>\n      <td>CMake,GCC</td>\n      <td>AWS</td>\n    </tr>\n    <tr>\n      <th>4</th>\n      <td>HTML,JavaScript,PHP,CSS</td>\n      <td>Node.js, Vue.js</td>\n      <td>MySQL</td>\n      <td>Composer,npm</td>\n      <td>Vercel</td>\n    </tr>\n    <tr>\n      <th>5</th>\n      <td>Python,Java,Ruby,Go</td>\n      <td>Flask</td>\n      <td>MongoDB,MySQL,Redis</td>\n      <td>Docker,Cargo</td>\n      <td>Google Cloud, Heroku</td>\n    </tr>\n    <tr>\n      <th>6</th>\n      <td>Python</td>\n      <td>Flask, FastAPI</td>\n      <td>MySQL</td>\n      <td>npm,Docker</td>\n      <td>NaN</td>\n    </tr>\n    <tr>\n      <th>7</th>\n      <td>Bash,PowerShell,C,Python</td>\n      <td>NaN</td>\n      <td>MySQL</td>\n      <td>Docker</td>\n      <td>Azure</td>\n    </tr>\n    <tr>\n      <th>8</th>\n      <td>Go,Rust</td>\n      <td>NaN</td>\n      <td>SQLite,MariaDB</td>\n      <td>Docker</td>\n      <td>AWS</td>\n    </tr>\n    <tr>\n      <th>9</th>\n      <td>Ruby,JavaScript,HTML,CSS</td>\n      <td>Node.js,Next.js</td>\n      <td>MongoDB</td>\n      <td>RubyGems,npm</td>\n      <td>Heroku</td>\n    </tr>\n    <tr>\n      <th>10</th>\n      <td>Java,JavaScript</td>\n      <td>Spring, JakartaEE</td>\n      <td>OracleDB,PostgreSQL, MySQL</td>\n      <td>Maven,Gradle</td>\n      <td>AWS</td>\n    </tr>\n    <tr>\n      <th>11</th>\n      <td>PHP,JavaScript,HTML,CSS</td>\n      <td>NaN</td>\n      <td>MariaDB,MySQL</td>\n      <td>Composer,Homebrew,Chocolatey</td>\n      <td>AWS,Azure</td>\n    </tr>\n    <tr>\n      <th>12</th>\n      <td>TypeScript,JavaScript,HTML,Python, CSS</td>\n      <td>React</td>\n      <td>PostgreSQL,MongoDB</td>\n      <td>npm,Webpack,Yarn</td>\n      <td>NaN</td>\n    </tr>\n    <tr>\n      <th>13</th>\n      <td>C#,Java,C++</td>\n      <td>.NET,Spring</td>\n      <td>Microsoft SQL Server,MySQL</td>\n      <td>NuGet,MSBuild</td>\n      <td>Azure</td>\n    </tr>\n    <tr>\n      <th>14</th>\n      <td>Python</td>\n      <td>FastAPI,Pandas,Django</td>\n      <td>PostgreSQL</td>\n      <td>NaN</td>\n      <td>NaN</td>\n    </tr>\n    <tr>\n      <th>15</th>\n      <td>JavaScript,TypeScript,HTML, CSS</td>\n      <td>Svelte,React</td>\n      <td>MySQL</td>\n      <td>npm,Webpack,Yarn</td>\n      <td>AWS</td>\n    </tr>\n    <tr>\n      <th>16</th>\n      <td>Dart,JavaScript,TypeScript,HTML,CSS</td>\n      <td>Flutter,Angular,React</td>\n      <td>SQLite</td>\n      <td>npm,Webpack,Yarn</td>\n      <td>Firebase</td>\n    </tr>\n    <tr>\n      <th>17</th>\n      <td>Java,Kotlin</td>\n      <td>Spring</td>\n      <td>Oracle</td>\n      <td>Maven,Gradle</td>\n      <td>Google Cloud</td>\n    </tr>\n    <tr>\n      <th>18</th>\n      <td>C,Python,Java</td>\n      <td>JakartaEE</td>\n      <td>MySQL</td>\n      <td>Maven</td>\n      <td>NaN</td>\n    </tr>\n    <tr>\n      <th>19</th>\n      <td>HTML,JavaScript,TypeScript, CSS</td>\n      <td>Angular,React,Vue.js</td>\n      <td>NaN</td>\n      <td>Webpack,Yarn</td>\n      <td>NaN</td>\n    </tr>\n    <tr>\n      <th>20</th>\n      <td>Python</td>\n      <td>Flask,FastAPI,NumPy,Tensorflow, Pandas</td>\n      <td>MySQL</td>\n      <td>pip,Docker</td>\n      <td>NaN</td>\n    </tr>\n    <tr>\n      <th>21</th>\n      <td>JavaScript,HTML,Python, CSS</td>\n      <td>Node.js,React,jQuery,Express</td>\n      <td>PostgreSQL,MySQL,SQLite</td>\n      <td>Docker,npm,Pip,Webpack</td>\n      <td>NaN</td>\n    </tr>\n    <tr>\n      <th>22</th>\n      <td>TypeScript,Java,C#</td>\n      <td>Spring</td>\n      <td>Microsoft SQL Server,MySQL</td>\n      <td>Kubernetes,Docker</td>\n      <td>Azure</td>\n    </tr>\n    <tr>\n      <th>23</th>\n      <td>C++,Python</td>\n      <td>NumPy,Scikit-Learn,Tensorflow,Pandas</td>\n      <td>MySQL</td>\n      <td>CMake,GCC</td>\n      <td>AWS</td>\n    </tr>\n    <tr>\n      <th>24</th>\n      <td>HTML,JavaScript,PHP,CSS</td>\n      <td>NaN</td>\n      <td>NaN</td>\n      <td>NaN</td>\n      <td>NaN</td>\n    </tr>\n    <tr>\n      <th>25</th>\n      <td>Python,Java,Ruby</td>\n      <td>Flask,Spring</td>\n      <td>MySQL,Redis</td>\n      <td>Docker,Cargo,RubyGems</td>\n      <td>Heroku</td>\n    </tr>\n    <tr>\n      <th>26</th>\n      <td>C,Java,C++</td>\n      <td>Spring</td>\n      <td>NaN</td>\n      <td>GCC,Make</td>\n      <td>AWS</td>\n    </tr>\n    <tr>\n      <th>27</th>\n      <td>PowerShell,Python</td>\n      <td>NaN</td>\n      <td>NaN</td>\n      <td>Docker</td>\n      <td>NaN</td>\n    </tr>\n    <tr>\n      <th>28</th>\n      <td>Go,Java,Kotlin,Python</td>\n      <td>FastAPI, JakartaEE</td>\n      <td>SQLite,MariaDB</td>\n      <td>Docker,Pip</td>\n      <td>AWS</td>\n    </tr>\n    <tr>\n      <th>29</th>\n      <td>Ruby,JavaScript,HTML,CSS</td>\n      <td>Node.js,React</td>\n      <td>NaN</td>\n      <td>RubyGems,Homebrew</td>\n      <td>NaN</td>\n    </tr>\n    <tr>\n      <th>30</th>\n      <td>Java,JavaScript</td>\n      <td>Spring</td>\n      <td>Oracle,PostgreSQL</td>\n      <td>Maven,Gradle</td>\n      <td>Google Cloud</td>\n    </tr>\n    <tr>\n      <th>31</th>\n      <td>PHP,JavaScript,HTML,CSS</td>\n      <td>Node.js,Angular,Next.js</td>\n      <td>MongoDB,MySQL</td>\n      <td>Git</td>\n      <td>NaN</td>\n    </tr>\n    <tr>\n      <th>32</th>\n      <td>TypeScript,JavaScript,HTML,CSS</td>\n      <td>React</td>\n      <td>PostgreSQL,MongoDB</td>\n      <td>npm,Webpack,Yarn</td>\n      <td>NaN</td>\n    </tr>\n    <tr>\n      <th>33</th>\n      <td>C#,C++</td>\n      <td>.NET</td>\n      <td>Microsoft SQL Server,MySQL</td>\n      <td>NuGet,MSBuild</td>\n      <td>Azure</td>\n    </tr>\n    <tr>\n      <th>34</th>\n      <td>Go,Rust,Lua,Bash</td>\n      <td>NaN</td>\n      <td>Redis</td>\n      <td>Docker,Cargo</td>\n      <td>NaN</td>\n    </tr>\n    <tr>\n      <th>35</th>\n      <td>JavaScript,TypeScript,HTML,CSS</td>\n      <td>Svelte</td>\n      <td>MySQL</td>\n      <td>npm,Webpack,Yarn</td>\n      <td>NaN</td>\n    </tr>\n    <tr>\n      <th>36</th>\n      <td>Dart,JavaScript,TypeScript</td>\n      <td>Flutter</td>\n      <td>SQLite</td>\n      <td>npm,Webpack,Yarn</td>\n      <td>Firebase</td>\n    </tr>\n    <tr>\n      <th>37</th>\n      <td>Java,Kotlin,Python,Rust</td>\n      <td>JakartaEE,Spring</td>\n      <td>MySQL</td>\n      <td>Maven,Gradle</td>\n      <td>AWS</td>\n    </tr>\n    <tr>\n      <th>38</th>\n      <td>C++,C,Python,Java</td>\n      <td>Spring</td>\n      <td>MySQL</td>\n      <td>Maven,Gradle</td>\n      <td>NaN</td>\n    </tr>\n    <tr>\n      <th>39</th>\n      <td>HTML,JavaScript,TypeScript,CSS</td>\n      <td>React,Next.js,Express</td>\n      <td>MongoDB</td>\n      <td>npm,Webpack,Yarn</td>\n      <td>NaN</td>\n    </tr>\n    <tr>\n      <th>40</th>\n      <td>Python</td>\n      <td>FastAPI</td>\n      <td>MySQL</td>\n      <td>pip,Docker</td>\n      <td>NaN</td>\n    </tr>\n    <tr>\n      <th>41</th>\n      <td>JavaScript,HTML,Python,CSS</td>\n      <td>Node.js,jQuery,Django</td>\n      <td>PostgreSQL,MySQL,SQLite</td>\n      <td>npm,Pip,Webpack</td>\n      <td>NaN</td>\n    </tr>\n    <tr>\n      <th>42</th>\n      <td>TypeScript,Java,C#</td>\n      <td>.NET</td>\n      <td>Microsoft SQL Server,MySQL</td>\n      <td>Kubernetes,Docker</td>\n      <td>Azure</td>\n    </tr>\n    <tr>\n      <th>43</th>\n      <td>C++,JavaScript,Java</td>\n      <td>Django</td>\n      <td>PostgreSQL,SQLite</td>\n      <td>CMake,GCC</td>\n      <td>AWS</td>\n    </tr>\n    <tr>\n      <th>44</th>\n      <td>HTML,JavaScript,PHP,CSS</td>\n      <td>NaN</td>\n      <td>MySQL</td>\n      <td>Composer,Homebrew</td>\n      <td>NaN</td>\n    </tr>\n    <tr>\n      <th>45</th>\n      <td>Python,Java,Ruby,Go</td>\n      <td>Flask,Spring</td>\n      <td>MongoDB,MySQL</td>\n      <td>Docker,Redis,Cargo</td>\n      <td>AWS</td>\n    </tr>\n    <tr>\n      <th>46</th>\n      <td>C,Java,C++,Python</td>\n      <td>JakartaEE</td>\n      <td>NaN</td>\n      <td>GCC,Make</td>\n      <td>NaN</td>\n    </tr>\n    <tr>\n      <th>47</th>\n      <td>Bash,PowerShell,Python,JavaScript</td>\n      <td>NumPy,Pandas,Scikit-Learn,React</td>\n      <td>NaN</td>\n      <td>Docker,Ansible,Chocolatey</td>\n      <td>AWS</td>\n    </tr>\n    <tr>\n      <th>48</th>\n      <td>Go,Rust,Kotlin,Python</td>\n      <td>FastAPI</td>\n      <td>SQLite,MariaDB</td>\n      <td>Docker,npm,Pip</td>\n      <td>AWS,Azure</td>\n    </tr>\n    <tr>\n      <th>49</th>\n      <td>Ruby,JavaScript,HTML,CSS</td>\n      <td>Angular,Next.js</td>\n      <td>NaN</td>\n      <td>RubyGems,Homebrew</td>\n      <td>Heroku,Vercel</td>\n    </tr>\n    <tr>\n      <th>50</th>\n      <td>Java,C++,JavaScript</td>\n      <td>Spring</td>\n      <td>Oracle,PostgreSQL</td>\n      <td>Maven,Gradle</td>\n      <td>AWS,Azure</td>\n    </tr>\n  </tbody>\n</table>\n</div>"
     },
     "execution_count": 63,
     "metadata": {},
     "output_type": "execute_result"
    }
   ],
   "source": [
    "frame = pd.read_csv('../datasets/datasetPULITO (1).csv', index_col = 'ID')\n",
    "frame"
   ],
   "metadata": {
    "collapsed": false,
    "ExecuteTime": {
     "end_time": "2024-01-26T19:31:12.626880800Z",
     "start_time": "2024-01-26T19:31:12.575793Z"
    }
   },
   "id": "b17c0094355e489b",
   "execution_count": 63
  },
  {
   "cell_type": "code",
   "outputs": [],
   "source": [
    "frame['skills'] = frame.apply(lambda row: ','.join(str(val) for val in row if not pd.isna(val)), axis = 1)\n",
    "column_to_remove = ['Linguaggi_di_Programmazione','Framework','Database','Tool','Cloud']\n",
    "\n",
    "frame = frame.drop(column_to_remove, axis = 1)\n"
   ],
   "metadata": {
    "collapsed": false,
    "ExecuteTime": {
     "end_time": "2024-01-26T19:31:12.627376700Z",
     "start_time": "2024-01-26T19:31:12.588688800Z"
    }
   },
   "id": "c547d55fdbebaf17",
   "execution_count": 64
  },
  {
   "cell_type": "code",
   "outputs": [
    {
     "data": {
      "text/plain": "                                               skills\nID                                                   \n1   JavaScript,HTML,Python,CSS,Node.js,React,jQuer...\n2   TypeScript,Java,C#,Angular,Vue.js,Microsoft SQ...\n3          C++,C,Java,PostgreSQL,SQLite,CMake,GCC,AWS\n4   HTML,JavaScript,PHP,CSS,Node.js, Vue.js,MySQL,...\n5   Python,Java,Ruby,Go,Flask,MongoDB,MySQL,Redis,...\n6              Python,Flask, FastAPI,MySQL,npm,Docker\n7         Bash,PowerShell,C,Python,MySQL,Docker,Azure\n8                   Go,Rust,SQLite,MariaDB,Docker,AWS\n9   Ruby,JavaScript,HTML,CSS,Node.js,Next.js,Mongo...\n10  Java,JavaScript,Spring, JakartaEE,OracleDB,Pos...\n11  PHP,JavaScript,HTML,CSS,MariaDB,MySQL,Composer...\n12  TypeScript,JavaScript,HTML,Python, CSS,React,P...\n13  C#,Java,C++,.NET,Spring,Microsoft SQL Server,M...\n14            Python,FastAPI,Pandas,Django,PostgreSQL\n15  JavaScript,TypeScript,HTML, CSS,Svelte,React,M...\n16  Dart,JavaScript,TypeScript,HTML,CSS,Flutter,An...\n17  Java,Kotlin,Spring,Oracle,Maven,Gradle,Google ...\n18                C,Python,Java,JakartaEE,MySQL,Maven\n19  HTML,JavaScript,TypeScript, CSS,Angular,React,...\n20  Python,Flask,FastAPI,NumPy,Tensorflow, Pandas,...\n21  JavaScript,HTML,Python, CSS,Node.js,React,jQue...\n22  TypeScript,Java,C#,Spring,Microsoft SQL Server...\n23  C++,Python,NumPy,Scikit-Learn,Tensorflow,Panda...\n24                            HTML,JavaScript,PHP,CSS\n25  Python,Java,Ruby,Flask,Spring,MySQL,Redis,Dock...\n26                     C,Java,C++,Spring,GCC,Make,AWS\n27                           PowerShell,Python,Docker\n28  Go,Java,Kotlin,Python,FastAPI, JakartaEE,SQLit...\n29  Ruby,JavaScript,HTML,CSS,Node.js,React,RubyGem...\n30  Java,JavaScript,Spring,Oracle,PostgreSQL,Maven...\n31  PHP,JavaScript,HTML,CSS,Node.js,Angular,Next.j...\n32  TypeScript,JavaScript,HTML,CSS,React,PostgreSQ...\n33  C#,C++,.NET,Microsoft SQL Server,MySQL,NuGet,M...\n34                Go,Rust,Lua,Bash,Redis,Docker,Cargo\n35  JavaScript,TypeScript,HTML,CSS,Svelte,MySQL,np...\n36  Dart,JavaScript,TypeScript,Flutter,SQLite,npm,...\n37  Java,Kotlin,Python,Rust,JakartaEE,Spring,MySQL...\n38        C++,C,Python,Java,Spring,MySQL,Maven,Gradle\n39  HTML,JavaScript,TypeScript,CSS,React,Next.js,E...\n40                    Python,FastAPI,MySQL,pip,Docker\n41  JavaScript,HTML,Python,CSS,Node.js,jQuery,Djan...\n42  TypeScript,Java,C#,.NET,Microsoft SQL Server,M...\n43  C++,JavaScript,Java,Django,PostgreSQL,SQLite,C...\n44    HTML,JavaScript,PHP,CSS,MySQL,Composer,Homebrew\n45  Python,Java,Ruby,Go,Flask,Spring,MongoDB,MySQL...\n46               C,Java,C++,Python,JakartaEE,GCC,Make\n47  Bash,PowerShell,Python,JavaScript,NumPy,Pandas...\n48  Go,Rust,Kotlin,Python,FastAPI,SQLite,MariaDB,D...\n49  Ruby,JavaScript,HTML,CSS,Angular,Next.js,RubyG...\n50  Java,C++,JavaScript,Spring,Oracle,PostgreSQL,M...",
      "text/html": "<div>\n<style scoped>\n    .dataframe tbody tr th:only-of-type {\n        vertical-align: middle;\n    }\n\n    .dataframe tbody tr th {\n        vertical-align: top;\n    }\n\n    .dataframe thead th {\n        text-align: right;\n    }\n</style>\n<table border=\"1\" class=\"dataframe\">\n  <thead>\n    <tr style=\"text-align: right;\">\n      <th></th>\n      <th>skills</th>\n    </tr>\n    <tr>\n      <th>ID</th>\n      <th></th>\n    </tr>\n  </thead>\n  <tbody>\n    <tr>\n      <th>1</th>\n      <td>JavaScript,HTML,Python,CSS,Node.js,React,jQuer...</td>\n    </tr>\n    <tr>\n      <th>2</th>\n      <td>TypeScript,Java,C#,Angular,Vue.js,Microsoft SQ...</td>\n    </tr>\n    <tr>\n      <th>3</th>\n      <td>C++,C,Java,PostgreSQL,SQLite,CMake,GCC,AWS</td>\n    </tr>\n    <tr>\n      <th>4</th>\n      <td>HTML,JavaScript,PHP,CSS,Node.js, Vue.js,MySQL,...</td>\n    </tr>\n    <tr>\n      <th>5</th>\n      <td>Python,Java,Ruby,Go,Flask,MongoDB,MySQL,Redis,...</td>\n    </tr>\n    <tr>\n      <th>6</th>\n      <td>Python,Flask, FastAPI,MySQL,npm,Docker</td>\n    </tr>\n    <tr>\n      <th>7</th>\n      <td>Bash,PowerShell,C,Python,MySQL,Docker,Azure</td>\n    </tr>\n    <tr>\n      <th>8</th>\n      <td>Go,Rust,SQLite,MariaDB,Docker,AWS</td>\n    </tr>\n    <tr>\n      <th>9</th>\n      <td>Ruby,JavaScript,HTML,CSS,Node.js,Next.js,Mongo...</td>\n    </tr>\n    <tr>\n      <th>10</th>\n      <td>Java,JavaScript,Spring, JakartaEE,OracleDB,Pos...</td>\n    </tr>\n    <tr>\n      <th>11</th>\n      <td>PHP,JavaScript,HTML,CSS,MariaDB,MySQL,Composer...</td>\n    </tr>\n    <tr>\n      <th>12</th>\n      <td>TypeScript,JavaScript,HTML,Python, CSS,React,P...</td>\n    </tr>\n    <tr>\n      <th>13</th>\n      <td>C#,Java,C++,.NET,Spring,Microsoft SQL Server,M...</td>\n    </tr>\n    <tr>\n      <th>14</th>\n      <td>Python,FastAPI,Pandas,Django,PostgreSQL</td>\n    </tr>\n    <tr>\n      <th>15</th>\n      <td>JavaScript,TypeScript,HTML, CSS,Svelte,React,M...</td>\n    </tr>\n    <tr>\n      <th>16</th>\n      <td>Dart,JavaScript,TypeScript,HTML,CSS,Flutter,An...</td>\n    </tr>\n    <tr>\n      <th>17</th>\n      <td>Java,Kotlin,Spring,Oracle,Maven,Gradle,Google ...</td>\n    </tr>\n    <tr>\n      <th>18</th>\n      <td>C,Python,Java,JakartaEE,MySQL,Maven</td>\n    </tr>\n    <tr>\n      <th>19</th>\n      <td>HTML,JavaScript,TypeScript, CSS,Angular,React,...</td>\n    </tr>\n    <tr>\n      <th>20</th>\n      <td>Python,Flask,FastAPI,NumPy,Tensorflow, Pandas,...</td>\n    </tr>\n    <tr>\n      <th>21</th>\n      <td>JavaScript,HTML,Python, CSS,Node.js,React,jQue...</td>\n    </tr>\n    <tr>\n      <th>22</th>\n      <td>TypeScript,Java,C#,Spring,Microsoft SQL Server...</td>\n    </tr>\n    <tr>\n      <th>23</th>\n      <td>C++,Python,NumPy,Scikit-Learn,Tensorflow,Panda...</td>\n    </tr>\n    <tr>\n      <th>24</th>\n      <td>HTML,JavaScript,PHP,CSS</td>\n    </tr>\n    <tr>\n      <th>25</th>\n      <td>Python,Java,Ruby,Flask,Spring,MySQL,Redis,Dock...</td>\n    </tr>\n    <tr>\n      <th>26</th>\n      <td>C,Java,C++,Spring,GCC,Make,AWS</td>\n    </tr>\n    <tr>\n      <th>27</th>\n      <td>PowerShell,Python,Docker</td>\n    </tr>\n    <tr>\n      <th>28</th>\n      <td>Go,Java,Kotlin,Python,FastAPI, JakartaEE,SQLit...</td>\n    </tr>\n    <tr>\n      <th>29</th>\n      <td>Ruby,JavaScript,HTML,CSS,Node.js,React,RubyGem...</td>\n    </tr>\n    <tr>\n      <th>30</th>\n      <td>Java,JavaScript,Spring,Oracle,PostgreSQL,Maven...</td>\n    </tr>\n    <tr>\n      <th>31</th>\n      <td>PHP,JavaScript,HTML,CSS,Node.js,Angular,Next.j...</td>\n    </tr>\n    <tr>\n      <th>32</th>\n      <td>TypeScript,JavaScript,HTML,CSS,React,PostgreSQ...</td>\n    </tr>\n    <tr>\n      <th>33</th>\n      <td>C#,C++,.NET,Microsoft SQL Server,MySQL,NuGet,M...</td>\n    </tr>\n    <tr>\n      <th>34</th>\n      <td>Go,Rust,Lua,Bash,Redis,Docker,Cargo</td>\n    </tr>\n    <tr>\n      <th>35</th>\n      <td>JavaScript,TypeScript,HTML,CSS,Svelte,MySQL,np...</td>\n    </tr>\n    <tr>\n      <th>36</th>\n      <td>Dart,JavaScript,TypeScript,Flutter,SQLite,npm,...</td>\n    </tr>\n    <tr>\n      <th>37</th>\n      <td>Java,Kotlin,Python,Rust,JakartaEE,Spring,MySQL...</td>\n    </tr>\n    <tr>\n      <th>38</th>\n      <td>C++,C,Python,Java,Spring,MySQL,Maven,Gradle</td>\n    </tr>\n    <tr>\n      <th>39</th>\n      <td>HTML,JavaScript,TypeScript,CSS,React,Next.js,E...</td>\n    </tr>\n    <tr>\n      <th>40</th>\n      <td>Python,FastAPI,MySQL,pip,Docker</td>\n    </tr>\n    <tr>\n      <th>41</th>\n      <td>JavaScript,HTML,Python,CSS,Node.js,jQuery,Djan...</td>\n    </tr>\n    <tr>\n      <th>42</th>\n      <td>TypeScript,Java,C#,.NET,Microsoft SQL Server,M...</td>\n    </tr>\n    <tr>\n      <th>43</th>\n      <td>C++,JavaScript,Java,Django,PostgreSQL,SQLite,C...</td>\n    </tr>\n    <tr>\n      <th>44</th>\n      <td>HTML,JavaScript,PHP,CSS,MySQL,Composer,Homebrew</td>\n    </tr>\n    <tr>\n      <th>45</th>\n      <td>Python,Java,Ruby,Go,Flask,Spring,MongoDB,MySQL...</td>\n    </tr>\n    <tr>\n      <th>46</th>\n      <td>C,Java,C++,Python,JakartaEE,GCC,Make</td>\n    </tr>\n    <tr>\n      <th>47</th>\n      <td>Bash,PowerShell,Python,JavaScript,NumPy,Pandas...</td>\n    </tr>\n    <tr>\n      <th>48</th>\n      <td>Go,Rust,Kotlin,Python,FastAPI,SQLite,MariaDB,D...</td>\n    </tr>\n    <tr>\n      <th>49</th>\n      <td>Ruby,JavaScript,HTML,CSS,Angular,Next.js,RubyG...</td>\n    </tr>\n    <tr>\n      <th>50</th>\n      <td>Java,C++,JavaScript,Spring,Oracle,PostgreSQL,M...</td>\n    </tr>\n  </tbody>\n</table>\n</div>"
     },
     "execution_count": 65,
     "metadata": {},
     "output_type": "execute_result"
    }
   ],
   "source": [
    "frame"
   ],
   "metadata": {
    "collapsed": false,
    "ExecuteTime": {
     "end_time": "2024-01-26T19:31:12.628864400Z",
     "start_time": "2024-01-26T19:31:12.604064800Z"
    }
   },
   "id": "d4eeadb21935497b",
   "execution_count": 65
  },
  {
   "cell_type": "code",
   "outputs": [
    {
     "data": {
      "text/plain": "      ID                                             skills\n0      1  C++,Python,NumPy,Scikit-Learn,Tensorflow,Panda...\n1     37  JavaScript,TypeScript,HTML,CSS,Svelte,MySQL,np...\n2      1  Python,Flask, FastAPI,MySQL,npm,Docker,Python,...\n3      5  Java,Kotlin,Spring,Oracle,Maven,Gradle,Google ...\n4     50  Python,Java,Ruby,Go,Flask,Spring,MongoDB,MySQL...\n...   ..                                                ...\n1495  28  C++,Python,NumPy,Scikit-Learn,Tensorflow,Panda...\n1496  29  Dart,JavaScript,TypeScript,HTML,CSS,Flutter,An...\n1497   5  Python,Flask, FastAPI,MySQL,npm,Docker,Python,...\n1498   2  TypeScript,Java,C#,Angular,Vue.js,Microsoft SQ...\n1499  44  Dart,JavaScript,TypeScript,Flutter,SQLite,npm,...\n\n[1500 rows x 2 columns]",
      "text/html": "<div>\n<style scoped>\n    .dataframe tbody tr th:only-of-type {\n        vertical-align: middle;\n    }\n\n    .dataframe tbody tr th {\n        vertical-align: top;\n    }\n\n    .dataframe thead th {\n        text-align: right;\n    }\n</style>\n<table border=\"1\" class=\"dataframe\">\n  <thead>\n    <tr style=\"text-align: right;\">\n      <th></th>\n      <th>ID</th>\n      <th>skills</th>\n    </tr>\n  </thead>\n  <tbody>\n    <tr>\n      <th>0</th>\n      <td>1</td>\n      <td>C++,Python,NumPy,Scikit-Learn,Tensorflow,Panda...</td>\n    </tr>\n    <tr>\n      <th>1</th>\n      <td>37</td>\n      <td>JavaScript,TypeScript,HTML,CSS,Svelte,MySQL,np...</td>\n    </tr>\n    <tr>\n      <th>2</th>\n      <td>1</td>\n      <td>Python,Flask, FastAPI,MySQL,npm,Docker,Python,...</td>\n    </tr>\n    <tr>\n      <th>3</th>\n      <td>5</td>\n      <td>Java,Kotlin,Spring,Oracle,Maven,Gradle,Google ...</td>\n    </tr>\n    <tr>\n      <th>4</th>\n      <td>50</td>\n      <td>Python,Java,Ruby,Go,Flask,Spring,MongoDB,MySQL...</td>\n    </tr>\n    <tr>\n      <th>...</th>\n      <td>...</td>\n      <td>...</td>\n    </tr>\n    <tr>\n      <th>1495</th>\n      <td>28</td>\n      <td>C++,Python,NumPy,Scikit-Learn,Tensorflow,Panda...</td>\n    </tr>\n    <tr>\n      <th>1496</th>\n      <td>29</td>\n      <td>Dart,JavaScript,TypeScript,HTML,CSS,Flutter,An...</td>\n    </tr>\n    <tr>\n      <th>1497</th>\n      <td>5</td>\n      <td>Python,Flask, FastAPI,MySQL,npm,Docker,Python,...</td>\n    </tr>\n    <tr>\n      <th>1498</th>\n      <td>2</td>\n      <td>TypeScript,Java,C#,Angular,Vue.js,Microsoft SQ...</td>\n    </tr>\n    <tr>\n      <th>1499</th>\n      <td>44</td>\n      <td>Dart,JavaScript,TypeScript,Flutter,SQLite,npm,...</td>\n    </tr>\n  </tbody>\n</table>\n<p>1500 rows × 2 columns</p>\n</div>"
     },
     "execution_count": 66,
     "metadata": {},
     "output_type": "execute_result"
    }
   ],
   "source": [
    "actgan_generated_frame = pd.read_csv('../datasets/actgan_generated_dev_dataset.csv')\n",
    "\n",
    "actgan_generated_frame"
   ],
   "metadata": {
    "collapsed": false,
    "ExecuteTime": {
     "end_time": "2024-01-26T19:31:12.781826Z",
     "start_time": "2024-01-26T19:31:12.630352900Z"
    }
   },
   "id": "70f4349289697a3a",
   "execution_count": 66
  },
  {
   "cell_type": "code",
   "outputs": [
    {
     "data": {
      "text/plain": "                                                 skills\n0     C++,Python,NumPy,Scikit-Learn,Tensorflow,Panda...\n1     JavaScript,TypeScript,HTML,CSS,Svelte,MySQL,np...\n2     Python,Flask, FastAPI,MySQL,npm,Docker,Python,...\n3     Java,Kotlin,Spring,Oracle,Maven,Gradle,Google ...\n4     Python,Java,Ruby,Go,Flask,Spring,MongoDB,MySQL...\n...                                                 ...\n1495  C++,Python,NumPy,Scikit-Learn,Tensorflow,Panda...\n1496  Dart,JavaScript,TypeScript,HTML,CSS,Flutter,An...\n1497  Python,Flask, FastAPI,MySQL,npm,Docker,Python,...\n1498  TypeScript,Java,C#,Angular,Vue.js,Microsoft SQ...\n1499  Dart,JavaScript,TypeScript,Flutter,SQLite,npm,...\n\n[1500 rows x 1 columns]",
      "text/html": "<div>\n<style scoped>\n    .dataframe tbody tr th:only-of-type {\n        vertical-align: middle;\n    }\n\n    .dataframe tbody tr th {\n        vertical-align: top;\n    }\n\n    .dataframe thead th {\n        text-align: right;\n    }\n</style>\n<table border=\"1\" class=\"dataframe\">\n  <thead>\n    <tr style=\"text-align: right;\">\n      <th></th>\n      <th>skills</th>\n    </tr>\n  </thead>\n  <tbody>\n    <tr>\n      <th>0</th>\n      <td>C++,Python,NumPy,Scikit-Learn,Tensorflow,Panda...</td>\n    </tr>\n    <tr>\n      <th>1</th>\n      <td>JavaScript,TypeScript,HTML,CSS,Svelte,MySQL,np...</td>\n    </tr>\n    <tr>\n      <th>2</th>\n      <td>Python,Flask, FastAPI,MySQL,npm,Docker,Python,...</td>\n    </tr>\n    <tr>\n      <th>3</th>\n      <td>Java,Kotlin,Spring,Oracle,Maven,Gradle,Google ...</td>\n    </tr>\n    <tr>\n      <th>4</th>\n      <td>Python,Java,Ruby,Go,Flask,Spring,MongoDB,MySQL...</td>\n    </tr>\n    <tr>\n      <th>...</th>\n      <td>...</td>\n    </tr>\n    <tr>\n      <th>1495</th>\n      <td>C++,Python,NumPy,Scikit-Learn,Tensorflow,Panda...</td>\n    </tr>\n    <tr>\n      <th>1496</th>\n      <td>Dart,JavaScript,TypeScript,HTML,CSS,Flutter,An...</td>\n    </tr>\n    <tr>\n      <th>1497</th>\n      <td>Python,Flask, FastAPI,MySQL,npm,Docker,Python,...</td>\n    </tr>\n    <tr>\n      <th>1498</th>\n      <td>TypeScript,Java,C#,Angular,Vue.js,Microsoft SQ...</td>\n    </tr>\n    <tr>\n      <th>1499</th>\n      <td>Dart,JavaScript,TypeScript,Flutter,SQLite,npm,...</td>\n    </tr>\n  </tbody>\n</table>\n<p>1500 rows × 1 columns</p>\n</div>"
     },
     "execution_count": 67,
     "metadata": {},
     "output_type": "execute_result"
    }
   ],
   "source": [
    "actgan_generated_frame = actgan_generated_frame.drop(\"ID\", axis = 1 )\n",
    "\n",
    "actgan_generated_frame"
   ],
   "metadata": {
    "collapsed": false,
    "ExecuteTime": {
     "end_time": "2024-01-26T19:31:12.845810100Z",
     "start_time": "2024-01-26T19:31:12.722306700Z"
    }
   },
   "id": "8f2dc1dbda807968",
   "execution_count": 67
  },
  {
   "cell_type": "code",
   "outputs": [
    {
     "data": {
      "text/plain": "                                                 skills\n0     Java,Kotlin,Python,Rust,JakartaEE,Spring,MySQL...\n1     JavaScript,HTML,Python,CSS,Node.js,jQuery,Djan...\n2     C++,C,Python,Java,Spring,MySQL,Maven,Gradle,C+...\n3     HTML,JavaScript,TypeScript, CSS,Angular,React,...\n4     C++,Python,NumPy,Scikit-Learn,Tensorflow,Panda...\n...                                                 ...\n1495  Go,Rust,Kotlin,Python,FastAPI,SQLite,MariaDB,D...\n1496  HTML,JavaScript,PHP,CSS,Node.js, Vue.js,MySQL,...\n1497  Java,JavaScript,Spring, JakartaEE,OracleDB,Pos...\n1498  JavaScript,TypeScript,HTML, CSS,Svelte,React,M...\n1499  Ruby,JavaScript,HTML,CSS,Angular,Next.js,RubyG...\n\n[1500 rows x 1 columns]",
      "text/html": "<div>\n<style scoped>\n    .dataframe tbody tr th:only-of-type {\n        vertical-align: middle;\n    }\n\n    .dataframe tbody tr th {\n        vertical-align: top;\n    }\n\n    .dataframe thead th {\n        text-align: right;\n    }\n</style>\n<table border=\"1\" class=\"dataframe\">\n  <thead>\n    <tr style=\"text-align: right;\">\n      <th></th>\n      <th>skills</th>\n    </tr>\n  </thead>\n  <tbody>\n    <tr>\n      <th>0</th>\n      <td>Java,Kotlin,Python,Rust,JakartaEE,Spring,MySQL...</td>\n    </tr>\n    <tr>\n      <th>1</th>\n      <td>JavaScript,HTML,Python,CSS,Node.js,jQuery,Djan...</td>\n    </tr>\n    <tr>\n      <th>2</th>\n      <td>C++,C,Python,Java,Spring,MySQL,Maven,Gradle,C+...</td>\n    </tr>\n    <tr>\n      <th>3</th>\n      <td>HTML,JavaScript,TypeScript, CSS,Angular,React,...</td>\n    </tr>\n    <tr>\n      <th>4</th>\n      <td>C++,Python,NumPy,Scikit-Learn,Tensorflow,Panda...</td>\n    </tr>\n    <tr>\n      <th>...</th>\n      <td>...</td>\n    </tr>\n    <tr>\n      <th>1495</th>\n      <td>Go,Rust,Kotlin,Python,FastAPI,SQLite,MariaDB,D...</td>\n    </tr>\n    <tr>\n      <th>1496</th>\n      <td>HTML,JavaScript,PHP,CSS,Node.js, Vue.js,MySQL,...</td>\n    </tr>\n    <tr>\n      <th>1497</th>\n      <td>Java,JavaScript,Spring, JakartaEE,OracleDB,Pos...</td>\n    </tr>\n    <tr>\n      <th>1498</th>\n      <td>JavaScript,TypeScript,HTML, CSS,Svelte,React,M...</td>\n    </tr>\n    <tr>\n      <th>1499</th>\n      <td>Ruby,JavaScript,HTML,CSS,Angular,Next.js,RubyG...</td>\n    </tr>\n  </tbody>\n</table>\n<p>1500 rows × 1 columns</p>\n</div>"
     },
     "execution_count": 69,
     "metadata": {},
     "output_type": "execute_result"
    }
   ],
   "source": [
    "gpt_generated_frame = pd.read_csv('../datasets/gpt_generated_dev_dataset.csv')\n",
    "\n",
    "gpt_generated_frame"
   ],
   "metadata": {
    "collapsed": false,
    "ExecuteTime": {
     "end_time": "2024-01-26T19:31:28.212327200Z",
     "start_time": "2024-01-26T19:31:28.193478700Z"
    }
   },
   "id": "f9d60e262fb4af66",
   "execution_count": 69
  },
  {
   "cell_type": "code",
   "outputs": [],
   "source": [],
   "metadata": {
    "collapsed": false
   },
   "id": "c355c565e9cf8a09"
  }
 ],
 "metadata": {
  "kernelspec": {
   "display_name": "Python 3",
   "language": "python",
   "name": "python3"
  },
  "language_info": {
   "codemirror_mode": {
    "name": "ipython",
    "version": 2
   },
   "file_extension": ".py",
   "mimetype": "text/x-python",
   "name": "python",
   "nbconvert_exporter": "python",
   "pygments_lexer": "ipython2",
   "version": "2.7.6"
  }
 },
 "nbformat": 4,
 "nbformat_minor": 5
}
